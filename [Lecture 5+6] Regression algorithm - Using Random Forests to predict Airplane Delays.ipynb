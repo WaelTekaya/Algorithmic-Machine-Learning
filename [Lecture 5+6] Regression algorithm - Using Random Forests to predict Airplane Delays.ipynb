{
 "cells": [
  {
   "cell_type": "markdown",
   "metadata": {},
   "source": [
    "2017 Edition"
   ]
  },
  {
   "cell_type": "markdown",
   "metadata": {},
   "source": [
    "In this notebook, we will learn how to solve the regression problem of predicting flight delays, using decision trees and random forests.\n",
    "\n",
    "# Goals\n",
    "The main goals of this project are the following:\n",
    "1. Revisit the concepts behind Decision Trees and Random Forests\n",
    "2. Build a simple methodology to address Data Science projects\n",
    "3. Use the existing implementation of Random Forests in MLLib in a specific use case, that is to predict the delay of flights\n",
    "\n",
    "# Steps\n",
    "\n",
    "- First, in section 1, we will go through a short introduction about the fundamentals of Decision Trees and Random Forests, such as feature definition, the form of a decision tree, how does it work and the idea of a forest of decision trees. If the student is familiar with these topics, skip to section 2.\n",
    "- In section 2, we delve into the details of the use case of this notebook including: providing the context, introducing the data and the basic methodology to address the project in this notebook\n",
    "- In section 3, we perform data exploration\n",
    "- In section 4, we build the statistical model and validate it"
   ]
  },
  {
   "cell_type": "markdown",
   "metadata": {},
   "source": [
    "# 1. Decision trees and Random Forests: Simple but Powerful Algorithms\n",
    "> Prediction is very difficult, especially if it’s about the future. (Niels Bohr)\n",
    "\n",
    "Decision trees are a very popular approach to prediction problems. Decision trees can be trained from both categorical and numerical features, to perform classification and regression. They are the oldest and most well-studied types of predictive analytics. In many analytics packages and libraries, most algorithms are devoted either to address classification or regression problems, and they include for example support vector machines (SVM), neural networks, naïve Bayes, logistic regression, and deep learning...\n",
    "\n",
    "In general, classification refers to the problem of predicting a label, or category, like *spam/not spam*, *rainy/sunny/mild*, for some given data. Regression refers to predicting a numeric quantity like salary, temperature, delay time, product's price. Both classification and regression involve predicting one (or more) values given one (or more) other input values. They require labelled data to perform a training phase, which builds the statistical model: they belong to *supervised learning* techniques.\n",
    "\n",
    "## 1.1 Feature definition\n",
    "To understand how regression and classification operate, it is necessary to briefly define the terms that describe their input and output. \n",
    "\n",
    "Assume that we want to predict the temperature of tomorrow given today's weather information.\n",
    "The weather information is a loose concept. For example, we can use many variables to express today's weather such as:\n",
    "* the average humidity today\n",
    "* today’s high temperature\n",
    "* today’s low temperature \n",
    "* wind speed\n",
    "* outlook: e.g. cloudy, rainy, or clear\n",
    "* ....\n",
    "\n",
    "These variables are called *features* or *dimensions*. \n",
    "\n",
    "Each variable can be quantified. For example, high and low temperatures are measured in degrees Celsius, humidity can be measured as a fraction between 0 and 1, and weather type can be labeled `cloudy`, `rainy` or `clear`...\n",
    "So, the weather today can be expressed by a list of values: `11.4, 18.0, 0.64, 20, cloudy`. \n",
    "Each feature is also called a `predictor`. Together, they constitute a `feature vector`.\n",
    "\n",
    "A feature whose domain is a set of categories is called **categorical feature**. In our example, `outlook` is a  categorical feature. A feature whose values are numerical is called **numerical feature**. In our example, `temperature` is a numerical feature.\n",
    "\n",
    "Finally, tomorrow's temperature, that is what we want to predict, is called *target feature*.\n",
    "\n",
    "## 1.2 Decision Trees & Random Forests\n",
    "The first question that you might ask is: \"Why Decision trees and not another approach?\"\n",
    "\n",
    "Well, the literature shows that the family of algorithms known as decision trees can naturally handle both categorical and numeric features. The training process is easy to understand. The model is easy to interpret. They are robust to outliers in the data, meaning that a few extreme and possibly erroneous data points should not affect the tree at all. The model can be trained in parallel easily. The accuracy is comparable to other methods... In short, there are lots of advantages when using decision trees with respect to other methods! \n",
    "\n",
    "The way we use a tree model is very simple to understand. We can say that this process \"mimics\" the way humans take decisions. For example, to decide whether to play football or not, a natural question would be \"does it rain now?\". If yes, the decision is `no`. If it's sunny, the condition is favorable to play football. A second natural question could be: \"is it windy?\". If no, then you may want to stay at home because otherwise it is going to be too hot. Otherwise, a third plausible question could be: \"do we have enough people?\". If no, then there's no point playing. Otherwise, time to play!\n",
    "\n",
    "Using a decision tree allows to follow a similar process to that described above (see the image below). Given a new input, the algorithm traverses the tree in a such a way that the input satisfies the condition of each node until reaching a leaf one. The value of the leaf node is the decision.\n",
    "\n",
    "![A decision tree](https://farm2.staticflickr.com/1690/24308350756_8533286fb5_z.jpg)\n",
    "\n",
    "The tree model in the figure is built from historical information concerning many past days. The `feature predictor` contains three features: Rain, Is_Windy, Enough_People.\n",
    "An example of the training data is as follows:\n",
    "\n",
    "Rain | Is_Windy | Enough_People | Play\n",
    "-----|----------|---------------|------\n",
    "Yes | Yes | No | No\n",
    "No  | No | No | No\n",
    "No | Yes | Yes | Yes\n",
    "No | No | Yes | No\n",
    "\n",
    "As you can see, in the training data, we know the values of predictors and we also know the corresponding answer: we have the ground truth.\n",
    "\n",
    "One limitation of decision trees is that it's easy to incur in overfitting problems. In other words, the model is too fit to the training data, it is too precise and not general enough. So, when testing the quality of predictions with different testing sets, accuracy could fluctuate. To overcome this limitation, the tree can be pruned after it is built, or even be pruned during the training process. Another approach is building a `Random Decision Forest`.\n",
    "\n",
    "A `Random Decision Forest`, as its name implies, is a forest of random Decision trees. Each tree element is built randomly from the training data. Randomization generally applies to:\n",
    "* Building new training data: Random selection of samples from the training data (with replacement) from the original training data\n",
    "* When building a node: Random selection of a subset of features\n",
    "\n",
    "To take a decision, the forest \"asks\" all trees about their prediction, and then chooses the outcome which is the most voted."
   ]
  },
  {
   "cell_type": "markdown",
   "metadata": {},
   "source": [
    "# 2. Use case: Flights delay prediction\n",
    "## 2.1 Context\n",
    "Every day, in US, there are thousands of flights departures and arrivals: unfortunately, as you may have noticed yourself, flight delays are not a rare event!! Now, given historical data about flights in the country, including the delay information that was computed *a-posteriori* (so the ground truth is available), we want to build a model that can be used to predict how many minutes of delay a flight might experience in the future. This model should provide useful information for the airport to manage better its resources, to minimize the delays and their impact on the journey of its passengers. Alternatively, astute passengers could even use the model to choose the best time for flying, such as to avoid delays.\n",
    "\n",
    "## 2.2 Data\n",
    "The data we will use in this notebook has been collected by the RITA (Research and Innovative Technology Administration), and it contains details facets about each air flight that happened in the US between 1987 and 2008. It includes 29 variables such as the origin airport, the destination airport, the scheduled departure time, day, month, the arrival delay... For more information, please visit the following [link](http://stat-computing.org/dataexpo/2009/the-data.html), that provides a lot of detail on the data. Our goal is to build a model to predict `the arrival delay`."
   ]
  },
  {
   "cell_type": "markdown",
   "metadata": {},
   "source": [
    "## 2.3 Methodology\n",
    "For our project, we can follow a simple methodology:\n",
    "\n",
    "- Understand clearly the context, the data and the goal of the project\n",
    "- Pre-process the data (data cleaning): the data can contain invalid values or missing values. We have to process our data to deal with them\n",
    "- Retrieve descriptive information about data: the idea is to discover if whether the data has patterns, whether features have patterns, the skew of values...\n",
    "- Select appropriate features: Only work with significant features will save us memory, communication cost, and ultimately, training time. Feature selection is also important as it can reduce the impact of noise that characterize the unimportant features.\n",
    "- Divide the data into training and testing set\n",
    "- Build a model from the feature in the training set\n",
    "- Test the model"
   ]
  },
  {
   "cell_type": "markdown",
   "metadata": {},
   "source": [
    "# 3. Let's play: Data Exploration\n",
    "Now it's time to apply the simple methodology outlined in section 2.3 on the use case of this notebook.\n",
    "<div class=\"alert alert-danger\">\n",
    "**Note:** The source code in this lecture should be executed sequentially in the order.\n",
    "</div>"
   ]
  },
  {
   "cell_type": "markdown",
   "metadata": {},
   "source": [
    "## 3.1 Understanding the data schema\n",
    "\n",
    "The data has 29 features, that can be either categorical or numerical. For example, the `src_airport` (source airport) is categorical: there exist no comparison operator between airport names. We can not say \"SGN is bigger than NCE\". The departure is numerical, for which a comparison operator exists. For instance, \"flight departing before 6PM\" can be express by \"departure_time < 1800\".\n",
    "\n",
    "In this use case, most features are numerical, except `carier`, `flight_number`, `cancelled`, `cancelation_code` and `diverted`. \n",
    "\n",
    "The data contains a header, that is useless in building the statistical model. In addition, we already know the data schema, so we can safely neglect it. Note that there are some features with missing values in some lines of the dataset. The missing values are marked by \"NA\". These values can cause problems when processing and can lead to unexpected results. Therefore, we need to remove the header and replace all \"NA\" values by empty values, such as they can be interpreted as null values.\n",
    "\n",
    "As we have seen already, there are multiple ways to manipulate data:\n",
    "\n",
    "- Using the RDD abstraction\n",
    "- Using the DataFrame abstraction. DataFrames can be thought of as distributed tables: each item is a list of values  (the columns). Also, the value in each row of each column can be accessed by the column's name.\n",
    "\n",
    "Next, we will focus on using DataFrames. However, to use DataFrames, the data must be clean (no invalid values). That means we cannot create DataFrame directly from the \"RAW\" data. Instead, we will first create an RDD from RAW data, produce a new, clean RDD, then transform it to a DataFrame and work on it. The RDD `cleaned_data` is an RDD[String]. We need to transform it to RDD[(TypeOfColumn1, TypeOfColumn2,.., TypeOfColumn29)] then call a function to create a DataFrame from the new RDD.\n"
   ]
  },
  {
   "cell_type": "markdown",
   "metadata": {},
   "source": [
    "## 3.2 Data cleaning\n",
    "Let's prepare for the cleaning step: Loading the data into an RDD.\n",
    "\n",
    "First, we need to import some useful python modules for this notebook."
   ]
  },
  {
   "cell_type": "code",
   "execution_count": 1,
   "metadata": {
    "collapsed": false
   },
   "outputs": [],
   "source": [
    "import os\n",
    "import sys\n",
    "import re\n",
    "from pyspark import SparkContext\n",
    "from pyspark import SparkContext\n",
    "from pyspark.sql import SQLContext\n",
    "from pyspark.sql.types import *\n",
    "from pyspark.sql import Row\n",
    "from pyspark.sql.functions import *\n",
    "%matplotlib inline\n",
    "import matplotlib.pyplot as plt\n",
    "import pandas as pd\n",
    "import numpy as np\n",
    "import pyspark.sql.functions as func\n",
    "import matplotlib.patches as mpatches\n",
    "\n",
    "# to start testing, we can focus on a single year\n",
    "input_path = \"/datasets/airline/1994.csv\"\n",
    "raw_data = sc.textFile(input_path)"
   ]
  },
  {
   "cell_type": "markdown",
   "metadata": {},
   "source": [
    "### Question 1 \n",
    "Remove the header and replace the invalid values in our input dataset.\n",
    "\n",
    "#### Question 1.1\n",
    "\n",
    "<div class=\"alert alert-info\">\n",
    "\n",
    "How many records (rows) in the RAW data?\n",
    "\n",
    "</div>"
   ]
  },
  {
   "cell_type": "code",
   "execution_count": 2,
   "metadata": {
    "collapsed": false
   },
   "outputs": [
    {
     "name": "stdout",
     "output_type": "stream",
     "text": [
      "number of rows before cleaning: 5180049\n"
     ]
    },
    {
     "data": {
      "text/plain": [
       "['Year,Month,DayofMonth,DayOfWeek,DepTime,CRSDepTime,ArrTime,CRSArrTime,UniqueCarrier,FlightNum,TailNum,ActualElapsedTime,CRSElapsedTime,AirTime,ArrDelay,DepDelay,Origin,Dest,Distance,TaxiIn,TaxiOut,Cancelled,CancellationCode,Diverted,CarrierDelay,WeatherDelay,NASDelay,SecurityDelay,LateAircraftDelay',\n",
       " '1994,1,7,5,858,900,954,1003,US,227,NA,56,63,NA,-9,-2,CLT,ORF,290,NA,NA,0,NA,0,NA,NA,NA,NA,NA',\n",
       " '1994,1,8,6,859,900,952,1003,US,227,NA,53,63,NA,-11,-1,CLT,ORF,290,NA,NA,0,NA,0,NA,NA,NA,NA,NA',\n",
       " '1994,1,10,1,935,900,1023,1003,US,227,NA,48,63,NA,20,35,CLT,ORF,290,NA,NA,0,NA,0,NA,NA,NA,NA,NA',\n",
       " '1994,1,11,2,903,900,1131,1003,US,227,NA,148,63,NA,88,3,CLT,ORF,290,NA,NA,0,NA,0,NA,NA,NA,NA,NA',\n",
       " '1994,1,12,3,933,900,1024,1003,US,227,NA,51,63,NA,21,33,CLT,ORF,290,NA,NA,0,NA,0,NA,NA,NA,NA,NA',\n",
       " '1994,1,13,4,NA,900,NA,1003,US,227,NA,NA,63,NA,NA,NA,CLT,ORF,290,NA,NA,1,NA,0,NA,NA,NA,NA,NA',\n",
       " '1994,1,14,5,903,900,1005,1003,US,227,NA,62,63,NA,2,3,CLT,ORF,290,NA,NA,0,NA,0,NA,NA,NA,NA,NA',\n",
       " '1994,1,15,6,859,900,1004,1003,US,227,NA,65,63,NA,1,-1,CLT,ORF,290,NA,NA,0,NA,0,NA,NA,NA,NA,NA',\n",
       " '1994,1,17,1,859,900,955,1003,US,227,NA,56,63,NA,-8,-1,CLT,ORF,290,NA,NA,0,NA,0,NA,NA,NA,NA,NA']"
      ]
     },
     "execution_count": 2,
     "metadata": {},
     "output_type": "execute_result"
    }
   ],
   "source": [
    "print(\"number of rows before cleaning:\", raw_data.count())\n",
    "raw_data.take(10)"
   ]
  },
  {
   "cell_type": "markdown",
   "metadata": {},
   "source": [
    "#### Question 1.2\n",
    "\n",
    "\n",
    "<div class=\"alert alert-info\">\n",
    "Except for the first column, the others might contain missing values, which are denoted by `NA`.  \n",
    "\n",
    "Remove the header and replace NA by an empty character. How many records are left after cleaning the RAW dataset?  \n",
    "\n",
    "<div class=\"label label-danger\">**NOTE**:</div> be careful with the valid values that can contain string `NA` inside.\n",
    "</div>"
   ]
  },
  {
   "cell_type": "code",
   "execution_count": 3,
   "metadata": {
    "collapsed": false
   },
   "outputs": [
    {
     "name": "stdout",
     "output_type": "stream",
     "text": [
      "number of rows after cleaning: 5180048\n"
     ]
    },
    {
     "data": {
      "text/plain": [
       "['1994,1,7,5,858,900,954,1003,US,227,,56,63,,-9,-2,CLT,ORF,290,,,0,,0,,,,,',\n",
       " '1994,1,8,6,859,900,952,1003,US,227,,53,63,,-11,-1,CLT,ORF,290,,,0,,0,,,,,',\n",
       " '1994,1,10,1,935,900,1023,1003,US,227,,48,63,,20,35,CLT,ORF,290,,,0,,0,,,,,',\n",
       " '1994,1,11,2,903,900,1131,1003,US,227,,148,63,,88,3,CLT,ORF,290,,,0,,0,,,,,',\n",
       " '1994,1,12,3,933,900,1024,1003,US,227,,51,63,,21,33,CLT,ORF,290,,,0,,0,,,,,',\n",
       " '1994,1,13,4,,900,,1003,US,227,,,63,,,,CLT,ORF,290,,,1,,0,,,,,',\n",
       " '1994,1,14,5,903,900,1005,1003,US,227,,62,63,,2,3,CLT,ORF,290,,,0,,0,,,,,',\n",
       " '1994,1,15,6,859,900,1004,1003,US,227,,65,63,,1,-1,CLT,ORF,290,,,0,,0,,,,,',\n",
       " '1994,1,17,1,859,900,955,1003,US,227,,56,63,,-8,-1,CLT,ORF,290,,,0,,0,,,,,',\n",
       " '1994,1,18,2,904,900,959,1003,US,227,,55,63,,-4,4,CLT,ORF,290,,,0,,0,,,,,']"
      ]
     },
     "execution_count": 3,
     "metadata": {},
     "output_type": "execute_result"
    }
   ],
   "source": [
    "def extract(line):\n",
    "    res = line.split(\",\")\n",
    "    for y in range(len(res)):\n",
    "        if(res[y]== 'NA'):\n",
    "            res[y] = \"\"\n",
    "    return \",\".join(res)\n",
    "\n",
    "# extract the header\n",
    "header = raw_data.take(1)\n",
    "\n",
    "# replace invalid data with NULL and remove header\n",
    "cleaned_data = (raw_data\\\n",
    "        # filter out the header\n",
    "        .filter(lambda x: x != header[0])\n",
    "        # replace the missing values with empty characters\n",
    "        .map(extract)\n",
    "        )\n",
    "\n",
    "print(\"number of rows after cleaning:\", cleaned_data.count())\n",
    "cleaned_data.take(10)"
   ]
  },
  {
   "cell_type": "markdown",
   "metadata": {},
   "source": [
    "## 3.3 Transforming our data to a DataFrame\n",
    "\n",
    "Now the data is clean, valid and can be used to create DataFrame. First, we will declare the data schema for the DataFrame. By doing that, we can specify the name and data type of each column."
   ]
  },
  {
   "cell_type": "code",
   "execution_count": 4,
   "metadata": {
    "collapsed": false
   },
   "outputs": [],
   "source": [
    "sqlContext = SQLContext(sc)\n",
    "\n",
    "\n",
    "# Declare the data schema\n",
    "# see http://stat-computing.org/dataexpo/2009/the-data.html\n",
    "# for more information\n",
    "airline_data_schema = StructType([ \\\n",
    "    #StructField( name, dataType, nullable)\n",
    "    StructField(\"year\",                     IntegerType(), True), \\\n",
    "    StructField(\"month\",                    IntegerType(), True), \\\n",
    "    StructField(\"day_of_month\",             IntegerType(), True), \\\n",
    "    StructField(\"day_of_week\",              IntegerType(), True), \\\n",
    "    StructField(\"departure_time\",           IntegerType(), True), \\\n",
    "    StructField(\"scheduled_departure_time\", IntegerType(), True), \\\n",
    "    StructField(\"arrival_time\",             IntegerType(), True), \\\n",
    "    StructField(\"scheduled_arrival_time\",   IntegerType(), True), \\\n",
    "    StructField(\"carrier\",                  StringType(),  True), \\\n",
    "    StructField(\"flight_number\",            StringType(),  True), \\\n",
    "    StructField(\"tail_number\",              StringType(), True), \\\n",
    "    StructField(\"actual_elapsed_time\",      IntegerType(), True), \\\n",
    "    StructField(\"scheduled_elapsed_time\",   IntegerType(), True), \\\n",
    "    StructField(\"air_time\",                 IntegerType(), True), \\\n",
    "    StructField(\"arrival_delay\",            IntegerType(), True), \\\n",
    "    StructField(\"departure_delay\",          IntegerType(), True), \\\n",
    "    StructField(\"src_airport\",              StringType(),  True), \\\n",
    "    StructField(\"dest_airport\",             StringType(),  True), \\\n",
    "    StructField(\"distance\",                 IntegerType(), True), \\\n",
    "    StructField(\"taxi_in_time\",             IntegerType(), True), \\\n",
    "    StructField(\"taxi_out_time\",            IntegerType(), True), \\\n",
    "    StructField(\"cancelled\",                StringType(),  True), \\\n",
    "    StructField(\"cancellation_code\",        StringType(),  True), \\\n",
    "    StructField(\"diverted\",                 StringType(),  True), \\\n",
    "    StructField(\"carrier_delay\",            IntegerType(), True), \\\n",
    "    StructField(\"weather_delay\",            IntegerType(), True), \\\n",
    "    StructField(\"nas_delay\",                IntegerType(), True), \\\n",
    "    StructField(\"security_delay\",           IntegerType(), True), \\\n",
    "    StructField(\"late_aircraft_delay\",      IntegerType(), True)\\\n",
    "])"
   ]
  },
  {
   "cell_type": "markdown",
   "metadata": {},
   "source": [
    "To \"convert\" an RDD to DataFrame, each element in the RDD must be a list of column values that match the data schema."
   ]
  },
  {
   "cell_type": "code",
   "execution_count": 5,
   "metadata": {
    "collapsed": false
   },
   "outputs": [],
   "source": [
    "# convert each line into a tuple of features (columns)\n",
    "cleaned_data_to_columns = cleaned_data.map(lambda l: l.split(\",\"))\\\n",
    "    .map(lambda cols: \n",
    "         (\n",
    "            int(cols[0])  if cols[0] else None,\n",
    "            int(cols[1])  if cols[1] else None,\n",
    "            int(cols[2])  if cols[2] else None,\n",
    "            int(cols[3])  if cols[3] else None,\n",
    "            int(cols[4])  if cols[4] else None,\n",
    "            int(cols[5])  if cols[5] else None,\n",
    "            int(cols[6])  if cols[6] else None,\n",
    "            int(cols[7])  if cols[7] else None,\n",
    "            cols[8]       if cols[8] else None,\n",
    "            cols[9]       if cols[9] else None,\n",
    "            cols[10]      if cols[10] else None,\n",
    "            int(cols[11]) if cols[11] else None,\n",
    "            int(cols[12]) if cols[12] else None,\n",
    "            int(cols[13]) if cols[13] else None,\n",
    "            int(cols[14]) if cols[14] else None,\n",
    "            int(cols[15]) if cols[15] else None,\n",
    "            cols[16]      if cols[16] else None,\n",
    "            cols[17]      if cols[17] else None,\n",
    "            int(cols[18]) if cols[18] else None,\n",
    "            int(cols[19]) if cols[19] else None,\n",
    "            int(cols[20]) if cols[20] else None,\n",
    "            cols[21]      if cols[21] else None,\n",
    "            cols[22]      if cols[22] else None,\n",
    "            cols[23]      if cols[23] else None,\n",
    "            int(cols[24]) if cols[24] else None,\n",
    "            int(cols[25]) if cols[25] else None,\n",
    "            int(cols[26]) if cols[26] else None,\n",
    "            int(cols[27]) if cols[27] else None,\n",
    "            int(cols[28]) if cols[28] else None\n",
    "         ))"
   ]
  },
  {
   "cell_type": "markdown",
   "metadata": {},
   "source": [
    "To train our model, we use the following features: `year`, `month`, `day_of_month`, `day_of_week`, `scheduled_departure_time`, `scheduled_arrival_time`, `arrival_delay`, `distance`, `src_airport`, `dest_airport`."
   ]
  },
  {
   "cell_type": "markdown",
   "metadata": {},
   "source": [
    "### Question 2\n",
    "\n",
    "<div class=\"alert alert-info\">\n",
    "From RDD `cleaned_data_to_columns` and the schema `airline_data_schema` which are declared before, create a new DataFrame **`df`**.  \n",
    "\n",
    "Note that, we should only select the necessary features defined above:  \n",
    "\n",
    "[ `year`, `month`, `day_of_month`, `day_of_week`, `scheduled_departure_time`, `scheduled_arrival_time`, `arrival_delay`, `distance`, `src_airport`, `dest_airport`].  \n",
    "\n",
    "Finally, the data should be cached.\n",
    "</div>"
   ]
  },
  {
   "cell_type": "code",
   "execution_count": 6,
   "metadata": {
    "collapsed": false
   },
   "outputs": [],
   "source": [
    "# create dataframe df\n",
    "df = (sqlContext.createDataFrame(cleaned_data_to_columns,airline_data_schema)\n",
    "        .select(\"year\",\"month\",\"day_of_month\",\"day_of_week\",\"scheduled_departure_time\",\"scheduled_arrival_time\",\"carrier\",\"arrival_delay\",\"distance\",\"src_airport\",\"dest_airport\")\n",
    "        .cache()\n",
    "    )"
   ]
  },
  {
   "cell_type": "markdown",
   "metadata": {},
   "source": [
    "<div class=\"alert alert-warning\">We added also the carrier feature for further analysis.</div>"
   ]
  },
  {
   "cell_type": "markdown",
   "metadata": {
    "collapsed": true
   },
   "source": [
    "## 3.4 Descriptive statistics\n",
    "Next, we will go over a series of simple queries on our data, to explore it and compute statistics. These queries directly map to the questions you need to answer. \n",
    "\n",
    "**NOTE:** finding the right question to ask is difficult! Don't be afraid to complement the questions below, with your own questions that, in your opinion, are valuable ways to inspect data. This can give you extra points!\n",
    "\n",
    "- Basic queries:\n",
    "  - How many unique origin airports?\n",
    "  - How many unique destination airports?\n",
    "  - How many carriers?\n",
    "  - How many flights that have a scheduled departure time later than 18h00?\n",
    "  \n",
    "- Statistic on flight volume: this kind of statistics are helpful to reason about delays. Indeed, it is plausible to assume that \"*the more flights in an airport, the higher the probability of delay*\".\n",
    "  - How many flights in each month of the year?\n",
    "  - Is there any relationship between the number of flights and the days of week?\n",
    "  - How many flights in different days of months and in different hours of days?\n",
    "  - Which are the top 20 busiest airports (this depends on inbound and outbound traffic)?\n",
    "  - Which are the top 20 busiest carriers?\n",
    "  \n",
    "- Statistic on the fraction of delayed flights\n",
    "  - What is the percentage of delayed flights (over total flights) for different hours of the day?\n",
    "  - Which hours of the day are characterized by the longest flight delay?\n",
    "  - What are the fluctuation of the percentage of delayed flights over different time granularities?\n",
    "  - What is the percentage of delayed flights which depart from one of the top 20 busiest airports?\n",
    "  - What is the percentage of delayed flights which belong to one of the top 20 busiest carriers?"
   ]
  },
  {
   "cell_type": "markdown",
   "metadata": {},
   "source": [
    "### Question 3: Basic queries\n",
    "\n",
    "#### Question 3.1 \n",
    "<div class=\"alert alert-info\">\n",
    "How many origin airports? How many destination airports?\n",
    "</div>"
   ]
  },
  {
   "cell_type": "code",
   "execution_count": 7,
   "metadata": {
    "collapsed": false
   },
   "outputs": [
    {
     "name": "stdout",
     "output_type": "stream",
     "text": [
      "number of origin airports  224\n",
      "number of destination airports  225\n"
     ]
    }
   ],
   "source": [
    "num_src_airport = df.select(\"src_airport\").distinct().count()\n",
    "num_dest_airport = df.select(\"dest_airport\").distinct().count()\n",
    "print(\"number of origin airports \", num_src_airport)\n",
    "print(\"number of destination airports \", num_dest_airport)"
   ]
  },
  {
   "cell_type": "markdown",
   "metadata": {},
   "source": [
    "#### Question 3.2\n",
    "<div class=\"alert alert-info\">\n",
    "How many carriers?\n",
    "</div>"
   ]
  },
  {
   "cell_type": "code",
   "execution_count": 8,
   "metadata": {
    "collapsed": false
   },
   "outputs": [
    {
     "name": "stdout",
     "output_type": "stream",
     "text": [
      "the number distinct carriers: 10\n"
     ]
    }
   ],
   "source": [
    "num_carrier = df.select(\"carrier\").distinct().count()\n",
    "print(\"the number distinct carriers:\", num_carrier)"
   ]
  },
  {
   "cell_type": "markdown",
   "metadata": {},
   "source": [
    "#### Question 3.3\n",
    "\n",
    "<div class=\"alert alert-info\">\n",
    "How many night flights (that is, flights departing later than 6pm)?\n",
    "</div>"
   ]
  },
  {
   "cell_type": "code",
   "execution_count": 9,
   "metadata": {
    "collapsed": false
   },
   "outputs": [
    {
     "name": "stdout",
     "output_type": "stream",
     "text": [
      "the number of night flights: 1078203\n"
     ]
    }
   ],
   "source": [
    "print(\"the number of night flights:\", df[df[\"scheduled_departure_time\"] > 1800].count())"
   ]
  },
  {
   "cell_type": "markdown",
   "metadata": {},
   "source": [
    "### Question 4: Flight volume statistics\n",
    "\n",
    "#### Question 4.1: \n",
    "\n",
    "<div class=\"alert alert-info\">\n",
    "How many flights in each month of the year? Plot the changes over months by a line chart and comment the figure.\n",
    "From the result, we can learn the dynamics of flight volume over months. For example, if we only consider flights in 1994 (to start, it's always better to focus on smaller amount of data), we can discuss about which months are most likely to have flights experiencing delays.\n",
    "</div>\n"
   ]
  },
  {
   "cell_type": "code",
   "execution_count": 10,
   "metadata": {
    "collapsed": false
   },
   "outputs": [
    {
     "data": {
      "image/png": "[encoded data removed]",
      "text/plain": [
       "<matplotlib.figure.Figure at 0x7f0f0fc95f28>"
      ]
     },
     "metadata": {},
     "output_type": "display_data"
    }
   ],
   "source": [
    "statistic_month = df.groupBy(\"month\").count().collect()\n",
    "#statistic_day_of_week.show()\n",
    "\n",
    "pdf = pd.DataFrame(data=statistic_month,columns=[\"month\",\"count\"])\n",
    "Y=pdf.sort_values([\"month\"])\n",
    "\n",
    "plt.figure(figsize=(20,10))\n",
    "plt.xlabel(\"Months\")\n",
    "plt.ylabel(\"Number of flights\")\n",
    "plt.title('Figure 1: The change of number flights over months')\n",
    "plt.grid(True,which=\"both\",ls=\"-\")\n",
    "plt.plot(Y[\"month\"],Y[\"count\"])\n",
    "plt.show()"
   ]
  },
  {
   "cell_type": "markdown",
   "metadata": {},
   "source": [
    "<div class=\"alert alert-warning\">We can see the number of fligths over months contains ups and downs with an increasing tendency. The months with the higher number of flights are the period of vacations (summer and christhmas)</div>"
   ]
  },
  {
   "cell_type": "markdown",
   "metadata": {},
   "source": [
    "#### Question 4.2: \n",
    "<div class=\"alert alert-info\">\n",
    "Is there any relationship between the number of flights and the days of the week?  \n",
    "\n",
    "Plot a bar chart and interpret the figure.  \n",
    "\n",
    "By answering this question, we could learn about the importance of the weekend/weekday feature for our predictive task.\n",
    "</div>"
   ]
  },
  {
   "cell_type": "code",
   "execution_count": 11,
   "metadata": {
    "collapsed": false
   },
   "outputs": [
    {
     "data": {
      "image/png": "[encoded data removed]",
      "text/plain": [
       "<matplotlib.figure.Figure at 0x7f0f0fcabda0>"
      ]
     },
     "metadata": {},
     "output_type": "display_data"
    }
   ],
   "source": [
    "statistic_day_of_week = df.groupBy(\"day_of_week\").count().collect()\n",
    "#statistic_day_of_week.show()\n",
    "pdf = pd.DataFrame(data=statistic_day_of_week,columns=[\"day_of_week\",\"count\"])\n",
    "\n",
    "plt.figure(figsize=(20,10))\n",
    "plt.xlabel(\"Days of week\")\n",
    "plt.ylabel(\"Number of flights\")\n",
    "plt.title('Figure 2: The change of number flights over days of week')\n",
    "plt.grid(True,which=\"both\",ls=\"-\")\n",
    "map_int_into_day = { 1:\"Mon\", 2:\"Tue\", 3:\"Wed\", 4:\"Thu\", 5:\"Fri\", 6:\"Sat\", 7:\"Sun\" }\n",
    "day_of_week_label = pdf[\"day_of_week\"].map(lambda i: map_int_into_day[i])\n",
    "\n",
    "# plot bar chart\n",
    "plt.bar(pdf[\"day_of_week\"],pdf[\"count\"], align='center', alpha=0.4)\n",
    "\n",
    "plt.xticks(pdf[\"day_of_week\"], day_of_week_label)\n",
    "plt.show()"
   ]
  },
  {
   "cell_type": "markdown",
   "metadata": {},
   "source": [
    "<div class=\"alert alert-warning\">The weekdays have more flights than the weekends and this can be explained by the importance of business trips in the US. Since US is a big country in size people prefer to move by plane.</div>"
   ]
  },
  {
   "cell_type": "markdown",
   "metadata": {},
   "source": [
    "#### Question 4.3\n",
    "<div class=\"alert alert-info\">\n",
    "How many flights in different days of months and in different hours of days?  \n",
    "\n",
    "Plot  bar charts, and interpret your figures.\n",
    "</div>"
   ]
  },
  {
   "cell_type": "code",
   "execution_count": 12,
   "metadata": {
    "collapsed": false
   },
   "outputs": [
    {
     "data": {
      "image/png": "[encoded data removed]",
      "text/plain": [
       "<matplotlib.figure.Figure at 0x7f0ee7e2b5f8>"
      ]
     },
     "metadata": {},
     "output_type": "display_data"
    }
   ],
   "source": [
    "statistic_day_of_month = df.groupBy(\"day_of_month\").count().collect()\n",
    "#statistic_day_of_month.show()\n",
    "pdf = pd.DataFrame(data=statistic_day_of_month,columns=[\"day_of_month\",\"count\"])\n",
    "\n",
    "# plot bar chart\n",
    "plt.figure(figsize=(20,10))\n",
    "plt.xlabel(\"Days of month\")\n",
    "plt.ylabel(\"Number of flights\")\n",
    "plt.title('Figure 2: The change of number flights over days of months')\n",
    "plt.grid(True,which=\"both\",ls=\"-\")\n",
    "\n",
    "plt.bar(pdf[\"day_of_month\"],pdf[\"count\"], align='center', alpha=0.4)\n",
    "plt.show()"
   ]
  },
  {
   "cell_type": "markdown",
   "metadata": {},
   "source": [
    "<div class=\"alert alert-warning\">Basically on average there is the same amount of fligths per each day of the month. Between days there is no relation because the days of the weeks change over all the months (for example the first of each month can be whatever day of the week). Since the 1994 is not a bissextile year we have less flights on the 29 and 30 of the month. Also the half of the months have no 31 days so that's why we can note the huge gap between 31st and the others.</div>"
   ]
  },
  {
   "cell_type": "code",
   "execution_count": 89,
   "metadata": {
    "collapsed": false
   },
   "outputs": [
    {
     "data": {
      "image/png": "[encoded data removed]",
      "text/plain": [
       "<matplotlib.figure.Figure at 0x7f0ee4ad7e10>"
      ]
     },
     "metadata": {},
     "output_type": "display_data"
    }
   ],
   "source": [
    "statistic_scheduled_departure_time = df.groupBy(\"scheduled_departure_time\").count().collect()\n",
    "#statistic_day_of_month.show()\n",
    "pdf = pd.DataFrame(data=statistic_scheduled_departure_time,columns=[\"scheduled_departure_time\",\"count\"])\n",
    "\n",
    "# plot bar chart\n",
    "plt.figure(figsize=(20,10))\n",
    "plt.xlabel(\"Hours of day\")\n",
    "plt.ylabel(\"Number of flights\")\n",
    "plt.title('Figure 3: The change of number flights over hours of day')\n",
    "\n",
    "#plt.grid(True,which=\"both\",ls=\"-\")\n",
    "\n",
    "plt.bar(pdf[\"scheduled_departure_time\"],pdf[\"count\"], align='center', alpha=0.4,color='y')\n",
    "plt.show()"
   ]
  },
  {
   "cell_type": "markdown",
   "metadata": {},
   "source": [
    "<div class=\"alert alert-warning\">The graph show that there is a huge amount of flights that depart at 7 a.m. which represent the peak of the graph. In the other hours of the day the number of flights follow the same behaviour except for the night (after 8 p.m.) and early morning (before 6 a.m.). We can also notice a peak at 7 p.m. showing that is the most common hours to return back.</div>"
   ]
  },
  {
   "cell_type": "markdown",
   "metadata": {},
   "source": [
    "#### Question 4.4\n",
    "<div class=\"alert alert-info\">\n",
    "Which are the **top 20** busiest airports: compute this in terms of aggregate inbound and outbound number of flights?\n",
    "</div>"
   ]
  },
  {
   "cell_type": "code",
   "execution_count": 106,
   "metadata": {
    "collapsed": false
   },
   "outputs": [
    {
     "name": "stdout",
     "output_type": "stream",
     "text": [
      "+-----------+--------+-------+------+\n",
      "|src_airport|outbound|inbound| total|\n",
      "+-----------+--------+-------+------+\n",
      "|        ORD|  277741| 283720|561461|\n",
      "|        DFW|  256274| 260249|516523|\n",
      "|        ATL|  221486| 221588|443074|\n",
      "|        LAX|  153494| 152959|306453|\n",
      "|        STL|  151609| 152800|304409|\n",
      "|        DEN|  141427| 144099|285526|\n",
      "|        PHX|  139581| 140979|280560|\n",
      "|        DTW|  136837| 139435|276272|\n",
      "|        PIT|  130977| 131962|262939|\n",
      "|        CLT|  129391| 130321|259712|\n",
      "|        MSP|  123222| 124758|247980|\n",
      "|        SFO|  118233| 117245|235478|\n",
      "|        EWR|  116768| 117223|233991|\n",
      "|        IAH|  104182| 104409|208591|\n",
      "|        LGA|  101864| 101498|203362|\n",
      "|        BOS|  100365|  99331|199696|\n",
      "|        LAS|   94972|  94948|189920|\n",
      "|        PHL|   93585|  93312|186897|\n",
      "|        DCA|   88445|  87670|176115|\n",
      "|        MCO|   77120|  76600|153720|\n",
      "+-----------+--------+-------+------+\n",
      "only showing top 20 rows\n",
      "\n"
     ]
    }
   ],
   "source": [
    "# consider outbound flights\n",
    "stat_src = (df\n",
    "            .groupBy(df.src_airport)\n",
    "            .agg(func.count('*').alias('outbound'))\n",
    "            )\n",
    "\n",
    "# consider inbound flights\n",
    "stat_dest = (df\n",
    "                .groupBy(df.dest_airport)\n",
    "                .agg(func.count('*').alias('inbound'))\n",
    "            )\n",
    "\n",
    "\n",
    "# full join the statistic of inbound flights and outbound flights\n",
    "stat_airports = stat_src.join(stat_dest, stat_src.src_airport == stat_dest.dest_airport, how = \"inner\")\n",
    "\n",
    "# TOP 20 BUSIEST AIRPORTS\n",
    "stat_airport_traffic = (stat_airports\n",
    "                            # define the new column `total` \n",
    "                            # which has values are equal to the sum of `count1` and `count2`\n",
    "                            .withColumn('total', stat_airports['outbound'] + stat_airports['inbound'])\n",
    "                            # select top airpoint in termns of number of flights\n",
    "                            .select([\"src_airport\",\"outbound\",\"inbound\",\"total\"]).orderBy(desc(\"total\"))\n",
    "                        )\n",
    "stat_airport_traffic.show(20)"
   ]
  },
  {
   "cell_type": "markdown",
   "metadata": {},
   "source": [
    "#### Question 4.5\n",
    "<div class=\"alert alert-info\">\n",
    "Which are the **top 20** busiest carriers: compute this in terms of number of flights? \n",
    "</div>\n"
   ]
  },
  {
   "cell_type": "code",
   "execution_count": 104,
   "metadata": {
    "collapsed": false
   },
   "outputs": [
    {
     "name": "stdout",
     "output_type": "stream",
     "text": [
      "+-------+------+\n",
      "|carrier| count|\n",
      "+-------+------+\n",
      "|     DL|874526|\n",
      "|     US|857906|\n",
      "|     AA|722277|\n",
      "|     UA|638750|\n",
      "|     WN|565426|\n",
      "|     CO|484834|\n",
      "|     NW|482798|\n",
      "|     TW|258205|\n",
      "|     HP|177851|\n",
      "|     AS|117475|\n",
      "+-------+------+\n",
      "\n"
     ]
    }
   ],
   "source": [
    "stat_carrier = (df\n",
    "                .groupBy(\"carrier\")\n",
    "                .agg(func.count('*').alias('count'))\n",
    "                .orderBy(desc('count'))\n",
    "                )\n",
    "\n",
    "stat_carrier.show(20)"
   ]
  },
  {
   "cell_type": "markdown",
   "metadata": {},
   "source": [
    "### Question 5 \n",
    "Statistics on the percentage of delayed flights\n",
    "\n",
    "#### Question 5.1\n",
    "<div class=\"alert alert-info\">\n",
    "What is the percentage of delayed flights for different hours of the day?  \n",
    "\n",
    "Plot a bar chart and interpret the figure.  \n",
    "\n",
    "\n",
    "<div class=\"label label-success\">Remember</div> a flight is considered as delayed if it's actual arrival time is more than 15 minutes late than the scheduled arrival time.\n",
    "</div>"
   ]
  },
  {
   "cell_type": "code",
   "execution_count": 93,
   "metadata": {
    "collapsed": true
   },
   "outputs": [],
   "source": [
    "# create new column that marks whether the flights are delay\n",
    "df_with_delay = df.withColumn('is_delay', when(df[\"arrival_delay\"] >= 15, 1).otherwise(0))\n",
    "\n",
    "# create a new column that indicates the scheduled departure time in hour \n",
    "# (ignore the part of minute)\n",
    "delay_per_hour = df_with_delay.withColumn('hour', round(df.scheduled_departure_time/100, 0))\n",
    "\n",
    "# group by year and hour\n",
    "statistic_delay_hour = delay_per_hour.groupBy(\"year\",\"hour\")\n",
    "\n",
    "# calculate the delay ratio and create a new column\n",
    "delay_ratio_per_hour = statistic_delay_hour.agg(\n",
    "    (func.sum('is_delay')/func.count('*')).alias('delay_ratio')\n",
    ")\n",
    "\n",
    "\n",
    "# order the result by hour\n",
    "delay_ratio_per_hour = (\n",
    "            delay_ratio_per_hour\n",
    "                .orderBy(\"hour\")\n",
    "                .select([\"hour\", \"delay_ratio\"])\n",
    "                .collect()\n",
    "    )\n",
    "\n",
    "#delay_ratio_per_hour.show()\n",
    "\n",
    "pdf_delay_ratio_per_hour = pd.DataFrame(data=delay_ratio_per_hour,columns=[\"hour\",\"delay_ratio\"])"
   ]
  },
  {
   "cell_type": "code",
   "execution_count": 94,
   "metadata": {
    "collapsed": false
   },
   "outputs": [
    {
     "data": {
      "image/png": "[encoded data removed]",
      "text/plain": [
       "<matplotlib.figure.Figure at 0x7f0ed5aa89b0>"
      ]
     },
     "metadata": {},
     "output_type": "display_data"
    }
   ],
   "source": [
    "# plot bar chart\n",
    "plt.figure(figsize=(20,10))\n",
    "plt.xlabel(\"Hours\")\n",
    "plt.ylabel(\"Delay Ratio\")\n",
    "\n",
    "plt.grid(True,which=\"both\",ls=\"-\")\n",
    "plt.title('Figure 4: The ratio of delay over hours in day')\n",
    "plt.bar(pdf_delay_ratio_per_hour[\"hour\"],pdf_delay_ratio_per_hour[\"delay_ratio\"], align='center', alpha=0.4)\n",
    "plt.show()"
   ]
  },
  {
   "cell_type": "markdown",
   "metadata": {},
   "source": [
    "<div class=\"alert alert-warning\"> Considering also the second graph of the question 4.3 we can notice that when the traffic increase (from 7 a.m. to 8 p.m.) the ratio of delayed flights also increase. The same when the number of departing flights decrease the delay ratio decrease too.</div>"
   ]
  },
  {
   "cell_type": "markdown",
   "metadata": {},
   "source": [
    "#### Question 5.2\n",
    "<div class=\"alert alert-info\">\n",
    "You will realize that saying *\"at 4 A.M. there is a very low chance of a flight being delayed\"* is not giving you a full picture of the situation. Indeed, it might be true that there is very little probability for an early flight to be delayed, but if it does, the delay might be huge, like 6 hours!  \n",
    "\n",
    "<ul></ul>\n",
    "\n",
    "Then, the question is: **which hours of the day are characterized by the largest delay?**  \n",
    "\n",
    "Plot a Bar chart and explain it.  \n",
    "\n",
    "</div>"
   ]
  },
  {
   "cell_type": "code",
   "execution_count": 18,
   "metadata": {
    "collapsed": false
   },
   "outputs": [
    {
     "data": {
      "image/png": "[encoded data removed]",
      "text/plain": [
       "<matplotlib.figure.Figure at 0x7f0ee4f02630>"
      ]
     },
     "metadata": {},
     "output_type": "display_data"
    }
   ],
   "source": [
    "mean_delay_per_hour = statistic_delay_hour.agg(\n",
    "    (func.mean(\"arrival_delay\").alias(\"mean_delay\"))\n",
    ")\n",
    " \n",
    "\n",
    "\n",
    "mean_delay_per_hour = (\n",
    "    mean_delay_per_hour\n",
    "        .orderBy(\"mean_delay\")\n",
    "        .select([\"hour\",\"mean_delay\"])\n",
    "        .collect()\n",
    "    )\n",
    "\n",
    "#mean_delay_per_hour.show()\n",
    "pdf_mean_delay_per_hour = pd.DataFrame(data=mean_delay_per_hour,columns=[\"hour\",\"mean_delay\"])\n",
    "\n",
    "# plot bar chart\n",
    "plt.figure(figsize=(20,10))\n",
    "plt.xlabel(\"Hours\")\n",
    "plt.ylabel(\"Mean Delay\")\n",
    "\n",
    "plt.grid(True,which=\"both\",ls=\"-\")\n",
    "plt.title('Figure 5: The delay over hours in day')\n",
    "plt.bar(pdf_mean_delay_per_hour[\"hour\"],pdf_mean_delay_per_hour[\"mean_delay\"], align='center', alpha=0.4)\n",
    "plt.show()"
   ]
  },
  {
   "cell_type": "markdown",
   "metadata": {},
   "source": [
    "<div class=\"alert alert-warning\">For this dataset we don't have weird behaviour on the mean delay. The negative values represent on average the fligths that arrive ahead of schedule.</div>"
   ]
  },
  {
   "cell_type": "markdown",
   "metadata": {},
   "source": [
    "With data of year 1994, the flight from 3AM to 4AM often <b>arrive</b> earlier than in their schedule. The flights in the morning have less delay then in the afternoon and evening.\n",
    "\n",
    "So, an attentive student should notice here that we have somehow a problem with the definition of delay! Next, we will improve how to represent and visualize data to overcome this problem."
   ]
  },
  {
   "cell_type": "code",
   "execution_count": 96,
   "metadata": {
    "collapsed": false
   },
   "outputs": [
    {
     "data": {
      "image/png": "[encoded data removed]",
      "text/plain": [
       "<matplotlib.figure.Figure at 0x7f0ed4e39cc0>"
      ]
     },
     "metadata": {},
     "output_type": "display_data"
    }
   ],
   "source": [
    "pdf_delay_ratio_per_hour = pd.DataFrame(data=mean_delay_per_hour)\n",
    "plt.figure(figsize=(20,10))\n",
    "plt.xlabel(\"Hours\")\n",
    "plt.ylabel(\"Ratio of delay\")\n",
    "plt.title('Figure 6: The radio of delay over hours in day')\n",
    "plt.grid(True,which=\"both\",ls=\"-\")\n",
    "bars = plt.bar(pdf_delay_ratio_per_hour[0], pdf_delay_ratio_per_hour[1], align='center', edgecolor = \"black\")\n",
    "for i in range(0, len(bars)):\n",
    "    color = 'red'\n",
    "    if pdf_mean_delay_per_hour[\"mean_delay\"][i] < 0:\n",
    "        color = 'lightgreen'\n",
    "    elif pdf_mean_delay_per_hour[\"mean_delay\"][i] < 2:\n",
    "        color = 'green'\n",
    "    elif pdf_mean_delay_per_hour[\"mean_delay\"][i] < 4:\n",
    "        color = 'yellow'\n",
    "    elif pdf_mean_delay_per_hour[\"mean_delay\"][i] < 8:\n",
    "        color = 'orange'\n",
    "\n",
    "    bars[i].set_color(color)\n",
    "        \n",
    "patch1 = mpatches.Patch(color='lightgreen', label='Arrive earlier')\n",
    "patch2 = mpatches.Patch(color='green', label='delay < 2 minutes')\n",
    "patch3 = mpatches.Patch(color='yellow', label='delay < 4 minutes')\n",
    "patch4 = mpatches.Patch(color='orange', label='delay < 8 minutes')\n",
    "patch5 = mpatches.Patch(color='red', label='delay >= 8 minutes')\n",
    "\n",
    "plt.legend(handles=[patch1, patch2, patch3, patch4, patch5], bbox_to_anchor=(1.05, 1), loc=2, borderaxespad=0.)\n",
    "\n",
    "plt.show()"
   ]
  },
  {
   "cell_type": "markdown",
   "metadata": {},
   "source": [
    "In the new figure (Figure 6), we have more information in a single plot. The flights in 3AM to 4AM have very low probability of being delayed, and actually arrive earlier than their schedule. In contrast, the flights in the 4PM to 8PM range have higher chances of being delayed: in more than 50% of the cases, the delay is 8 minutes or more.\n",
    "\n",
    "This example shows us that the way representing results are also important.\n"
   ]
  },
  {
   "cell_type": "markdown",
   "metadata": {},
   "source": [
    "#### Question 5.3\n",
    "<div class=\"alert alert-info\">\n",
    "Plot a bar chart to show the percentage of delayed flights over days in a month\n",
    "</div>"
   ]
  },
  {
   "cell_type": "code",
   "execution_count": 20,
   "metadata": {
    "collapsed": false
   },
   "outputs": [
    {
     "data": {
      "image/png": "[encoded data removed]",
      "text/plain": [
       "<matplotlib.figure.Figure at 0x7f0ee7e139b0>"
      ]
     },
     "metadata": {},
     "output_type": "display_data"
    }
   ],
   "source": [
    "####### The changes of delay ratio over days of month ########\n",
    "# calculate the delay ratio in each day of month\n",
    "statistic_day_of_month = (\n",
    "    df_with_delay\n",
    "        .groupBy(\"day_of_month\")\n",
    "        .agg((func.sum('is_delay')/func.count('*')))\n",
    "        # order by day_of_month\n",
    "        .orderBy(\"day_of_month\")\n",
    "        .collect()\n",
    "    )\n",
    "\n",
    "# collect data and plot\n",
    "pdf_day_of_month = pd.DataFrame(data=statistic_day_of_month,columns=[\"day_of_month\",\"is_delay\"])\n",
    "plt.figure(figsize=(20,10))\n",
    "plt.xlabel(\"Day of Month\")\n",
    "plt.ylabel(\"Delay ratio\")\n",
    "\n",
    "plt.grid(True,which=\"both\",ls=\"-\")\n",
    "plt.title('Figure 7: The radio of delay over days of month')\n",
    "\n",
    "plt.bar(pdf_day_of_month[\"day_of_month\"],pdf_day_of_month[\"is_delay\"], align='center', alpha=0.4)\n",
    "plt.show()"
   ]
  },
  {
   "cell_type": "markdown",
   "metadata": {},
   "source": [
    "<div class=\"alert alert-warning\">Basically the delay ratio follow the same behaviour every day every month. As we can see also the 31st of the month follow the same beahaviour even if has less fligth and it's logic since we are taking the ratio.</div>"
   ]
  },
  {
   "cell_type": "markdown",
   "metadata": {},
   "source": [
    "#### Question 5.4\n",
    "<div class=\"alert alert-info\">\n",
    "Plot a bar chart to show the percentage of delayed flights over days in a week\n",
    "</div>"
   ]
  },
  {
   "cell_type": "code",
   "execution_count": 21,
   "metadata": {
    "collapsed": false
   },
   "outputs": [
    {
     "data": {
      "image/png": "[encoded data removed]",
      "text/plain": [
       "<matplotlib.figure.Figure at 0x7f0ee46dc5c0>"
      ]
     },
     "metadata": {},
     "output_type": "display_data"
    }
   ],
   "source": [
    "####### The changes of delay ratio over days of week ########\n",
    "# calculate the delay ratio in each day of week\n",
    "statistic_day_of_week = (\n",
    "    df_with_delay\n",
    "        .groupBy(\"day_of_week\")\n",
    "        .agg((func.sum('is_delay')/func.count('*')))\n",
    "        # order by day_of_week\n",
    "        .orderBy(\"day_of_week\")\n",
    "        .collect()\n",
    "    )\n",
    "\n",
    "# collect data and plot\n",
    "pdf_day_of_week = pd.DataFrame(data=statistic_day_of_week,columns=[\"day_of_week\",\"is_delay\"])\n",
    "map_int_into_day = { 1:\"Mon\", 2:\"Tue\", 3:\"Wed\", 4:\"Thu\", 5:\"Fri\", 6:\"Sat\", 7:\"Sun\" }\n",
    "day_of_week_label = pdf_day_of_week[\"day_of_week\"].map(lambda i: map_int_into_day[i])\n",
    "\n",
    "plt.figure(figsize=(20,10))\n",
    "plt.xlabel(\"Day of Week\")\n",
    "plt.ylabel(\"Delay ratio\")\n",
    "\n",
    "plt.grid(True,which=\"both\",ls=\"-\")\n",
    "\n",
    "plt.title('Figure 8: The radio of delay over days of week')\n",
    "plt.bar(pdf_day_of_week[\"day_of_week\"],pdf_day_of_week[\"is_delay\"], align='center', alpha=0.4)\n",
    "plt.xticks(pdf_day_of_week[\"day_of_week\"], day_of_week_label)\n",
    "plt.show()"
   ]
  },
  {
   "cell_type": "markdown",
   "metadata": {},
   "source": [
    "<div class=\"alert alert-warning\">Since the weekdays have more fligths and so more traffic it is more probable that we have more delayed fligths. And that's why have sligth difference between weekdays and weekends.</div>"
   ]
  },
  {
   "cell_type": "markdown",
   "metadata": {},
   "source": [
    "#### Question 5.5\n",
    "<div class=\"alert alert-info\">\n",
    "Plot a bar chart to show the percentage of delayed flights over months in a year\n",
    "</div>"
   ]
  },
  {
   "cell_type": "code",
   "execution_count": 22,
   "metadata": {
    "collapsed": false
   },
   "outputs": [
    {
     "data": {
      "image/png": "[encoded data removed]",
      "text/plain": [
       "<matplotlib.figure.Figure at 0x7f0ee7f93320>"
      ]
     },
     "metadata": {},
     "output_type": "display_data"
    }
   ],
   "source": [
    "####### The changes of delay ratio over months ########\n",
    "# calculate the delay ratio in month\n",
    "statistic_month = (\n",
    "    df_with_delay\n",
    "        .groupBy(\"month\")\n",
    "        .agg((func.sum('is_delay')/func.count('*')))\n",
    "        # order by month\n",
    "        .orderBy(\"month\")\n",
    "        .collect()\n",
    "    )\n",
    "\n",
    "# collect data and plot\n",
    "pdf_month = pd.DataFrame(data=statistic_month,columns=[\"month\",\"is_delay\"])\n",
    "\n",
    "plt.figure(figsize=(20,10))\n",
    "plt.xlabel(\"Month\")\n",
    "plt.ylabel(\"Delay ratio\")\n",
    "plt.grid(True,which=\"both\",ls=\"-\")\n",
    "\n",
    "plt.title('Figure 9: The radio of delay over months')\n",
    "plt.bar(pdf_month[\"month\"],pdf_month[\"is_delay\"], align='center', alpha=0.4)\n",
    "plt.show()"
   ]
  },
  {
   "cell_type": "markdown",
   "metadata": {},
   "source": [
    "<div class=\"alert alert-warning\">The result shows that we have higher delay ratio in summer (6,7,8) and winter (1,2,11,12). Probably this can be explained by the weather condition ans also the number of flights as shown in the question 4.1.</div>"
   ]
  },
  {
   "cell_type": "markdown",
   "metadata": {},
   "source": [
    "We are ready now to draw some observations from our data, even if we have only looked at data coming from a year worth of flights:\n",
    "\n",
    "- The probability for a flight to be delayed is low at the beginning or at the very end of a given months\n",
    "- Flights on two first weekdays and on the weekend, are less likely to be delayed\n",
    "- May and September are very good months for travelling, as the probability of delay is low (remember we're working on US data. Do you think this is also true in France?)\n",
    "\n",
    "Putting things together, we can have a global picture of the whole year!"
   ]
  },
  {
   "cell_type": "code",
   "execution_count": 23,
   "metadata": {
    "collapsed": false
   },
   "outputs": [],
   "source": [
    "df_with_delay = df.withColumn('is_delay', when(df[\"arrival_delay\"] >= 15, 1).otherwise(0))\n",
    "statistic_day = df_with_delay.groupBy(['year','month', 'day_of_month', 'day_of_week'])\\\n",
    "    .agg((func.sum('is_delay')/func.count('*')).alias('delay_ratio'))\n",
    "\n",
    "# assume that we do statistic on year 1994\n",
    "statistic_day = statistic_day\\\n",
    "    .orderBy('year', 'month', 'day_of_month', 'day_of_week')\n",
    "pdf = pd.DataFrame(data=statistic_day.collect())"
   ]
  },
  {
   "cell_type": "code",
   "execution_count": 24,
   "metadata": {
    "collapsed": false
   },
   "outputs": [
    {
     "data": {
      "image/png": "[encoded data removed]",
      "text/plain": [
       "<matplotlib.figure.Figure at 0x7f0ee45dfc88>"
      ]
     },
     "metadata": {},
     "output_type": "display_data"
    }
   ],
   "source": [
    "fig = plt.figure(figsize=(20,10))                                                             \n",
    "ax = fig.add_subplot(1,1,1)     \n",
    "plt.xlabel(\"Weeks/Months in year\")\n",
    "plt.ylabel(\"Day of weeks (1:Monday -> 7 :Sunday)\")\n",
    "plt.title('Figure 10: The change of number flights over days in year')\n",
    "  \n",
    "rec_size = 0.3\n",
    "from matplotlib.patches import Rectangle\n",
    "import datetime\n",
    "num_days = len(pdf[0])\n",
    "ax.patch.set_facecolor('gray')\n",
    "ax.set_aspect('equal', 'box')\n",
    "ax.xaxis.set_major_locator(plt.NullLocator())\n",
    "ax.yaxis.set_major_locator(plt.NullLocator())\n",
    "\n",
    "for i in range(0, num_days):\n",
    "    # extract information from the result\n",
    "    year = pdf[0][i]\n",
    "    month = pdf[1][i]\n",
    "    day_of_month = pdf[2][i]\n",
    "    day_of_week = pdf[3][i]\n",
    "    day_of_year= datetime.date(year=year, month=month, day=day_of_month).timetuple()\n",
    "    week_of_year = datetime.date(year=year, month=month, day=day_of_month).isocalendar()[1]\n",
    "    \n",
    "    # dealing with the week of the previous year\n",
    "    if week_of_year == 52 and month == 1:\n",
    "        week_of_year = 0\n",
    "        \n",
    "    # the coordinate of a day in graph\n",
    "    X = week_of_year*rec_size\n",
    "    Y = day_of_week*rec_size\n",
    "    \n",
    "    # use different colors to show the delay ratio\n",
    "    color = 'white'\n",
    "    if pdf[4][i] <= 0.084:\n",
    "        color = 'lightyellow'\n",
    "    elif pdf[4][i] <= 0.117:\n",
    "        color = 'lightgreen'\n",
    "    elif pdf[4][i] <= 0.152:\n",
    "        color = 'gold'\n",
    "    elif pdf[4][i] <= 0.201:\n",
    "        color = 'orange'\n",
    "    else:\n",
    "        color = 'red'\n",
    "    rect = plt.Rectangle((X - rec_size/2.0, Y - rec_size/2.0), rec_size, rec_size,\n",
    "                      alpha=1, facecolor=color, edgecolor='whitesmoke')\n",
    "\n",
    "    ax.add_patch(rect)\n",
    "    \n",
    "    # drawing boders to separate months\n",
    "    if day_of_month <= 7:\n",
    "        rect2 = plt.Rectangle((X -rec_size/2.0, Y - rec_size/2.0), 0.01, rec_size,\n",
    "                      alpha=1, facecolor='black')\n",
    "        ax.add_patch(rect2)\n",
    "    if day_of_month == 1:\n",
    "        rect2 = plt.Rectangle((X - rec_size/2.0, Y - rec_size/2.0), rec_size, 0.01,\n",
    "                      alpha=1, facecolor='black')\n",
    "        ax.add_patch(rect2)\n",
    "ax.autoscale_view()\n",
    "\n",
    "patch1 = mpatches.Patch(color='lightyellow', label='delay ratio < 8.4%')\n",
    "patch2 = mpatches.Patch(color='lightgreen', label='delay ratio < 11.7%')\n",
    "patch3 = mpatches.Patch(color='gold', label='delay ratio < 15.2%')\n",
    "patch4 = mpatches.Patch(color='orange', label='delay ratio < 20.1%')\n",
    "patch5 = mpatches.Patch(color='red', label='delay ratio >= 20.1%')\n",
    "\n",
    "plt.legend(handles=[patch1, patch2, patch3, patch4, patch5], bbox_to_anchor=(1.05, 1), loc=2, borderaxespad=0.)\n",
    "\n",
    "plt.show()"
   ]
  },
  {
   "cell_type": "markdown",
   "metadata": {},
   "source": [
    "#### Question 5.6\n",
    "<div class=\"alert alert-info\">\n",
    "Explain figure 10.\n",
    "</div>"
   ]
  },
  {
   "cell_type": "markdown",
   "metadata": {},
   "source": [
    "<div class=\"alert alert-warning\">The figure 10 is a combination of the two previous figures. We can see that we have a lot of delays in summer and winter (figure 9) that are concentrated in the weekdays (figure 8). We can conclude that the delays are caused by the weather condition and the business trip.</div>"
   ]
  },
  {
   "cell_type": "markdown",
   "metadata": {
    "collapsed": true
   },
   "source": [
    "#### Question 5.7\n",
    "<div class=\"alert alert-info\">\n",
    "\n",
    "What is the delay probability for the top 20 busiest airports?  \n",
    "\n",
    "\n",
    "By drawing the flight volume of each airport and the associated delay probability in a single plot, we can observe the relationship between airports, number of flights and the delay.  \n",
    "\n",
    "<div class=\"label label-success\">HINT </div>  Function `<df_colum>.isin(<list>)` helps checking whether a value in column belongs to a list.\n",
    "</div>"
   ]
  },
  {
   "cell_type": "code",
   "execution_count": 115,
   "metadata": {
    "collapsed": false
   },
   "outputs": [
    {
     "name": "stdout",
     "output_type": "stream",
     "text": [
      "+-----------+-------------------+\n",
      "|src_airport|        delay_ratio|\n",
      "+-----------+-------------------+\n",
      "|        ATL|0.21205403501801467|\n",
      "|        BOS|0.20337767149902855|\n",
      "|        CLT|0.22251161209048542|\n",
      "|        DCA| 0.1599864322460286|\n",
      "|        DEN|0.20354670607451195|\n",
      "|        DFW|0.22524719636014578|\n",
      "|        DTW|0.17069213736050923|\n",
      "|        EWR|0.26439606741573035|\n",
      "|        IAH| 0.1660171622737133|\n",
      "|        LAS|0.17218759213241797|\n",
      "|        LAX|0.16996104082244257|\n",
      "|        LGA|0.19028312259483232|\n",
      "|        MCO|  0.167725622406639|\n",
      "|        MSP|0.15585690866890653|\n",
      "|        ORD|0.16788302771286917|\n",
      "|        PHL|0.21505583159694394|\n",
      "|        PHX|0.17194317278139576|\n",
      "|        PIT|0.21883994899867915|\n",
      "|        SFO|0.16634949633351095|\n",
      "|        STL|0.18877507271995725|\n",
      "+-----------+-------------------+\n",
      "\n"
     ]
    }
   ],
   "source": [
    "####### The delay ratio of the top 20 busiest airports ########\n",
    "K = 20\n",
    "\n",
    "# extract top_20_airports from stat_airport_traffic\n",
    "top_20_airports = [item[0] for item in stat_airport_traffic.take(K)]\n",
    "#print(top_20_airports)\n",
    "# select the statistic of source airports\n",
    "statistic_ratio_delay_airport = (\n",
    "    df_with_delay\n",
    "        # select only flights that depart from one of top 20 ariports\n",
    "        .filter(df_with_delay[\"src_airport\"].isin(top_20_airports))\n",
    "        # group by source airport\n",
    "        .groupBy(\"src_airport\")\n",
    "        #  calculate the delay ratio\n",
    "        .agg((func.sum('is_delay')/func.count('*')).alias('delay_ratio'))\n",
    "        # sort by name of airport\n",
    "        .orderBy(\"src_airport\")\n",
    "    )\n",
    "statistic_ratio_delay_airport.show(20)"
   ]
  },
  {
   "cell_type": "code",
   "execution_count": 123,
   "metadata": {
    "collapsed": false
   },
   "outputs": [],
   "source": [
    "# collect data and plot\n",
    "pdf_ratio_delay_airport = pd.DataFrame(data=statistic_ratio_delay_airport.collect(),columns=['src_airport', 'delay_ratio'])\n",
    "pdf_top_20_airport_volume = pd.DataFrame(data=stat_airport_traffic.select(\"src_airport\",\"total\").take(K), columns=['src_airport', 'total'])\n",
    "#pdf_top_20_airport_volume = pdf_top_20_airport_volume.sort_values(by='src_airport')"
   ]
  },
  {
   "cell_type": "code",
   "execution_count": 125,
   "metadata": {
    "collapsed": false,
    "scrolled": false
   },
   "outputs": [
    {
     "name": "stdout",
     "output_type": "stream",
     "text": [
      "<class 'pandas.core.frame.DataFrame'>\n",
      "   src_airport   total  delay_ratio\n",
      "0          ORD  561461     0.167883\n",
      "1          DFW  516523     0.225247\n",
      "2          ATL  443074     0.212054\n",
      "3          LAX  306453     0.169961\n",
      "4          STL  304409     0.188775\n",
      "5          DEN  285526     0.203547\n",
      "6          PHX  280560     0.171943\n",
      "7          DTW  276272     0.170692\n",
      "8          PIT  262939     0.218840\n",
      "9          CLT  259712     0.222512\n",
      "10         MSP  247980     0.155857\n",
      "11         SFO  235478     0.166349\n",
      "12         EWR  233991     0.264396\n",
      "13         IAH  208591     0.166017\n",
      "14         LGA  203362     0.190283\n",
      "15         BOS  199696     0.203378\n",
      "16         LAS  189920     0.172188\n",
      "17         PHL  186897     0.215056\n",
      "18         DCA  176115     0.159986\n",
      "19         MCO  153720     0.167726\n"
     ]
    }
   ],
   "source": [
    "print(type(pdf_top_20_airport_volume))\n",
    "mergedpd=pd.merge(pdf_top_20_airport_volume,pdf_ratio_delay_airport,on='src_airport',how='inner')\n",
    "print(mergedpd)"
   ]
  },
  {
   "cell_type": "code",
   "execution_count": 122,
   "metadata": {
    "collapsed": false
   },
   "outputs": [
    {
     "data": {
      "image/png": "[encoded data removed]",
      "text/plain": [
       "<matplotlib.figure.Figure at 0x7f0ed3f51898>"
      ]
     },
     "metadata": {},
     "output_type": "display_data"
    }
   ],
   "source": [
    "index = np.arange(len(top_20_airports))\n",
    "bar_width = 0.35\n",
    "opacity = 0.4\n",
    "\n",
    "\n",
    "fig = plt.figure(figsize=(20,10))                                                             \n",
    "ax = fig.add_subplot(1,1,1)\n",
    "\n",
    "ax2 = ax.twinx()\n",
    "plt.axis('normal')\n",
    "ax.set_xlabel(\"Airport\")\n",
    "ax.set_ylabel(\"Flight volume\")\n",
    "ax2.set_ylabel(\"Ratio of delay\")\n",
    "plt.xticks(index + bar_width, top_20_airports)\n",
    "plt.title('Figure 11: The ratio of delay over months')\n",
    "plt.grid(True,which=\"both\",ls=\"-\")\n",
    "bar = ax.bar(index, mergedpd['total'], \n",
    "        bar_width, color='b', \n",
    "        label='flight volume')\n",
    "bar2 = ax2.bar(index + 1.5*bar_width, mergedpd['delay_ratio'], bar_width, \n",
    "       align='center', color='r', \n",
    "       label='Delay ratio')\n",
    "\n",
    "lines, labels = ax.get_legend_handles_labels()\n",
    "lines2, labels2 = ax2.get_legend_handles_labels()\n",
    "ax2.legend(lines + lines2, labels + labels2, loc=0)\n",
    "\n",
    "plt.tight_layout()\n",
    "plt.show()"
   ]
  },
  {
   "cell_type": "markdown",
   "metadata": {},
   "source": [
    "<div class=\"alert alert-warning\">As we can see the number of fligths has no influence on the delayed flights, for example the ORD airport has the most important traffic but one of the lowest delay ratio. On the other hand the EWR airport has a moderate traffic (relatively to the top 20) but the highest delay ratio. This can be explined on how airports are managing the traffic.</div>"
   ]
  },
  {
   "cell_type": "markdown",
   "metadata": {},
   "source": [
    "#### Question 5.8\n",
    "<div class=\"alert alert-info\">\n",
    "What is the percentage of delayed flights which belong to one of the top 20 busiest carriers?  \n",
    "Comment the figure!\n",
    "</div>"
   ]
  },
  {
   "cell_type": "code",
   "execution_count": 27,
   "metadata": {
    "collapsed": false
   },
   "outputs": [
    {
     "name": "stdout",
     "output_type": "stream",
     "text": [
      "+-------+-------------------+\n",
      "|carrier|        delay_ratio|\n",
      "+-------+-------------------+\n",
      "|     AA| 0.1752444006939166|\n",
      "|     AS| 0.1596424771227921|\n",
      "|     CO| 0.1955576547849367|\n",
      "|     DL|0.18328443065157582|\n",
      "|     HP|0.18625141269939444|\n",
      "|     NW| 0.1294806523639286|\n",
      "|     TW|0.18212273193780135|\n",
      "|     UA| 0.1686528375733855|\n",
      "|     US|0.18422298014001534|\n",
      "|     WN|0.12829795587751536|\n",
      "+-------+-------------------+\n",
      "\n"
     ]
    }
   ],
   "source": [
    "K = 20\n",
    "\n",
    "# extract top_20_carriers from stat_carrier\n",
    "top_20_carriers = [item[0] for item in stat_carrier.take(K)]\n",
    "\n",
    "statistic_ratio_delay_carrier = (\n",
    "    df_with_delay\n",
    "        # select only flights that belong from one of top 20 carriers\n",
    "        .filter(df_with_delay[\"carrier\"].isin(top_20_carriers))\n",
    "        # group by carriers\n",
    "        .groupBy(\"carrier\")\n",
    "        #  calculate the delay ratio\n",
    "        .agg((func.sum('is_delay')/func.count('*')).alias('delay_ratio'))\n",
    "        # sort by name of carrier\n",
    "        .orderBy(\"carrier\")\n",
    "    )\n",
    "statistic_ratio_delay_carrier.show(20)"
   ]
  },
  {
   "cell_type": "code",
   "execution_count": 28,
   "metadata": {
    "collapsed": false
   },
   "outputs": [
    {
     "data": {
      "image/png": "[encoded data removed]",
      "text/plain": [
       "<matplotlib.figure.Figure at 0x7f0ee45f74e0>"
      ]
     },
     "metadata": {},
     "output_type": "display_data"
    }
   ],
   "source": [
    "# collect data and plot\n",
    "pdf_ratio_delay_carrier = pd.DataFrame(data=statistic_ratio_delay_carrier.collect())\n",
    "pdf_top_20_carrier_volume = pd.DataFrame(data=stat_carrier.take(K), columns=['carrier', 'count'])\n",
    "pdf_top_20_carrier_volume = pdf_top_20_carrier_volume.sort_values(by='carrier')\n",
    "#print(pdf_top_20_carrier_volume)\n",
    "top_20_carriers.sort()\n",
    "index = np.arange(len(top_20_carriers))\n",
    "bar_width = 0.35\n",
    "opacity = 0.4\n",
    "\n",
    "\n",
    "fig = plt.figure(figsize=(20,10))                                                             \n",
    "ax = fig.add_subplot(1,1,1)\n",
    "\n",
    "ax2 = ax.twinx()\n",
    "plt.axis('normal')\n",
    "ax.set_xlabel(\"Carrier\")\n",
    "ax.set_ylabel(\"Flight volume\")\n",
    "ax2.set_ylabel(\"Ratio of delay\")\n",
    "plt.xticks(index + bar_width, top_20_carriers)\n",
    "\n",
    "plt.title('Figure 11: The radio of delay over months')\n",
    "plt.grid(True,which=\"both\",ls=\"-\")\n",
    "bar = ax.bar(index, pdf_top_20_carrier_volume['count'], \n",
    "        bar_width, color='b', \n",
    "        label='flight volume')\n",
    "bar2 = ax2.bar(index + 1.5*bar_width, pdf_ratio_delay_carrier[1], bar_width, \n",
    "       align='center', color='r', \n",
    "       label='Delay ratio')\n",
    "\n",
    "lines, labels = ax.get_legend_handles_labels()\n",
    "lines2, labels2 = ax2.get_legend_handles_labels()\n",
    "ax2.legend(lines + lines2, labels + labels2, loc=0)\n",
    "\n",
    "plt.tight_layout()\n",
    "plt.show()"
   ]
  },
  {
   "cell_type": "markdown",
   "metadata": {},
   "source": [
    "<div class=\"alert alert-warning\">Here we can see that the carrier has role on the delay ratio. For example the AS and HP companies have few flights compared to the other but a very high delay ratio, unlike DL carrier.</div>"
   ]
  },
  {
   "cell_type": "markdown",
   "metadata": {},
   "source": [
    "# 4. Building a model of our data\n",
    "Now that we have a good grasp on our data and its features, we will focus on how build a statistic model. Note that the features we can decide to use, to train our model, can be put in two groups:\n",
    "\n",
    "- **Explicit features**: these are features that are present in the original data, or that can be built using additional data sources such as `weather` (for example querying a public API)\n",
    "- **Implicit features**: these are the features that are inferred from other features such as `is_weekend`, `is_holiday`, `season`, `in_winter`,...\n",
    "\n",
    "In this notebook, we will focus on the following predictors: `year`, `month`, `day_of_month`, `day_of_week`, `scheduled_departure_time`, `scheduled_arrival_time`, `carrier`, `is_weekend`, `distance`, `src_airport`, `dest_airport`. Among them, `is_weekend` is an implicit feature. The rest are explicit features.\n",
    "\n",
    "The target feature is `arrival_delay`. \n",
    "\n",
    "Currently, MLLIB only supports building models from RDDs. It is important to read well the documentation and the MLLib API, to make sure to use the algorithms in an appropriate manner:\n",
    "\n",
    "- MLLIB supports both categorical and numerical features. However, for each categorical feature, we have to indicate how many distinct values they can take\n",
    "- Each training record must be a ```LabelledPoint```. This data structure has 2 components: ```label``` and ```predictor vector```. ```label``` is the value of target feature in the current record. ```predictor vector``` is a vector of values of type ```Double```. As such, we need to map each value of each categorical feature to a number. In this project, we choose a naïve approach: map each value to a unique index. \n",
    "- MLLIB uses a binning technique to find the split point (the predicate in each tree node). In particular, it divides the domain of numerical features into ```maxBins``` bins (32 by default). With categorical features, each distinct value fits in its own bin. **IMPORTANT:** MLLIB requires that no categorical feature have more than `maxBins` distinct values.\n",
    "- We fill up the missing values in each **categorical** feature with its most common value. The missing values of a **numerical** feature are also replaced by the most common value (however, in some cases, a more sensible approach would be to use the median of this kind of feature).\n"
   ]
  },
  {
   "cell_type": "markdown",
   "metadata": {},
   "source": [
    "## 4.1 Mapping values of each categorical feature to indices"
   ]
  },
  {
   "cell_type": "markdown",
   "metadata": {},
   "source": [
    "### Question 6 \n",
    "\n",
    "Among the selected features, `src_aiport`, `dest_airport`, `carrier` and `distance` have missing values. Besides, the first three of them are categorical features. That means, in order to use them as input features of MLLIB, the values of these features must be numerical. We can use a naïve approach: map each value of each feature to a unique index.\n",
    "\n",
    "#### Question 6.1\n",
    "<div class=\"alert alert-info\">\n",
    "Calculate the frequency of each source airport in the data and build a dictionary that maps each of them to a unique index.  \n",
    "\n",
    "**Note:** we sort the airports by their frequency in descending order, so that we can easily take the most common airport(s) by taking the first element(s) in the result.\n",
    "</div>"
   ]
  },
  {
   "cell_type": "code",
   "execution_count": 29,
   "metadata": {
    "collapsed": false
   },
   "outputs": [
    {
     "name": "stdout",
     "output_type": "stream",
     "text": [
      "+-----------+------+\n",
      "|src_airport| count|\n",
      "+-----------+------+\n",
      "|        ORD|277741|\n",
      "|        DFW|256274|\n",
      "|        ATL|221486|\n",
      "|        LAX|153494|\n",
      "|        STL|151609|\n",
      "|        DEN|141427|\n",
      "|        PHX|139581|\n",
      "|        DTW|136837|\n",
      "|        PIT|130977|\n",
      "|        CLT|129391|\n",
      "|        MSP|123222|\n",
      "|        SFO|118233|\n",
      "|        EWR|116768|\n",
      "|        IAH|104182|\n",
      "|        LGA|101864|\n",
      "|        BOS|100365|\n",
      "|        LAS| 94972|\n",
      "|        PHL| 93585|\n",
      "|        DCA| 88445|\n",
      "|        MCO| 77120|\n",
      "+-----------+------+\n",
      "only showing top 20 rows\n",
      "\n",
      "0\n",
      "2\n"
     ]
    }
   ],
   "source": [
    "# select distinct source airports and map values to index\n",
    "# sort the airport by their frequency descending\n",
    "# so the most common aiport will be on the top\n",
    "stat_src = (\n",
    "    df\n",
    "        .groupBy([\"src_airport\"])\n",
    "        .agg(func.count('*').alias('count'))\n",
    "        .orderBy(desc('count'))\n",
    "    )\n",
    "stat_src.show()\n",
    "\n",
    "# extract the airport names from stat_src\n",
    "src_airports = [item[0] for item in stat_src.collect()]\n",
    "\n",
    "num_src_airports = len(src_airports)\n",
    "src_airports_idx = range(0, num_src_airports)\n",
    "map_src_airport_to_index = dict(zip(src_airports, src_airports_idx))\n",
    "\n",
    "# test the dictionary\n",
    "print(map_src_airport_to_index['ORD'])\n",
    "print(map_src_airport_to_index['ATL'])"
   ]
  },
  {
   "cell_type": "markdown",
   "metadata": {},
   "source": [
    "#### Question 6.2\n",
    "<div class=\"alert alert-info\">\n",
    "Calculate the frequency of each destination airport in the data and build a dictionary that maps each of them to a unique index.\n",
    "</div>"
   ]
  },
  {
   "cell_type": "code",
   "execution_count": 30,
   "metadata": {
    "collapsed": false
   },
   "outputs": [
    {
     "name": "stdout",
     "output_type": "stream",
     "text": [
      "0\n",
      "2\n"
     ]
    }
   ],
   "source": [
    "# select distinct destination airports and map values to index\n",
    "# sort the airport by their frequency descending\n",
    "# so the most common aiport will be on the top\n",
    "stat_dest = (\n",
    "    df\n",
    "        .groupBy([\"dest_airport\"])\n",
    "        .agg(func.count('*').alias('count'))\n",
    "        .orderBy(desc('count'))\n",
    "    )\n",
    "\n",
    "\n",
    "\n",
    "dest_airports =  [item[0] for item in stat_dest.collect()]\n",
    "num_dest_airports = len(dest_airports)\n",
    "dest_airports_idx = range(0, num_dest_airports)\n",
    "map_dest_airports_to_index = dict(zip(dest_airports, dest_airports_idx))\n",
    "\n",
    "# test the dictionary\n",
    "print(map_dest_airports_to_index['ORD'])\n",
    "print(map_dest_airports_to_index['ATL'])"
   ]
  },
  {
   "cell_type": "markdown",
   "metadata": {},
   "source": [
    "#### Question 6.3\n",
    "<div class=\"alert alert-info\">\n",
    "Calculate the frequency of each carrier in the data and build a dictionary that maps each of them to a unique index.\n",
    "</div>"
   ]
  },
  {
   "cell_type": "code",
   "execution_count": 31,
   "metadata": {
    "collapsed": false
   },
   "outputs": [
    {
     "name": "stdout",
     "output_type": "stream",
     "text": [
      "2\n",
      "5\n"
     ]
    }
   ],
   "source": [
    "# select distinct carriers and map values to index\n",
    "# sort carriers by their frequency descending\n",
    "# so the most common aiport will be on the top\n",
    "stat_carr = (\n",
    "    df\n",
    "        .groupBy([\"carrier\"])\n",
    "        .agg(func.count('*').alias('count'))\n",
    "        .orderBy(desc('count'))\n",
    "    )\n",
    "\n",
    "\n",
    "\n",
    "carr_airports =  [item[0] for item in stat_carr.collect()]\n",
    "num_carr_airports = len(carr_airports)\n",
    "carr_airports_idx = range(0, num_carr_airports)\n",
    "map_carriers_to_index = dict(zip(carr_airports, carr_airports_idx))\n",
    "\n",
    "# test the dictionary\n",
    "print(map_carriers_to_index['AA'])\n",
    "print(map_carriers_to_index['CO'])"
   ]
  },
  {
   "cell_type": "markdown",
   "metadata": {},
   "source": [
    "## 4.2 Calculating the most common value of each feature\n",
    "We use a simple strategy for filling in the missing values: replacing them with the most common value of the corresponding feature.\n",
    "\n",
    "<div class=\"alert alert-danger\">\n",
    "**IMPORTANT NOTE:** features like ```month```, ```day_of_month```, etc... can be treated as numerical features in general. However, when it comes to build the model, it is much easier considering them as categorical features. In this case, to compute the most common value for such categorical features, we simply use the frequency of occurrence of each `label`, and chose the most frequent.\n",
    "</div>"
   ]
  },
  {
   "cell_type": "markdown",
   "metadata": {},
   "source": [
    "### Question 7\n",
    "In the previous question, when constructing the dictionary for categorical features, we also sort their statistical information in a such way that the most common value of each feature are placed on the top.\n",
    "\n",
    "Note that, feature `is_weekend` has the most common value set to `0` (that is, `no` the day is not a weekend)."
   ]
  },
  {
   "cell_type": "markdown",
   "metadata": {},
   "source": [
    "#### Question 7.1\n",
    "<div class=\"alert alert-info\">\n",
    "Find the most common value of feature `month` in data.\n",
    "</div>\n",
    "\n"
   ]
  },
  {
   "cell_type": "code",
   "execution_count": 32,
   "metadata": {
    "collapsed": false
   },
   "outputs": [
    {
     "name": "stdout",
     "output_type": "stream",
     "text": [
      "The most common month: 8\n"
     ]
    }
   ],
   "source": [
    "the_most_common_month = (\n",
    "    df\n",
    "        .groupBy(\"month\")\n",
    "        .agg(func.count('*').alias('count'))\n",
    "        .orderBy(desc('count'))\n",
    "    ).first()[0]\n",
    "\n",
    "print(\"The most common month:\", the_most_common_month)"
   ]
  },
  {
   "cell_type": "markdown",
   "metadata": {},
   "source": [
    "#### Question 7.2\n",
    "<div class=\"alert alert-info\">\n",
    "Find the most common value of features `day_of_month` and `day_of_week`.\n",
    "</div>"
   ]
  },
  {
   "cell_type": "code",
   "execution_count": 33,
   "metadata": {
    "collapsed": false
   },
   "outputs": [
    {
     "name": "stdout",
     "output_type": "stream",
     "text": [
      "The most common day of month: 11\n",
      "The most common day of week: 3\n"
     ]
    }
   ],
   "source": [
    "the_most_common_day_of_month = (\n",
    "    df\n",
    "        .groupBy(\"day_of_month\")\n",
    "        .agg(func.count('*').alias('count'))\n",
    "        .orderBy(desc('count'))\n",
    "    ).first()[0]\n",
    "\n",
    "the_most_common_day_of_week = (\n",
    "    df\n",
    "        .groupBy(\"day_of_week\")\n",
    "        .agg(func.count('*').alias('count'))\n",
    "        .orderBy(desc('count'))\n",
    "    ).first()[0]\n",
    "\n",
    "print(\"The most common day of month:\", the_most_common_day_of_month)\n",
    "print(\"The most common day of week:\", the_most_common_day_of_week)"
   ]
  },
  {
   "cell_type": "markdown",
   "metadata": {},
   "source": [
    "#### Question 7.3\n",
    "<div class=\"alert alert-info\">\n",
    "Find the most common value of features `scheduled_departure_time` and `scheduled_arrival_time`.\n",
    "</div>"
   ]
  },
  {
   "cell_type": "code",
   "execution_count": 34,
   "metadata": {
    "collapsed": false
   },
   "outputs": [
    {
     "name": "stdout",
     "output_type": "stream",
     "text": [
      "The most common scheduled departure time: 700\n",
      "The most common scheduled arrival time: 1915\n"
     ]
    }
   ],
   "source": [
    "the_most_common_s_departure_time = (\n",
    "    df\n",
    "        .groupBy(\"scheduled_departure_time\")\n",
    "        .agg(func.count('*').alias('count'))\n",
    "        .orderBy(desc('count'))\n",
    "    ).first()[0]\n",
    "\n",
    "the_most_common_s_arrival_time = (\n",
    "    df\n",
    "        .groupBy(\"scheduled_arrival_time\")\n",
    "        .agg(func.count('*').alias('count'))\n",
    "        .orderBy(desc('count'))\n",
    "    ).first()[0]\n",
    "\n",
    "print(\"The most common scheduled departure time:\", the_most_common_s_departure_time)\n",
    "print(\"The most common scheduled arrival time:\", the_most_common_s_arrival_time)"
   ]
  },
  {
   "cell_type": "markdown",
   "metadata": {},
   "source": [
    "#### Question 7.4\n",
    "<div class=\"alert alert-info\">\n",
    "Calculate the mean of distance in the data. This value will be used to fill in the missing values of feature `distance` later.\n",
    "</div>"
   ]
  },
  {
   "cell_type": "code",
   "execution_count": 35,
   "metadata": {
    "collapsed": false
   },
   "outputs": [
    {
     "name": "stdout",
     "output_type": "stream",
     "text": [
      "mean distance: 670.7402911985982\n"
     ]
    }
   ],
   "source": [
    "# calculate mean distance\n",
    "mean_distance = (\n",
    "    df\n",
    "        #.groupBy(\"scheduled_departure_time\")\n",
    "        .agg(func.mean(\"distance\").alias('mean'))\n",
    "        .orderBy(desc('mean'))\n",
    "    ).first()[0]\n",
    "print(\"mean distance:\", mean_distance)"
   ]
  },
  {
   "cell_type": "markdown",
   "metadata": {},
   "source": [
    "#### Question 7.5\n",
    "<div class=\"alert alert-info\">\n",
    "Calculate the mean of arrival delay.\n",
    "</div>"
   ]
  },
  {
   "cell_type": "code",
   "execution_count": 36,
   "metadata": {
    "collapsed": false
   },
   "outputs": [
    {
     "name": "stdout",
     "output_type": "stream",
     "text": [
      "mean arrival delay: 5.662489742613603\n"
     ]
    }
   ],
   "source": [
    "# calculate mean arrival delay\n",
    "mean_arrival_delay = (\n",
    "    df\n",
    "        #.groupBy(\"scheduled_departure_time\")\n",
    "        .agg(func.mean(\"arrival_delay\").alias('mean'))\n",
    "        .orderBy(desc('mean'))\n",
    "    ).first()[0]\n",
    "print(\"mean arrival delay:\", mean_arrival_delay)"
   ]
  },
  {
   "cell_type": "markdown",
   "metadata": {},
   "source": [
    "As known from section 3.4, there are 225 different origin airports and 225 different destination airports, more than the number of bins in default configuration. So, we must set `maxBins` >= 225."
   ]
  },
  {
   "cell_type": "markdown",
   "metadata": {},
   "source": [
    "## 4.3 Preparing training data and testing data\n",
    "Recall, in this project we focus on decision trees. One way to think about our task is that we want to predict the unknown `arrival_delay` as a function combining several features, that is:\n",
    "\n",
    "`arrival_delay = f(year, month, day_of_month, day_of_week, scheduled_departure_time, scheduled_arrival_time, carrier, src_airport, dest_airport, distance, is_weekend)`\n",
    "\n",
    "When categorical features contain corrupt data (e.g., missing values), we proceed by replacing corrupt information with the most common value for the feature. For numerical features, in general, we use the same approach as for categorical features; in some cases, we repair corrupt data using the mean value of the distribution for numerical features (e.g., we found the mean for `delay` and `distance`, by answering questions above).\n",
    "\n",
    "The original data is split randomly into two parts with ratios 70% for **training** and 30% for **testing**."
   ]
  },
  {
   "cell_type": "markdown",
   "metadata": {},
   "source": [
    "### Question 8\n",
    "<div class=\"alert alert-info\">\n",
    "  o  Replace the missing values of each feature in our data by the corresponding most common value or mean.  \n",
    "\n",
    "  o  Divide data into two parts: 70% for **training** and 30% for **testing**\n",
    "\n",
    "</div>"
   ]
  },
  {
   "cell_type": "code",
   "execution_count": 37,
   "metadata": {
    "collapsed": true
   },
   "outputs": [],
   "source": [
    "from pyspark.mllib.tree import DecisionTree, DecisionTreeModel\n",
    "from pyspark.mllib.util import MLUtils\n",
    "from pyspark.mllib.regression import LabeledPoint\n",
    "\n",
    "\n",
    "def is_valid(value):\n",
    "    return value != \"NA\" and len(value) > 0\n",
    "\n",
    "data = cleaned_data\\\n",
    "    .map(lambda line: line.split(','))\\\n",
    "    .map(lambda values: \n",
    "        LabeledPoint( \n",
    "            int(values[14]) if is_valid(values[14]) else mean_arrival_delay, # arrival delay\n",
    "            [\n",
    "                int(values[0]), # year\n",
    "                int(values[1]) if is_valid(values[1]) else the_most_common_month, # month\n",
    "                int(values[2]) if is_valid(values[2]) else the_most_common_day_of_month, # day of month\n",
    "                int(values[3]) if is_valid(values[3]) else the_most_common_day_of_week, # day of week\n",
    "                int(values[5]) if is_valid(values[5]) else the_most_common_s_departure_time, # scheduled departure time\n",
    "                int(values[7]) if is_valid(values[7]) else the_most_common_s_arrival_time, # scheduled arrival time\n",
    "                # if the value is valid, map it to the corresponding index\n",
    "                # otherwise, use the most common value\n",
    "                map_carriers_to_index[values[8]] if is_valid(values[8]) \\\n",
    "                    else map_carriers_to_index[carriers[0]], # carrier\n",
    "                map_src_airport_to_index[values[16]] if is_valid(values[16]) \\\n",
    "                    else map_src_airport_to_index[src_airport[0]], # src_airport\n",
    "                map_dest_airports_to_index[values[17]] if is_valid(values[17]) \\\n",
    "                    else map_dest_airports_to_index[dest_airport], # destination_airport\n",
    "                int(values[18]) if is_valid(values[18]) else  mean_distance, # distance\n",
    "                1 if is_valid(values[3]) and int(values[3]) >= 6 else 0, # is_weekend\n",
    "            ]\n",
    "        )\n",
    "    )\n",
    "\n",
    "# Split the data into training and test sets (30% held out for testing)\n",
    "(trainingData, testData) = data.randomSplit([0.7,0.3])\n",
    "\n",
    "trainingData = trainingData.cache()\n",
    "testData = testData.cache()"
   ]
  },
  {
   "cell_type": "markdown",
   "metadata": {},
   "source": [
    "## 5.4 Building a decision tree model"
   ]
  },
  {
   "cell_type": "markdown",
   "metadata": {},
   "source": [
    "### Question 9\n",
    "<div class=\"alert alert-info\">\n",
    "We can train a decision model by using function\n",
    "<code>\n",
    "`DecisionTree.trainRegressor(<training_data>, categoricalFeaturesInfo=<categorical_info>, impurity=<impurity_function>,  maxDepth=<max_depth>, maxBins=<max_bins>)`.  \n",
    "</code>  \n",
    "\n",
    "Where,  \n",
    "<ul>\n",
    "\n",
    "<li> `training_data`: the data used for training  </li>\n",
    "\n",
    "<li> `categorical_info`: a dictionary that maps the index of each categorical features to its number of distinct values  </li>\n",
    "\n",
    "<li> `impurity_function`: the function that is used to calculate impurity of data in order to select the best split  </li>\n",
    "\n",
    "<li> `max_depth`: the maximum depth of the tree  </li>\n",
    "\n",
    "<li> `max_bins`: the maximum number of bins that the algorithm will divide on each feature. </li>\n",
    "\n",
    "</ul>  \n",
    "\n",
    "Note that, `max_bins` cannot smaller than the number distinct values of every categorical features.  \n",
    "\n",
    "Complete the code below to train a decision tree model.\n",
    "</div>\n"
   ]
  },
  {
   "cell_type": "code",
   "execution_count": 38,
   "metadata": {
    "collapsed": true
   },
   "outputs": [],
   "source": [
    "# declare information of categorical features\n",
    "# format:  feature_index : number_distinct_values\n",
    "categorical_info = {6 : num_carrier, 7: num_dest_airports, 8: num_dest_airports, 10: 2}\n",
    "\n",
    "# Train a DecisionTree model.\n",
    "model = DecisionTree.trainRegressor(trainingData, \n",
    "                                    categoricalFeaturesInfo = categorical_info,\n",
    "                                    impurity='variance', maxDepth=12, maxBins=255)"
   ]
  },
  {
   "cell_type": "markdown",
   "metadata": {
    "collapsed": true
   },
   "source": [
    "## 5.5 Testing the decision tree model"
   ]
  },
  {
   "cell_type": "markdown",
   "metadata": {},
   "source": [
    "### Question 10\n",
    "#### Question 10.1\n",
    "<div class=\"alert alert-info\">\n",
    "We often use Mean Square Error as a metric to evaluate the quality of a tree model.  \n",
    "\n",
    "Complete the code below to calculate the MSE of our trained model.\n",
    "</div>"
   ]
  },
  {
   "cell_type": "code",
   "execution_count": 39,
   "metadata": {
    "collapsed": false
   },
   "outputs": [
    {
     "name": "stdout",
     "output_type": "stream",
     "text": [
      "Test Mean Squared Error = 496.5439493697301\n"
     ]
    }
   ],
   "source": [
    "# Evaluate model on test instances and compute test error\n",
    "predictions = model.predict(testData.map(lambda x: x.features))\n",
    "labelsAndPredictions = testData.map(lambda lp: lp.label).zip(predictions)\n",
    "labelsAndPredictions.take(5)\n",
    "testMSE = labelsAndPredictions.map(\n",
    "    lambda p: (p[0]-p[1])*(p[0]-p[1])).mean()\n",
    "print('Test Mean Squared Error = ' + str(testMSE))"
   ]
  },
  {
   "cell_type": "markdown",
   "metadata": {},
   "source": [
    "### Question 10.2\n",
    "<div class=\"alert alert-info\">\n",
    "Comment the results you have obtained. Is the MSE value you get from a decision tree indicating that our statistical model is very good in predicting airplane delays?  \n",
    "\n",
    "Use your own words to describe and interpret the value you obtained for the MSE.\n",
    "</div>"
   ]
  },
  {
   "cell_type": "markdown",
   "metadata": {},
   "source": [
    "<div class=\"alert alert-warning\"> In this case we obtained 496.54 as MSE, which represent the error, when applying our model on the test data, on the minutes of delay. Doing the square root of the MSE we obtain a result around 22 that represent the minutes of error (quite high) when we do predictions.</div>"
   ]
  },
  {
   "cell_type": "markdown",
   "metadata": {},
   "source": [
    "## 5.6 Building random decision forest model (or random forest)\n",
    "Next, we use MLLib to build a more powerful model: random forests. In what follows, use the same predictors defined and computed above to build a decision tree, but this time use them to build a random decision forest."
   ]
  },
  {
   "cell_type": "markdown",
   "metadata": {},
   "source": [
    "### Question 11\n",
    "<div class=\"alert alert-info\">\n",
    "Train a random decision forest model and evaluate its quality using MSE metric.  \n",
    "\n",
    "Compare to decision tree model and comment the results.  \n",
    "\n",
    "Similarly to question 10.2, comment with your own words the MSE value you have obtained.\n",
    "</div>"
   ]
  },
  {
   "cell_type": "code",
   "execution_count": 40,
   "metadata": {
    "collapsed": false
   },
   "outputs": [
    {
     "data": {
      "text/plain": [
       "[(88.0, 4.690019559758946),\n",
       " (21.0, 4.097554326175595),\n",
       " (5.662489742613603, 3.8096168432042807),\n",
       " (-11.0, 3.7860353932763275),\n",
       " (3.0, 2.9763674084447396)]"
      ]
     },
     "execution_count": 40,
     "metadata": {},
     "output_type": "execute_result"
    }
   ],
   "source": [
    "from pyspark.mllib.tree import RandomForest, RandomForestModel\n",
    "\n",
    "# Train a RandomForest model.\n",
    "forest_model = RandomForest.trainRegressor(trainingData, categoricalFeaturesInfo=categorical_info,\n",
    "                                    numTrees=10, impurity='variance', maxDepth=12, maxBins=255)\n",
    "\n",
    "\n",
    "\n",
    "forest_predictions = forest_model.predict(testData.map(lambda x: x.features))\n",
    "labelsAndPredictions_forest = testData.map(lambda lp: lp.label).zip(forest_predictions)\n",
    "labelsAndPredictions_forest.take(5)"
   ]
  },
  {
   "cell_type": "code",
   "execution_count": 41,
   "metadata": {
    "collapsed": false
   },
   "outputs": [
    {
     "name": "stdout",
     "output_type": "stream",
     "text": [
      "Test Mean Squared Error = 484.86388711841045\n"
     ]
    }
   ],
   "source": [
    "testMSE = labelsAndPredictions_forest.map(\n",
    "    lambda p: (p[0]-p[1])*(p[0]-p[1])).mean()\n",
    "\n",
    "print('Test Mean Squared Error = ' + str(testMSE))"
   ]
  },
  {
   "cell_type": "markdown",
   "metadata": {},
   "source": [
    "<div class=\"alert alert-warning\">Even we apply a random forrest model we found again an high MSE. Probably we don't have enough features that can lead us to better predictions. Another reason can be found in the parameters that we are using.</div>"
   ]
  },
  {
   "cell_type": "markdown",
   "metadata": {},
   "source": [
    "## 5.7 Parameter tuning\n",
    "In this lecture, we used `maxDepth=12`, `maxBins=255`, `numTrees=10`. Next, we are going to explore the meta-parameter space a little bit.\n",
    "\n",
    "For more information about parameter tuning, please read the documentation of [MLLIB](http://spark.apache.org/docs/latest/mllib-decision-tree.html#tunable-parameters)"
   ]
  },
  {
   "cell_type": "markdown",
   "metadata": {},
   "source": [
    "### Question 12\n",
    "<div class=\"alert alert-info\">\n",
    "Train the random forest model using different parameters, to understand their impact on the main performance metric we have used here, that is the MSE. For example, you can try a similar approach to that presented in the Notebook on recommender systems, that is using nested for loops.\n",
    "</div>\n",
    "\n",
    "<div class=\"alert alert-danger\">\n",
    "**NOTE:** be careful when selecting parameters as some might imply very long training times, or eventually, the typical memory problems that affect Spark!\n",
    "</div>"
   ]
  },
  {
   "cell_type": "code",
   "execution_count": 130,
   "metadata": {
    "collapsed": false
   },
   "outputs": [
    {
     "name": "stdout",
     "output_type": "stream",
     "text": [
      "12 12 255\n",
      "Test Mean Squared Error = 483.8103774273148\n",
      "12 12 270\n",
      "Test Mean Squared Error = 483.00027127487385\n",
      "12 20 255\n"
     ]
    },
    {
     "name": "stderr",
     "output_type": "stream",
     "text": [
      "ERROR:root:Exception while sending command.\n",
      "Traceback (most recent call last):\n",
      "  File \"/opt/spark/python/lib/py4j-0.10.4-src.zip/py4j/java_gateway.py\", line 1035, in send_command\n",
      "    raise Py4JNetworkError(\"Answer from Java side is empty\")\n",
      "py4j.protocol.Py4JNetworkError: Answer from Java side is empty\n",
      "\n",
      "During handling of the above exception, another exception occurred:\n",
      "\n",
      "Traceback (most recent call last):\n",
      "  File \"/opt/spark/python/lib/py4j-0.10.4-src.zip/py4j/java_gateway.py\", line 883, in send_command\n",
      "    response = connection.send_command(command)\n",
      "  File \"/opt/spark/python/lib/py4j-0.10.4-src.zip/py4j/java_gateway.py\", line 1040, in send_command\n",
      "    \"Error while receiving\", e, proto.ERROR_ON_RECEIVE)\n",
      "py4j.protocol.Py4JNetworkError: Error while receiving\n"
     ]
    },
    {
     "name": "stdout",
     "output_type": "stream",
     "text": [
      "----------------------------------------\n",
      "Exception happened during processing of request from ('127.0.0.1', 45230)\n"
     ]
    },
    {
     "name": "stderr",
     "output_type": "stream",
     "text": [
      "Traceback (most recent call last):\n",
      "  File \"/opt/conda/lib/python3.5/socketserver.py\", line 313, in _handle_request_noblock\n",
      "    self.process_request(request, client_address)\n"
     ]
    },
    {
     "ename": "Py4JError",
     "evalue": "An error occurred while calling z:org.apache.spark.api.python.PythonRDD.runJob",
     "output_type": "error",
     "traceback": [
      "\u001b[0;31m---------------------------------------------------------------------------\u001b[0m",
      "\u001b[0;31mPy4JError\u001b[0m                                 Traceback (most recent call last)",
      "\u001b[0;32m<ipython-input-130-a8fb606d1d30>\u001b[0m in \u001b[0;36m<module>\u001b[0;34m()\u001b[0m\n\u001b[1;32m     11\u001b[0m             \u001b[0mforest_predictions\u001b[0m \u001b[0;34m=\u001b[0m \u001b[0mforest_model\u001b[0m\u001b[0;34m.\u001b[0m\u001b[0mpredict\u001b[0m\u001b[0;34m(\u001b[0m\u001b[0mtestData\u001b[0m\u001b[0;34m.\u001b[0m\u001b[0mmap\u001b[0m\u001b[0;34m(\u001b[0m\u001b[0;32mlambda\u001b[0m \u001b[0mx\u001b[0m\u001b[0;34m:\u001b[0m \u001b[0mx\u001b[0m\u001b[0;34m.\u001b[0m\u001b[0mfeatures\u001b[0m\u001b[0;34m)\u001b[0m\u001b[0;34m)\u001b[0m\u001b[0;34m\u001b[0m\u001b[0m\n\u001b[1;32m     12\u001b[0m             \u001b[0mlabelsAndPredictions_forest\u001b[0m \u001b[0;34m=\u001b[0m \u001b[0mtestData\u001b[0m\u001b[0;34m.\u001b[0m\u001b[0mmap\u001b[0m\u001b[0;34m(\u001b[0m\u001b[0;32mlambda\u001b[0m \u001b[0mlp\u001b[0m\u001b[0;34m:\u001b[0m \u001b[0mlp\u001b[0m\u001b[0;34m.\u001b[0m\u001b[0mlabel\u001b[0m\u001b[0;34m)\u001b[0m\u001b[0;34m.\u001b[0m\u001b[0mzip\u001b[0m\u001b[0;34m(\u001b[0m\u001b[0mforest_predictions\u001b[0m\u001b[0;34m)\u001b[0m\u001b[0;34m\u001b[0m\u001b[0m\n\u001b[0;32m---> 13\u001b[0;31m             \u001b[0mlabelsAndPredictions_forest\u001b[0m\u001b[0;34m.\u001b[0m\u001b[0mtake\u001b[0m\u001b[0;34m(\u001b[0m\u001b[0;36m5\u001b[0m\u001b[0;34m)\u001b[0m\u001b[0;34m\u001b[0m\u001b[0m\n\u001b[0m\u001b[1;32m     14\u001b[0m             testMSE = labelsAndPredictions_forest.map(\n\u001b[1;32m     15\u001b[0m                 lambda p: (p[0]-p[1])*(p[0]-p[1])).mean()\n",
      "\u001b[0;32m/opt/spark/python/pyspark/rdd.py\u001b[0m in \u001b[0;36mtake\u001b[0;34m(self, num)\u001b[0m\n\u001b[1;32m   1341\u001b[0m \u001b[0;34m\u001b[0m\u001b[0m\n\u001b[1;32m   1342\u001b[0m             \u001b[0mp\u001b[0m \u001b[0;34m=\u001b[0m \u001b[0mrange\u001b[0m\u001b[0;34m(\u001b[0m\u001b[0mpartsScanned\u001b[0m\u001b[0;34m,\u001b[0m \u001b[0mmin\u001b[0m\u001b[0;34m(\u001b[0m\u001b[0mpartsScanned\u001b[0m \u001b[0;34m+\u001b[0m \u001b[0mnumPartsToTry\u001b[0m\u001b[0;34m,\u001b[0m \u001b[0mtotalParts\u001b[0m\u001b[0;34m)\u001b[0m\u001b[0;34m)\u001b[0m\u001b[0;34m\u001b[0m\u001b[0m\n\u001b[0;32m-> 1343\u001b[0;31m             \u001b[0mres\u001b[0m \u001b[0;34m=\u001b[0m \u001b[0mself\u001b[0m\u001b[0;34m.\u001b[0m\u001b[0mcontext\u001b[0m\u001b[0;34m.\u001b[0m\u001b[0mrunJob\u001b[0m\u001b[0;34m(\u001b[0m\u001b[0mself\u001b[0m\u001b[0;34m,\u001b[0m \u001b[0mtakeUpToNumLeft\u001b[0m\u001b[0;34m,\u001b[0m \u001b[0mp\u001b[0m\u001b[0;34m)\u001b[0m\u001b[0;34m\u001b[0m\u001b[0m\n\u001b[0m\u001b[1;32m   1344\u001b[0m \u001b[0;34m\u001b[0m\u001b[0m\n\u001b[1;32m   1345\u001b[0m             \u001b[0mitems\u001b[0m \u001b[0;34m+=\u001b[0m \u001b[0mres\u001b[0m\u001b[0;34m\u001b[0m\u001b[0m\n",
      "\u001b[0;32m/opt/spark/python/pyspark/context.py\u001b[0m in \u001b[0;36mrunJob\u001b[0;34m(self, rdd, partitionFunc, partitions, allowLocal)\u001b[0m\n\u001b[1;32m    963\u001b[0m         \u001b[0;31m# SparkContext#runJob.\u001b[0m\u001b[0;34m\u001b[0m\u001b[0;34m\u001b[0m\u001b[0m\n\u001b[1;32m    964\u001b[0m         \u001b[0mmappedRDD\u001b[0m \u001b[0;34m=\u001b[0m \u001b[0mrdd\u001b[0m\u001b[0;34m.\u001b[0m\u001b[0mmapPartitions\u001b[0m\u001b[0;34m(\u001b[0m\u001b[0mpartitionFunc\u001b[0m\u001b[0;34m)\u001b[0m\u001b[0;34m\u001b[0m\u001b[0m\n\u001b[0;32m--> 965\u001b[0;31m         \u001b[0mport\u001b[0m \u001b[0;34m=\u001b[0m \u001b[0mself\u001b[0m\u001b[0;34m.\u001b[0m\u001b[0m_jvm\u001b[0m\u001b[0;34m.\u001b[0m\u001b[0mPythonRDD\u001b[0m\u001b[0;34m.\u001b[0m\u001b[0mrunJob\u001b[0m\u001b[0;34m(\u001b[0m\u001b[0mself\u001b[0m\u001b[0;34m.\u001b[0m\u001b[0m_jsc\u001b[0m\u001b[0;34m.\u001b[0m\u001b[0msc\u001b[0m\u001b[0;34m(\u001b[0m\u001b[0;34m)\u001b[0m\u001b[0;34m,\u001b[0m \u001b[0mmappedRDD\u001b[0m\u001b[0;34m.\u001b[0m\u001b[0m_jrdd\u001b[0m\u001b[0;34m,\u001b[0m \u001b[0mpartitions\u001b[0m\u001b[0;34m)\u001b[0m\u001b[0;34m\u001b[0m\u001b[0m\n\u001b[0m\u001b[1;32m    966\u001b[0m         \u001b[0;32mreturn\u001b[0m \u001b[0mlist\u001b[0m\u001b[0;34m(\u001b[0m\u001b[0m_load_from_socket\u001b[0m\u001b[0;34m(\u001b[0m\u001b[0mport\u001b[0m\u001b[0;34m,\u001b[0m \u001b[0mmappedRDD\u001b[0m\u001b[0;34m.\u001b[0m\u001b[0m_jrdd_deserializer\u001b[0m\u001b[0;34m)\u001b[0m\u001b[0;34m)\u001b[0m\u001b[0;34m\u001b[0m\u001b[0m\n\u001b[1;32m    967\u001b[0m \u001b[0;34m\u001b[0m\u001b[0m\n",
      "\u001b[0;32m/opt/spark/python/lib/py4j-0.10.4-src.zip/py4j/java_gateway.py\u001b[0m in \u001b[0;36m__call__\u001b[0;34m(self, *args)\u001b[0m\n\u001b[1;32m   1131\u001b[0m         \u001b[0manswer\u001b[0m \u001b[0;34m=\u001b[0m \u001b[0mself\u001b[0m\u001b[0;34m.\u001b[0m\u001b[0mgateway_client\u001b[0m\u001b[0;34m.\u001b[0m\u001b[0msend_command\u001b[0m\u001b[0;34m(\u001b[0m\u001b[0mcommand\u001b[0m\u001b[0;34m)\u001b[0m\u001b[0;34m\u001b[0m\u001b[0m\n\u001b[1;32m   1132\u001b[0m         return_value = get_return_value(\n\u001b[0;32m-> 1133\u001b[0;31m             answer, self.gateway_client, self.target_id, self.name)\n\u001b[0m\u001b[1;32m   1134\u001b[0m \u001b[0;34m\u001b[0m\u001b[0m\n\u001b[1;32m   1135\u001b[0m         \u001b[0;32mfor\u001b[0m \u001b[0mtemp_arg\u001b[0m \u001b[0;32min\u001b[0m \u001b[0mtemp_args\u001b[0m\u001b[0;34m:\u001b[0m\u001b[0;34m\u001b[0m\u001b[0m\n",
      "\u001b[0;32m/opt/spark/python/pyspark/sql/utils.py\u001b[0m in \u001b[0;36mdeco\u001b[0;34m(*a, **kw)\u001b[0m\n\u001b[1;32m     61\u001b[0m     \u001b[0;32mdef\u001b[0m \u001b[0mdeco\u001b[0m\u001b[0;34m(\u001b[0m\u001b[0;34m*\u001b[0m\u001b[0ma\u001b[0m\u001b[0;34m,\u001b[0m \u001b[0;34m**\u001b[0m\u001b[0mkw\u001b[0m\u001b[0;34m)\u001b[0m\u001b[0;34m:\u001b[0m\u001b[0;34m\u001b[0m\u001b[0m\n\u001b[1;32m     62\u001b[0m         \u001b[0;32mtry\u001b[0m\u001b[0;34m:\u001b[0m\u001b[0;34m\u001b[0m\u001b[0m\n\u001b[0;32m---> 63\u001b[0;31m             \u001b[0;32mreturn\u001b[0m \u001b[0mf\u001b[0m\u001b[0;34m(\u001b[0m\u001b[0;34m*\u001b[0m\u001b[0ma\u001b[0m\u001b[0;34m,\u001b[0m \u001b[0;34m**\u001b[0m\u001b[0mkw\u001b[0m\u001b[0;34m)\u001b[0m\u001b[0;34m\u001b[0m\u001b[0m\n\u001b[0m\u001b[1;32m     64\u001b[0m         \u001b[0;32mexcept\u001b[0m \u001b[0mpy4j\u001b[0m\u001b[0;34m.\u001b[0m\u001b[0mprotocol\u001b[0m\u001b[0;34m.\u001b[0m\u001b[0mPy4JJavaError\u001b[0m \u001b[0;32mas\u001b[0m \u001b[0me\u001b[0m\u001b[0;34m:\u001b[0m\u001b[0;34m\u001b[0m\u001b[0m\n\u001b[1;32m     65\u001b[0m             \u001b[0ms\u001b[0m \u001b[0;34m=\u001b[0m \u001b[0me\u001b[0m\u001b[0;34m.\u001b[0m\u001b[0mjava_exception\u001b[0m\u001b[0;34m.\u001b[0m\u001b[0mtoString\u001b[0m\u001b[0;34m(\u001b[0m\u001b[0;34m)\u001b[0m\u001b[0;34m\u001b[0m\u001b[0m\n",
      "\u001b[0;32m/opt/spark/python/lib/py4j-0.10.4-src.zip/py4j/protocol.py\u001b[0m in \u001b[0;36mget_return_value\u001b[0;34m(answer, gateway_client, target_id, name)\u001b[0m\n\u001b[1;32m    325\u001b[0m             raise Py4JError(\n\u001b[1;32m    326\u001b[0m                 \u001b[0;34m\"An error occurred while calling {0}{1}{2}\"\u001b[0m\u001b[0;34m.\u001b[0m\u001b[0;34m\u001b[0m\u001b[0m\n\u001b[0;32m--> 327\u001b[0;31m                 format(target_id, \".\", name))\n\u001b[0m\u001b[1;32m    328\u001b[0m     \u001b[0;32melse\u001b[0m\u001b[0;34m:\u001b[0m\u001b[0;34m\u001b[0m\u001b[0m\n\u001b[1;32m    329\u001b[0m         \u001b[0mtype\u001b[0m \u001b[0;34m=\u001b[0m \u001b[0manswer\u001b[0m\u001b[0;34m[\u001b[0m\u001b[0;36m1\u001b[0m\u001b[0;34m]\u001b[0m\u001b[0;34m\u001b[0m\u001b[0m\n",
      "\u001b[0;31mPy4JError\u001b[0m: An error occurred while calling z:org.apache.spark.api.python.PythonRDD.runJob"
     ]
    },
    {
     "name": "stderr",
     "output_type": "stream",
     "text": [
      "  File \"/opt/conda/lib/python3.5/socketserver.py\", line 341, in process_request\n",
      "    self.finish_request(request, client_address)\n",
      "  File \"/opt/conda/lib/python3.5/socketserver.py\", line 354, in finish_request\n",
      "    self.RequestHandlerClass(request, client_address, self)\n",
      "  File \"/opt/conda/lib/python3.5/socketserver.py\", line 681, in __init__\n",
      "    self.handle()\n",
      "  File \"/opt/spark/python/pyspark/accumulators.py\", line 235, in handle\n",
      "    num_updates = read_int(self.rfile)\n"
     ]
    },
    {
     "name": "stdout",
     "output_type": "stream",
     "text": [
      "----------------------------------------\n"
     ]
    },
    {
     "name": "stderr",
     "output_type": "stream",
     "text": [
      "  File \"/opt/spark/python/pyspark/serializers.py\", line 557, in read_int\n",
      "    raise EOFError\n",
      "EOFError\n"
     ]
    }
   ],
   "source": [
    "\n",
    "for numT in[12,15]:\n",
    "    for depth in [12,20]:\n",
    "        for bins in [255,270]:\n",
    "            print(numT,depth,bins)\n",
    "            forest_model = RandomForest.trainRegressor(trainingData, categoricalFeaturesInfo=categorical_info,\n",
    "                                                numTrees=numT, impurity='variance', maxDepth=depth, maxBins=bins)\n",
    "\n",
    "\n",
    "\n",
    "            forest_predictions = forest_model.predict(testData.map(lambda x: x.features))\n",
    "            labelsAndPredictions_forest = testData.map(lambda lp: lp.label).zip(forest_predictions)\n",
    "            labelsAndPredictions_forest.take(5)\n",
    "            testMSE = labelsAndPredictions_forest.map(\n",
    "                lambda p: (p[0]-p[1])*(p[0]-p[1])).mean()\n",
    "\n",
    "            print('Test Mean Squared Error = ' + str(testMSE))"
   ]
  },
  {
   "cell_type": "markdown",
   "metadata": {},
   "source": [
    "# Dataset of 2008"
   ]
  },
  {
   "cell_type": "markdown",
   "metadata": {},
   "source": [
    "<div class=\"alert alert-warning\">We have decided to use the dataset of 2008 because is the one that have more or less all the field filled with valid data.</div>"
   ]
  },
  {
   "cell_type": "code",
   "execution_count": 43,
   "metadata": {
    "collapsed": true
   },
   "outputs": [],
   "source": [
    "# to start testing, we can focus on a single year\n",
    "input_path = \"/datasets/airline/2008.csv\"\n",
    "raw_data = sc.textFile(input_path)"
   ]
  },
  {
   "cell_type": "markdown",
   "metadata": {},
   "source": [
    "## Number of rows"
   ]
  },
  {
   "cell_type": "code",
   "execution_count": 44,
   "metadata": {
    "collapsed": false
   },
   "outputs": [
    {
     "name": "stdout",
     "output_type": "stream",
     "text": [
      "number of rows before cleaning: 7009729\n"
     ]
    },
    {
     "data": {
      "text/plain": [
       "['Year,Month,DayofMonth,DayOfWeek,DepTime,CRSDepTime,ArrTime,CRSArrTime,UniqueCarrier,FlightNum,TailNum,ActualElapsedTime,CRSElapsedTime,AirTime,ArrDelay,DepDelay,Origin,Dest,Distance,TaxiIn,TaxiOut,Cancelled,CancellationCode,Diverted,CarrierDelay,WeatherDelay,NASDelay,SecurityDelay,LateAircraftDelay',\n",
       " '2008,1,3,4,2003,1955,2211,2225,WN,335,N712SW,128,150,116,-14,8,IAD,TPA,810,4,8,0,,0,NA,NA,NA,NA,NA',\n",
       " '2008,1,3,4,754,735,1002,1000,WN,3231,N772SW,128,145,113,2,19,IAD,TPA,810,5,10,0,,0,NA,NA,NA,NA,NA',\n",
       " '2008,1,3,4,628,620,804,750,WN,448,N428WN,96,90,76,14,8,IND,BWI,515,3,17,0,,0,NA,NA,NA,NA,NA',\n",
       " '2008,1,3,4,926,930,1054,1100,WN,1746,N612SW,88,90,78,-6,-4,IND,BWI,515,3,7,0,,0,NA,NA,NA,NA,NA',\n",
       " '2008,1,3,4,1829,1755,1959,1925,WN,3920,N464WN,90,90,77,34,34,IND,BWI,515,3,10,0,,0,2,0,0,0,32',\n",
       " '2008,1,3,4,1940,1915,2121,2110,WN,378,N726SW,101,115,87,11,25,IND,JAX,688,4,10,0,,0,NA,NA,NA,NA,NA',\n",
       " '2008,1,3,4,1937,1830,2037,1940,WN,509,N763SW,240,250,230,57,67,IND,LAS,1591,3,7,0,,0,10,0,0,0,47',\n",
       " '2008,1,3,4,1039,1040,1132,1150,WN,535,N428WN,233,250,219,-18,-1,IND,LAS,1591,7,7,0,,0,NA,NA,NA,NA,NA',\n",
       " '2008,1,3,4,617,615,652,650,WN,11,N689SW,95,95,70,2,2,IND,MCI,451,6,19,0,,0,NA,NA,NA,NA,NA']"
      ]
     },
     "execution_count": 44,
     "metadata": {},
     "output_type": "execute_result"
    }
   ],
   "source": [
    "print(\"number of rows before cleaning:\", raw_data.count())\n",
    "raw_data.take(10)"
   ]
  },
  {
   "cell_type": "markdown",
   "metadata": {},
   "source": [
    "## Removing the header and the invalid data"
   ]
  },
  {
   "cell_type": "code",
   "execution_count": 45,
   "metadata": {
    "collapsed": false
   },
   "outputs": [
    {
     "name": "stdout",
     "output_type": "stream",
     "text": [
      "number of rows after cleaning: 7009728\n"
     ]
    },
    {
     "data": {
      "text/plain": [
       "['2008,1,3,4,2003,1955,2211,2225,WN,335,N712SW,128,150,116,-14,8,IAD,TPA,810,4,8,0,,0,,,,,',\n",
       " '2008,1,3,4,754,735,1002,1000,WN,3231,N772SW,128,145,113,2,19,IAD,TPA,810,5,10,0,,0,,,,,',\n",
       " '2008,1,3,4,628,620,804,750,WN,448,N428WN,96,90,76,14,8,IND,BWI,515,3,17,0,,0,,,,,',\n",
       " '2008,1,3,4,926,930,1054,1100,WN,1746,N612SW,88,90,78,-6,-4,IND,BWI,515,3,7,0,,0,,,,,',\n",
       " '2008,1,3,4,1829,1755,1959,1925,WN,3920,N464WN,90,90,77,34,34,IND,BWI,515,3,10,0,,0,2,0,0,0,32',\n",
       " '2008,1,3,4,1940,1915,2121,2110,WN,378,N726SW,101,115,87,11,25,IND,JAX,688,4,10,0,,0,,,,,',\n",
       " '2008,1,3,4,1937,1830,2037,1940,WN,509,N763SW,240,250,230,57,67,IND,LAS,1591,3,7,0,,0,10,0,0,0,47',\n",
       " '2008,1,3,4,1039,1040,1132,1150,WN,535,N428WN,233,250,219,-18,-1,IND,LAS,1591,7,7,0,,0,,,,,',\n",
       " '2008,1,3,4,617,615,652,650,WN,11,N689SW,95,95,70,2,2,IND,MCI,451,6,19,0,,0,,,,,',\n",
       " '2008,1,3,4,1620,1620,1639,1655,WN,810,N648SW,79,95,70,-16,0,IND,MCI,451,3,6,0,,0,,,,,']"
      ]
     },
     "execution_count": 45,
     "metadata": {},
     "output_type": "execute_result"
    }
   ],
   "source": [
    "# extract the header\n",
    "header = raw_data.take(1)\n",
    "\n",
    "# replace invalid data with NULL and remove header\n",
    "cleaned_data2008 = (raw_data\\\n",
    "        # filter out the header\n",
    "        .filter(lambda x: x != header[0])\n",
    "        # replace the missing values with empty characters\n",
    "        .map(extract)\n",
    "        )\n",
    "\n",
    "print(\"number of rows after cleaning:\", cleaned_data2008.count())\n",
    "cleaned_data2008.take(10)"
   ]
  },
  {
   "cell_type": "code",
   "execution_count": 46,
   "metadata": {
    "collapsed": true
   },
   "outputs": [],
   "source": [
    "# convert each line into a tuple of features (columns)\n",
    "cleaned_data_to_columns2008 = cleaned_data2008.map(lambda l: l.split(\",\"))\\\n",
    "    .map(lambda cols: \n",
    "         (\n",
    "            int(cols[0])  if cols[0] else None,\n",
    "            int(cols[1])  if cols[1] else None,\n",
    "            int(cols[2])  if cols[2] else None,\n",
    "            int(cols[3])  if cols[3] else None,\n",
    "            int(cols[4])  if cols[4] else None,\n",
    "            int(cols[5])  if cols[5] else None,\n",
    "            int(cols[6])  if cols[6] else None,\n",
    "            int(cols[7])  if cols[7] else None,\n",
    "            cols[8]       if cols[8] else None,\n",
    "            cols[9]       if cols[9] else None,\n",
    "            cols[10]      if cols[10] else None,\n",
    "            int(cols[11]) if cols[11] else None,\n",
    "            int(cols[12]) if cols[12] else None,\n",
    "            int(cols[13]) if cols[13] else None,\n",
    "            int(cols[14]) if cols[14] else None,\n",
    "            int(cols[15]) if cols[15] else None,\n",
    "            cols[16]      if cols[16] else None,\n",
    "            cols[17]      if cols[17] else None,\n",
    "            int(cols[18]) if cols[18] else None,\n",
    "            int(cols[19]) if cols[19] else None,\n",
    "            int(cols[20]) if cols[20] else None,\n",
    "            cols[21]      if cols[21] else None,\n",
    "            cols[22]      if cols[22] else None,\n",
    "            cols[23]      if cols[23] else None,\n",
    "            int(cols[24]) if cols[24] else None,\n",
    "            int(cols[25]) if cols[25] else None,\n",
    "            int(cols[26]) if cols[26] else None,\n",
    "            int(cols[27]) if cols[27] else None,\n",
    "            int(cols[28]) if cols[28] else None\n",
    "         ))"
   ]
  },
  {
   "cell_type": "code",
   "execution_count": 47,
   "metadata": {
    "collapsed": true
   },
   "outputs": [],
   "source": [
    "# create dataframe df\n",
    "df2008 = (sqlContext.createDataFrame(cleaned_data_to_columns2008,airline_data_schema)\n",
    "        .select(\"year\",\"month\",\"day_of_month\",\"day_of_week\",\"scheduled_departure_time\",\"scheduled_arrival_time\",\"carrier\",\"tail_number\",\"arrival_delay\",\"distance\",\"src_airport\",\"dest_airport\",\"late_aircraft_delay\")\n",
    "        .cache()\n",
    "    )"
   ]
  },
  {
   "cell_type": "code",
   "execution_count": 48,
   "metadata": {
    "collapsed": false,
    "scrolled": false
   },
   "outputs": [
    {
     "name": "stdout",
     "output_type": "stream",
     "text": [
      "+----+-----+------------+-----------+--------------------+---------------+----------+\n",
      "|year|month|day_of_month|tail_number|               ratio|flights_delayed|No_flights|\n",
      "+----+-----+------------+-----------+--------------------+---------------+----------+\n",
      "|2008|   12|          17|     N968UW| 0.03225806451612903|              1|        31|\n",
      "|2008|    4|          10|     N646BR|                 0.0|              0|        23|\n",
      "|2008|    4|           7|     N651BR|0.043478260869565216|              1|        23|\n",
      "|2008|    4|           9|     N654BR|                 0.0|              0|        23|\n",
      "|2008|    4|           8|     N646BR|0.047619047619047616|              1|        21|\n",
      "|2008|    2|          25|     N835AL|                 0.0|              0|        20|\n",
      "|2008|    4|           8|     N693BR| 0.05263157894736842|              1|        19|\n",
      "|2008|    4|          10|     N654BR|                 0.0|              0|        18|\n",
      "|2008|   11|          22|     N27318|  0.4444444444444444|              8|        18|\n",
      "|2008|   12|          19|     N87353|  0.6111111111111112|             11|        18|\n",
      "|2008|    7|          19|     N476HA|  0.5555555555555556|             10|        18|\n",
      "|2008|    9|          25|     N478HA| 0.11764705882352941|              2|        17|\n",
      "|2008|    9|           1|     N486HA|                 0.0|              0|        17|\n",
      "|2008|    7|          18|     N480HA|  0.5882352941176471|             10|        17|\n",
      "|2008|    3|          21|     N27314|                 0.0|              0|        17|\n",
      "|2008|   10|           4|     N77302|  0.4117647058823529|              7|        17|\n",
      "|2008|    6|           4|     N226SW| 0.29411764705882354|              5|        17|\n",
      "|2008|    6|           2|     N475HA| 0.11764705882352941|              2|        17|\n",
      "|2008|   12|          31|     N823MQ|0.058823529411764705|              1|        17|\n",
      "|2008|    4|           7|     N27314|0.058823529411764705|              1|        17|\n",
      "+----+-----+------------+-----------+--------------------+---------------+----------+\n",
      "only showing top 20 rows\n",
      "\n",
      "+----+-----+------------+-----------+------------+\n",
      "|year|month|day_of_month|src_airport|dest_airport|\n",
      "+----+-----+------------+-----------+------------+\n",
      "|2008|    1|           1|        OGG|         HNL|\n",
      "|2008|    1|           1|        LIH|         HNL|\n",
      "|2008|    1|           1|        KOA|         HNL|\n",
      "|2008|    1|           1|        HNL|         OGG|\n",
      "|2008|    1|           1|        HNL|         LIH|\n",
      "|2008|    1|           1|        LIH|         HNL|\n",
      "|2008|    1|           1|        HNL|         LIH|\n",
      "|2008|    1|           1|        LIH|         HNL|\n",
      "|2008|    1|           1|        HNL|         OGG|\n",
      "|2008|    1|           1|        HNL|         KOA|\n",
      "|2008|    1|           1|        HNL|         KOA|\n",
      "|2008|    1|           1|        HNL|         LIH|\n",
      "|2008|    1|           1|        OGG|         HNL|\n",
      "|2008|    1|           1|        KOA|         HNL|\n",
      "|2008|    1|           2|        LIH|         HNL|\n",
      "|2008|    1|           2|        HNL|         KOA|\n",
      "|2008|    1|           2|        OGG|         HNL|\n",
      "|2008|    1|           2|        LIH|         HNL|\n",
      "|2008|    1|           2|        HNL|         LIH|\n",
      "|2008|    1|           2|        KOA|         HNL|\n",
      "+----+-----+------------+-----------+------------+\n",
      "only showing top 20 rows\n",
      "\n"
     ]
    }
   ],
   "source": [
    "df_with_delay2008 = df2008.withColumn('is_delay', when(df2008[\"arrival_delay\"] >= 15, 1).otherwise(0))\n",
    "statistic_day2008 = df_with_delay2008.groupBy(['year', 'tail_number'])\\\n",
    "    .agg((func.sum('is_delay')/func.count('*')).alias('ratio'),func.count('*').alias('No_flights'))\\\n",
    "    .filter(df_with_delay2008[\"tail_number\"]!= \"null\")\n",
    "\n",
    "res2008filt = df_with_delay2008.groupBy(['year','month','day_of_month', 'tail_number'])\\\n",
    "                    .agg((func.sum('is_delay')/func.count('*')).alias('ratio'),func.sum('is_delay').alias('flights_delayed'),func.count('*').alias('No_flights'))\\\n",
    "                    .filter(statistic_day2008[\"tail_number\"]!= \"null\")\n",
    "\n",
    "statistic_tail2008 = res2008filt\\\n",
    "        .orderBy(desc('No_flights'))\n",
    "\n",
    "statistic_tail2008.show()\n",
    "\n",
    "plane = df_with_delay2008.filter(df_with_delay2008[\"tail_number\"]== \"N476HA\").select(\"year\",\"month\",\"day_of_month\",\"src_airport\",\"dest_airport\").orderBy(\"year\",\"month\",\"day_of_month\")\n",
    "plane.show()\n"
   ]
  },
  {
   "cell_type": "markdown",
   "metadata": {},
   "source": [
    "<div class=\"alert alert-warning\">The tables above are showing the planes that have the highest number of flights in one day. There is a plane that has done 31 flights in only one day, so we have checked the source and destination airport of that plane and we discovered that it does only short trips. It is impressive that even if it has done a lot of fligths it has a low delay ratio</div>"
   ]
  },
  {
   "cell_type": "code",
   "execution_count": 49,
   "metadata": {
    "collapsed": false
   },
   "outputs": [
    {
     "name": "stdout",
     "output_type": "stream",
     "text": [
      "5374\n"
     ]
    }
   ],
   "source": [
    "print(df2008.select(\"tail_number\").distinct().count())"
   ]
  },
  {
   "cell_type": "code",
   "execution_count": 50,
   "metadata": {
    "collapsed": false,
    "scrolled": false
   },
   "outputs": [
    {
     "data": {
      "image/png": "[encoded data removed]",
      "text/plain": [
       "<matplotlib.figure.Figure at 0x7f0ee4feb898>"
      ]
     },
     "metadata": {},
     "output_type": "display_data"
    }
   ],
   "source": [
    "plt.figure(figsize=(20,10))\n",
    "plt.plot(statistic_tail2008.select(\"No_flights\").collect(),statistic_tail2008.select(\"ratio\").collect(),'ro')\n",
    "plt.xlabel('Number of flights')\n",
    "plt.ylabel('Ratio')\n",
    "plt.title('Delay ratio per each plane')\n",
    "plt.show()"
   ]
  },
  {
   "cell_type": "code",
   "execution_count": 51,
   "metadata": {
    "collapsed": false
   },
   "outputs": [
    {
     "data": {
      "image/png": "[encoded data removed]",
      "text/plain": [
       "<matplotlib.figure.Figure at 0x7f0ee473b0f0>"
      ]
     },
     "metadata": {},
     "output_type": "display_data"
    }
   ],
   "source": [
    "plt.figure(figsize=(20,10))\n",
    "plt.plot(statistic_day2008.select(\"No_flights\").collect(),statistic_day2008.select(\"ratio\").collect(),'ro')\n",
    "plt.xlabel('Number of flights')\n",
    "plt.ylabel('Ratio')\n",
    "plt.title('Delay ratio per each plane')\n",
    "plt.show()"
   ]
  },
  {
   "cell_type": "markdown",
   "metadata": {},
   "source": [
    "<div class=\"alert alert-warning\"> As we an see here most of the plane has a delay ratio between (0.1-0.4), but we have also a difference between planes that do higher number of of flights with moderate delay ratio and others that have low number of flights but a high delay ratio.\n",
    "So this graph represent the distribution of the planes (based on tail number) over number of flights and delay ratio over the hole year (the previous graph on daily basis)</div>"
   ]
  },
  {
   "cell_type": "markdown",
   "metadata": {},
   "source": [
    "<div class=\"alert alert-warning\">The following steps will lead us to compare two consecutive flights for one plane, trying to discover if a flight has delay also the following flight of the same plane will have delay too. First of all we are removing the records that have no tail number.</div>"
   ]
  },
  {
   "cell_type": "code",
   "execution_count": 52,
   "metadata": {
    "collapsed": false,
    "scrolled": false
   },
   "outputs": [
    {
     "name": "stdout",
     "output_type": "stream",
     "text": [
      "+----+-----+------------+------------------------+----------------------+-----------+-------+-----------+------------+--------+\n",
      "|year|month|day_of_month|scheduled_departure_time|scheduled_arrival_time|tail_number|carrier|src_airport|dest_airport|is_delay|\n",
      "+----+-----+------------+------------------------+----------------------+-----------+-------+-----------+------------+--------+\n",
      "|2008|    1|           1|                     715|                   923|     80019E|     9E|        XNA|         MSP|       0|\n",
      "|2008|    1|           1|                    1605|                  1650|     80019E|     9E|        MSP|         RST|       1|\n",
      "|2008|    1|           1|                    1720|                  1812|     80019E|     9E|        RST|         MSP|       1|\n",
      "|2008|    1|           1|                    1915|                  2252|     80019E|     9E|        MSP|         GSO|       0|\n",
      "|2008|    1|           1|                     620|                   728|     80059E|     9E|        DSM|         MSP|       0|\n",
      "|2008|    1|           1|                     920|                  1031|     80059E|     9E|        MSP|         BIL|       0|\n",
      "|2008|    1|           1|                    1120|                  1425|     80059E|     9E|        BIL|         MSP|       0|\n",
      "|2008|    1|           1|                    1505|                  1810|     80059E|     9E|        MSP|         CVG|       0|\n",
      "|2008|    1|           1|                    1840|                  1953|     80059E|     9E|        CVG|         MSP|       0|\n",
      "|2008|    1|           1|                    2135|                  2250|     80059E|     9E|        MSP|         CPR|       0|\n",
      "|2008|    1|           1|                     715|                   945|     80129E|     9E|        IND|         BOS|       0|\n",
      "|2008|    1|           1|                    1030|                  1300|     80129E|     9E|        BOS|         MEM|       1|\n",
      "|2008|    1|           1|                    1350|                  1530|     80129E|     9E|        MEM|         DFW|       1|\n",
      "|2008|    1|           1|                    1610|                  1750|     80129E|     9E|        DFW|         MEM|       0|\n",
      "|2008|    1|           1|                    1840|                  2140|     80129E|     9E|        MEM|         CLE|       1|\n",
      "|2008|    1|           1|                     630|                   933|     80139E|     9E|        MEM|         DTW|       1|\n",
      "|2008|    1|           1|                    1013|                  1200|     80139E|     9E|        DTW|         HPN|       1|\n",
      "|2008|    1|           1|                    1230|                  1424|     80139E|     9E|        HPN|         DTW|       1|\n",
      "|2008|    1|           1|                    1511|                  1630|     80139E|     9E|        DTW|         LEX|       1|\n",
      "|2008|    1|           1|                    1700|                  1829|     80139E|     9E|        LEX|         DTW|       1|\n",
      "+----+-----+------------+------------------------+----------------------+-----------+-------+-----------+------------+--------+\n",
      "only showing top 20 rows\n",
      "\n"
     ]
    }
   ],
   "source": [
    "delayFiltered2008 = df_with_delay2008.select(\"year\",\"month\",\"day_of_month\",\"scheduled_departure_time\",\"scheduled_arrival_time\",\"tail_number\",\"carrier\",\"src_airport\",\"dest_airport\",\"is_delay\")\n",
    "delayOrdFilt = delayFiltered2008.orderBy(\"year\",\"month\",\"day_of_month\",\"tail_number\",\"scheduled_departure_time\").filter(delayFiltered2008[\"tail_number\"]!= \"null\")\n",
    "\n",
    "delayOrdFilt.show()"
   ]
  },
  {
   "cell_type": "markdown",
   "metadata": {},
   "source": [
    "<div class=\"alert alert-warning\">Now we are joining the dataframe with itself and than remove bad data due to wrong association.</div>"
   ]
  },
  {
   "cell_type": "code",
   "execution_count": 53,
   "metadata": {
    "collapsed": false
   },
   "outputs": [
    {
     "name": "stdout",
     "output_type": "stream",
     "text": [
      "+----+-----+------------+-----------+----------+----+----+------+------+---------+-------+----+----+------+------+---------+\n",
      "|year|month|day_of_month|tail_number|NextFlight|src2|dst2|s_dep2|s_arr2|is_delay2|carrier|src1|dst1|s_dep1|s_arr1|is_delay1|\n",
      "+----+-----+------------+-----------+----------+----+----+------+------+---------+-------+----+----+------+------+---------+\n",
      "|2008|    1|           1|     80019E|       MSP| XNA| MSP|   715|   923|        0|     9E| MSP| GSO|  1915|  2252|        0|\n",
      "|2008|    1|           1|     80019E|       MSP| RST| MSP|  1720|  1812|        1|     9E| MSP| GSO|  1915|  2252|        0|\n",
      "|2008|    1|           1|     80019E|       MSP| XNA| MSP|   715|   923|        0|     9E| MSP| RST|  1605|  1650|        1|\n",
      "|2008|    1|           1|     80019E|       MSP| RST| MSP|  1720|  1812|        1|     9E| MSP| RST|  1605|  1650|        1|\n",
      "|2008|    1|           1|     80019E|       RST| MSP| RST|  1605|  1650|        1|     9E| RST| MSP|  1720|  1812|        1|\n",
      "|2008|    1|           1|     80059E|       MSP| BIL| MSP|  1120|  1425|        0|     9E| MSP| BIL|   920|  1031|        0|\n",
      "|2008|    1|           1|     80059E|       MSP| BIL| MSP|  1120|  1425|        0|     9E| MSP| CPR|  2135|  2250|        0|\n",
      "|2008|    1|           1|     80059E|       MSP| CVG| MSP|  1840|  1953|        0|     9E| MSP| CVG|  1505|  1810|        0|\n",
      "|2008|    1|           1|     80059E|       MSP| CVG| MSP|  1840|  1953|        0|     9E| MSP| CPR|  2135|  2250|        0|\n",
      "|2008|    1|           1|     80059E|       CVG| MSP| CVG|  1505|  1810|        0|     9E| CVG| MSP|  1840|  1953|        0|\n",
      "|2008|    1|           1|     80059E|       BIL| MSP| BIL|   920|  1031|        0|     9E| BIL| MSP|  1120|  1425|        0|\n",
      "|2008|    1|           1|     80059E|       MSP| DSM| MSP|   620|   728|        0|     9E| MSP| CVG|  1505|  1810|        0|\n",
      "|2008|    1|           1|     80059E|       MSP| DSM| MSP|   620|   728|        0|     9E| MSP| CPR|  2135|  2250|        0|\n",
      "|2008|    1|           1|     80059E|       MSP| CVG| MSP|  1840|  1953|        0|     9E| MSP| BIL|   920|  1031|        0|\n",
      "|2008|    1|           1|     80059E|       MSP| BIL| MSP|  1120|  1425|        0|     9E| MSP| CVG|  1505|  1810|        0|\n",
      "|2008|    1|           1|     80059E|       MSP| DSM| MSP|   620|   728|        0|     9E| MSP| BIL|   920|  1031|        0|\n",
      "|2008|    1|           1|     80129E|       DFW| MEM| DFW|  1350|  1530|        1|     9E| DFW| MEM|  1610|  1750|        0|\n",
      "|2008|    1|           1|     80129E|       MEM| DFW| MEM|  1610|  1750|        0|     9E| MEM| DFW|  1350|  1530|        1|\n",
      "|2008|    1|           1|     80129E|       MEM| BOS| MEM|  1030|  1300|        1|     9E| MEM| DFW|  1350|  1530|        1|\n",
      "|2008|    1|           1|     80129E|       BOS| IND| BOS|   715|   945|        0|     9E| BOS| MEM|  1030|  1300|        1|\n",
      "+----+-----+------------+-----------+----------+----+----+------+------+---------+-------+----+----+------+------+---------+\n",
      "only showing top 20 rows\n",
      "\n",
      "+----+-----+------------+-----------+----------+----+----+------+------+---------+-------+----+----+------+------+---------+\n",
      "|year|month|day_of_month|tail_number|NextFlight|src2|dst2|s_dep2|s_arr2|is_delay2|carrier|src1|dst1|s_dep1|s_arr1|is_delay1|\n",
      "+----+-----+------------+-----------+----------+----+----+------+------+---------+-------+----+----+------+------+---------+\n",
      "|2008|    1|           1|     80019E|       MSP| XNA| MSP|   715|   923|        0|     9E| MSP| RST|  1605|  1650|        1|\n",
      "|2008|    1|           1|     80019E|       RST| MSP| RST|  1605|  1650|        1|     9E| RST| MSP|  1720|  1812|        1|\n",
      "|2008|    1|           1|     80019E|       MSP| RST| MSP|  1720|  1812|        1|     9E| MSP| GSO|  1915|  2252|        0|\n",
      "|2008|    1|           1|     80019E|       MSP| XNA| MSP|   715|   923|        0|     9E| MSP| GSO|  1915|  2252|        0|\n",
      "|2008|    1|           1|     80059E|       MSP| BIL| MSP|  1120|  1425|        0|     9E| MSP| CVG|  1505|  1810|        0|\n",
      "|2008|    1|           1|     80059E|       BIL| MSP| BIL|   920|  1031|        0|     9E| BIL| MSP|  1120|  1425|        0|\n",
      "|2008|    1|           1|     80059E|       CVG| MSP| CVG|  1505|  1810|        0|     9E| CVG| MSP|  1840|  1953|        0|\n",
      "|2008|    1|           1|     80059E|       MSP| DSM| MSP|   620|   728|        0|     9E| MSP| BIL|   920|  1031|        0|\n",
      "|2008|    1|           1|     80059E|       MSP| CVG| MSP|  1840|  1953|        0|     9E| MSP| CPR|  2135|  2250|        0|\n",
      "|2008|    1|           1|     80059E|       MSP| DSM| MSP|   620|   728|        0|     9E| MSP| CPR|  2135|  2250|        0|\n",
      "|2008|    1|           1|     80059E|       MSP| DSM| MSP|   620|   728|        0|     9E| MSP| CVG|  1505|  1810|        0|\n",
      "|2008|    1|           1|     80059E|       MSP| BIL| MSP|  1120|  1425|        0|     9E| MSP| CPR|  2135|  2250|        0|\n",
      "|2008|    1|           1|     80129E|       MEM| BOS| MEM|  1030|  1300|        1|     9E| MEM| CLE|  1840|  2140|        1|\n",
      "|2008|    1|           1|     80129E|       BOS| IND| BOS|   715|   945|        0|     9E| BOS| MEM|  1030|  1300|        1|\n",
      "|2008|    1|           1|     80129E|       MEM| BOS| MEM|  1030|  1300|        1|     9E| MEM| DFW|  1350|  1530|        1|\n",
      "|2008|    1|           1|     80129E|       DFW| MEM| DFW|  1350|  1530|        1|     9E| DFW| MEM|  1610|  1750|        0|\n",
      "|2008|    1|           1|     80129E|       MEM| DFW| MEM|  1610|  1750|        0|     9E| MEM| CLE|  1840|  2140|        1|\n",
      "|2008|    1|           1|     80139E|       HPN| DTW| HPN|  1013|  1200|        1|     9E| HPN| DTW|  1230|  1424|        1|\n",
      "|2008|    1|           1|     80139E|       DTW| MEM| DTW|   630|   933|        1|     9E| DTW| LEX|  1511|  1630|        1|\n",
      "|2008|    1|           1|     80139E|       DTW| MEM| DTW|   630|   933|        1|     9E| DTW| HPN|  1013|  1200|        1|\n",
      "+----+-----+------------+-----------+----------+----+----+------+------+---------+-------+----+----+------+------+---------+\n",
      "only showing top 20 rows\n",
      "\n"
     ]
    }
   ],
   "source": [
    "newdf_1 = delayOrdFilt.withColumn('NextFlight',delayOrdFilt['src_airport'])\n",
    "newdf_1 = newdf_1.selectExpr('year','month','day_of_month','tail_number',\"carrier\",\"src_airport as src1\",\"dest_airport as dst1\",\"scheduled_departure_time as s_dep1\", \"scheduled_arrival_time as s_arr1\",\"NextFlight\",\"is_delay as is_delay1\")\n",
    "newdf_2 = delayOrdFilt.withColumn('NextFlight',delayOrdFilt['dest_airport'])\n",
    "newdf_2 = newdf_2.selectExpr('year','month','day_of_month','tail_number',\"src_airport as src2\",\"dest_airport as dst2\",\"scheduled_departure_time as s_dep2\", \"scheduled_arrival_time as s_arr2\",\"NextFlight\",\"is_delay as is_delay2\")\n",
    "\n",
    "joined = newdf_2.join(newdf_1,['year','month','day_of_month','tail_number','NextFlight'], how='inner')\n",
    "joined.orderBy(\"year\",\"month\",\"day_of_month\",\"tail_number\").show()\n",
    "joinedFilt = joined.filter(joined[\"s_dep1\"] > joined[\"s_dep2\"])\n",
    "joinedFilt.orderBy(\"year\",\"month\",\"day_of_month\",\"tail_number\").show()"
   ]
  },
  {
   "cell_type": "markdown",
   "metadata": {},
   "source": [
    "<div class=\"alert alert-warning\">Here we are still removing wrong data.</div>"
   ]
  },
  {
   "cell_type": "code",
   "execution_count": 54,
   "metadata": {
    "collapsed": false
   },
   "outputs": [
    {
     "name": "stdout",
     "output_type": "stream",
     "text": [
      "+----+-----+------------+-----------+----+----+------+------+------+\n",
      "|year|month|day_of_month|tail_number|src2|dst2|s_dep2|s_arr2|s_dep1|\n",
      "+----+-----+------------+-----------+----+----+------+------+------+\n",
      "|2008|    1|           1|     80019E| RST| MSP|  1720|  1812|  1915|\n",
      "|2008|    1|           1|     80019E| XNA| MSP|   715|   923|  1605|\n",
      "|2008|    1|           1|     80019E| MSP| RST|  1605|  1650|  1720|\n",
      "|2008|    1|           1|     80059E| CVG| MSP|  1840|  1953|  2135|\n",
      "|2008|    1|           1|     80059E| DSM| MSP|   620|   728|   920|\n",
      "|2008|    1|           1|     80059E| MSP| BIL|   920|  1031|  1120|\n",
      "|2008|    1|           1|     80059E| MSP| CVG|  1505|  1810|  1840|\n",
      "|2008|    1|           1|     80059E| BIL| MSP|  1120|  1425|  1505|\n",
      "|2008|    1|           1|     80129E| IND| BOS|   715|   945|  1030|\n",
      "|2008|    1|           1|     80129E| DFW| MEM|  1610|  1750|  1840|\n",
      "|2008|    1|           1|     80129E| MEM| DFW|  1350|  1530|  1610|\n",
      "|2008|    1|           1|     80129E| BOS| MEM|  1030|  1300|  1350|\n",
      "|2008|    1|           1|     80139E| LEX| DTW|  1700|  1829|  1945|\n",
      "|2008|    1|           1|     80139E| MEM| DTW|   630|   933|  1013|\n",
      "|2008|    1|           1|     80139E| DTW| LEX|  1511|  1630|  1700|\n",
      "|2008|    1|           1|     80139E| DTW| HPN|  1013|  1200|  1230|\n",
      "|2008|    1|           1|     80139E| HPN| DTW|  1230|  1424|  1511|\n",
      "|2008|    1|           1|     80199E| MSP| MLI|  1255|  1408|  1438|\n",
      "|2008|    1|           1|     80199E| GTF| MSP|   845|  1203|  1255|\n",
      "|2008|    1|           1|     80199E| MLI| MSP|  1438|  1559|  1650|\n",
      "+----+-----+------------+-----------+----+----+------+------+------+\n",
      "only showing top 20 rows\n",
      "\n"
     ]
    }
   ],
   "source": [
    "joinedFilt2 = joinedFilt.groupBy(\"year\",\"month\",\"day_of_month\",\"tail_number\",\"src2\",\"dst2\",\"s_dep2\",\"s_arr2\").agg(func.min(\"s_dep1\").alias(\"s_dep1\"))\n",
    "joinedFilt2.orderBy(\"year\",\"month\",\"day_of_month\",\"tail_number\").show()"
   ]
  },
  {
   "cell_type": "markdown",
   "metadata": {},
   "source": [
    "<div class=\"alert alert-warning\">The table below show the final result of the join phase after removing the wrong association. We are comparing two consecutive flight so we have source and destination for the \"first\" flight and source and destination for the \"second\" one and if they have done delay or not.</div>"
   ]
  },
  {
   "cell_type": "code",
   "execution_count": 55,
   "metadata": {
    "collapsed": false
   },
   "outputs": [
    {
     "name": "stdout",
     "output_type": "stream",
     "text": [
      "+----+-----+------------+-----------+-------+----+----+------+------+---------+----+----+------+------+---------+\n",
      "|year|month|day_of_month|tail_number|carrier|src2|dst2|s_dep2|s_arr2|is_delay2|src1|dst1|s_dep1|s_arr1|is_delay1|\n",
      "+----+-----+------------+-----------+-------+----+----+------+------+---------+----+----+------+------+---------+\n",
      "|2008|    1|           1|     80019E|     9E| XNA| MSP|   715|   923|        0| MSP| RST|  1605|  1650|        1|\n",
      "|2008|    1|           1|     80019E|     9E| MSP| RST|  1605|  1650|        1| RST| MSP|  1720|  1812|        1|\n",
      "|2008|    1|           1|     80019E|     9E| RST| MSP|  1720|  1812|        1| MSP| GSO|  1915|  2252|        0|\n",
      "|2008|    1|           1|     80059E|     9E| DSM| MSP|   620|   728|        0| MSP| BIL|   920|  1031|        0|\n",
      "|2008|    1|           1|     80059E|     9E| MSP| BIL|   920|  1031|        0| BIL| MSP|  1120|  1425|        0|\n",
      "|2008|    1|           1|     80059E|     9E| BIL| MSP|  1120|  1425|        0| MSP| CVG|  1505|  1810|        0|\n",
      "|2008|    1|           1|     80059E|     9E| MSP| CVG|  1505|  1810|        0| CVG| MSP|  1840|  1953|        0|\n",
      "|2008|    1|           1|     80059E|     9E| CVG| MSP|  1840|  1953|        0| MSP| CPR|  2135|  2250|        0|\n",
      "|2008|    1|           1|     80129E|     9E| IND| BOS|   715|   945|        0| BOS| MEM|  1030|  1300|        1|\n",
      "|2008|    1|           1|     80129E|     9E| BOS| MEM|  1030|  1300|        1| MEM| DFW|  1350|  1530|        1|\n",
      "|2008|    1|           1|     80129E|     9E| MEM| DFW|  1350|  1530|        1| DFW| MEM|  1610|  1750|        0|\n",
      "|2008|    1|           1|     80129E|     9E| DFW| MEM|  1610|  1750|        0| MEM| CLE|  1840|  2140|        1|\n",
      "|2008|    1|           1|     80139E|     9E| MEM| DTW|   630|   933|        1| DTW| HPN|  1013|  1200|        1|\n",
      "|2008|    1|           1|     80139E|     9E| DTW| HPN|  1013|  1200|        1| HPN| DTW|  1230|  1424|        1|\n",
      "|2008|    1|           1|     80139E|     9E| HPN| DTW|  1230|  1424|        1| DTW| LEX|  1511|  1630|        1|\n",
      "|2008|    1|           1|     80139E|     9E| DTW| LEX|  1511|  1630|        1| LEX| DTW|  1700|  1829|        1|\n",
      "|2008|    1|           1|     80139E|     9E| LEX| DTW|  1700|  1829|        1| DTW| JAN|  1945|  2115|        1|\n",
      "|2008|    1|           1|     80199E|     9E| GTF| MSP|   845|  1203|        1| MSP| MLI|  1255|  1408|        0|\n",
      "|2008|    1|           1|     80199E|     9E| MSP| MLI|  1255|  1408|        0| MLI| MSP|  1438|  1559|        0|\n",
      "|2008|    1|           1|     80199E|     9E| MLI| MSP|  1438|  1559|        0| MSP| FSD|  1650|  1755|        0|\n",
      "+----+-----+------------+-----------+-------+----+----+------+------+---------+----+----+------+------+---------+\n",
      "only showing top 20 rows\n",
      "\n"
     ]
    }
   ],
   "source": [
    "finRes = joinedFilt2.join(joinedFilt,[\"year\",\"month\",\"day_of_month\",\"tail_number\",\"src2\",\"dst2\",\"s_dep2\",\"s_arr2\",\"s_dep1\"]).orderBy(\"year\",\"month\",\"day_of_month\",\"tail_number\",\"s_dep2\")\n",
    "finRes = finRes.selectExpr(\"year\",\"month\",\"day_of_month\",\"tail_number\",\"carrier\",\"src2\",\"dst2\",\"s_dep2\",\"s_arr2\",\"is_delay2\",\"src1\",\"dst1\",\"s_dep1\",\"s_arr1\",\"is_delay1\")\n",
    "finRes.show()"
   ]
  },
  {
   "cell_type": "code",
   "execution_count": 56,
   "metadata": {
    "collapsed": false
   },
   "outputs": [
    {
     "name": "stdout",
     "output_type": "stream",
     "text": [
      "5379746\n"
     ]
    }
   ],
   "source": [
    "#Number of records\n",
    "print(finRes.count())"
   ]
  },
  {
   "cell_type": "code",
   "execution_count": 57,
   "metadata": {
    "collapsed": false
   },
   "outputs": [
    {
     "name": "stdout",
     "output_type": "stream",
     "text": [
      "+----+-----+------------+-----------+-------+----+----+------+------+---------+----+----+------+------+---------+\n",
      "|year|month|day_of_month|tail_number|carrier|src2|dst2|s_dep2|s_arr2|is_delay2|src1|dst1|s_dep1|s_arr1|is_delay1|\n",
      "+----+-----+------------+-----------+-------+----+----+------+------+---------+----+----+------+------+---------+\n",
      "|2008|    1|           1|     80019E|     9E| MSP| RST|  1605|  1650|        1| RST| MSP|  1720|  1812|        1|\n",
      "|2008|    1|           1|     80019E|     9E| RST| MSP|  1720|  1812|        1| MSP| GSO|  1915|  2252|        0|\n",
      "|2008|    1|           1|     80129E|     9E| BOS| MEM|  1030|  1300|        1| MEM| DFW|  1350|  1530|        1|\n",
      "|2008|    1|           1|     80129E|     9E| MEM| DFW|  1350|  1530|        1| DFW| MEM|  1610|  1750|        0|\n",
      "|2008|    1|           1|     80139E|     9E| MEM| DTW|   630|   933|        1| DTW| HPN|  1013|  1200|        1|\n",
      "|2008|    1|           1|     80139E|     9E| DTW| HPN|  1013|  1200|        1| HPN| DTW|  1230|  1424|        1|\n",
      "|2008|    1|           1|     80139E|     9E| HPN| DTW|  1230|  1424|        1| DTW| LEX|  1511|  1630|        1|\n",
      "|2008|    1|           1|     80139E|     9E| DTW| LEX|  1511|  1630|        1| LEX| DTW|  1700|  1829|        1|\n",
      "|2008|    1|           1|     80139E|     9E| LEX| DTW|  1700|  1829|        1| DTW| JAN|  1945|  2115|        1|\n",
      "|2008|    1|           1|     80199E|     9E| GTF| MSP|   845|  1203|        1| MSP| MLI|  1255|  1408|        0|\n",
      "|2008|    1|           1|     80219E|     9E| ROC| DTW|   930|  1052|        1| DTW| LNK|  1515|  1630|        0|\n",
      "|2008|    1|           1|     80219E|     9E| LNK| DTW|  1655|  2003|        1| DTW| LEX|  2135|  2258|        1|\n",
      "|2008|    1|           1|     80239E|     9E| TUL| MSP|   715|   922|        1| MSP| GRR|  1015|  1240|        1|\n",
      "|2008|    1|           1|     80239E|     9E| MSP| GRR|  1015|  1240|        1| GRR| MSP|  1310|  1344|        1|\n",
      "|2008|    1|           1|     80239E|     9E| GRR| MSP|  1310|  1344|        1| MSP| SLC|  1432|  1635|        1|\n",
      "|2008|    1|           1|     80239E|     9E| MSP| SLC|  1432|  1635|        1| SLC| MSP|  1750|  2147|        0|\n",
      "|2008|    1|           1|     80249E|     9E| CMX| MSP|   710|   725|        1| MSP| MLI|   910|  1030|        0|\n",
      "|2008|    1|           1|     80249E|     9E| MLI| MSP|  1100|  1217|        1| MSP| GRR|  1310|  1545|        0|\n",
      "|2008|    1|           1|     80259E|     9E| CID| MSP|  1850|  2005|        1| MSP| IDA|  2125|  2310|        1|\n",
      "|2008|    1|           1|     80269E|     9E| OKC| MSP|   715|   928|        1| MSP| MLI|  1600|  1715|        1|\n",
      "+----+-----+------------+-----------+-------+----+----+------+------+---------+----+----+------+------+---------+\n",
      "only showing top 20 rows\n",
      "\n",
      "1071846\n"
     ]
    }
   ],
   "source": [
    "#Number of records with delay as first flight\n",
    "filtDelayed = finRes.filter(finRes[\"is_delay2\"] == 1)\n",
    "filtDelayed.show()\n",
    "print(filtDelayed.count())"
   ]
  },
  {
   "cell_type": "code",
   "execution_count": 58,
   "metadata": {
    "collapsed": false
   },
   "outputs": [
    {
     "name": "stdout",
     "output_type": "stream",
     "text": [
      "+----+-----+------------+-----------+-------+----+----+------+------+---------+----+----+------+------+---------+\n",
      "|year|month|day_of_month|tail_number|carrier|src2|dst2|s_dep2|s_arr2|is_delay2|src1|dst1|s_dep1|s_arr1|is_delay1|\n",
      "+----+-----+------------+-----------+-------+----+----+------+------+---------+----+----+------+------+---------+\n",
      "|2008|    1|           1|     80019E|     9E| MSP| RST|  1605|  1650|        1| RST| MSP|  1720|  1812|        1|\n",
      "|2008|    1|           1|     80129E|     9E| BOS| MEM|  1030|  1300|        1| MEM| DFW|  1350|  1530|        1|\n",
      "|2008|    1|           1|     80139E|     9E| MEM| DTW|   630|   933|        1| DTW| HPN|  1013|  1200|        1|\n",
      "|2008|    1|           1|     80139E|     9E| DTW| HPN|  1013|  1200|        1| HPN| DTW|  1230|  1424|        1|\n",
      "|2008|    1|           1|     80139E|     9E| HPN| DTW|  1230|  1424|        1| DTW| LEX|  1511|  1630|        1|\n",
      "|2008|    1|           1|     80139E|     9E| DTW| LEX|  1511|  1630|        1| LEX| DTW|  1700|  1829|        1|\n",
      "|2008|    1|           1|     80139E|     9E| LEX| DTW|  1700|  1829|        1| DTW| JAN|  1945|  2115|        1|\n",
      "|2008|    1|           1|     80219E|     9E| LNK| DTW|  1655|  2003|        1| DTW| LEX|  2135|  2258|        1|\n",
      "|2008|    1|           1|     80239E|     9E| TUL| MSP|   715|   922|        1| MSP| GRR|  1015|  1240|        1|\n",
      "|2008|    1|           1|     80239E|     9E| MSP| GRR|  1015|  1240|        1| GRR| MSP|  1310|  1344|        1|\n",
      "|2008|    1|           1|     80239E|     9E| GRR| MSP|  1310|  1344|        1| MSP| SLC|  1432|  1635|        1|\n",
      "|2008|    1|           1|     80259E|     9E| CID| MSP|  1850|  2005|        1| MSP| IDA|  2125|  2310|        1|\n",
      "|2008|    1|           1|     80269E|     9E| OKC| MSP|   715|   928|        1| MSP| MLI|  1600|  1715|        1|\n",
      "|2008|    1|           1|     80269E|     9E| MSP| MLI|  1600|  1715|        1| MLI| DTW|  1740|  2017|        1|\n",
      "|2008|    1|           1|     80269E|     9E| MLI| DTW|  1740|  2017|        1| DTW| SAV|  2125|  2334|        1|\n",
      "|2008|    1|           1|     80279E|     9E| DTW| HPN|  1342|  1529|        1| HPN| DTW|  1559|  1758|        1|\n",
      "|2008|    1|           1|     80279E|     9E| HPN| DTW|  1559|  1758|        1| DTW| ROC|  1855|  2020|        1|\n",
      "|2008|    1|           1|     80299E|     9E| MSP| TUL|  1510|  1715|        1| TUL| MSP|  1745|  1949|        1|\n",
      "|2008|    1|           1|     80299E|     9E| TUL| MSP|  1745|  1949|        1| MSP| ICT|  2130|  2315|        1|\n",
      "|2008|    1|           1|     80319E|     9E| GRR| DTW|   500|   555|        1| DTW| IND|   635|   750|        1|\n",
      "+----+-----+------------+-----------+-------+----+----+------+------+---------+----+----+------+------+---------+\n",
      "only showing top 20 rows\n",
      "\n",
      "703335\n"
     ]
    }
   ],
   "source": [
    "#Number of records with delay both on first and second fligth\n",
    "bothDelayed = filtDelayed.filter(filtDelayed[\"is_delay1\"] == 1)\n",
    "bothDelayed.show()\n",
    "print(bothDelayed.count())"
   ]
  },
  {
   "cell_type": "markdown",
   "metadata": {},
   "source": [
    "<div class=\"alert alert-warning\">This result shows that if a flight was delayed (1071846) the next one probably will also be delayed (703335). So over 10 delayed flight 7 of them were delayed. Personally we think is a huge number.</div>"
   ]
  },
  {
   "cell_type": "code",
   "execution_count": 59,
   "metadata": {
    "collapsed": true
   },
   "outputs": [],
   "source": [
    "#The figure of the number of consecutive delay of a plane over an year\n",
    "delay_tail_no = (\n",
    "    bothDelayed\n",
    "        .groupBy(\"tail_number\")\n",
    "        .agg(func.count('*').alias(\"count\"))\n",
    "        .orderBy(desc(\"count\"))\n",
    "    )\n",
    "\n",
    "delay_tail_no_20 = [item[0] for item in delay_tail_no.take(20)]\n",
    "index = np.arange(len(delay_tail_no_20))"
   ]
  },
  {
   "cell_type": "code",
   "execution_count": 60,
   "metadata": {
    "collapsed": false
   },
   "outputs": [
    {
     "name": "stdout",
     "output_type": "stream",
     "text": [
      "0     501\n",
      "1     479\n",
      "2     477\n",
      "3     466\n",
      "4     464\n",
      "5     452\n",
      "6     445\n",
      "7     418\n",
      "8     407\n",
      "9     401\n",
      "10    399\n",
      "11    396\n",
      "12    395\n",
      "13    392\n",
      "14    390\n",
      "15    389\n",
      "16    384\n",
      "17    384\n",
      "18    383\n",
      "19    378\n",
      "Name: count, dtype: int64\n"
     ]
    },
    {
     "data": {
      "image/png": "[encoded data removed]",
      "text/plain": [
       "<matplotlib.figure.Figure at 0x7f0ee4ef5828>"
      ]
     },
     "metadata": {},
     "output_type": "display_data"
    }
   ],
   "source": [
    "# collect data and plot\n",
    "pdf_delay_tail_no = pd.DataFrame(data=delay_tail_no.take(20),columns=[\"tail_number\",\"count\"])\n",
    "\n",
    "print(pdf_delay_tail_no[\"count\"])\n",
    "\n",
    "plt.figure(figsize=(20,10))\n",
    "plt.xlabel(\"Plane\")\n",
    "plt.ylabel(\"Number of delay\")\n",
    "plt.xticks(index , delay_tail_no_20)\n",
    "plt.grid(True,which=\"both\",ls=\"-\")\n",
    "\n",
    "plt.title('Number of consecutive delay over the year per plane')\n",
    "plt.bar(index,pdf_delay_tail_no[\"count\"], align='center', alpha=0.4)\n",
    "plt.show()"
   ]
  },
  {
   "cell_type": "markdown",
   "metadata": {},
   "source": [
    "<div class=\"alert alert-warning\">This graph shows that lots of planes have consecutive delayed flights.</div>"
   ]
  },
  {
   "cell_type": "code",
   "execution_count": 61,
   "metadata": {
    "collapsed": true
   },
   "outputs": [],
   "source": [
    "#The figure of the number of consecutive delay of an airport over an year\n",
    "delay_carrier = (\n",
    "    bothDelayed\n",
    "        .groupBy(\"carrier\")\n",
    "        .agg(func.count('*').alias(\"count\"))\n",
    "        .orderBy(desc(\"count\"))\n",
    "    )\n",
    "\n",
    "delay_carrier_20 = [item[0] for item in delay_carrier.take(20)]\n",
    "index = np.arange(len(delay_carrier_20))"
   ]
  },
  {
   "cell_type": "code",
   "execution_count": 62,
   "metadata": {
    "collapsed": false
   },
   "outputs": [
    {
     "name": "stdout",
     "output_type": "stream",
     "text": [
      "[Row(carrier='WN', count=130461), Row(carrier='AA', count=68391), Row(carrier='MQ', count=58819), Row(carrier='OO', count=55835), Row(carrier='UA', count=47475), Row(carrier='XE', count=41113), Row(carrier='DL', count=36615), Row(carrier='EV', count=34061), Row(carrier='YV', count=31202), Row(carrier='FL', count=29339), Row(carrier='US', count=28614), Row(carrier='NW', count=26373), Row(carrier='CO', count=25968), Row(carrier='OH', count=23591), Row(carrier='B6', count=22708), Row(carrier='9E', count=19457), Row(carrier='AS', count=12137), Row(carrier='F9', count=8772), Row(carrier='HA', count=2249), Row(carrier='AQ', count=155)]\n"
     ]
    },
    {
     "data": {
      "image/png": "[encoded data removed]",
      "text/plain": [
       "<matplotlib.figure.Figure at 0x7f0ee5005eb8>"
      ]
     },
     "metadata": {},
     "output_type": "display_data"
    }
   ],
   "source": [
    "# collect data and plot\n",
    "pdf_delay_carrier = pd.DataFrame(data=delay_carrier.take(20),columns=[\"carrier\",\"count\"])\n",
    "print(delay_carrier.take(20))\n",
    "plt.figure(figsize=(20,10))\n",
    "plt.xlabel(\"Carrier\")\n",
    "plt.ylabel(\"Number of delay\")\n",
    "plt.xticks(index , delay_carrier_20)\n",
    "plt.grid(True,which=\"both\",ls=\"-\")\n",
    "\n",
    "plt.title('Number of consecutive delay over the year per carrier')\n",
    "plt.bar(index,pdf_delay_carrier[\"count\"], align='center', alpha=0.4)\n",
    "plt.show()"
   ]
  },
  {
   "cell_type": "markdown",
   "metadata": {},
   "source": [
    "<div class=\"alert alert-warning\"> This graph shows that WN has the highest number of consecutive delays. There is a huge gap versus the other companies.</div>"
   ]
  },
  {
   "cell_type": "code",
   "execution_count": 63,
   "metadata": {
    "collapsed": true
   },
   "outputs": [],
   "source": [
    "#The figure of the number of consecutive delay of an airport over an year\n",
    "delay_airport = (\n",
    "    bothDelayed\n",
    "        .groupBy(\"src1\")\n",
    "        .agg(func.count('*').alias(\"count\"))\n",
    "        .orderBy(desc(\"count\"))\n",
    "    )\n",
    "\n",
    "delay_airport_20 = [item[0] for item in delay_airport.take(20)]\n",
    "index = np.arange(len(delay_airport_20))"
   ]
  },
  {
   "cell_type": "code",
   "execution_count": 64,
   "metadata": {
    "collapsed": false
   },
   "outputs": [
    {
     "data": {
      "image/png": "[encoded data removed]",
      "text/plain": [
       "<matplotlib.figure.Figure at 0x7f0ec2c7cba8>"
      ]
     },
     "metadata": {},
     "output_type": "display_data"
    }
   ],
   "source": [
    "# collect data and plot\n",
    "pdf_delay_airport = pd.DataFrame(data=delay_airport.take(20),columns=[\"src1\",\"count\"])\n",
    "\n",
    "plt.figure(figsize=(20,10))\n",
    "plt.xlabel(\"Airport\")\n",
    "plt.ylabel(\"Number of delay\")\n",
    "plt.xticks(index , delay_airport_20)\n",
    "plt.grid(True,which=\"both\",ls=\"-\")\n",
    "\n",
    "plt.title('Number of consecutive delay over the year per airport')\n",
    "plt.bar(index,pdf_delay_airport[\"count\"], align='center', alpha=0.4)\n",
    "plt.show()"
   ]
  },
  {
   "cell_type": "markdown",
   "metadata": {},
   "source": [
    "<div class=\"alert alert-warning\">This graph shows that ORD and ATL are the airport that have the most consecutive delay</div>"
   ]
  },
  {
   "cell_type": "markdown",
   "metadata": {},
   "source": [
    "# 6. Addition (bonus) questions\n",
    "As you may have noticed, the performance of our statistical models is somehow questionable! What are we missing here? Why is that even using state-of-the-art approaches give poor results?\n",
    "\n",
    "In what follows, we will try to address some of the limitations of the present Notebook, and provide additional data that might help.\n",
    "\n",
    "## 6.1. Additional data\n",
    "In the HDFS file system you have used for running the Notebook, you will notice that there are several other years available (in addition to 1994), which could be used to train a statistical model with more data. In the end, we're playing with \"Big Data\", hence one might think that feeding more training data to the algorithm should help!\n",
    "\n",
    "## 6.2. Feature selection\n",
    "\n",
    "You might think that the flight delays do not only depend on the source airport, destination airport, departure time, etc... as we assumed. They also depend on other features such as the weather, the origin country, the destination city,... To improve the prediction quality, we should consider these features too.\n",
    "\n",
    "There are some other datasets that related to this use case:\n",
    "\n",
    "- Airport IATA Codes to City names and Coordinates mapping: http://stat-computing.org/dataexpo/2009/airports.csv\n",
    "- Carrier codes to Full name mapping: http://stat-computing.org/dataexpo/2009/carriers.csv\n",
    "- Information about individual planes: http://stat-computing.org/dataexpo/2009/plane-data.csv\n",
    "- Weather information: http://www.wunderground.com/weather/api/. You can subscribe for free to the developers' API and obtain (at a limited rate) historical weather information in many different formats. Also, to get an idea of the kind of information is available, you can use this link: http://www.wunderground.com/history/\n"
   ]
  },
  {
   "cell_type": "markdown",
   "metadata": {},
   "source": [
    "### Question 13\n",
    "<div class=\"alert alert-info\">\n",
    "Using the data sources above, select additional feature and repeat the process of defining an appropriate training and test datasets, to evaluate the impact of new features on the performance of the model. Focus first on decision trees, then move to random forests.\n",
    "</div>"
   ]
  },
  {
   "cell_type": "markdown",
   "metadata": {},
   "source": [
    "> The important thing is to not stop questioning. Curiosity has its own reason for existence. (Albert Einstein)\n",
    "\n",
    "<div class=\"alert alert-success\">\n",
    "Be active! Ask yourself other questions which help you explore more about this data and try to answer them. Make this notebook be a part of your CV!\n",
    "</div>"
   ]
  },
  {
   "cell_type": "code",
   "execution_count": 65,
   "metadata": {
    "collapsed": false
   },
   "outputs": [
    {
     "name": "stdout",
     "output_type": "stream",
     "text": [
      "Found 21 items\r\n",
      "-rw-r--r--   3 group39 supergroup  127162942 2016-03-24 16:09 /datasets/airline/1987.csv\r\n",
      "-rw-r--r--   3 group39 supergroup  501039472 2016-03-24 16:15 /datasets/airline/1988.csv\r\n",
      "-rw-r--r--   3 group39 supergroup  486518821 2016-03-24 16:15 /datasets/airline/1989.csv\r\n",
      "-rw-r--r--   3 group39 supergroup  509194687 2016-03-24 16:16 /datasets/airline/1990.csv\r\n",
      "-rw-r--r--   3 group39 supergroup  491210093 2016-03-24 16:18 /datasets/airline/1991.csv\r\n",
      "-rw-r--r--   3 group39 supergroup  492313731 2016-03-24 16:18 /datasets/airline/1992.csv\r\n",
      "-rw-r--r--   3 group39 supergroup  490753652 2016-03-24 16:18 /datasets/airline/1993.csv\r\n",
      "-rwxrwxr-x   3 root    supergroup  501558665 2016-02-11 16:32 /datasets/airline/1994.csv\r\n",
      "-rw-r--r--   3 group39 supergroup  530751568 2016-03-24 16:18 /datasets/airline/1995.csv\r\n",
      "-rw-r--r--   3 group39 supergroup  533922363 2016-03-24 16:18 /datasets/airline/1996.csv\r\n",
      "-rw-r--r--   3 group39 supergroup  540347861 2016-03-24 16:18 /datasets/airline/1997.csv\r\n",
      "-rw-r--r--   3 group39 supergroup  538432875 2016-03-24 16:21 /datasets/airline/1998.csv\r\n",
      "-rw-r--r--   3 group39 supergroup  552926022 2016-03-24 16:22 /datasets/airline/1999.csv\r\n",
      "-rw-r--r--   3 group39 supergroup  570151613 2016-03-24 16:24 /datasets/airline/2000.csv\r\n",
      "-rw-r--r--   3 group39 supergroup  600411462 2016-03-24 16:25 /datasets/airline/2001.csv\r\n",
      "-rw-r--r--   3 group39 supergroup  530507013 2016-03-24 16:26 /datasets/airline/2002.csv\r\n",
      "-rw-r--r--   3 group39 supergroup  626745242 2016-03-24 17:08 /datasets/airline/2003.csv\r\n",
      "-rw-r--r--   3 group39 supergroup  669879113 2016-03-24 17:10 /datasets/airline/2004.csv\r\n",
      "-rw-r--r--   3 group39 supergroup  671027265 2016-03-24 17:10 /datasets/airline/2005.csv\r\n",
      "-rw-r--r--   3 group39 supergroup  672068096 2016-03-24 17:10 /datasets/airline/2006.csv\r\n",
      "-rw-r--r--   3 group39 supergroup  689413344 2016-03-24 17:10 /datasets/airline/2008.csv\r\n"
     ]
    }
   ],
   "source": [
    "!hdfs dfs -ls /datasets/airline/"
   ]
  },
  {
   "cell_type": "markdown",
   "metadata": {},
   "source": [
    "## Using other data set : plane-data.csv"
   ]
  },
  {
   "cell_type": "code",
   "execution_count": 66,
   "metadata": {
    "collapsed": false
   },
   "outputs": [
    {
     "data": {
      "text/plain": [
       "\"import urllib\\nimport json\\nf = urllib.request.urlopen('http://api.wunderground.com/api/e968412c2f17e9ec/geolookup/conditions/q/IA/Cedar_Rapids.json')\\njson_string = f.read()\\nprint(type(json_string))\\nparsed_json = json.loads(json_string)\\nlocation = parsed_json['location']['city']\\ntemp_f = parsed_json['current_observation']['temp_f']\\nprint(location, temp_f)\\nf.close()\""
      ]
     },
     "execution_count": 66,
     "metadata": {},
     "output_type": "execute_result"
    }
   ],
   "source": [
    "\"\"\"import urllib\n",
    "import json\n",
    "f = urllib.request.urlopen('http://api.wunderground.com/api/e968412c2f17e9ec/geolookup/conditions/q/IA/Cedar_Rapids.json')\n",
    "json_string = f.read()\n",
    "print(type(json_string))\n",
    "parsed_json = json.loads(json_string)\n",
    "location = parsed_json['location']['city']\n",
    "temp_f = parsed_json['current_observation']['temp_f']\n",
    "print(location, temp_f)\n",
    "f.close()\"\"\""
   ]
  },
  {
   "cell_type": "code",
   "execution_count": 67,
   "metadata": {
    "collapsed": false,
    "scrolled": false
   },
   "outputs": [
    {
     "name": "stdout",
     "output_type": "stream",
     "text": [
      "airports.csv\r\n",
      "carriers.csv\r\n",
      "football.csv\r\n",
      "hello.ipynb\r\n",
      "[Lecture 2] Introduction to PySpark.ipynb\r\n",
      "[Lecture 3+4] Recommender algorithm - Music recommendations.ipynb\r\n",
      "[Lecture 5+6] Regression algorithm - Using Random Forests to predict Airplane Delays.ipynb\r\n",
      "plane-data.csv\r\n",
      "spark-warehouse\r\n"
     ]
    }
   ],
   "source": [
    "!ls"
   ]
  },
  {
   "cell_type": "code",
   "execution_count": 68,
   "metadata": {
    "collapsed": false
   },
   "outputs": [
    {
     "name": "stdout",
     "output_type": "stream",
     "text": [
      "['tailnum,type,manufacturer,issue_date,model,status,aircraft_type,engine_type,year', 'N050AA', 'N051AA', 'N052AA', 'N054AA', 'N055AA', 'N056AA', 'N057AA', 'N058AA', 'N059AA']\n"
     ]
    }
   ],
   "source": [
    "raw_data_indiv = sc.textFile(\"plane-data.csv\")\n",
    "\n",
    "print(raw_data_indiv.take(10))"
   ]
  },
  {
   "cell_type": "code",
   "execution_count": 69,
   "metadata": {
    "collapsed": false
   },
   "outputs": [
    {
     "name": "stdout",
     "output_type": "stream",
     "text": [
      "['tailnum,type,manufacturer,issue_date,model,status,aircraft_type,engine_type,year']\n",
      "9\n"
     ]
    }
   ],
   "source": [
    "# extract the header\n",
    "header_indiv = raw_data_indiv.take(1)\n",
    "print(header_indiv)\n",
    "N= header_indiv[0].split(\",\")\n",
    "print(len(N))\n",
    "def extract(line):\n",
    "    res = line.split(\",\")\n",
    "    for y in range(len(res)):\n",
    "        if(res[y]== 'None'):\n",
    "            res[y] = \"\"\n",
    "    \n",
    "    \n",
    "    if(len(res)<len(N)):\n",
    "        for i in range(len(N)-len(res)):\n",
    "           res+=\",\"\n",
    "        return \"\".join(res)\n",
    "    else:\n",
    "        return \",\".join(res)\n",
    "# replace invalid data with NULL and remove header\n",
    "\n",
    "cleaned_data_indvplane = (raw_data_indiv\\\n",
    "        # filter out the header\n",
    "        .filter(lambda x: x != header_indiv[0])\n",
    "        # replace the missing values with empty characters\n",
    "        .map(extract)\n",
    "        )"
   ]
  },
  {
   "cell_type": "code",
   "execution_count": 70,
   "metadata": {
    "collapsed": false,
    "scrolled": false
   },
   "outputs": [
    {
     "name": "stdout",
     "output_type": "stream",
     "text": [
      "number of rows after cleaning: 5029\n"
     ]
    },
    {
     "data": {
      "text/plain": [
       "['N050AA,,,,,,,,',\n",
       " 'N051AA,,,,,,,,',\n",
       " 'N052AA,,,,,,,,',\n",
       " 'N054AA,,,,,,,,',\n",
       " 'N055AA,,,,,,,,',\n",
       " 'N056AA,,,,,,,,',\n",
       " 'N057AA,,,,,,,,',\n",
       " 'N058AA,,,,,,,,',\n",
       " 'N059AA,,,,,,,,',\n",
       " 'N060AA,,,,,,,,',\n",
       " 'N061AA,,,,,,,,',\n",
       " 'N062AA,,,,,,,,',\n",
       " 'N063AA,,,,,,,,',\n",
       " 'N064AA,,,,,,,,',\n",
       " 'N065AA,,,,,,,,',\n",
       " 'N066AA,,,,,,,,',\n",
       " 'N067AA,,,,,,,,',\n",
       " 'N068AA,,,,,,,,',\n",
       " 'N069AA,,,,,,,,',\n",
       " 'N070AA,,,,,,,,',\n",
       " 'N071AA,,,,,,,,',\n",
       " 'N072AA,,,,,,,,',\n",
       " 'N073AA,,,,,,,,',\n",
       " 'N074AA,,,,,,,,',\n",
       " 'N075AA,,,,,,,,',\n",
       " 'N076AA,,,,,,,,',\n",
       " 'N077AA,,,,,,,,',\n",
       " 'N078AA,,,,,,,,',\n",
       " 'N079AA,,,,,,,,',\n",
       " 'N080AA,,,,,,,,',\n",
       " 'N081AA,,,,,,,,',\n",
       " 'N082AA,,,,,,,,',\n",
       " 'N083AA,,,,,,,,',\n",
       " 'N084AA,,,,,,,,',\n",
       " 'N10156,Corporation,EMBRAER,02/13/2004,EMB-145XR,Valid,Fixed Wing Multi-Engine,Turbo-Fan,2004',\n",
       " 'N102UW,Corporation,AIRBUS INDUSTRIE,05/26/1999,A320-214,Valid,Fixed Wing Multi-Engine,Turbo-Fan,1998',\n",
       " 'N10323,Corporation,BOEING,07/01/1997,737-3TO,Valid,Fixed Wing Multi-Engine,Turbo-Jet,1986',\n",
       " 'N103US,Corporation,AIRBUS INDUSTRIE,06/18/1999,A320-214,Valid,Fixed Wing Multi-Engine,Turbo-Fan,1999',\n",
       " 'N104UA,Corporation,BOEING,01/26/1998,747-422,Valid,Fixed Wing Multi-Engine,Turbo-Fan,1998',\n",
       " 'N104UW,Corporation,AIRBUS INDUSTRIE,07/02/1999,A320-214,Valid,Fixed Wing Multi-Engine,Turbo-Fan,1999',\n",
       " 'N10575,Corporation,EMBRAER,06/24/2003,EMB-145LR,Valid,Fixed Wing Multi-Engine,Turbo-Fan,2002',\n",
       " 'N105UA,Corporation,BOEING,10/15/2007,747-451,Valid,Fixed Wing Multi-Engine,Turbo-Jet,1994',\n",
       " 'N105UW,Corporation,AIRBUS INDUSTRIE,07/22/1999,A320-214,Valid,Fixed Wing Multi-Engine,Turbo-Fan,1999',\n",
       " 'N106US,Corporation,AIRBUS INDUSTRIE,08/05/1999,A320-214,Valid,Fixed Wing Multi-Engine,Turbo-Fan,1999',\n",
       " 'N107UA,Corporation,BOEING,08/24/1998,747-422,Valid,Fixed Wing Multi-Engine,Turbo-Fan,1998',\n",
       " 'N107US,Corporation,AIRBUS INDUSTRIE,08/17/1999,A320-214,Valid,Fixed Wing Multi-Engine,Turbo-Fan,1999',\n",
       " 'N108UW,Corporation,AIRBUS INDUSTRIE,09/03/1999,A320-214,Valid,Fixed Wing Multi-Engine,Turbo-Fan,1999',\n",
       " 'N109UW,Corporation,AIRBUS INDUSTRIE,09/10/1999,A320-214,Valid,Fixed Wing Multi-Engine,Turbo-Fan,1999',\n",
       " 'N110UW,Corporation,AIRBUS INDUSTRIE,11/22/1999,A320-214,Valid,Fixed Wing Multi-Engine,Turbo-Fan,1999',\n",
       " 'N11106,Corporation,EMBRAER,06/25/2003,EMB-145XR,Valid,Fixed Wing Multi-Engine,Turbo-Fan,2002']"
      ]
     },
     "execution_count": 70,
     "metadata": {},
     "output_type": "execute_result"
    }
   ],
   "source": [
    "print(\"number of rows after cleaning:\", cleaned_data_indvplane.count())\n",
    "cleaned_data_indvplane.take(50)"
   ]
  },
  {
   "cell_type": "code",
   "execution_count": 71,
   "metadata": {
    "collapsed": true
   },
   "outputs": [],
   "source": [
    "# Declare the data schema\n",
    "# see http://stat-computing.org/dataexpo/2009/the-data.html\n",
    "# for more information\n",
    "indiv_plane_data_schema = StructType([ \\\n",
    "    #StructField( name, dataType, nullable)\n",
    "    StructField(\"tailnum\",                     StringType(), True), \\\n",
    "    StructField(\"type\",                    StringType(), True), \\\n",
    "    StructField(\"manufacturer\",             StringType(), True), \\\n",
    "    StructField(\"issue_date\",              StringType(), True), \\\n",
    "    StructField(\"model\",           \tStringType(), True), \\\n",
    "    StructField(\"status\", \t\tStringType(), True), \\\n",
    "    StructField(\"aircraft_type\",             StringType(), True), \\\n",
    "    StructField(\"engine_type\",   StringType(), True), \\\n",
    "    StructField(\"year\",                  StringType(),  True) \\\n",
    "    \n",
    "])\n"
   ]
  },
  {
   "cell_type": "code",
   "execution_count": 72,
   "metadata": {
    "collapsed": false
   },
   "outputs": [],
   "source": [
    "# convert each line into a tuple of features (columns)\n",
    "cleaned_data_to_col = cleaned_data_indvplane.map(lambda l: l.split(\",\"))\\\n",
    "    .map(lambda cols: \n",
    "         (\n",
    "            cols[0]  if cols[0] else None,\n",
    "            cols[1]  if cols[1] else None,\n",
    "            cols[2]  if cols[2] else None,\n",
    "            cols[3]  if cols[3] else None,\n",
    "            cols[4]  if cols[4] else None,\n",
    "            cols[5]  if cols[5] else None,\n",
    "            cols[6]  if cols[6] else None,\n",
    "            cols[7]  if cols[7] else None,\n",
    "            int(cols[8])       if cols[8] else None\n",
    "         ))\n",
    "\n",
    "# create dataframe df\n",
    "indiv_plane = (sqlContext.createDataFrame(cleaned_data_to_col,indiv_plane_data_schema)\n",
    "        .select(\"tailnum\",\"type\",\"manufacturer\",\"issue_date\",\"model\",\"status\",\"aircraft_type\",\"engine_type\",\"year\")\n",
    "        .cache()\n",
    "    )\n"
   ]
  },
  {
   "cell_type": "code",
   "execution_count": 73,
   "metadata": {
    "collapsed": false,
    "scrolled": true
   },
   "outputs": [
    {
     "name": "stdout",
     "output_type": "stream",
     "text": [
      "<class 'pyspark.sql.dataframe.DataFrame'>\n",
      "+-------+\n",
      "|tailnum|\n",
      "+-------+\n",
      "| N050AA|\n",
      "| N051AA|\n",
      "| N052AA|\n",
      "| N054AA|\n",
      "| N055AA|\n",
      "| N056AA|\n",
      "| N057AA|\n",
      "| N058AA|\n",
      "| N059AA|\n",
      "| N060AA|\n",
      "| N061AA|\n",
      "| N062AA|\n",
      "| N063AA|\n",
      "| N064AA|\n",
      "| N065AA|\n",
      "| N066AA|\n",
      "| N067AA|\n",
      "| N068AA|\n",
      "| N069AA|\n",
      "| N070AA|\n",
      "+-------+\n",
      "only showing top 20 rows\n",
      "\n"
     ]
    }
   ],
   "source": [
    "print(type(indiv_plane))\n",
    "indiv_plane.select(\"tailnum\").show()"
   ]
  },
  {
   "cell_type": "code",
   "execution_count": 74,
   "metadata": {
    "collapsed": false
   },
   "outputs": [],
   "source": [
    "indiv_planefilt=indiv_plane.filter(indiv_plane[\"year\"]!=\"\").filter(indiv_plane[\"year\"]!=\"None\")"
   ]
  },
  {
   "cell_type": "code",
   "execution_count": 75,
   "metadata": {
    "collapsed": false
   },
   "outputs": [
    {
     "name": "stdout",
     "output_type": "stream",
     "text": [
      "+-------+-----------+----------------+----------+---------+------+--------------------+-----------+----+\n",
      "|tailnum|       type|    manufacturer|issue_date|    model|status|       aircraft_type|engine_type|year|\n",
      "+-------+-----------+----------------+----------+---------+------+--------------------+-----------+----+\n",
      "| N10156|Corporation|         EMBRAER|02/13/2004|EMB-145XR| Valid|Fixed Wing Multi-...|  Turbo-Fan|2004|\n",
      "| N102UW|Corporation|AIRBUS INDUSTRIE|05/26/1999| A320-214| Valid|Fixed Wing Multi-...|  Turbo-Fan|1998|\n",
      "| N10323|Corporation|          BOEING|07/01/1997|  737-3TO| Valid|Fixed Wing Multi-...|  Turbo-Jet|1986|\n",
      "| N103US|Corporation|AIRBUS INDUSTRIE|06/18/1999| A320-214| Valid|Fixed Wing Multi-...|  Turbo-Fan|1999|\n",
      "| N104UA|Corporation|          BOEING|01/26/1998|  747-422| Valid|Fixed Wing Multi-...|  Turbo-Fan|1998|\n",
      "| N104UW|Corporation|AIRBUS INDUSTRIE|07/02/1999| A320-214| Valid|Fixed Wing Multi-...|  Turbo-Fan|1999|\n",
      "| N10575|Corporation|         EMBRAER|06/24/2003|EMB-145LR| Valid|Fixed Wing Multi-...|  Turbo-Fan|2002|\n",
      "| N105UA|Corporation|          BOEING|10/15/2007|  747-451| Valid|Fixed Wing Multi-...|  Turbo-Jet|1994|\n",
      "| N105UW|Corporation|AIRBUS INDUSTRIE|07/22/1999| A320-214| Valid|Fixed Wing Multi-...|  Turbo-Fan|1999|\n",
      "| N106US|Corporation|AIRBUS INDUSTRIE|08/05/1999| A320-214| Valid|Fixed Wing Multi-...|  Turbo-Fan|1999|\n",
      "| N107UA|Corporation|          BOEING|08/24/1998|  747-422| Valid|Fixed Wing Multi-...|  Turbo-Fan|1998|\n",
      "| N107US|Corporation|AIRBUS INDUSTRIE|08/17/1999| A320-214| Valid|Fixed Wing Multi-...|  Turbo-Fan|1999|\n",
      "| N108UW|Corporation|AIRBUS INDUSTRIE|09/03/1999| A320-214| Valid|Fixed Wing Multi-...|  Turbo-Fan|1999|\n",
      "| N109UW|Corporation|AIRBUS INDUSTRIE|09/10/1999| A320-214| Valid|Fixed Wing Multi-...|  Turbo-Fan|1999|\n",
      "| N110UW|Corporation|AIRBUS INDUSTRIE|11/22/1999| A320-214| Valid|Fixed Wing Multi-...|  Turbo-Fan|1999|\n",
      "| N11106|Corporation|         EMBRAER|06/25/2003|EMB-145XR| Valid|Fixed Wing Multi-...|  Turbo-Fan|2002|\n",
      "| N11107|Corporation|         EMBRAER|06/25/2003|EMB-145XR| Valid|Fixed Wing Multi-...|  Turbo-Fan|2002|\n",
      "| N11109|Corporation|         EMBRAER|06/25/2003|EMB-145XR| Valid|Fixed Wing Multi-...|  Turbo-Fan|2002|\n",
      "| N11113|Corporation|         EMBRAER|06/25/2003|EMB-145XR| Valid|Fixed Wing Multi-...|  Turbo-Fan|2002|\n",
      "| N11119|Corporation|         EMBRAER|01/08/2003|EMB-145XR| Valid|Fixed Wing Multi-...|  Turbo-Fan|2002|\n",
      "+-------+-----------+----------------+----------+---------+------+--------------------+-----------+----+\n",
      "only showing top 20 rows\n",
      "\n"
     ]
    }
   ],
   "source": [
    "indiv_planefilt.show()"
   ]
  },
  {
   "cell_type": "code",
   "execution_count": 76,
   "metadata": {
    "collapsed": false,
    "scrolled": true
   },
   "outputs": [
    {
     "name": "stdout",
     "output_type": "stream",
     "text": [
      "+-------+-----------+------------------+----------+-----+-----------------+--------------------+-------------+----+\n",
      "|tailnum|       type|      manufacturer|issue_date|model|           status|       aircraft_type|  engine_type|year|\n",
      "+-------+-----------+------------------+----------+-----+-----------------+--------------------+-------------+----+\n",
      "| N394AA|Corporation|AVIAT AIRCRAFT INC|      null| A-1B|Registered to Mfr|Fixed Wing Single...|Reciprocating|2007|\n",
      "+-------+-----------+------------------+----------+-----+-----------------+--------------------+-------------+----+\n",
      "\n"
     ]
    }
   ],
   "source": [
    "indiv_planefilt[indiv_planefilt[\"status\"]!=\"Valid\"].show()"
   ]
  },
  {
   "cell_type": "code",
   "execution_count": 77,
   "metadata": {
    "collapsed": false
   },
   "outputs": [
    {
     "name": "stdout",
     "output_type": "stream",
     "text": [
      "engine type :  7\n",
      "aircraft type :  4\n",
      "manufacturer :  35\n",
      "model :  162\n"
     ]
    }
   ],
   "source": [
    "print(\"engine type : \", indiv_planefilt.select(\"engine_type\").distinct().count())\n",
    "print(\"aircraft type : \",indiv_planefilt.select(\"aircraft_type\").distinct().count())\n",
    "print(\"manufacturer : \",indiv_planefilt.select(\"manufacturer\").distinct().count())\n",
    "print(\"model : \",indiv_planefilt.select(\"model\").distinct().count())"
   ]
  },
  {
   "cell_type": "code",
   "execution_count": 78,
   "metadata": {
    "collapsed": false,
    "scrolled": true
   },
   "outputs": [
    {
     "name": "stdout",
     "output_type": "stream",
     "text": [
      "+-------------------+-----+\n",
      "|               type|count|\n",
      "+-------------------+-----+\n",
      "|           Co-Owner|    5|\n",
      "|Foreign Corporation|   10|\n",
      "|         Individual|   21|\n",
      "|        Partnership|    1|\n",
      "|        Corporation| 4298|\n",
      "+-------------------+-----+\n",
      "\n"
     ]
    }
   ],
   "source": [
    "indiv_planefilt.groupBy(\"type\").count().alias(\"total\").show()"
   ]
  },
  {
   "cell_type": "code",
   "execution_count": 79,
   "metadata": {
    "collapsed": false
   },
   "outputs": [
    {
     "name": "stdout",
     "output_type": "stream",
     "text": [
      "Found 3 items\r\n",
      "drwxr-xr-x   - user15 supergroup          0 2017-03-22 13:04 lastfm_model.spark\r\n",
      "drwxr-xr-x   - user15 supergroup          0 2017-03-22 13:04 lastfm_model_withOut.spark\r\n",
      "-rw-r--r--   3 user15 supergroup     428796 2017-04-03 18:08 plane-data.csv\r\n"
     ]
    }
   ],
   "source": [
    "!hdfs dfs -ls"
   ]
  },
  {
   "cell_type": "markdown",
   "metadata": {
    "collapsed": true
   },
   "source": [
    "## Adding Features"
   ]
  },
  {
   "cell_type": "code",
   "execution_count": 80,
   "metadata": {
    "collapsed": false
   },
   "outputs": [
    {
     "data": {
      "text/plain": [
       "[Row(year=2008, month=1, day_of_month=3, day_of_week=4, scheduled_departure_time=1955, scheduled_arrival_time=2225, carrier='WN', tail_number='N712SW', arrival_delay=-14, distance=810, src_airport='IAD', dest_airport='TPA', late_aircraft_delay=None)]"
      ]
     },
     "execution_count": 80,
     "metadata": {},
     "output_type": "execute_result"
    }
   ],
   "source": [
    "df2008.take(1)"
   ]
  },
  {
   "cell_type": "code",
   "execution_count": 81,
   "metadata": {
    "collapsed": false
   },
   "outputs": [
    {
     "name": "stdout",
     "output_type": "stream",
     "text": [
      "+----+-----------+-----+----------+-------------------+\n",
      "|year|tail_number|delay|No_flights|              ratio|\n",
      "+----+-----------+-----+----------+-------------------+\n",
      "|2008|     N17175|  758|      2288| 0.3312937062937063|\n",
      "|2008|     N37208|  740|      2066|0.35818005808325265|\n",
      "|2008|     N77278|  736|      3403|0.21627975315897738|\n",
      "|2008|     N87353|  734|      3136|0.23405612244897958|\n",
      "|2008|     N37342|  712|      3289|0.21647917300091213|\n",
      "|2008|     N651ML|  710|      2325| 0.3053763440860215|\n",
      "|2008|     N75995|  704|      2199|0.32014552069122326|\n",
      "|2008|     N27172|  704|      2259| 0.3116423196104471|\n",
      "|2008|     N75994|  697|      2258|0.30868024800708593|\n",
      "|2008|     N570ML|  695|      2341|0.29688167449807773|\n",
      "|2008|     N17156|  692|      1964|0.35234215885947046|\n",
      "|2008|     N27173|  690|      2199|0.31377899045020463|\n",
      "|2008|     N27318|  681|      3501|  0.194515852613539|\n",
      "|2008|     N571ML|  677|      2304| 0.2938368055555556|\n",
      "|2008|     N77302|  676|      3124|0.21638924455825864|\n",
      "|2008|     N75998|  670|      2332|0.28730703259005147|\n",
      "|2008|     N75992|  670|      2212|0.30289330922242313|\n",
      "|2008|     N592ML|  670|      2093| 0.3201146679407549|\n",
      "|2008|     N75996|  668|      2215| 0.3015801354401806|\n",
      "|2008|     N47202|  665|      2188| 0.3039305301645338|\n",
      "+----+-----------+-----+----------+-------------------+\n",
      "only showing top 20 rows\n",
      "\n"
     ]
    }
   ],
   "source": [
    "dfworking = df_with_delay2008.groupBy(['year', 'tail_number'])\\\n",
    "    .agg((func.sum('is_delay')).alias('delay'),func.count('*').alias('No_flights'),(func.sum('is_delay')/func.count('*')).alias(\"ratio\"))\\\n",
    "    .filter(df_with_delay2008[\"tail_number\"]!= \"null\").orderBy(desc(\"delay\"))\n",
    "\n",
    "dfworking.show()"
   ]
  },
  {
   "cell_type": "code",
   "execution_count": 82,
   "metadata": {
    "collapsed": false,
    "scrolled": false
   },
   "outputs": [
    {
     "name": "stdout",
     "output_type": "stream",
     "text": [
      "4065\n",
      "+-----------+-----+----------+-------------------+-----------+--------------+----------+----------+--------------------+-----------+\n",
      "|tail_number|delay|No_flights|              ratio|       type|  manufacturer|issue_date|     model|       aircraft_type|engine_type|\n",
      "+-----------+-----+----------+-------------------+-----------+--------------+----------+----------+--------------------+-----------+\n",
      "|     N692CA|  629|      1608|0.39116915422885573|Corporation|BOMBARDIER INC|10/26/2007|CL600-2D24|Fixed Wing Multi-...|  Turbo-Fan|\n",
      "|     N693CA|  622|      1606|0.38729763387297633|Corporation|BOMBARDIER INC|11/21/2007|CL600-2D24|Fixed Wing Multi-...|  Turbo-Fan|\n",
      "|     N678CA|  622|      1607|0.38705662725575607|Corporation|BOMBARDIER INC|09/10/2007|CL600-2D24|Fixed Wing Multi-...|  Turbo-Fan|\n",
      "|     N338AA|  271|       703|0.38549075391180654|Corporation|        BOEING|01/19/1988|   767-223|Fixed Wing Multi-...|  Turbo-Fan|\n",
      "|     N368AA|   94|       244|0.38524590163934425|Corporation|        BOEING|11/08/2002|   767-323|Fixed Wing Multi-...|  Turbo-Fan|\n",
      "|     N596HA|  206|       535| 0.3850467289719626|Corporation|        BOEING|04/04/2006|   767-332|Fixed Wing Multi-...|  Turbo-Fan|\n",
      "|     N328AA|  233|       610| 0.3819672131147541|Corporation|        BOEING|04/09/2004|   767-223|Fixed Wing Multi-...|  Turbo-Fan|\n",
      "|     N329AA|  282|       739|0.38159675236806495|Corporation|        BOEING|04/09/2004|   767-223|Fixed Wing Multi-...|  Turbo-Fan|\n",
      "|     N629AA|  294|       775| 0.3793548387096774|Corporation|        BOEING|12/14/1999|   757-223|Fixed Wing Multi-...|  Turbo-Fan|\n",
      "|     N256AY|   56|       148| 0.3783783783783784|Corporation|        BOEING|09/01/2005|   767-2B7|Fixed Wing Multi-...|  Turbo-Jet|\n",
      "|     N641AA|  326|       863|0.37775202780996525|Corporation|        BOEING|01/11/2002|   757-223|Fixed Wing Multi-...|  Turbo-Fan|\n",
      "|     N289YV|   81|       215| 0.3767441860465116|Corporation|       EMBRAER|07/10/1998| EMB-120ER|Fixed Wing Multi-...| Turbo-Prop|\n",
      "|     N644UA|   76|       202|0.37623762376237624|Corporation|        BOEING|11/22/2005|   767-322|Fixed Wing Multi-...|  Turbo-Fan|\n",
      "|     N689CA|  605|      1612| 0.3753101736972705|Corporation|BOMBARDIER INC|10/02/2007|CL600-2D24|Fixed Wing Multi-...|  Turbo-Fan|\n",
      "|     N554CA|  459|      1229|0.37347436940602113|Corporation|BOMBARDIER INC|03/20/2008|CL600-2D24|Fixed Wing Multi-...|  Turbo-Fan|\n",
      "|     N548CA|  561|      1508| 0.3720159151193634|Corporation|BOMBARDIER INC|01/28/2008|CL600-2D24|Fixed Wing Multi-...|  Turbo-Fan|\n",
      "|     N676CA|  607|      1633| 0.3717085119412125|Corporation|BOMBARDIER INC|08/24/2007|CL600-2D24|Fixed Wing Multi-...|  Turbo-Fan|\n",
      "|     N13138|  140|       377| 0.3713527851458886|Corporation|        BOEING|06/02/2000|   757-224|Fixed Wing Multi-...|  Turbo-Jet|\n",
      "|     N372AA|   86|       232| 0.3706896551724138|Corporation|        BOEING|05/22/1992|   767-323|Fixed Wing Multi-...|  Turbo-Fan|\n",
      "|     N594HA|  171|       462|0.37012987012987014|Corporation|        BOEING|04/06/2006|   767-332|Fixed Wing Multi-...|  Turbo-Fan|\n",
      "+-----------+-----+----------+-------------------+-----------+--------------+----------+----------+--------------------+-----------+\n",
      "only showing top 20 rows\n",
      "\n"
     ]
    }
   ],
   "source": [
    "tail_delay = dfworking.join(indiv_planefilt,dfworking.tail_number==indiv_planefilt.tailnum).drop(\"status\",\"tailnum\",\"year\").orderBy(desc(\"ratio\"))\n",
    "tail_delay = tail_delay[tail_delay[\"delay\"]>=50]\n",
    "print(tail_delay.count())\n",
    "tail_delay.show()"
   ]
  },
  {
   "cell_type": "code",
   "execution_count": 83,
   "metadata": {
    "collapsed": false,
    "scrolled": false
   },
   "outputs": [
    {
     "name": "stdout",
     "output_type": "stream",
     "text": [
      "+-----------------+-------------------+------------+\n",
      "|            model|        ratio_model|number_plane|\n",
      "+-----------------+-------------------+------------+\n",
      "|          767-2B7| 0.3522012578616352|           2|\n",
      "|          767-223| 0.3478078014930081|          14|\n",
      "|           DC-7BF| 0.3407079646017699|           1|\n",
      "|            S-76A|0.33617021276595743|           1|\n",
      "|           F85P-1| 0.3350189633375474|           1|\n",
      "|             172E| 0.3295880149812734|           1|\n",
      "|          757-223|0.32145684877276326|          27|\n",
      "|          757-224| 0.3159805550427666|          41|\n",
      "|          767-201|0.30456852791878175|           1|\n",
      "|          767-323|0.30283185840707966|          25|\n",
      "|             A-1B|0.29931972789115646|           2|\n",
      "|             G-IV| 0.2953156822810591|           2|\n",
      "|             S55A|0.29490478641276374|           2|\n",
      "|          757-222| 0.2940518068436201|          96|\n",
      "|      PA-32RT-300|0.28699551569506726|           1|\n",
      "|          EMB-145| 0.2832864809608996|           5|\n",
      "|        EMB-135ER| 0.2791646271822483|          12|\n",
      "|             690A| 0.2782608695652174|           1|\n",
      "|      CL-600-2C10|0.27060253502440884|         156|\n",
      "|VANS AIRCRAFT RV6|0.27052489905787347|           1|\n",
      "+-----------------+-------------------+------------+\n",
      "only showing top 20 rows\n",
      "\n"
     ]
    }
   ],
   "source": [
    "model_delay=tail_delay.groupBy(\"model\").agg((func.sum('delay')/func.sum('No_flights')).alias(\"ratio_model\"),(func.count(\"*\")).alias(\"number_plane\")).orderBy(desc(\"ratio_model\"))\n",
    "model_delay.show()"
   ]
  },
  {
   "cell_type": "code",
   "execution_count": 84,
   "metadata": {
    "collapsed": false,
    "scrolled": false
   },
   "outputs": [
    {
     "data": {
      "image/png": "[encoded data removed]",
      "text/plain": [
       "<matplotlib.figure.Figure at 0x7f0ee4a54080>"
      ]
     },
     "metadata": {},
     "output_type": "display_data"
    }
   ],
   "source": [
    "plt.figure(figsize=(20,10))\n",
    "plt.plot(model_delay.select(\"number_plane\").collect(),model_delay.select(\"ratio_model\").collect(),'bo')\n",
    "plt.xlabel('Number of plane(same model)')\n",
    "plt.ylabel('Ratio model')\n",
    "plt.title('Delay ratio per each model of plane')\n",
    "plt.show()"
   ]
  },
  {
   "cell_type": "markdown",
   "metadata": {},
   "source": [
    "<div class=\"alert alert-warning\"> Here we matched the model of planes with the delay ratio, and we notice that some model have less number of planes but with highdelay ratio and other model that have a lot of products that have moderate ration (0.25) </div>"
   ]
  },
  {
   "cell_type": "code",
   "execution_count": 85,
   "metadata": {
    "collapsed": false
   },
   "outputs": [
    {
     "name": "stdout",
     "output_type": "stream",
     "text": [
      "+--------------------+-------------------+------------+\n",
      "|        manufacturer|        ratio_model|number_plane|\n",
      "+--------------------+-------------------+------------+\n",
      "|            SIKORSKY|0.33617021276595743|           1|\n",
      "|     MORSE GEORGE JR| 0.3350189633375474|           1|\n",
      "|  AVIAT AIRCRAFT INC|0.29931972789115646|           2|\n",
      "|GULFSTREAM AEROSPACE| 0.2953156822810591|           2|\n",
      "|               RAVEN|0.29490478641276374|           2|\n",
      "|      AERO COMMANDER| 0.2782608695652174|           1|\n",
      "|      FRIEDEMANN JON|0.27052489905787347|           1|\n",
      "|          AGUSTA SPA|0.26991150442477874|           1|\n",
      "| AEROSPATIALE/ALENIA|  0.267011475674802|           4|\n",
      "|               BEECH|0.25430002177226213|           5|\n",
      "|          MARZ BARRY|  0.252212389380531|           1|\n",
      "|                BELL| 0.2501855976243504|           1|\n",
      "|               PIPER|0.25012431626056686|           6|\n",
      "|       WOBIG WAYNE R|  0.242467718794835|           1|\n",
      "|            CANADAIR|0.24062986599995614|          84|\n",
      "|   MCDONNELL DOUGLAS|0.23924588422729687|         250|\n",
      "|               HELIO|0.23897581792318634|           1|\n",
      "|     LEBLANC GLENN T|0.23819444444444443|           1|\n",
      "|        STINNETT RON|0.23722627737226276|           1|\n",
      "|DIAMOND AIRCRAFT ...|0.23476702508960573|           1|\n",
      "+--------------------+-------------------+------------+\n",
      "only showing top 20 rows\n",
      "\n"
     ]
    },
    {
     "data": {
      "image/png": "[encoded data removed]",
      "text/plain": [
       "<matplotlib.figure.Figure at 0x7f0ee4ab1ba8>"
      ]
     },
     "metadata": {},
     "output_type": "display_data"
    }
   ],
   "source": [
    "model_delay=tail_delay.groupBy(\"manufacturer\").agg((func.sum('delay')/func.sum('No_flights')).alias(\"ratio_model\"),(func.count(\"tail_number\")).\\\n",
    "                                                   alias(\"number_plane\")).orderBy(desc(\"ratio_model\"))\n",
    "model_delay.show()\n",
    "plt.figure(figsize=(20,10))\n",
    "plt.plot(model_delay.select(\"number_plane\").collect(),model_delay.select(\"ratio_model\").collect(),'go')\n",
    "plt.xlabel('Number of plane(same model)')\n",
    "plt.ylabel('Ratio model')\n",
    "plt.title('Delay ratio per each model of plane')\n",
    "plt.show()"
   ]
  },
  {
   "cell_type": "markdown",
   "metadata": {},
   "source": [
    "<div class=\"alert alert-warning\"> Here we matched the manufacturer with the delay ratio, and we deduce that some manufacturer have 1 plane with high delay ratio and other with high number of plane (independently of model) have moderate delay ratio</div>"
   ]
  },
  {
   "cell_type": "code",
   "execution_count": 86,
   "metadata": {
    "collapsed": false
   },
   "outputs": [
    {
     "name": "stdout",
     "output_type": "stream",
     "text": [
      "+--------------------+-------------------+------------+\n",
      "|       aircraft_type|        ratio_model|number_plane|\n",
      "+--------------------+-------------------+------------+\n",
      "|             Balloon|0.29490478641276374|           2|\n",
      "|          Rotorcraft|0.26382743362831856|           3|\n",
      "|Fixed Wing Single...|0.25093572664708014|          23|\n",
      "|Fixed Wing Multi-...| 0.2193794582973778|        4037|\n",
      "+--------------------+-------------------+------------+\n",
      "\n"
     ]
    },
    {
     "data": {
      "image/png": "[encoded data removed]",
      "text/plain": [
       "<matplotlib.figure.Figure at 0x7f0ee4ab8470>"
      ]
     },
     "metadata": {},
     "output_type": "display_data"
    }
   ],
   "source": [
    "model_delay=tail_delay.groupBy(\"aircraft_type\").agg((func.sum('delay')/func.sum('No_flights')).alias(\"ratio_model\"),(func.count(\"tail_number\")).\\\n",
    "                                                   alias(\"number_plane\")).orderBy(desc(\"ratio_model\"))\n",
    "model_delay.show()\n",
    "plt.figure(figsize=(20,10))\n",
    "plt.plot(model_delay.select(\"number_plane\").collect(),model_delay.select(\"ratio_model\").collect(),'go')\n",
    "plt.xlabel('Number of plane(same model)')\n",
    "plt.ylabel('Ratio model')\n",
    "plt.title('Delay ratio per each model of plane')\n",
    "plt.show()\n"
   ]
  },
  {
   "cell_type": "markdown",
   "metadata": {
    "collapsed": true
   },
   "source": [
    "# Summary\n",
    "In this lecture, we've had an overview about Decision Trees, Random Forests and how to use them. We also insisted on a simple methodology to adopt when dealing with a Data Science problem. \n",
    "The main take home messages should be:\n",
    "\n",
    "* Feature selection is a difficult, delicate and important task. In this project, the student was heavily guided. However, we invite to exercise with additional features, for example external ones related to weather conditions.\n",
    "\n",
    "* Parameter tuning requires a deep understanding of the algorithm used to build a statistical model. In general, to reduce computational cost, several techniques introduce parameters that, if tuned properly, can lead to tremendous time savings."
   ]
  }
 ],
 "metadata": {
  "kernelspec": {
   "display_name": "Python 3",
   "language": "python",
   "name": "python3"
  },
  "language_info": {
   "codemirror_mode": {
    "name": "ipython",
    "version": 3
   },
   "file_extension": ".py",
   "mimetype": "text/x-python",
   "name": "python",
   "nbconvert_exporter": "python",
   "pygments_lexer": "ipython3",
   "version": "3.5.2"
  }
 },
 "nbformat": 4,
 "nbformat_minor": 0
}
