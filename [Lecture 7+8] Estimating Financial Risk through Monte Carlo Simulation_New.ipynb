{
 "cells": [
  {
   "cell_type": "markdown",
   "metadata": {},
   "source": [
    "2017 Edition"
   ]
  },
  {
   "cell_type": "markdown",
   "metadata": {},
   "source": [
    "# Estimating Financial Risk through Monte Carlo Simulation\n",
    "Risk analysis is part of every decision we make when faced with uncertainty, ambiguity, and variability. Indeed, even though we have unprecedented access to information, we can't accurately predict the future. In finance, there is a fair amount of uncertainty and risk involved with estimating the future value of financial products, due to the wide variety of potential outcomes. Monte Carlo simulation (also known as the Monte Carlo Method) allows inspecting many possible outcomes of the decision making process, and can be used to assess the impact of risk: this, in turns, allows for better decision-making under uncertainty.\n",
    "\n",
    "## Goals\n",
    "The main objectives we set for this Notebook are as follows:\n",
    "1. Develop fundamental knowledge about Risk analysis\n",
    "2. Understand Monte Carlo Simulation (MCS)\n",
    "3. Apply Monte Carlo Simulation for predicting risk\n",
    "\n",
    "\n",
    "## Steps\n",
    "1. First, in section 1, we introduce the basics of MCS\n",
    "2. In section 2, we work on a simple example to where we apply the MCS method\n",
    "3. In section 3, we briefly summarize the main characteristics of the Monte Carlo Simulation (MCS) technique\n",
    "4. In section 4, we overview the common distributions which are often used in MCS\n",
    "5. In section 5, we work on a real use case, that focuses on estimating financial risk. We will use techniques such as featurization  (that is, generating additional features to improve model accuracy), linear regression, kernel density estimation, sampling distributions and so on ...\n",
    "\n",
    "## Reference\n",
    "This Notebook is inspired by Chapter 9 of the book [Advanced Analytics with Spark](http://shop.oreilly.com/product/0636920035091.do) by Josh Wills, Sandy Ryza, Sean Owen, and Uri Laserson. It is strongly suggested to read this Chapter to get a general idea of the topic of this Notebook.\n",
    "\n",
    "# 1. Introduction\n",
    "\n",
    "## 1.1. Monte Carlo Simulation (MCS)\n",
    "Monte Carlo simulation is a computerized mathematical technique that can be applied such that it is possible to account for risk in quantitative analysis and decision making. This technique is used in many different fields, such as R&D, risk management, portfolio management, pricing derivatives, strategic planning, project planning, cost modeling and many more.\n",
    "\n",
    "In general, MCS is a technique that \"converts\" uncertainty on input variables of a model into **probability distributions**. By combining the distributions and randomly selecting values from them, it recalculates the simulated model many times, to determine the probability of the output.\n",
    "\n",
    "Historically, this technique was first used by scientists working on the atomic bomb: it was named after Monte Carlo, the Monaco resort town renowned for its casinos.  Since its introduction in World War II, Monte Carlo simulation has been used to model a variety of physical and conceptual systems.\n",
    "\n",
    "## 1.2. How does it work?\n",
    "Monte Carlo simulation performs risk analysis by building models of possible results by *substituting a range of possible input values, that constitute uncertainty, into a statistical distribution*. It then computes possible outcomes repeatedly, each time using a different set of random values from the probability functions that \"model\" the input. Depending upon the number of random input variables and their distribution, a Monte Carlo simulation could involve thousands or tens of thousands of \"rounds\" before it is complete. When complete, *Monte Carlo simulation produces distributions of possible outcome values*.\n",
    "\n",
    "By using probability distributions instead of actual input samples, it is possible to model more accurately uncertainty: different choices of distributions will yield different outputs."
   ]
  },
  {
   "cell_type": "markdown",
   "metadata": {},
   "source": [
    "# 2. Illustrative example\n",
    "\n",
    "Imagine you are the marketing manager for a firm that is planning to introduce a new product. You need to estimate the first-year net profit from this product, which might depend on:\n",
    "\n",
    "- Sales volume in units\n",
    "- Price per unit (also called \"Selling price\")\n",
    "- Unit cost\n",
    "- Fixed costs\n",
    "\n",
    "Net profit will be calculated as $Net Profit = Sales Volume* (Selling Price - Unit cost) - Fixed costs$.  Fixed costs (accounting for various overheads, advertising budget, etc.) are known to be \\$ 120,000, which we assume to be deterministic. All other factors, instead, involve some uncertainty: *sales volume* (in units) can cover quite a large range, the *selling price* per unit will depend on competitor actions, which are hard to predict, and *unit costs* will also vary depending on vendor prices and production experience, for example.\n",
    "\n",
    "Now, to build a risk analysis model, we must first identify the uncertain variables -- which are essentially random variables.  While there's some uncertainty in almost all variables in a business model, we want to focus on variables where the range of values is significant."
   ]
  },
  {
   "cell_type": "markdown",
   "metadata": {},
   "source": [
    "## 2.1. Unit sales and unit price\n",
    "\n",
    "Based on a hypothetical market research you have done, you have beliefs that there are equal chances for the market to be `slow`, `normal`, or `hot`:\n",
    "\n",
    "- In a \"slow\" market, you expect to sell 50,000 units at an average selling price of \\$11.00 per unit\n",
    "- In a \"normal\" market, you expect to sell 75,000 units, but you'll likely realize a lower average selling price of \\$10.00 per unit\n",
    "- In a \"hot\" market, you expect to sell 100,000 units, but this will bring in competitors, who will drive down the average selling price to \\$8.00 per unit"
   ]
  },
  {
   "cell_type": "markdown",
   "metadata": {},
   "source": [
    "![](https://farm2.staticflickr.com/1604/24934700445_833f0a5649_t.jpg)"
   ]
  },
  {
   "cell_type": "markdown",
   "metadata": {},
   "source": [
    "### Question 1\n",
    "<div class=\"alert alert-info\">\n",
    "Calculate the average units and the unit price that you expect to sell, which depend on the market state. Use the assumptions above to compute the expected quantity of products and their expected unit price. \n",
    "</div>\n"
   ]
  },
  {
   "cell_type": "code",
   "execution_count": 199,
   "metadata": {
    "collapsed": false
   },
   "outputs": [
    {
     "name": "stdout",
     "output_type": "stream",
     "text": [
      "average unit: 75000.0\n",
      "average_price: 9.666666666666666\n"
     ]
    }
   ],
   "source": [
    "average_unit = (50000+75000+100000)/3.0\n",
    "average_price = (11+10+8)/3.0\n",
    "print(\"average unit:\", average_unit)\n",
    "print(\"average_price:\", average_price)"
   ]
  },
  {
   "cell_type": "markdown",
   "metadata": {},
   "source": [
    "## 2.2. Unit Cost\n",
    "\n",
    "Another uncertain variable is Unit Cost. In our illustrative example, we assume that your firm's production manager advises you that unit costs may be anywhere from \\$5.50 to \\$7.50, with a most likely expected cost of \\$6.50. In this case, the most likely cost can be considered as the average cost.\n",
    "\n",
    "## 2.3. A Flawed Model: using averages to represent our random variables\n",
    "Our next step is to identify uncertain functions -- also called functions of a random variable.  Recall that Net Profit is calculated as $Net Profit = Sales Volume * (Selling Price - Unit cost) - Fixed costs$.  However, Sales Volume, Selling Price and Unit Cost are all uncertain variables, so Net Profit is an uncertain function.\n",
    "\n",
    "The simplest model to predict the Net Profit is using average of sales volume, average of selling price and average of unit cost for calculating. So, if only consider averages, we can say that the $Net Profit = 75,000*(9.66666666 - 6.5) - 120,000 \\sim 117,500$.\n",
    "\n",
    "However, as [Dr. Sam Savage](http://web.stanford.edu/~savage/faculty/savage/) warns, \"Plans based on average assumptions will be wrong on average.\" The calculated result is far from the actual value: indeed, the **true average Net Profit** is roughly  \\$93,000, as we will see later in the example."
   ]
  },
  {
   "cell_type": "markdown",
   "metadata": {},
   "source": [
    "![](https://farm2.staticflickr.com/1604/24934700445_833f0a5649_t.jpg)"
   ]
  },
  {
   "cell_type": "markdown",
   "metadata": {},
   "source": [
    "### Question 2\n",
    "#### Question 2.1\n",
    "<div class=\"alert alert-info\">\n",
    "Write a function named `calNetProfit` to calculate the Net Profit using the average of sales volume, the average of selling price and the average of unit cost.\n",
    "</div>"
   ]
  },
  {
   "cell_type": "code",
   "execution_count": 200,
   "metadata": {
    "collapsed": false
   },
   "outputs": [
    {
     "name": "stdout",
     "output_type": "stream",
     "text": [
      "Net profit: 117499.99999999994\n"
     ]
    }
   ],
   "source": [
    "def calNetProfit(average_unit, average_price, average_unitcost, fixed_cost):\n",
    "    return average_unit*(average_price-average_unitcost)-fixed_cost\n",
    "\n",
    "average_unitcost = (5.5+7.5)/2.0\n",
    "fixed_cost = 120000\n",
    "NetProfit = calNetProfit(average_unit,average_price,average_unitcost,fixed_cost)\n",
    "print(\"Net profit:\", NetProfit)"
   ]
  },
  {
   "cell_type": "markdown",
   "metadata": {},
   "source": [
    "#### Question 2.2\n",
    "<div class=\"alert alert-info\">\n",
    "Verify the warning message of Dr. Sam Savage by calculating the error of our estimated Net Profit using averages only. Recall that the true value is roughly \\$93,000, so we are interested in:\n",
    "<ul></ul>\n",
    "\n",
    "$$ error = \\frac{your\\_value - true\\_value}{true\\_value}$$\n",
    "\n",
    "<ul></ul>\n",
    "Note also we are interested in displaying the error as a percentage.\n",
    "<ul></ul>\n",
    "Looking at the error we make, do you think that we can use the current model that only relies on averages?\n",
    "</div>"
   ]
  },
  {
   "cell_type": "code",
   "execution_count": 201,
   "metadata": {
    "collapsed": false
   },
   "outputs": [
    {
     "name": "stdout",
     "output_type": "stream",
     "text": [
      "Error in percentage: 26.344086021505316\n"
     ]
    }
   ],
   "source": [
    "trueNetProfit = 93000\n",
    "error = (NetProfit - trueNetProfit) / (trueNetProfit)\n",
    "print(\"Error in percentage:\", error * 100)"
   ]
  },
  {
   "cell_type": "markdown",
   "metadata": {},
   "source": [
    "<div class=\"alert alert-warning\">\n",
    "\n",
    "The percentage of the error is relatively quite high, it's roughly 1/4 of the amount estimated is wrong. So we can't rely on model that only uses the averages.\n",
    "\n",
    "</div>"
   ]
  },
  {
   "cell_type": "markdown",
   "metadata": {},
   "source": [
    "## 2.4. Using the Monte Carlo Simulation method to improve our model\n",
    "As discussed before, the selling price and selling volume both depend on the state of the market scenario (slow/normal/hot). So, the net profit is the result of two random variables: `market scenario` (which in turn determines `sales volumes` and `selling price`) and `unit cost`.\n",
    "\n",
    "Now, let's assume (this is an *a-priori* assumption we make) that `market scenario` follows a discrete, uniform distribution and that `unit cost` also follows a uniform distribution. Then, we can compute directly the values for selling price and selling volumes based on the outcome of the random variable `market scenario`, as shown in Section 2.1.\n",
    "\n",
    "From these a-priori distributions, in each run (or trial) of our Monte Carlo simulation, we can generate the sample value for each random variable and use it to calculate the Net Profit. The more simulation runs, the more accurate our results will be. For example, if we run the simulation 100,000 times, the average net profit will amount to roughly \\$92,600. Every time we run the simulation, a different prediction will be output: the average of such predictions will consistently be less than \\$117,500, which we predicted using averages only.\n",
    "\n",
    "Note also that in this simple example, we generate values for the `market scenario` and `unit cost` independently: we consider them to be **independent random variables**. This means that the eventual (and realistic!) correlation between the `market scenario` and `unit cost` variables is ignored. Later, we will learn how to be more precise and account for dependency between random variables.\n"
   ]
  },
  {
   "cell_type": "markdown",
   "metadata": {},
   "source": [
    "![](https://farm2.staticflickr.com/1604/24934700445_833f0a5649_t.jpg)"
   ]
  },
  {
   "cell_type": "markdown",
   "metadata": {},
   "source": [
    "### Question 3\n",
    "#### Question 3.1\n",
    "<div class=\"alert alert-info\">\n",
    "Write a function named `get_sales_volume_price` that returns the sales volume and price based on the market scenario. In particular, the scenario can get one of three values:\n",
    "<ul>\n",
    "  <li>0: Slow market</li>\n",
    "  <li>1: Normal market</li>\n",
    "  <li>2: Hot market</li>\n",
    "</ul>  \n",
    "\n",
    "The return value is a tuple in the form: `(sales_volume, price)`\n",
    "</div>"
   ]
  },
  {
   "cell_type": "code",
   "execution_count": 202,
   "metadata": {
    "collapsed": true
   },
   "outputs": [],
   "source": [
    "# Get sales volume and  price based on market scenario\n",
    "# the function returns a tuple of (sales_volume, price)\n",
    "def get_sales_volume_price(scenario):\n",
    "    # Slow market\n",
    "    if scenario == 0:\n",
    "        return (50000,11)\n",
    "    # Normal market\n",
    "    if scenario==1:\n",
    "        return (75000,10)\n",
    "    # Hot market\n",
    "    if scenario==2:\n",
    "        return (100000,8)"
   ]
  },
  {
   "cell_type": "markdown",
   "metadata": {},
   "source": [
    "#### Question 3.2\n",
    "<div class=\"alert alert-info\">\n",
    "Run 100,000 Monte Carlo simulations and calculate the average net profit they produce. Then, compare the result to the \"average model\" we used in the previous questions (the one we called \"flawed\" model). Put your comments about the discrepancies between a simplistic model, and the more accurate MCS approach.  \n",
    "<ul></ul>\n",
    "Note that in each iteration, the `unit_cost` and `market_scenario` are generated according to their distributions. Also, recall what we have seen in Section 2.2: your firm account manager helped you with some research, to determine the variability of your random variables.  \n",
    "</div>\n",
    "\n",
    "\n",
    "<div class=\"label label-success\">HINT</div>  \n",
    "\n",
    "Function `uniform(a,b)` in module `random` generates a number $a<=c<=b$, which is drawn from a uniform distribution.  \n",
    "\n",
    "Function `randint(a,b)` helps you generating an integer number $a<=c<=b$"
   ]
  },
  {
   "cell_type": "code",
   "execution_count": 203,
   "metadata": {
    "collapsed": false
   },
   "outputs": [
    {
     "name": "stdout",
     "output_type": "stream",
     "text": [
      "average net profit: 92509.43209495074\n"
     ]
    }
   ],
   "source": [
    "import random\n",
    "%matplotlib inline\n",
    "import matplotlib.pyplot as plt\n",
    "\n",
    "total = 0.0\n",
    "num_simulation = 100000\n",
    "x = []\n",
    "y = []\n",
    "const = []\n",
    "for i in range(0,num_simulation):\n",
    "    unit_cost = random.uniform(5.5,7.5)\n",
    "    market_scenario = random.randint(0,2)\n",
    "    sales_volume, price = get_sales_volume_price(market_scenario)\n",
    "    netProfit = calNetProfit(sales_volume,price,unit_cost,fixed_cost)\n",
    "    total += netProfit\n",
    "    if(i%1000==0):\n",
    "        x.append(i)\n",
    "        y.append(total/(i+1))\n",
    "        const.append(93000)\n",
    "\n",
    "print(\"average net profit:\", total/float(num_simulation))"
   ]
  },
  {
   "cell_type": "code",
   "execution_count": 204,
   "metadata": {
    "collapsed": false
   },
   "outputs": [
    {
     "data": {
      "image/png": "[encoded data removed]",
      "text/plain": [
       "<matplotlib.figure.Figure at 0x7f1f9ce96c88>"
      ]
     },
     "metadata": {},
     "output_type": "display_data"
    }
   ],
   "source": [
    "plt.figure(figsize=(20,10))\n",
    "plt.xlabel(\"Iterarion\")\n",
    "plt.ylabel(\"Net profit\")\n",
    "plt.title('The change of net profit over iterations')\n",
    "plt.plot(x,y)\n",
    "plt.plot(x,const)\n",
    "plt.show()"
   ]
  },
  {
   "cell_type": "code",
   "execution_count": 205,
   "metadata": {
    "collapsed": false
   },
   "outputs": [
    {
     "name": "stdout",
     "output_type": "stream",
     "text": [
      "Error in percentage: -0.5274923710207116\n"
     ]
    }
   ],
   "source": [
    "error = ((total/float(num_simulation)) - trueNetProfit) / (trueNetProfit)\n",
    "print(\"Error in percentage:\", error * 100)"
   ]
  },
  {
   "cell_type": "markdown",
   "metadata": {},
   "source": [
    "<div class=\"alert alert-warning\">\n",
    "The result is getting closer to the true value of net profit. It is possible to see that after 5000 iterations the net profit is already very close to the expected net profit. The error is reduced a lot. And this can be explained by the fact that we run multiple iterations, differentiating market scenarios.\n",
    "</div>"
   ]
  },
  {
   "cell_type": "markdown",
   "metadata": {},
   "source": [
    "\n",
    "# 3. A brief summary of the Monte Carlo Simulation (MCS) technique\n",
    "\n",
    "- A MCS allows several inputs to be used at the same time to compute the probability distribution of one or more outputs\n",
    "- Different types of probability distributions can be assigned to the inputs of the model, depending on any *a-priori* information that is available. When the distribution is completely unknown, a common technique is to use a distribution computed by finding the best fit to the data you have\n",
    "- The MCS method is also called a **stochastic method** because it uses random variables. Note also that the general assumption is for input random variables to be independent from each other. When this is not the case, there are techniques to account for correlation between random variables.\n",
    "- A MCS generates the output as a range instead of a fixed value and shows how likely the output value is to occur in that range. In other words, the model outputs a probability distribution."
   ]
  },
  {
   "cell_type": "markdown",
   "metadata": {
    "collapsed": true
   },
   "source": [
    "# 4. Common distributions used in MCS\n",
    "In what follows, we summarize the most common probability distributions that are used as *a-priori* distributions for input random variables:\n",
    "\n",
    "- *Normal/Gaussian Distribution*: this is a continuous distribution applied in situations where the mean and the standard deviation of a given input variable are given, and the mean represents the most probable value of the variable. In other words, values \"near\" the mean are most likely to occur.  This is symmetric distribution, and it is not bounded in its co-domain. It is very often used to  describe natural phenomena, such as people’s heights, inflation rates, energy prices, and so on and so forth. An illustration of a normal distribution is given below:\n",
    "![normal_distribution](https://upload.wikimedia.org/wikipedia/commons/thumb/7/74/Normal_Distribution_PDF.svg/320px-Normal_Distribution_PDF.svg.png)\n",
    "\n",
    "- *Lognormal Distribution*: this is a distribution which is appropriate for variables taking values in the range $[0, \\infty]$. Values are positively skewed, not symmetric like a normal distribution.  Examples of variables described by some lognormal distributions include, for example, real estate property values, stock prices, and oil reserves. An illustration of a lognormal distribution is given below:\n",
    "![log_normal_distribution](https://upload.wikimedia.org/wikipedia/commons/thumb/a/ae/PDF-log_normal_distributions.svg/320px-PDF-log_normal_distributions.svg.png) \n",
    "\n",
    "- *Triangular Distribution*: this is a continuous distribution with fixed minimum and maximum values. It is bounded by the minimum and maximum values and can be either symmetrical (the most probable value = mean = median) or asymmetrical. Values around the most likely value (e.g. the mean) are more likely to occur.  Variables that could be described by a triangular distribution include, for example, past sales history per unit of time and inventory levels. An illustration of a triangular distribution is given below:\n",
    "![](https://upload.wikimedia.org/wikipedia/commons/thumb/4/45/Triangular_distribution_PMF.png/320px-Triangular_distribution_PMF.png)\n",
    "\n",
    "- *Uniform Distribution*: this is a continuous distribution bounded by known minimum and maximum values. In contrast to the triangular distribution, the likelihood of occurrence of the values between the minimum and maximum is the same. In other words, all values have an equal chance of occurring, and the distribution is simply characterized by the minimum and maximum values. Examples of variables that can be described by a uniform distribution include manufacturing costs or future sales revenues for a new product. An illustration of the uniform distribution is given below:\n",
    "![](https://upload.wikimedia.org/wikipedia/commons/thumb/9/96/Uniform_Distribution_PDF_SVG.svg/320px-Uniform_Distribution_PDF_SVG.svg.png)\n",
    "\n",
    "- *Exponential Distribution*: this is a continuous distribution used to model the time that pass between independent occurrences, provided that the rate of occurrences is known. An example of the exponential distribution is given below:\n",
    "![](https://upload.wikimedia.org/wikipedia/commons/thumb/e/ec/Exponential_pdf.svg/320px-Exponential_pdf.svg.png)\n",
    "\n",
    "- *Discrete Distribution* : for this kind of distribution, the \"user\" defines specific values that may occur and the likelihood of each of them.  An example might be the results of a lawsuit: 20% chance of positive verdict, 30% change of negative verdict, 40% chance of settlement, and 10% chance of mistrial.\n"
   ]
  },
  {
   "cell_type": "markdown",
   "metadata": {},
   "source": [
    "# 5. A real use case: estimating the financial risk of a portfolio of stocks\n",
    "We hope that by now you have a good understanding about Monte Carlo simulation. Next, we apply this method to a real use case: *financial risk estimation*.\n",
    "\n",
    "Imagine that you are an investor on the stock market. You plan to buy some stocks and you want to estimate the maximum loss you could incur after two weeks of investing. This is the quantity that the financial statistic \"Value at Risk\" (VaR) seeks to measure. [VaR](https://en.wikipedia.org/wiki/Value_at_risk) is defined as a measure of investment risk that can be used as a reasonable estimate of the maximum probable loss for a value of an investment portfolio, over a particular time period. A VaR statistic depends on three parameters: a portfolio, a time period, and a confidence level. A VaR of 1 million dollars with a 95% confidence level over two weeks, indicates the belief that the portfolio stands only a 5% chance of losing more than 1 million dollars over two weeks. VaR has seen widespread use across financial services organizations. This statistic plays a vital role in determining how much cash investors must hold to meet the credit ratings that they seek. In addition, it is also used to understand the risk characteristics of large portfolios: it is a good idea to compute the VaR before executing trades, such that it can help take informed decisions about investments. \n",
    "\n",
    "Our goal is calculating VaR of two weeks interval with 95% confidence level and the associated [VaR confidence interval](http://www.investopedia.com/ask/answers/041615/whats-difference-between-confidence-level-and-confidence-interval-value-risk-var.asp).\n",
    "\n",
    "\n",
    "## 5.1. Terminology\n",
    "In this use case, we will use some terms that might require a proper definition, given the domain. This is what we call the *Domain Knowledge*.\n",
    "\n",
    "- **Instrument**: A tradable asset, such as a bond, loan, option, or stock investment. At any particular time, an instrument is considered to have a value, which is the price for which it can be sold. In the use case of this notebook, instruments are stock investments.\n",
    "- **Portfolio**: A collection of instruments owned by a financial institution. \n",
    "- **Return**: The change in an instrument or portfolio’s value over a time period. \n",
    "- **Loss**: A negative return. \n",
    "- **Index**: An imaginary portfolio of instruments. For example, the NASDAQ Composite index includes about 3,000 stocks and similar instruments for major US and international companies. \n",
    "- **Market factor**: A value that can be used as an indicator of macro aspects of the financial climate at a particular time. For example, the value of an index, the Gross Domestic Product of the United States, or the exchange rate between the dollar and the euro. We will often refer to market factors as just factors.\n",
    "\n",
    "## 5.2. The context of our use case\n",
    "We have a list of instruments that we plan to invest in. The historical data of each instrument has been collected for you. For simplicity, assume that the returns of instruments at a given time, depend on 4 market factors only: \n",
    "\n",
    "- GSPC value\n",
    "- IXIC value \n",
    "- The return of crude oil\n",
    "- The return of treasury bonds\n",
    "\n",
    "Our goal is building a model to predict the loss after two weeks' time interval with confidence level set to 95%.\n",
    "\n",
    "As a side note, it is important to realize that the approach presented in this Notebook is a simplified version of what would happen in a real Financial firm. For example, the returns of instruments at a given time often depend on more than 4 market factors only! Moreover, the choice of what constitute an appropriate market factor is an art!\n",
    "\n"
   ]
  },
  {
   "cell_type": "markdown",
   "metadata": {},
   "source": [
    "## 5.3. The Data\n",
    "The stock data can be downloaded (or scraped) from Yahoo! by making a series of REST calls. The data includes multiple files. Each file contains the historical information of each instrument that we want to invest in. The data is in the following format (with some samples):\n",
    "```\n",
    "Date, Open, High, Low, Close, Volume, Adj Close\n",
    "2016-01-22,66.239998,68.07,65.449997,67.860001,137400,67.860001\n",
    "2016-01-21,65.410004,66.18,64.459999,65.050003,148000,65.050003\n",
    "2016-01-20,64.279999,66.32,62.77,65.389999,141300,65.389999\n",
    "2016-01-19,67.720001,67.989998,64.720001,65.379997,178400,65.379997\n",
    "```\n",
    "\n",
    "The data of GSPC and IXIC values (our two first market factors) are also available on Yahoo! and use the very same format. \n",
    "\n",
    "The crude oil and treasure bonds data is collected from investing.com, and has a different format, as shown below (with some samples):\n",
    "```\n",
    "Date    Price   Open    High    Low     Vol.    Change %\n",
    "Jan 25, 2016    32.17   32.36   32.44   32.10   -       -0.59%\n",
    "Jan 24, 2016    32.37   32.10   32.62   31.99   -       0.54%\n",
    "Jan 22, 2016    32.19   29.84   32.35   29.53   -       9.01%\n",
    "Jan 21, 2016    29.53   28.35   30.25   27.87   694.04K 11.22%\n",
    "Jan 20, 2016    26.55   28.33   28.58   26.19   32.11K  -6.71%\n",
    "Jan 19, 2016    28.46   29.20   30.21   28.21   188.03K -5.21%\n",
    "```\n",
    "\n",
    "In our use case, the factors' data will be used jointly to build a statistical model: as a consequence, we first need to preprocess the data to proceed.\n",
    "\n",
    "## 5.4. Data preprocessing\n",
    "In this Notebook, all data files have been downloaded for you, such that you can focus on pre-processing. Next, we will:\n",
    "\n",
    "  - Read the factor data files which are in two different formats, process and merge them together\n",
    "  - Read the stock data and pre-process it\n",
    "  - Trim all data into a specific time region\n",
    "  - Fill in the missing values\n",
    "  - Generate the data of returns in each two weeks' time interval window\n",
    "  \n",
    "### Factor data pre-processing\n",
    "\n",
    "We need two functions to read and parse data from Yahoo! and Investing.com respectively. We are interested only in information about the time and the corresponding returns of a factor or an instrument: as a consequence, we will project away many columns of our RAW data, and keep only the information we are interested in.\n",
    "\n",
    "The 3000-instrument and the 4-factor history are small enough to be read and processed locally: we do not need to use the power of parallel computing to proceed. Note that this is true also for larger cases with hundreds of thousands of instruments and thousands of factors. The need for a distributed system like Spark comes in when actually **running** the Monte Carlo simulations, which can require massive amounts of computation on each instrument. "
   ]
  },
  {
   "cell_type": "markdown",
   "metadata": {},
   "source": [
    "![](https://farm2.staticflickr.com/1604/24934700445_833f0a5649_t.jpg)"
   ]
  },
  {
   "cell_type": "markdown",
   "metadata": {},
   "source": [
    "### Question 4\n",
    "#### Question 4.1\n",
    "<div class=\"alert alert-info\">\n",
    "Write a function named `readInvestingDotComHistory` to parse data from investing.com based on the format specified above (see Section 5.3). Recall that we use two factors here: one that is related to the price of crude oil, one that is related to some specific US bonds. \n",
    "\n",
    "<ul></ul>\n",
    "\n",
    "Print the first 5 entries of the first factor (crude oil price) in the parsed data.\n",
    "\n",
    "<ul></ul>\n",
    "\n",
    "Note that we are only interested in the date and price of stocks.\n",
    "\n",
    "</div>\n",
    "\n",
    "<div class=\"label label-success\">HINT</div>  \n",
    "You can parse a string to `datetime` object by using the function `strptime(<string>, <dtime_format>)`. In this case, the datetime format is `\"%b %d, %Y\"`. For more information, please follow this [link](https://docs.python.org/2/library/datetime.html#strftime-and-strptime-behavior)."
   ]
  },
  {
   "cell_type": "markdown",
   "metadata": {},
   "source": [
    "In the next cell, we simply copy data from our HDFS cluster (that contains everything we need for this Notebook) to the instance (a Docker container) running your Notebook. This means that you will have \"local\" data that you can process without using Spark. Note the folder location: find and verify that you have correctly downloaded the files!"
   ]
  },
  {
   "cell_type": "code",
   "execution_count": 206,
   "metadata": {
    "collapsed": false
   },
   "outputs": [],
   "source": [
    "! [ -d monte-carlo-risk ] || (echo \"Downloading prepared data from HDFS. Please wait...\" ; hdfs dfs -copyToLocal /datasets/monte-carlo-risk . ; echo \"Done!\";)"
   ]
  },
  {
   "cell_type": "code",
   "execution_count": 207,
   "metadata": {
    "collapsed": false
   },
   "outputs": [
    {
     "name": "stdout",
     "output_type": "stream",
     "text": [
      "[(datetime.datetime(2006, 1, 26, 0, 0), 66.26), (datetime.datetime(2006, 1, 27, 0, 0), 67.76), (datetime.datetime(2006, 1, 30, 0, 0), 68.35), (datetime.datetime(2006, 1, 31, 0, 0), 67.92), (datetime.datetime(2006, 2, 1, 0, 0), 66.56)]\n",
      "[(datetime.datetime(2016, 1, 20, 0, 0), 26.55), (datetime.datetime(2016, 1, 21, 0, 0), 29.53), (datetime.datetime(2016, 1, 22, 0, 0), 32.19), (datetime.datetime(2016, 1, 24, 0, 0), 32.37), (datetime.datetime(2016, 1, 25, 0, 0), 32.17)]\n"
     ]
    }
   ],
   "source": [
    "from datetime import datetime\n",
    "from datetime import timedelta\n",
    "from itertools import islice\n",
    "%matplotlib inline\n",
    "import numpy as np\n",
    "import statsmodels.api as sm\n",
    "\n",
    "base_folder = \"monte-carlo-risk/\"\n",
    "\n",
    "factors_folder= base_folder + \"factors/\"\n",
    "\n",
    "# read data from local disk\n",
    "def readInvestingDotComHistory(fname):\n",
    "    def process_line(line):\n",
    "        cols = line.split(\"\\t\")\n",
    "        date = datetime.strptime(cols[0], \"%b %d, %Y\")\n",
    "        value = float(cols[1])\n",
    "        return (date, value)\n",
    "\n",
    "    with open(fname) as f:\n",
    "        content_w_header = f.readlines()\n",
    "        # remove the first line \n",
    "        # and reverse lines to sort the data by date, in ascending order\n",
    "        content = content_w_header[-1:0:-1]\n",
    "        return list(map(process_line , content))\n",
    "\n",
    "factor1_files = ['crudeoil.tsv', 'us30yeartreasurybonds.tsv']\n",
    "factor1_files = map(lambda fn: factors_folder + fn, factor1_files)\n",
    "factors1 = [readInvestingDotComHistory(f) for f in factor1_files]\n",
    "\n",
    "print(factors1[0][0:5])\n",
    "print(factors1[0][-5:])"
   ]
  },
  {
   "cell_type": "markdown",
   "metadata": {},
   "source": [
    "Now, the data structure `factors1` is a list, containing data that pertains to two (out of a total of four) factors that influence the market, as obtained by investing.com. Each element in the list is a tuple, containing some sort of timestamp, and the value of one of the two factors discussed above. From now on, we call these elements \"**records**\" or \"**entries**\". Visually, `factors1` looks like this:\n",
    "\n",
    "| 0 (crude oil) | 1 (US bonds)|\n",
    "| --- | --- |\n",
    "| time_stamp, value | time_stamp, value |\n",
    "| ... | ... |\n",
    "| time_stamp, value | time_stamp, value |\n",
    "| ... | ... |\n"
   ]
  },
  {
   "cell_type": "markdown",
   "metadata": {},
   "source": [
    "#### Question 4.2\n",
    "<div class=\"alert alert-info\">\n",
    "Write a function named `readYahooHistory` to parse data from yahoo.com based on its format, as described in Section 5.3.  \n",
    "<ul></ul>\n",
    "Print the first 5 entries of the first factor (namely GSPC). Comment the time range of the second batch of data we use in our Notebook.  \n",
    "<ul></ul>\n",
    "\n",
    "Note that we are only interested in the date and price of stocks.\n",
    "</div>\n",
    "\n",
    "<div class=\"label label-danger\">NOTE</div> The datetime format now is in a different format than the previous one.\n",
    "\n",
    "<div class=\"label label-success\">HINT</div> Use a terminal (or put the bash commands inline in your Notebook) to list filenames in your local working directory to find and have a look at your local files."
   ]
  },
  {
   "cell_type": "code",
   "execution_count": 208,
   "metadata": {
    "collapsed": false
   },
   "outputs": [
    {
     "name": "stdout",
     "output_type": "stream",
     "text": [
      "[(datetime.datetime(1950, 1, 3, 0, 0), 16.66), (datetime.datetime(1950, 1, 4, 0, 0), 16.85), (datetime.datetime(1950, 1, 5, 0, 0), 16.93), (datetime.datetime(1950, 1, 6, 0, 0), 16.98), (datetime.datetime(1950, 1, 9, 0, 0), 17.08)]\n",
      "[(datetime.datetime(2016, 1, 15, 0, 0), 1916.680054), (datetime.datetime(2016, 1, 19, 0, 0), 1888.660034), (datetime.datetime(2016, 1, 20, 0, 0), 1876.180054), (datetime.datetime(2016, 1, 21, 0, 0), 1861.459961), (datetime.datetime(2016, 1, 22, 0, 0), 1877.400024)]\n"
     ]
    }
   ],
   "source": [
    "# read data from local disk\n",
    "def readYahooHistory(fname):\n",
    "    def process_line(line):\n",
    "        cols = line.split(\",\")\n",
    "        date = datetime.strptime(cols[0], \"%Y-%m-%d\")\n",
    "        value = float(cols[1])\n",
    "        return (date, value)\n",
    "\n",
    "    with open(fname) as f:\n",
    "        content_w_header = f.readlines()\n",
    "        # remove the first line \n",
    "        # and reverse lines to sort the data by date, in ascending order\n",
    "        content = content_w_header[-1:0:-1]\n",
    "        return list(map(process_line , content))\n",
    "\n",
    "factor2_files = [\"GSPC.csv\", \"IXIC.csv\"]\n",
    "factor2_files = map(lambda fn: factors_folder + fn, factor2_files)\n",
    "\n",
    "factors2 = [readYahooHistory(f) for f in factor2_files]\n",
    "\n",
    "print(factors2[0][:5])\n",
    "print(factors2[0][-5:])"
   ]
  },
  {
   "cell_type": "markdown",
   "metadata": {},
   "source": [
    "<div class=\"alert alert-warning\">\n",
    "As we can see we have a time range for yahoo data that goes from 1950 to 2016. So we have enough data to be used unlike the investing.com data that goes from 2006 to 2016.\n",
    "</div>"
   ]
  },
  {
   "cell_type": "markdown",
   "metadata": {},
   "source": [
    "Now, the data structure `factors2` is again list, containing data that pertains to the next two (out of a total of four) factors that influence the market, as obtained by Yahoo!. Each element in the list is a tuple, containing some sort of timestamp, and the value of one of the two factors discussed above. Visually, `factors2` looks like this:\n",
    "\n",
    "| 0 (GSPC) | 1 (IXIC)|\n",
    "| --- | --- |\n",
    "| time_stamp, value | time_stamp, value |\n",
    "| ... | ... |\n",
    "| time_stamp, value | time_stamp, value |\n",
    "| ... | ... |\n"
   ]
  },
  {
   "cell_type": "markdown",
   "metadata": {},
   "source": [
    "### Stock data pre-processing\n",
    "\n",
    "Next, we prepare the data for the instruments we consider in this Notebook (i.e., the stocks we want to invest in). "
   ]
  },
  {
   "cell_type": "markdown",
   "metadata": {},
   "source": [
    "#### Question 4.3\n",
    "\n",
    "<div class=\"alert alert-info\">\n",
    "In this Notebook, we assume that we want to invest on the first 35 stocks out of the total 3000 stocks present in our datasets.\n",
    "\n",
    "<ul></ul>\n",
    "\n",
    "Load and prepare all the data for the considered instruments (the first 35 stocks) which have historical information for more than 5 years. This means that all instruments with less than 5 years of history should be removed.\n",
    "\n",
    "</div>\n",
    "\n",
    "<div class=\"label label-success\">HINT</div> we suggest to open a terminal window (not on your local machine, but the Notebook terminal that you can find on the Jupyter dashboard) and visually check the contents of the directories holding our dataset, if you didn't do this before! Have a look at how stock data is organized!"
   ]
  },
  {
   "cell_type": "code",
   "execution_count": 209,
   "metadata": {
    "collapsed": false
   },
   "outputs": [
    {
     "name": "stdout",
     "output_type": "stream",
     "text": [
      "(datetime.datetime(1997, 8, 14, 0, 0), 39.0)\n",
      "[(datetime.datetime(1997, 8, 14, 0, 0), 39.0), (datetime.datetime(1997, 8, 15, 0, 0), 42.0), (datetime.datetime(1997, 8, 18, 0, 0), 44.0), (datetime.datetime(1997, 8, 19, 0, 0), 55.5), (datetime.datetime(1997, 8, 20, 0, 0), 48.0)]\n"
     ]
    }
   ],
   "source": [
    "from os import listdir\n",
    "from os.path import isfile, join\n",
    "\n",
    "stock_folder = base_folder + 'stocks'\n",
    "\n",
    "def process_stock_file(fname):\n",
    "    try:\n",
    "        def process_line(line):\n",
    "            cols = line.split(\",\")\n",
    "            date = datetime.strptime(cols[0], \"%Y-%m-%d\")\n",
    "            value = float(cols[1])\n",
    "            return (date, value)\n",
    "\n",
    "        with open(fname) as f:\n",
    "            content_w_header = f.readlines()\n",
    "            #print(content_w_header)\n",
    "            # remove the first line \n",
    "            # and reverse lines to sort the data by date, in ascending order\n",
    "            content = content_w_header[-1:0:-1]\n",
    "            return list(map(process_line , content))\n",
    "    except Exception as e:\n",
    "        raise e\n",
    "        return None\n",
    "\n",
    "\n",
    "\n",
    "# select path of all stock data files in \"stock_folder\"\n",
    "files = [join(stock_folder, f) for f in listdir(stock_folder) if isfile(join(stock_folder, f))]\n",
    "\n",
    "# assume that we invest only the first 35 stocks (for faster computation)\n",
    "files = files[:35]\n",
    "\n",
    "# read each line in each file, convert it into the format: (date, value)\n",
    "rawStocks = [process_stock_file(f) for f in files]\n",
    "\n",
    "# select only instruments which have more than 5 years of history\n",
    "# Note: the number of business days in a year is 260\n",
    "number_of_years = 5\n",
    "print(rawStocks[0][0])\n",
    "rawStocks = list(filter(lambda instrument: len(instrument)>=260*number_of_years, rawStocks))\n",
    "\n",
    "# For testing, print the first 5 entry of the first stock\n",
    "print(rawStocks[0][:5])"
   ]
  },
  {
   "cell_type": "markdown",
   "metadata": {},
   "source": [
    "### Time alignment for our data\n",
    "Different types of instruments may trade on different days, or the data may have missing values for other reasons, so it is important to make sure that our different histories align. First, we need to trim all of our time series to the same region in time. Then, we need to fill in missing values. To deal with time series that have missing values at the start and end dates in the time region, we simply fill in those dates with nearby values in the time region."
   ]
  },
  {
   "cell_type": "markdown",
   "metadata": {},
   "source": [
    "#### Question 4.4\n",
    "<div class=\"alert alert-info\">\n",
    "Assume that we only focus on the data from 23/01/2009 to 23/01/2014. Write a function named `trimToRegion` to select only the records in that time interval. \n",
    "\n",
    "<ul></ul>\n",
    "\n",
    "**Requirements**: after processing, each instrument $i$ has a list of records: $[r_0, r_2,...,r_{m_i}]$ such that $r_0$ and $r_{m_i}$ are assigned, respectively, the first and the last values corresponding to the extremes of the given time interval. For example: $r_0$ should contain the value at date 23/01/2009.\n",
    "</div>"
   ]
  },
  {
   "cell_type": "code",
   "execution_count": 210,
   "metadata": {
    "collapsed": false
   },
   "outputs": [
    {
     "name": "stdout",
     "output_type": "stream",
     "text": [
      "[(datetime.datetime(2009, 1, 23, 0, 0), 19.4), (datetime.datetime(2009, 1, 26, 0, 0), 19.67), (datetime.datetime(2009, 1, 27, 0, 0), 19.809999), (datetime.datetime(2009, 1, 28, 0, 0), 20.469999), (datetime.datetime(2009, 1, 29, 0, 0), 21.41)]\n",
      "[(datetime.datetime(2014, 1, 16, 0, 0), 37.369999), (datetime.datetime(2014, 1, 17, 0, 0), 37.470001), (datetime.datetime(2014, 1, 21, 0, 0), 37.73), (datetime.datetime(2014, 1, 22, 0, 0), 37.779999), (datetime.datetime(2014, 1, 23, 0, 0), 37.59)]\n"
     ]
    }
   ],
   "source": [
    "# note that the data of crude oild and treasury is only available starting from 26/01/2006 \n",
    "start = datetime(year=2009, month=1, day=23)\n",
    "end = datetime(year=2014, month=1, day=23)\n",
    "\n",
    "def trimToRegion(history, start, end):\n",
    "    def isInTimeRegion(entry):\n",
    "        (date, value) = entry\n",
    "        return date >= start and date <= end\n",
    "\n",
    "    # only select entries which are in the time region\n",
    "    trimmed = list(filter(lambda x: isInTimeRegion(x), history))\n",
    "\n",
    "    # if the data has incorrect time boundaries, add time boundaries\n",
    "    if trimmed[0][0] != start:\n",
    "        trimmed.insert(0, (start, trimmed[0][1]))\n",
    "    if trimmed[-1][0] != end:\n",
    "        trimmed.append((end, trimmed[-1][1]))\n",
    "    return trimmed\n",
    "\n",
    "# test our function\n",
    "trimmedStock0  = trimToRegion(rawStocks[0], start, end)\n",
    "# the first 5 records of stock 0\n",
    "print(trimmedStock0[:5])\n",
    "# the last 5 records of stock 0\n",
    "print(trimmedStock0[-5:])\n",
    "\n",
    "assert(trimmedStock0[0][0] == start), \"the first record must contain the price in the first day of time interval\"\n",
    "assert(trimmedStock0[-1][0] == end), \"the last record must contain the price in the last day of time interval\""
   ]
  },
  {
   "cell_type": "markdown",
   "metadata": {},
   "source": [
    "### Dealing with missing values\n",
    "We expect that we have the price of instruments and factors **in each business day**. Unfortunately, there are many missing values in our data: this means that we miss data for some days, e.g. we have data for the Monday of a certain week, but not for the subsequent Tuesday. So, we need a function that helps filling these missing values.\n",
    "\n",
    "Next, we provide to you the function to fill missing value: read it carefully!"
   ]
  },
  {
   "cell_type": "code",
   "execution_count": 211,
   "metadata": {
    "collapsed": true
   },
   "outputs": [],
   "source": [
    "def fillInHistory(history, start, end):\n",
    "    curr = history\n",
    "    filled = []\n",
    "    idx = 0\n",
    "    curDate = start\n",
    "    numEntries = len(history)\n",
    "    while curDate < end: \n",
    "        \n",
    "        # if the next entry is in the same day\n",
    "        # or the next entry is at the weekend\n",
    "        # but the curDate has already skipped it and moved to the next monday\n",
    "        # (only in that case, curr[idx + 1][0] < curDate )\n",
    "        # then move to the next entry\n",
    "        while idx + 1 < numEntries and curr[idx + 1][0] == curDate:\n",
    "            idx +=1\n",
    "\n",
    "        # only add the last value of instrument in a single day\n",
    "        # check curDate is weekday or not\n",
    "        # 0: Monday -> 5: Saturday, 6: Sunday\n",
    "        if curDate.weekday() < 5:\n",
    "            \n",
    "            filled.append((curDate, curr[idx][1]))\n",
    "            # move to the next business day\n",
    "            curDate += timedelta(days=1)\n",
    "        \n",
    "        # skip the weekends\n",
    "        if curDate.weekday() >= 5:\n",
    "            # if curDate is Sat, skip 2 days, otherwise, skip 1 day\n",
    "            curDate += timedelta(days=(7-curDate.weekday()))\n",
    "\n",
    "    return filled"
   ]
  },
  {
   "cell_type": "markdown",
   "metadata": {},
   "source": [
    "#### Question 4.5\n",
    "<div class=\"alert alert-info\">\n",
    "Trim data of stocks and factors into the given time interval.\n",
    "</div>"
   ]
  },
  {
   "cell_type": "code",
   "execution_count": 212,
   "metadata": {
    "collapsed": false
   },
   "outputs": [
    {
     "name": "stdout",
     "output_type": "stream",
     "text": [
      "the first 5 records of stock 0: [(datetime.datetime(2009, 1, 23, 0, 0), 19.4), (datetime.datetime(2009, 1, 26, 0, 0), 19.67), (datetime.datetime(2009, 1, 27, 0, 0), 19.809999), (datetime.datetime(2009, 1, 28, 0, 0), 20.469999), (datetime.datetime(2009, 1, 29, 0, 0), 21.41)] \n",
      "\n",
      "the last 5 records of stock 0: [(datetime.datetime(2014, 1, 16, 0, 0), 37.369999), (datetime.datetime(2014, 1, 17, 0, 0), 37.470001), (datetime.datetime(2014, 1, 20, 0, 0), 37.470001), (datetime.datetime(2014, 1, 21, 0, 0), 37.73), (datetime.datetime(2014, 1, 22, 0, 0), 37.779999)] \n",
      "\n",
      "the first 5 records of factor 0: [(datetime.datetime(2009, 1, 23, 0, 0), 46.47), (datetime.datetime(2009, 1, 26, 0, 0), 45.73), (datetime.datetime(2009, 1, 27, 0, 0), 41.58), (datetime.datetime(2009, 1, 28, 0, 0), 42.16), (datetime.datetime(2009, 1, 29, 0, 0), 41.44)] \n",
      "\n",
      "the first 5 records of factor 0: [(datetime.datetime(2014, 1, 16, 0, 0), 93.96), (datetime.datetime(2014, 1, 17, 0, 0), 94.37), (datetime.datetime(2014, 1, 20, 0, 0), 93.93), (datetime.datetime(2014, 1, 21, 0, 0), 94.99), (datetime.datetime(2014, 1, 22, 0, 0), 96.73)] \n",
      "\n"
     ]
    }
   ],
   "source": [
    "#print rawStocks[0]\n",
    "\n",
    "# trim into a specific time region\n",
    "# and fill up the missing values\n",
    "stocks = list(map(lambda stock: \\\n",
    "            fillInHistory(\n",
    "                trimToRegion(stock, start, end), \n",
    "            start, end), \n",
    "        rawStocks))\n",
    "\n",
    "\n",
    "\n",
    "# merge two factors, trim each factor into a time region\n",
    "# and fill up the missing values\n",
    "allfactors = factors1 + factors2\n",
    "factors = list(map(lambda factor: \\\n",
    "            fillInHistory(\n",
    "                trimToRegion(factor, start, end), \n",
    "            start, end), \n",
    "            allfactors\n",
    "            ))\n",
    "\n",
    "# test our code\n",
    "print(\"the first 5 records of stock 0:\", stocks[0][:5], \"\\n\")\n",
    "print(\"the last 5 records of stock 0:\", stocks[0][-5:], \"\\n\")\n",
    "print(\"the first 5 records of factor 0:\", factors[0][:5], \"\\n\")\n",
    "print(\"the first 5 records of factor 0:\", factors[0][-5:], \"\\n\")"
   ]
  },
  {
   "cell_type": "markdown",
   "metadata": {},
   "source": [
    "Recall that Value at Risk (VaR) deals with **losses over a particular time horizon**. We are not concerned with the absolute prices of instruments, but how those prices **change over** a given period of time. In our project, we will set that length to two weeks: we use the sliding window method to transform time series of prices into an overlapping sequence of price change over two-week intervals.\n",
    "\n",
    "The figure below illustrates this process. The returns of market factors after each two-week interval is calculated in the very same way.\n",
    "\n",
    "![](https://dl.dropboxusercontent.com/s/r9ucsicichb6gjh/two-week-time-interval.svg)"
   ]
  },
  {
   "cell_type": "code",
   "execution_count": 213,
   "metadata": {
    "collapsed": true
   },
   "outputs": [],
   "source": [
    "def buildWindow(seq, k=2):\n",
    "    \"Returns a sliding window (of width k) over data from iterable data structures\"\n",
    "    \"   s -> (s0,s1,...s[k-1]), (s1,s2,...,sk), ...                   \"\n",
    "    it = iter(seq)\n",
    "    result = tuple(islice(it, k))\n",
    "    if len(result) == k:\n",
    "        yield result  \n",
    "    for elem in it:\n",
    "        result = result[1:] + (elem,)\n",
    "        yield result"
   ]
  },
  {
   "cell_type": "markdown",
   "metadata": {},
   "source": [
    "#### Question 4.6\n",
    "<div class=\"alert alert-info\">\n",
    "Compute the returns of the stocks after each two-week time window.\n",
    "</div>"
   ]
  },
  {
   "cell_type": "code",
   "execution_count": 214,
   "metadata": {
    "collapsed": false
   },
   "outputs": [
    {
     "name": "stdout",
     "output_type": "stream",
     "text": [
      "the first 5 returns of stock 0: [0.8000010000000017, 1.0, 0.7200019999999974, -0.27999800000000263, -1.5800000000000018]\n",
      "the last 5 returns of stock 0: [-1.1599999999999966, -1.4599989999999963, -0.8399999999999963, -0.4599990000000034, 0.0]\n"
     ]
    }
   ],
   "source": [
    "def calculateReturn(window):\n",
    "    # return the change of value after two weeks\n",
    "    return window[-1][1] - window[0][1]\n",
    "\n",
    "def twoWeekReturns(history):\n",
    "    # we use 10 instead of 14 to define the window\n",
    "    # because financial data does not include weekends\n",
    "    return [calculateReturn(entry) for entry in buildWindow(history, 10)]\n",
    "\n",
    "stocksReturns = list(map(twoWeekReturns, stocks))\n",
    "factorsReturns = list(map(twoWeekReturns, factors))\n",
    "\n",
    "# test our functions\n",
    "print(\"the first 5 returns of stock 0:\", stocksReturns[0][:5])\n",
    "print(\"the last 5 returns of stock 0:\", stocksReturns[0][-5:])"
   ]
  },
  {
   "cell_type": "code",
   "execution_count": 215,
   "metadata": {
    "collapsed": false
   },
   "outputs": [],
   "source": [
    "import math\n",
    "meanStock = []\n",
    "for i in range(len(stocksReturns)):\n",
    "    meanStock.append(abs(sum(stocksReturns[i]) / len(stocksReturns[i])))\n",
    "    #print(\"Stock\",i,\"Mean\",meanStock[i])\n"
   ]
  },
  {
   "cell_type": "code",
   "execution_count": 216,
   "metadata": {
    "collapsed": false
   },
   "outputs": [
    {
     "data": {
      "image/png": "[encoded data removed]",
      "text/plain": [
       "<matplotlib.figure.Figure at 0x7f1f498f3d30>"
      ]
     },
     "metadata": {},
     "output_type": "display_data"
    }
   ],
   "source": [
    "plt.figure(figsize=(20,10))\n",
    "plt.xlabel(\"Stock\")\n",
    "plt.ylabel(\"Mean\")\n",
    "plt.title('The mean of the returns over all time windows per stock')\n",
    "plt.grid(True,which=\"both\",ls=\"-\")\n",
    "\n",
    "# plot bar chart\n",
    "plt.bar(range(len(stocksReturns)),meanStock, align='center', alpha=0.4)\n",
    "\n",
    "plt.show()"
   ]
  },
  {
   "cell_type": "markdown",
   "metadata": {},
   "source": [
    "<div class=\"alert alert-warning\">\n",
    "The graph show the mean of the return over all the timewindows per each stock. It is possible to see the different behaviour of all the stock. An high value mean that the stock, in general, had a lot of changes in its price over two weeks. A low value mean that the stock is more conservative and the changes of the price over two weeks are very low. \n",
    "</div>"
   ]
  },
  {
   "cell_type": "code",
   "execution_count": 217,
   "metadata": {
    "collapsed": false
   },
   "outputs": [
    {
     "data": {
      "image/png": "[encoded data removed]",
      "text/plain": [
       "<matplotlib.figure.Figure at 0x7f1ef3fcb1d0>"
      ]
     },
     "metadata": {},
     "output_type": "display_data"
    }
   ],
   "source": [
    "timeWindMean = []\n",
    "for i in range(len(stocksReturns[0])): #for each time window\n",
    "    total = 0\n",
    "    for j in range(len(stocksReturns)): #mean over all the stocks\n",
    "            total = total + stocksReturns[j][i]\n",
    "    timeWindMean.append(total/len(stocksReturns[0]))\n",
    "\n",
    "plt.figure(figsize=(20,10))\n",
    "plt.xlabel(\"Time window\")\n",
    "plt.ylabel(\"Mean\")\n",
    "plt.title('Mean over time window of different stocks')\n",
    "plt.plot(range(len(stocksReturns[0])),timeWindMean)\n",
    "plt.plot(range(len(stocksReturns[0])),[0 for x in range(len(stocksReturns[0]))])\n",
    "plt.show()    \n"
   ]
  },
  {
   "cell_type": "markdown",
   "metadata": {},
   "source": [
    "<div class=\"alert alert-warning\">\n",
    "The graph show the return calculated per each timewindows taking the mean from all the stock's timewindow. A value far from zero means that, in general in, that timewindow all the stocks had relevant changes in price. A value very close to zero lead us to think that in that timewindows the changes over twoweeks were little.\n",
    "</div>"
   ]
  },
  {
   "cell_type": "markdown",
   "metadata": {},
   "source": [
    "Alright! Now we have data that is properly aligned to start the training process: stocks' returns and factors' returns, per time windows of two weeks. Next, we will apply the MCS method."
   ]
  },
  {
   "cell_type": "markdown",
   "metadata": {},
   "source": [
    "## 5.5. Summary guidelines to apply the MCS method on the data we prepared\n",
    "Next, we overview the steps that you have to follow to build a model of your data, and then use Monte Carlo simulations to produce output distributions:\n",
    "\n",
    "- **Step 1**: Defining the relationship between the market factors and the instrument's returns. This relationship takes the form of a model fitted to historical data.\n",
    "- **Step 2**: Defining the distributions for the market conditions (particularly, the returns of factors) that are straightforward to sample from. These distributions are fitted to historical data. \n",
    "- **Step 3**: Generate the data for each trial of a Monte Carlo run: this amount to generating the random values for market conditions along with these distributions.\n",
    "- **Step 4**: For each trial, from the above values of market conditions, and using the relationship built in step 1, we calculate the return for each instrument and the total return. We use the returns to define an empirical distribution over losses. This means that, if we run 100 trials and want to estimate the 5% VaR, we would choose it as the loss from the trial with the fifth greatest loss.\n",
    "- **Step 5**: Evaluating the result"
   ]
  },
  {
   "cell_type": "markdown",
   "metadata": {},
   "source": [
    "## 5.6. Applying MCS\n",
    "\n",
    "### Step 1: Defining relationship between market factors and instrument's returns\n",
    "\n",
    "In our simulation, we will use a simple linear model. By our definition of return, a factor return is a **change** in the value of a market factor **over a particular time period**, e.g. if the value of the S&P 500 moves from 2000 to 2100 over a time interval, its return would be 100.\n",
    "\n",
    "A vector that contains the return of 4 market factors is called a *market factor vector*. Generally, instead of using this vector as features, we derive a set of features from simple transformation of it. In particular, a vector of 4 values is transformed into a vector of length $m$ by function $F$. In the simplest case $F(v) = v$.\n",
    "\n",
    "Denote $v_t$ the market factor vector, and $f_t$ the transformed features of $v_t$ at time $t$.\n",
    "\n",
    "$f_{tj}$ is the value of feature $j$ in $f_t$.\n",
    "\n",
    "Denote $r_{it}$ the return of instrument $i$ at time $t$ and $c_i$ the [intercept term](http://blog.minitab.com/blog/adventures-in-statistics/regression-analysis-how-to-interpret-the-constant-y-intercept) of instrument $i$.\n",
    "\n",
    "We will use a simple linear function to calculate $r_{it}$ from $f_t$:\n",
    "\n",
    "$$\n",
    "r_{it} = c_i + \\sum_{j=1}^{m}{w_{ij}*f_{tj}}\n",
    "$$\n",
    "\n",
    "where $w_{ij}$ is the weight of feature $j$ for instrument $i$.\n",
    "\n",
    "All that above means that given a market factor vector, we have to apply featurization and then use the result as a surrogate for calculating the return of the instruments, using the above linear function.\n",
    "\n",
    "There are two questions that we should consider: **how we apply featurization to a factor vector?** and **how to pick values for $w_{ij}$?**\n",
    "\n",
    "**How we apply featurization to a factor vector?**\n",
    "In fact, the instruments' returns may be non-linear functions of the factor returns. So, we should not use factor returns as features in the above linear function. Instead, we transform them into a set of features with different size. In this Notebook, we can include some additional features in our model that we derive from non-linear transformations of the factor returns. We will try adding two more features for each factor return: its square and its square root values. So, we can still assume that our model is a linear model in the sense that the response variable is a linear function of the new features. *Note that the particular feature transformation described here is meant to be an illustrative example of some of the options that are available: it shouldn't be considered as the state of the art in predictive financial modeling!!*.\n",
    "\n",
    "**How to pick values for $w_{ij}$?**\n",
    "\n",
    "For all the market factor vectors in our historical data, we transform them to feature vectors. Now, we have feature vectors in many two-week intervals and the corresponding instrument's returns in these intervals. We can use Ordinary Least Square (OLS) regression model to estimate the weights for each instrument such that our linear function can fit to the data. The parameters for OLS function are:\n",
    "\n",
    "- `x`: The collection of columns where **each column** is the value of **a feature** in many two-week interval\n",
    "- `y`: The return of an instrument in the corresponding time interval of x."
   ]
  },
  {
   "cell_type": "markdown",
   "metadata": {},
   "source": [
    "The figure below shows the basic idea of the process to build a statistical model for predicting the returns of stock X.\n",
    "\n",
    "![](https://dl.dropboxusercontent.com/s/kbjtwmnr4w31uev/process-build-model3.svg)\n"
   ]
  },
  {
   "cell_type": "markdown",
   "metadata": {},
   "source": [
    "![](https://farm2.staticflickr.com/1604/24934700445_833f0a5649_t.jpg)"
   ]
  },
  {
   "cell_type": "markdown",
   "metadata": {},
   "source": [
    "### Question 5\n",
    "#### Question 5.1\n",
    "\n",
    "<div class=\"alert alert-info\">\n",
    "Currently, our data is in form of:  \n",
    "\n",
    "$$\n",
    "factorsReturns=\n",
    "\\begin{bmatrix}\n",
    " r_{00} & r_{01} & r_{02} & ... & r_{0k} \\\\\n",
    " r_{10} & r_{11} & r_{12} & ... & r_{1k} \\\\\n",
    " ... & ... & ... & ... & ... \\\\\n",
    " r_{n0} & r_{n1} & r_{n2} & ... & r_{nk}\\\\\n",
    "\\end{bmatrix}\n",
    "$$\n",
    "\n",
    "<ul></ul>\n",
    "\n",
    "$$\n",
    "stocksReturns=\n",
    "\\begin{bmatrix}\n",
    " s_{00} & s_{01} & s_{02} & ... & s_{0k} \\\\\n",
    " s_{10} & s_{11} & s_{12} & ... & s_{1k} \\\\\n",
    " ... & ... & ... & ... & ... \\\\\n",
    " s_{n0} & s_{n1} & s_{n2} & ... & s_{nk}\\\\\n",
    "\\end{bmatrix}\n",
    "$$\n",
    "\n",
    "<ul></ul>\n",
    "\n",
    "Where, $r_{ij}$ is the return of factor $i^{th}$ in time window $j^{th}$, $k$ is the number of time windows, and $n$ is the number of factors. A similar definition goes for $s_{ij}$.\n",
    "\n",
    "<ul></ul>\n",
    "\n",
    "In order to use OLS, the parameter must be in form of:\n",
    "\n",
    "<ul></ul>\n",
    "\n",
    "$$\n",
    "x=factorsReturns^T =\n",
    "\\begin{bmatrix}\n",
    " r_{00} & r_{10} & ... & r_{n0} \\\\\n",
    " r_{01} & r_{11} & ... & r_{n1} \\\\\n",
    " r_{02} & r_{12} & ... & r_{n2}\\\\\n",
    " ... & ... & ... & ... \\\\\n",
    " r_{0k} & r_{1k} & ... & r_{nk}\\\\\n",
    "\\end{bmatrix}\n",
    "$$\n",
    "\n",
    "<ul></ul>\n",
    "\n",
    "Whereas, $y$ can be any row in `stocksReturns`.\n",
    "\n",
    "<ul></ul>\n",
    "\n",
    "So, we need a function to transpose a matrix. Write a function named `transpose` to do just that.\n",
    "</div>"
   ]
  },
  {
   "cell_type": "code",
   "execution_count": 218,
   "metadata": {
    "collapsed": true
   },
   "outputs": [],
   "source": [
    "def transpose(matrix):\n",
    "    result = [[matrix[i][j] for i in range(len(matrix))]for j in range(len(matrix[0]))]\n",
    "    return result\n",
    "\n",
    "# test function\n",
    "assert (transpose([[1,2,3], [4,5,6], [7,8,9]]) == [[1, 4, 7], [2, 5, 8], [3, 6, 9]]), \"Function transpose runs incorrectly\""
   ]
  },
  {
   "cell_type": "markdown",
   "metadata": {},
   "source": [
    "#### Question 5.2\n",
    "<div class=\"alert alert-info\">\n",
    "Write a function named `featurize` that takes a list factor's returns $[x_1, x_2,...,x_k]$ and transform it into a new list of features $[u_1,u_2,..,u_k, v_1, v_2,..,v_k, x_1,x_2,...,x_k]$.\n",
    "\n",
    "<ul></ul>\n",
    "\n",
    "Where,  \n",
    "\n",
    "\n",
    "$u_i$ = $\\left\\{\n",
    "\t\\begin{array}{ll}\n",
    "\t\tx_i^2 & \\mbox{if } x_i \\geq 0 \\\\\n",
    "\t\t-x_i^2 & \\mbox{if } x_i < 0\n",
    "\t\\end{array}\n",
    "\\right.\n",
    "$\n",
    "\n",
    "<ul></ul>\n",
    "\n",
    "and  \n",
    "\n",
    "$v_i$ = $\\left\\{\n",
    "\t\\begin{array}{ll}\n",
    "\t\t\\sqrt{x_i} & \\mbox{if } x_i \\geq 0 \\\\\n",
    "\t\t-\\sqrt{x_i} & \\mbox{if } x_i < 0\n",
    "\t\\end{array}\n",
    "\\right.\n",
    "$  \n",
    "\n",
    "</div>"
   ]
  },
  {
   "cell_type": "code",
   "execution_count": 219,
   "metadata": {
    "collapsed": false
   },
   "outputs": [
    {
     "name": "stdout",
     "output_type": "stream",
     "text": [
      "[16, -81, 625, 2.0, -3.0, 5.0, 4, -9, 25]\n"
     ]
    }
   ],
   "source": [
    "def featurize(factorReturns):\n",
    "    factorReturns = list(factorReturns)\n",
    "    squaredReturns = [x*x if x>=0 else -(x*x) for x in factorReturns]\n",
    "    squareRootedReturns = [pow(x,0.5) if x>=0 else -pow(abs(x),0.5) for x in factorReturns]\n",
    "    # concat new features\n",
    "    return squaredReturns + squareRootedReturns + factorReturns\n",
    "\n",
    "print(featurize([4, -9, 25]))\n",
    "# test our function\n",
    "assert (featurize([4, -9, 25]) == [16, -81, 625, 2, -3, 5, 4, -9, 25]), \"Function runs incorrectly\""
   ]
  },
  {
   "cell_type": "markdown",
   "metadata": {},
   "source": [
    "#### Question 5.3\n",
    "<div class=\"alert alert-info\">\n",
    "Using OLS, estimate the weights for each feature on each stock. What is the shape of `weights` (size of each dimension)?  \n",
    "\n",
    "Explain it.\n",
    "</div>"
   ]
  },
  {
   "cell_type": "code",
   "execution_count": 220,
   "metadata": {
    "collapsed": false
   },
   "outputs": [
    {
     "name": "stdout",
     "output_type": "stream",
     "text": [
      "Number of stocks: 29 \n",
      "Number of weights per each stock: 13 \n",
      "\n",
      "weights: [array([  5.25682366e-03,  -7.21244936e-04,  -4.32432261e+00,\n",
      "         9.56273205e-06,  -1.77216709e-05,   3.44935561e-02,\n",
      "        -9.16777710e-01,  -3.24687315e-02,  -4.85885804e-02,\n",
      "        -9.48370432e-03,   3.17141524e+00,   1.37195762e-02,\n",
      "         9.93040629e-03]), array([ -8.58449543e-02,   7.58867779e-03,  -8.98573448e-01,\n",
      "         1.54749550e-04,  -4.00512686e-05,   3.44917933e-01,\n",
      "         7.79427474e-01,   6.77670577e-02,  -3.78437683e-02,\n",
      "        -2.05104025e-01,  -5.94709876e-02,  -1.44223201e-02,\n",
      "         2.45551034e-02]), array([ -1.31759426e-02,   2.54378972e-03,  -1.06924041e+00,\n",
      "         3.16444210e-05,  -6.55924268e-06,   4.72412749e-02,\n",
      "        -8.06765509e-02,   9.95739103e-03,  -2.05770795e-03,\n",
      "        -5.15685861e-02,   5.09802528e-01,  -1.71096108e-03,\n",
      "         1.70318061e-03]), array([  4.75677753e-02,  -4.23992853e-04,  -1.72898045e+00,\n",
      "         2.45021074e-05,  -9.90005313e-06,   2.06373516e-03,\n",
      "        -2.72537108e-02,   5.35133773e-02,  -5.57629691e-02,\n",
      "         3.66675142e-03,   2.26569537e-01,  -6.93724551e-03,\n",
      "         9.67931519e-03]), array([ -1.60952007e-01,   3.90871552e-03,   3.84444342e+00,\n",
      "         2.98142943e-04,  -4.46960153e-05,  -1.42346237e-01,\n",
      "         3.54275166e-01,   2.87211929e-01,  -8.39137148e-02,\n",
      "         8.19257853e-03,   8.81738850e-01,  -6.11730852e-02,\n",
      "         2.15994880e-02]), array([  2.15367964e-02,  -1.83826884e-03,   1.03176481e+00,\n",
      "         1.24483702e-05,   1.15517170e-06,  -7.15951691e-02,\n",
      "        -1.16015841e-01,   4.77476977e-03,   2.76413422e-02,\n",
      "         4.06369278e-02,  -1.72861626e-01,  -1.27088300e-03,\n",
      "        -2.70472641e-03]), array([  5.92474973e-02,   5.90374003e-03,  -3.11142176e+00,\n",
      "        -8.13784899e-05,   7.03891001e-06,   3.44049805e-01,\n",
      "        -7.48506606e-01,  -8.09476397e-03,  -8.41849976e-03,\n",
      "        -1.88253246e-01,   2.01840699e+00,   1.05618487e-02,\n",
      "         3.18724040e-03]), array([ -4.94177175e-03,   4.96959806e-03,  -1.13189859e-01,\n",
      "         2.28195839e-05,  -2.14637016e-05,   7.08850507e-02,\n",
      "        -7.68667465e-01,   4.00924285e-02,  -1.44016830e-02,\n",
      "        -7.32241270e-02,   1.86327654e+00,  -5.64232969e-03,\n",
      "         6.00734340e-03]), array([ -4.87101038e-02,   3.81989170e-03,   2.03455974e+00,\n",
      "         6.21493823e-05,  -1.38961496e-05,   2.70439230e-02,\n",
      "         6.26646236e-02,   1.30270699e-03,  -7.86138606e-03,\n",
      "        -3.90604547e-02,  -7.42186461e-01,  -2.11652679e-03,\n",
      "         4.04428082e-03]), array([ -3.42344779e-02,   9.89577381e-03,   1.01053377e+01,\n",
      "         5.52003261e-05,   3.36816022e-05,   4.82315691e-01,\n",
      "         1.05076070e+00,  -6.66058506e-02,   1.06643012e-01,\n",
      "        -2.83096209e-01,  -6.17523461e+00,   2.01883521e-02,\n",
      "        -3.83799969e-03]), array([ -2.12467697e-02,  -1.05843627e-02,   4.31400739e+00,\n",
      "         2.43901477e-06,  -2.61743343e-06,  -2.59895192e-01,\n",
      "         4.02864130e-01,   5.80655614e-02,  -3.73681285e-02,\n",
      "         1.97455686e-01,  -1.33506662e+00,  -1.24037613e-03,\n",
      "         1.24238626e-02]), array([ -1.84800721e-01,   5.81077344e-03,   3.88646464e+00,\n",
      "         3.93315099e-05,  -5.82333541e-05,   1.66907052e-01,\n",
      "        -8.42697388e-01,  -2.98445963e-02,  -8.22882200e-02,\n",
      "        -1.06958629e-01,   1.60260251e+00,  -2.26334234e-03,\n",
      "         2.29742750e-02]), array([ -8.09315731e-03,  -7.01897437e-04,   2.95602553e-01,\n",
      "         4.22759237e-06,  -4.61493378e-06,   8.22135039e-03,\n",
      "         1.65547176e-01,  -9.45166836e-03,  -1.61132214e-02,\n",
      "         1.61412370e-02,  -3.26234246e-01,   2.00273557e-03,\n",
      "         2.26321901e-03]), array([ -1.30286973e-01,   3.12060366e-03,   5.00572332e+00,\n",
      "         8.40449683e-05,  -2.41231076e-05,   7.53477603e-02,\n",
      "        -3.13429608e-03,  -1.75499419e-02,   1.17665725e-02,\n",
      "        -6.16868606e-02,  -1.96045275e+00,   9.90807782e-03,\n",
      "         8.65787158e-03]), array([ -3.85102722e-02,   6.75610432e-04,  -1.70806921e+00,\n",
      "         2.22410715e-05,  -6.78975610e-06,  -1.19802310e-03,\n",
      "        -7.15650368e-01,   1.59483905e-02,  -4.95223290e-03,\n",
      "        -8.83184323e-03,   2.00732237e+00,   2.55325833e-04,\n",
      "         1.65686849e-03]), array([ -4.96047705e-03,  -1.89778081e-04,  -1.16923155e+00,\n",
      "         2.32612801e-05,   4.38376796e-06,   6.52752631e-02,\n",
      "        -1.38077511e-01,  -1.36944556e-03,   1.10606537e-02,\n",
      "        -1.48884321e-02,   6.04404884e-01,  -5.21890313e-03,\n",
      "         1.19154305e-03]), array([ -3.68821663e-02,  -8.72825130e-04,   6.60284955e-01,\n",
      "        -4.66959899e-05,   9.99450531e-06,   1.50076305e-02,\n",
      "        -1.94370353e-01,  -7.39974599e-03,   9.30500042e-03,\n",
      "        -2.00149699e-03,   4.43335922e-01,   7.10505596e-03,\n",
      "        -1.81884090e-03]), array([ -1.87397617e-02,  -1.31495472e-03,  -2.61106096e-01,\n",
      "         7.77499396e-06,   4.92823289e-06,  -1.26969272e-02,\n",
      "        -4.09097324e-02,   1.13375007e-02,   1.34761846e-02,\n",
      "         2.23160740e-02,   2.48106165e-01,  -1.98974121e-03,\n",
      "         2.47855443e-04]), array([  9.77900125e-03,  -2.08342476e-03,  -3.11802745e-01,\n",
      "         2.74609383e-05,   7.17523860e-07,  -9.25461920e-02,\n",
      "        -2.04456361e-02,   1.18083302e-02,   1.03728861e-03,\n",
      "         6.68336996e-02,  -2.90125761e-01,  -4.00255638e-03,\n",
      "         1.41727861e-03]), array([ -4.11529044e-02,  -1.61051826e-03,  -2.25391052e+00,\n",
      "         4.07927732e-05,  -1.40113441e-05,  -6.34617589e-02,\n",
      "        -9.04316519e-01,  -1.25003803e-02,   1.26908452e-02,\n",
      "         3.79565105e-02,   2.47139303e+00,   7.52298269e-03,\n",
      "         4.32873380e-03]), array([ -5.43623114e-02,   1.09078082e-03,  -6.12630571e-01,\n",
      "         1.05943081e-05,  -3.15499850e-07,   1.69509915e-02,\n",
      "        -2.95226642e-01,   1.64541102e-03,  -1.19722828e-03,\n",
      "        -1.12466448e-02,   5.66453661e-01,   6.99047580e-04,\n",
      "         1.86288403e-03]), array([ -1.72411112e-02,  -1.21814560e-03,   1.73320456e-01,\n",
      "         3.66810938e-06,   5.95636348e-06,  -9.26436376e-04,\n",
      "        -9.20490055e-02,   1.22718496e-02,   1.25596845e-02,\n",
      "         6.16209767e-03,   6.07646752e-02,  -1.82755860e-03,\n",
      "        -1.85749591e-03]), array([ -5.24376474e-02,   5.29621295e-03,   3.09087017e+00,\n",
      "         8.49336417e-05,  -3.13701059e-05,   9.80226292e-02,\n",
      "        -1.59577563e-01,   4.47726521e-02,  -4.70823543e-02,\n",
      "        -7.61176658e-02,   2.61717595e-01,  -1.22627728e-02,\n",
      "         1.12152973e-02]), array([ -1.33053340e-02,  -1.82408324e-04,   2.07621690e+00,\n",
      "         3.67583791e-05,  -6.84833397e-06,  -3.12509869e-02,\n",
      "         3.40203327e-01,   2.80313496e-02,  -5.80453159e-03,\n",
      "        -7.30177474e-03,  -1.40299146e+00,  -4.43970750e-03,\n",
      "         3.04579860e-03]), array([  1.27904512e-02,  -2.69332536e-03,   4.57294682e+00,\n",
      "         3.84020010e-05,   4.75055016e-06,  -6.32746974e-02,\n",
      "         1.02540034e+00,   2.38245337e-02,   1.06329543e-02,\n",
      "         6.09678027e-02,  -3.58716827e+00,  -6.11485507e-03,\n",
      "        -1.49489268e-03]), array([  4.26064626e-02,   2.78901099e-04,  -2.95903809e-01,\n",
      "         6.99239972e-07,  -9.81520773e-06,  -8.11455839e-02,\n",
      "        -4.93405010e-01,  -1.46579022e-02,  -4.98515799e-03,\n",
      "         3.35016451e-02,   9.29456915e-01,   1.64072871e-03,\n",
      "         4.30274365e-03]), array([  3.27976861e-02,  -4.01654157e-03,   6.61503106e+00,\n",
      "        -3.52423177e-04,   1.08771472e-05,   1.12926886e-01,\n",
      "        -3.48509200e-01,  -3.37099389e-01,   7.18815547e-02,\n",
      "         1.37636522e-02,  -1.35843557e+00,   8.42111310e-02,\n",
      "        -1.84303172e-03]), array([  4.09638634e-01,   1.28290109e-02,   1.07590957e+01,\n",
      "        -1.90310048e-04,   9.08702245e-05,  -3.46365564e-01,\n",
      "        -1.80554181e-01,  -3.35776266e-02,   7.88244309e-02,\n",
      "        -3.83181598e-03,  -1.85005212e+00,   4.63664046e-02,\n",
      "        -5.14778926e-04]), array([ -5.93197468e-02,  -1.41627389e-03,  -1.91499073e+00,\n",
      "         1.56808326e-05,  -2.68039707e-06,  -3.17069660e-02,\n",
      "         6.92697130e-02,  -2.16383910e-02,   1.64120661e-04,\n",
      "         3.39048842e-02,   6.36912359e-02,   7.30645350e-03,\n",
      "         1.31400074e-04])]\n"
     ]
    }
   ],
   "source": [
    "def estimateParams(y, x):\n",
    "    return sm.OLS(y, x).fit().params\n",
    "\n",
    "# transpose factorsReturns\n",
    "factorMat = transpose(factorsReturns)\n",
    "\n",
    "# featurize each row of factorMat\n",
    "factorFeatures = list(map(featurize,factorMat))\n",
    "\n",
    "# OLS require parameter is a numpy array\n",
    "factor_columns = np.array(factorFeatures)\n",
    "\n",
    "#add a constant - the intercept term for each instrument i.\n",
    "factor_columns = sm.add_constant(factor_columns, prepend=True)\n",
    "\n",
    "# estimate weights\n",
    "weights = [estimateParams(stockReturns,factor_columns) for stockReturns in stocksReturns]\n",
    "\n",
    "print(\"Number of stocks:\",len(weights),\"\\nNumber of weights per each stock:\",len(weights[0]),\"\\n\")\n",
    "print(\"weights:\", weights)"
   ]
  },
  {
   "cell_type": "markdown",
   "metadata": {},
   "source": [
    "<div class=\"alert alert-warning\">\n",
    "\n",
    "We found that the weights have a size of 29x13 because we are working on 29 stocks (out of 35) and each stock has 13 weights 12 belongs to the features and one is intercept term.\n",
    "\n",
    "</div>"
   ]
  },
  {
   "cell_type": "markdown",
   "metadata": {},
   "source": [
    "### Step 2: Defining the distributions for the market conditions\n",
    "Since we cannot define the distributions for the market factors directly, we can only approximate their distribution.\n",
    "The best way to do that, is plotting their value. However, these values may fluctuate quite a lot. \n",
    "\n",
    "Next, we show how to use the Kernel density estimation (KDE) technique to approximate such distributions. In brief, kernel density estimation is a way of smoothing out a histogram: this is achieved by assigning (or centering) a probability distribution (usually a normal distribution) to each data point, and then summing. So, a set of two-week-return samples would result in a large number of \"super-imposed\" normal distributions, each with a different mean. \n",
    "\n",
    "To estimate the probability density at a given point, KDE evaluates the PDFs of all the normal distributions at that point and takes their average. The smoothness of a kernel density plot depends on its *bandwidth*, and the standard deviation of each of the normal distributions. For a brief introduction on KDE, please refer to this [link](https://en.wikipedia.org/wiki/Kernel_density_estimation)."
   ]
  },
  {
   "cell_type": "code",
   "execution_count": 221,
   "metadata": {
    "collapsed": false,
    "scrolled": false
   },
   "outputs": [
    {
     "data": {
      "image/png": "[encoded data removed]",
      "text/plain": [
       "<matplotlib.figure.Figure at 0x7f1f9c9f0668>"
      ]
     },
     "metadata": {},
     "output_type": "display_data"
    },
    {
     "data": {
      "image/png": "[encoded data removed]",
      "text/plain": [
       "<matplotlib.figure.Figure at 0x7f1f9c719208>"
      ]
     },
     "metadata": {},
     "output_type": "display_data"
    },
    {
     "data": {
      "image/png": "[encoded data removed]",
      "text/plain": [
       "<matplotlib.figure.Figure at 0x7f1f9cdc15c0>"
      ]
     },
     "metadata": {},
     "output_type": "display_data"
    },
    {
     "data": {
      "image/png": "[encoded data removed]",
      "text/plain": [
       "<matplotlib.figure.Figure at 0x7f1f9828a630>"
      ]
     },
     "metadata": {},
     "output_type": "display_data"
    }
   ],
   "source": [
    "from statsmodels.nonparametric.kernel_density import KDEMultivariate\n",
    "from statsmodels.nonparametric.kde import KDEUnivariate\n",
    "import matplotlib.pyplot as plt\n",
    "import scipy\n",
    "\n",
    "def plotDistribution(samples):\n",
    "    vmin = min(samples)\n",
    "    vmax = max(samples)\n",
    "    stddev = np.std(samples)\n",
    "    \n",
    "    domain = np.arange(vmin, vmax, (vmax-vmin)/100)\n",
    "    \n",
    "    # a simple heuristic to select bandwidth\n",
    "    bandwidth = 1.06 * stddev * pow(len(samples), -.2)\n",
    "    \n",
    "    # estimate density\n",
    "    kde = KDEUnivariate(samples)\n",
    "    kde.fit(bw=bandwidth)\n",
    "    density = kde.evaluate(domain)\n",
    "    \n",
    "    # plot\n",
    "    plt.plot(domain, density)\n",
    "    plt.show()\n",
    "\n",
    "plotDistribution(factorsReturns[0])\n",
    "plotDistribution(factorsReturns[1])\n",
    "plotDistribution(factorsReturns[2])\n",
    "plotDistribution(factorsReturns[3])"
   ]
  },
  {
   "cell_type": "markdown",
   "metadata": {},
   "source": [
    "For the sake of simplicity, we can say that our smoothed versions of the returns of each factor can be represented quite well by a normal distribution. Of course, more exotic distributions, perhaps with fatter tails, could fit more closely the data, but it is outside the scope of this Notebook to proceed in this way.\n",
    "\n",
    "Now, the simplest way to sample factors returns is to use a normal distribution for each of the factors, and sample from these distributions independently. However, this approach ignores the fact that market factors are often correlated. For example, when the price of crude oil is down, the price of treasury bonds is down too. We can check our data to verify about the correlation."
   ]
  },
  {
   "cell_type": "markdown",
   "metadata": {},
   "source": [
    "![](https://farm2.staticflickr.com/1604/24934700445_833f0a5649_t.jpg)"
   ]
  },
  {
   "cell_type": "markdown",
   "metadata": {},
   "source": [
    "### Question 6\n",
    "\n",
    "#### Question 6.1\n",
    "<div class=\"alert alert-info\">\n",
    "\n",
    "Calculate the correlation between market factors and explain the result.\n",
    "\n",
    "</div>\n",
    "\n",
    "<div class=\"label label-success\">HINT</div> function `np.corrcoef` might be useful."
   ]
  },
  {
   "cell_type": "code",
   "execution_count": 222,
   "metadata": {
    "collapsed": false
   },
   "outputs": [
    {
     "data": {
      "text/plain": [
       "array([[ 1.        ,  0.39107214,  0.414966  ,  0.44278612],\n",
       "       [ 0.39107214,  1.        ,  0.49872363,  0.5365133 ],\n",
       "       [ 0.414966  ,  0.49872363,  1.        ,  0.92053356],\n",
       "       [ 0.44278612,  0.5365133 ,  0.92053356,  1.        ]])"
      ]
     },
     "execution_count": 222,
     "metadata": {},
     "output_type": "execute_result"
    }
   ],
   "source": [
    "correlation = np.corrcoef(factorsReturns)\n",
    "correlation"
   ]
  },
  {
   "cell_type": "markdown",
   "metadata": {},
   "source": [
    "<div class=\"alert alert-warning\">\n",
    "\n",
    "We can notice that we have a symetric matrix with diagonal 1. The diagonals are ones since we have perfect linearity between the same factor. For the most of the other values we have a value around (0.5) which means there is low correlation between the corresponding factors. Except for factor 3 and 4 where we see a high correlation (0.92) so there is linear dependency between 3th factor and the 4th. And this can be explained by the fact that GSPC and IXIC are two related factors.\n",
    "GSPC :\n",
    "IXIC :\n",
    "\n",
    "\n",
    "</div>"
   ]
  },
  {
   "cell_type": "markdown",
   "metadata": {},
   "source": [
    "The multivariate normal distribution can help here by taking the correlation information between the factors into account. Each sample from a multivariate normal distribution can be thought of as a vector. Given values for all of the dimensions but one, the distribution of values along that dimension is normal. But, in their joint distribution, the variables are not independent.\n",
    "\n",
    "For this use case, we can write:\n",
    "\n",
    "$$\n",
    "\\left(\\begin{array}{c}f_{1}\\\\f_{2}\\\\f_{3}\\\\f_{4} \\end{array}\\right)\n",
    "\\sim N \n",
    "\\left[\n",
    "  \\left(\n",
    "    \\begin{array}{c}\n",
    "      \\mu_1\\\\ \\mu_2 \\\\ \\mu_3 \\\\ \\mu_4 \n",
    "    \\end{array}\n",
    "  \\right), \n",
    "  \\left(\n",
    "    \\begin{array}{cccc}\n",
    "      \\sigma^2_1 & \\rho_{12} \\sigma_1\\sigma_2 & \\rho_{13} \\sigma_1\\sigma_3 & \\rho_{14} \\sigma_1\\sigma_4 \\\\ \n",
    "      \\rho_{12}\\sigma_2\\sigma_1 & \\sigma^2_2 & \\rho_{23} \\sigma_2\\sigma_3 & \\rho_{24} \\sigma_2\\sigma_4\\\\\n",
    "      \\rho_{13} \\sigma_3\\sigma_1 & \\rho_{23} \\sigma_3\\sigma_2 & \\sigma^2_3 & \\rho_{34} \\sigma_3\\sigma_4 \\\\ \n",
    "      \\rho_{14} \\sigma_4\\sigma_1 & \\rho_{24} \\sigma_4\\sigma_2 & \\rho_{34} \\sigma_3\\sigma_4 & \\sigma_4^2 \\\\ \n",
    "    \\end{array}\n",
    "  \\right)\n",
    "\\right]\n",
    "$$\n",
    "\n",
    "Or,\n",
    "\n",
    "$$\n",
    "f_t \\sim N(\\mu, \\sum)\n",
    "$$\n",
    "\n",
    "Where $f_1$, $f_2$, $f_3$ and $f_4$ are the market factors, $\\sigma_i$ is the standard deviation of factor $i$, $\\mu$ is a vector of the empirical means of the returns of the factors and $\\sum$ is the empirical covariance matrix of the returns of the factors.\n",
    "\n",
    "The multivariate normal is parameterized with a mean along each dimension and a matrix describing the covariance between each pair of dimensions. When the covariance matrix is diagonal, the multivariate normal reduces to sampling along each dimension independently, but placing non-zero values in the off-diagonals helps capture the relationships between variables. Whenever having the mean of this multivariate normal distribution and its covariance matrix, we can generate the sample values for market factors.\n",
    "\n",
    "Next, we will calculate the mean and the covariance matrix of this multivariate normal distribution from the historical data.\n"
   ]
  },
  {
   "cell_type": "markdown",
   "metadata": {},
   "source": [
    "#### Question 6.2\n",
    "<div class=\"alert alert-info\">\n",
    "\n",
    "Calculate the covariance matrix $\\sum$ and the means $\\mu$ of factors' returns then generate a random vector of factors return that follows a multivariate normal distribution $\\sim N(\\mu, \\sum)$\n",
    "\n",
    "</div>\n",
    "\n",
    "<div class=\"label label-success\">HINT</div>\n",
    "Function `np.cov` can help calculating covariance matrix. Function `np.random.multivariate_normal(<mean>, <cov>)` is often used for generating samples."
   ]
  },
  {
   "cell_type": "code",
   "execution_count": 223,
   "metadata": {
    "collapsed": false
   },
   "outputs": [
    {
     "name": "stdout",
     "output_type": "stream",
     "text": [
      "[[  2.03712313e+01   2.63376804e-01   6.74442782e+01   1.63697774e+02]\n",
      " [  2.63376804e-01   2.22650671e-02   2.67976007e+00   6.55741446e+00]\n",
      " [  6.74442782e+01   2.67976007e+00   1.29672509e+03   2.71521187e+03]\n",
      " [  1.63697774e+02   6.55741446e+00   2.71521187e+03   6.70934736e+03]] \n",
      "\n",
      "[0.35908880308880364, -0.0027590733590733448, 6.970339789189207, 18.737721800000003] \n",
      "\n",
      "[  2.9055829   -0.07008775   2.07753005  33.19143624]\n"
     ]
    }
   ],
   "source": [
    "factorCov = np.cov(factorsReturns)\n",
    "factorMeans = [sum(x)/len(x) for x in factorsReturns]\n",
    "sample = np.random.multivariate_normal(factorMeans,factorCov)\n",
    "print(factorCov,\"\\n\")\n",
    "print(factorMeans,\"\\n\")\n",
    "print(sample)"
   ]
  },
  {
   "cell_type": "markdown",
   "metadata": {},
   "source": [
    "### Step 3&4: Generating samples, running simulation and calculating the VaR"
   ]
  },
  {
   "cell_type": "markdown",
   "metadata": {},
   "source": [
    "We define some functions that helps us calculating VaR 5%. You will see that the functions below are pretty complicated! This is why we provide a solution for you: however, study them well!!\n",
    "\n",
    "The basic idea of calculating VaR 5% is that we need to find a value such that only 5% of the losses are bigger than it. That means the 5th percentile of the losses should be VaR 5%.\n",
    "\n",
    "VaR can sometimes be problematic though, since it does give any information on the extent of the losses which can exceed the VaR estimate. CVar is an extension of VaR that is introduced to deal with this problem. Indeed, CVaR measures the expected value of the loss in those cases where VaR estimate has been exceeded."
   ]
  },
  {
   "cell_type": "code",
   "execution_count": 224,
   "metadata": {
    "collapsed": true
   },
   "outputs": [],
   "source": [
    "def fivePercentVaR(trials):\n",
    "    numTrials = trials.count()\n",
    "    topLosses = trials.takeOrdered(max(round(numTrials/20.0), 1))\n",
    "    return topLosses[-1]\n",
    "\n",
    "# an extension of VaR\n",
    "def fivePercentCVaR(trials):\n",
    "    numTrials = trials.count()\n",
    "    topLosses = trials.takeOrdered(max(round(numTrials/20.0), 1))\n",
    "    return sum(topLosses)/len(topLosses)\n",
    "\n",
    "def bootstrappedConfidenceInterval(\n",
    "      trials, computeStatisticFunction,\n",
    "      numResamples, pValue):\n",
    "    stats = []\n",
    "    for i in range(0, numResamples):\n",
    "        resample = trials.sample(True, 1.0)\n",
    "        stats.append(computeStatisticFunction(resample))\n",
    "    sorted(stats)\n",
    "    lowerIndex = int(numResamples * pValue / 2 - 1)\n",
    "    upperIndex = int(np.ceil(numResamples * (1 - pValue / 2)))\n",
    "    return (stats[lowerIndex], stats[upperIndex])"
   ]
  },
  {
   "cell_type": "markdown",
   "metadata": {},
   "source": [
    "Next, we will run the Monte Carlo simulation 10,000 times, in parallel using Spark. Since your cluster has 12 cores (two Spark worker nodes, each with 6 cores), we can set `parallelism = 12` to dispatch simulation on these cores, across the two machines (remember, those are not really \"physical machines\", they are Docker containers running in our infrastructure)."
   ]
  },
  {
   "cell_type": "markdown",
   "metadata": {},
   "source": [
    "![](https://farm2.staticflickr.com/1604/24934700445_833f0a5649_t.jpg)"
   ]
  },
  {
   "cell_type": "markdown",
   "metadata": {},
   "source": [
    "### Question 7\n",
    "<div class=\"alert alert-info\">\n",
    "Complete the code below to define the simulation process and calculate VaR 5%.\n",
    "</div>"
   ]
  },
  {
   "cell_type": "code",
   "execution_count": 225,
   "metadata": {
    "collapsed": false
   },
   "outputs": [
    {
     "name": "stdout",
     "output_type": "stream",
     "text": [
      "Value at Risk(VaR) 5%: -20.4917305996\n",
      "Conditional Value at Risk(CVaR) 5%: -24.9324975451\n"
     ]
    }
   ],
   "source": [
    "# RUN SILMULATION\n",
    "def simulateTrialReturns(numTrials, factorMeans, factorCov, weights):\n",
    "    trialReturns = []\n",
    "    for i in range(0, numTrials):\n",
    "        # generate sample of factors' returns\n",
    "        trialFactorReturns = np.random.multivariate_normal(factorMeans, factorCov)\n",
    "\n",
    "        # featurize the factors' returns\n",
    "        trialFeatures = featurize(trialFactorReturns)\n",
    "\n",
    "        # insert weight for intercept term\n",
    "        trialFeatures.insert(0,1)\n",
    "\n",
    "        trialTotalReturn = 0\n",
    "\n",
    "        # calculate the return of each instrument\n",
    "        # then calulate the total of return for this trial features\n",
    "        for weight in weights:\n",
    "            instrument = sum([weight[feat] * trialFeatures[feat] for feat in range(len(trialFeatures))])\n",
    "            trialTotalReturn += instrument\n",
    "\n",
    "        trialReturns.append(trialTotalReturn)\n",
    "    return trialReturns\n",
    "\n",
    "\n",
    "\n",
    "parallelism = 12\n",
    "numTrials = 10000\n",
    "trial_indexes = list(range(0, parallelism))\n",
    "seedRDD = sc.parallelize(trial_indexes, parallelism)\n",
    "bFactorWeights = sc.broadcast(weights)\n",
    "    \n",
    "trials = seedRDD.flatMap(lambda idx: \\\n",
    "                simulateTrialReturns(\n",
    "                    max(int(numTrials/parallelism), 1), \n",
    "                    factorMeans, factorCov,\n",
    "                    bFactorWeights.value\n",
    "                ))\n",
    "trials.cache()\n",
    "\n",
    "valueAtRisk = fivePercentVaR(trials)\n",
    "conditionalValueAtRisk = fivePercentCVaR(trials)\n",
    "\n",
    "print (\"Value at Risk(VaR) 5%:\", valueAtRisk)\n",
    "print (\"Conditional Value at Risk(CVaR) 5%:\", conditionalValueAtRisk)"
   ]
  },
  {
   "cell_type": "markdown",
   "metadata": {},
   "source": [
    "The value of VaR depends on how many invested stocks and the chosen distribution of random variables. Assume that we get VaR 5% = -2.66,  that means that there is a 0.05 probability that the portfolio will fall in value by more than \\$2.66 over a two weeks' period if there is no trading. In other words, the loses are less than \\$2.66 over two weeks' period with 95% confidence level. When a loss over two weeks is more than \\$2.66, we call it **failure** (or **exception**). Informally, because of 5% probability, we expect that there are only $0.05*W$ failures out of total $W$ windows."
   ]
  },
  {
   "cell_type": "markdown",
   "metadata": {
    "collapsed": false
   },
   "source": [
    "### Step 5: Evaluating the results using backtesting method\n",
    "In general, the error in a Monte Carlo simulation should be proportional to 1/sqrt(n), where n is the number of trials. This means, for example, that quadrupling the number of trials should approximately cut the error in half. A good way to check the quality of a result is backtesting on historical data. Backtesting is a statistical procedure where actual losses are compared to the estimated VaR. For instance, if the confidence level used to calculate VaR is 95% (or VaR 5%), we expect only 5 failures over 100 two-week time windows.\n",
    "\n",
    "The most common test of a VaR model is counting the number of VaR failures, i.e., in how many windows, the losses exceed VaR estimate. If the number of exceptions is less than selected confidence level would indicate, the VaR model overestimates the risk. On the contrary, if there are too many exceptions, the risk is underestimated. However, it's very hard to observe the amount of failures suggested by the confidence level exactly. Therefore, people try to study whether the number of failures is reasonable or not, or will the model be accepted or rejected.\n",
    "\n",
    "One common test is Kupiec's proportion-of-failures (POF) test. This test considers how the portfolio performed at many historical time intervals and counts the number of times that the losses exceeded the VaR. The null hypothesis is that the VaR is reasonable, and a sufficiently extreme test statistic means that the VaR estimate does not accurately describe the data. The test statistic is computed as:\n",
    "\n",
    "$$\n",
    "-2ln\\Bigg(\\frac{(1-p)^{T-x}p^x}{(1-\\frac{x}{T})^{T-x}(\\frac{x}{T})^x}\\Bigg)\n",
    "$$\n",
    "\n",
    "where:\n",
    "\n",
    "$p$ is the quantile-of-loss of the VaR calculation (e.g., in VaR 5%, p=0.05),\n",
    "\n",
    "$x$ (the number of failures) is the number of historical intervals over which the losses exceeded the VaR \n",
    "\n",
    "$T$ is  the total number of historical intervals considered\n",
    "\n",
    "Or we can expand out the log for better numerical stability:\n",
    "\n",
    "$$\n",
    "\\begin{equation}\n",
    "-2\\Big((T-x)ln(1-p)+x*ln(p)-(T-x)ln(1-\\frac{x}{T})-x*ln(\\frac{x}{T})\\Big)\n",
    "\\end{equation}\n",
    "$$\n",
    "\n",
    "If we assume the null hypothesis that the VaR is reasonable, then this test statistic is drawn from a chi-squared distribution with a single degree of freedom. By using Chi-squared distribution, we can find the `p-value` accompanying our test statistic value.  If `p-value` exceeds the critical value of the Chi-squared distribution, we do have sufficient evidence to reject the null hypothesis that the model is reasonable. Or we can say, in that case, the model is considered as inaccurate.\n",
    "\n",
    "For example, assume that we calculate VaR 5% (the confidence level of the VaR model is 95%) and get value VaR = 2.26. We also observed 50 exceptions over 500 time windows. Using the formula above, the test statistic `p-value` is calculated and equal to `8.08`. Compared to `3.84`, the critical value of Chi-squared distribution with one degree of freedom at probability 5%, the test statistic is larger. So, the model is rejected. The critical values of Chi-squared can be found by following [this link](https://people.richland.edu/james/lecture/m170/tbl-chi.html).\n",
    "However, in this Notebook, it's not a good idea to find the corresponding critical value by looking in a \"messy\" table, especially when we need to change the confidence level. Instead, from `p-value`, we will calculate the probability of the test statistic in Chi-square thanks to some functions in package `scipy`. If the calculated probability is smaller than the quantile of loss (e.g, 0.05), the model is rejected and vice versa.\n"
   ]
  },
  {
   "cell_type": "markdown",
   "metadata": {},
   "source": [
    "![](https://farm2.staticflickr.com/1604/24934700445_833f0a5649_t.jpg)"
   ]
  },
  {
   "cell_type": "markdown",
   "metadata": {},
   "source": [
    "### Question 8\n",
    "\n",
    "#### Question 8.1\n",
    "<div class=\"alert alert-info\">\n",
    "\n",
    "Write a function to calculate the number of failures, that is when the losses (in the original data) exceed the VaR.\n",
    "\n",
    "</div>\n",
    "\n",
    "<div class=\"label label-success\">HINT</div>\n",
    "<ul>\n",
    "  <li>First, we need to calculate the total loss in each 2-week time interval</li>\n",
    "  <li>If the total loss of a time interval exceeds VaR, then we say that our VaR fails to estimate the risk in that time interval</li>\n",
    "  <li>Return the number of failures</li>\n",
    "</ul>  \n",
    "\n",
    "<div class=\"label label-danger\">NOTE</div> The loss is often having negative value, so, be careful when compare it to VaR."
   ]
  },
  {
   "cell_type": "code",
   "execution_count": 226,
   "metadata": {
    "collapsed": true
   },
   "outputs": [],
   "source": [
    "from scipy import stats\n",
    "\n",
    "def countFailures(stocksReturns, valueAtRisk):\n",
    "    failures = 0\n",
    "    # iterate over time intervals\n",
    "    for i in range(0, len(stocksReturns[0])):\n",
    "        # calculate the losses in each time interval\n",
    "        loss = -sum(stockReturn[i] for stockReturn in stocksReturns)\n",
    "\n",
    "        # if the loss exceeds VaR\n",
    "        if loss > -valueAtRisk:\n",
    "            failures += 1\n",
    "    return failures"
   ]
  },
  {
   "cell_type": "markdown",
   "metadata": {},
   "source": [
    "#### Question 8.2\n",
    "<div class=\"alert alert-info\">\n",
    "\n",
    "Write a function named `kupiecTestStatistic` to calculate the test statistic which was described in the above equation.\n",
    "\n",
    "</div>"
   ]
  },
  {
   "cell_type": "code",
   "execution_count": 227,
   "metadata": {
    "collapsed": true
   },
   "outputs": [],
   "source": [
    "def kupiecTestStatistic(total, failures, confidenceLevel):\n",
    "    failureRatio = failures/total\n",
    "    logNumer = math.log(pow((1-confidenceLevel),total-failures) * pow(confidenceLevel,failures))\n",
    "    logDenom = math.log(pow(1-failureRatio,total-failures) * pow(failureRatio,failures))\n",
    "    return -2 * (logNumer - logDenom)\n",
    "\n",
    "# test the function\n",
    "assert (round(kupiecTestStatistic(250, 36, 0.1), 2) == 4.80), \"function kupiecTestStatistic runs incorrectly\""
   ]
  },
  {
   "cell_type": "markdown",
   "metadata": {},
   "source": [
    "Now we can find the p-value accompanying our test statistic value."
   ]
  },
  {
   "cell_type": "code",
   "execution_count": 228,
   "metadata": {
    "collapsed": false
   },
   "outputs": [
    {
     "name": "stdout",
     "output_type": "stream",
     "text": [
      "VaR confidence interval:  (-20.686905152194715, -20.746363805442002)\n",
      "CVaR confidence interval:  (-25.183975345113026, -24.71041953143321)\n",
      "num failures: 97\n",
      "failureRatio: 0.0749034749034749\n",
      "Kupiec test p-value:  0.000121885713318\n"
     ]
    }
   ],
   "source": [
    "def kupiecTestPValue(stocksReturns, valueAtRisk, confidenceLevel):\n",
    "    failures = countFailures(stocksReturns, valueAtRisk)\n",
    "    print(\"num failures:\", failures)\n",
    "    if failures == 0:\n",
    "        # the model is very good\n",
    "        return 1\n",
    "    total = len(stocksReturns[0])\n",
    "    failureRatio = failures/total\n",
    "    print(\"failureRatio:\", failureRatio)\n",
    "    testStatistic = kupiecTestStatistic(total, failures, confidenceLevel)\n",
    "    return 1 - stats.chi2.cdf(testStatistic, 1.0)\n",
    "    #return chisqprob(testStatistic, 1.0)\n",
    "\n",
    "varConfidenceInterval = bootstrappedConfidenceInterval(trials, fivePercentVaR, 100, 0.05)\n",
    "cvarConfidenceInterval = bootstrappedConfidenceInterval(trials, fivePercentCVaR, 100, .05)\n",
    "print(\"VaR confidence interval: \" , varConfidenceInterval)\n",
    "print(\"CVaR confidence interval: \" , cvarConfidenceInterval)\n",
    "print(\"Kupiec test p-value: \" , kupiecTestPValue(stocksReturns, valueAtRisk, 0.05))"
   ]
  },
  {
   "cell_type": "markdown",
   "metadata": {},
   "source": [
    "#### Question 8.3\n",
    "<div class=\"alert alert-info\">\n",
    "\n",
    "Discuss the results you have obtained\n",
    "\n",
    "</div>"
   ]
  },
  {
   "cell_type": "markdown",
   "metadata": {},
   "source": [
    "<div class=\"alert alert-warning\">\n",
    "\n",
    "We noticed that we have a small range for the confidence interval which gives us a precise value at risk. The number of failures are higher than expexted (the expected number of failures is 0.05 * 1295) as it is shown by the failure ratio (the expected failure ratio is 0.05). The conditional VaR in normal to be higher than the VaR because it takes into account the values that exceed VaR (the values corresponding to the failures).\n",
    "\n",
    "</div>"
   ]
  },
  {
   "cell_type": "markdown",
   "metadata": {},
   "source": [
    "![](https://farm2.staticflickr.com/1604/24934700445_833f0a5649_t.jpg)"
   ]
  },
  {
   "cell_type": "markdown",
   "metadata": {},
   "source": [
    "<div class=\"alert alert-warning\">\n",
    "Now we willl try to clean the data that we have (stocksReturns and factorReturns). We saved the data as a cvs file in local and we will use it.\n",
    "</div>"
   ]
  },
  {
   "cell_type": "code",
   "execution_count": 229,
   "metadata": {
    "collapsed": true
   },
   "outputs": [],
   "source": [
    "import pandas as pd\n",
    "%matplotlib inline\n",
    "import matplotlib.pyplot as plt\n",
    "import numpy as np\n",
    "\n",
    "factorsReturnscsv = pd.read_csv('factorsReturns.csv')\n",
    "stocksReturnscsv = pd.read_csv('stocksReturns.csv')\n"
   ]
  },
  {
   "cell_type": "code",
   "execution_count": 230,
   "metadata": {
    "collapsed": false
   },
   "outputs": [
    {
     "data": {
      "image/png": "[encoded data removed]",
      "text/plain": [
       "<matplotlib.figure.Figure at 0x7f1ef2aa65f8>"
      ]
     },
     "metadata": {},
     "output_type": "display_data"
    }
   ],
   "source": [
    "plt.figure(figsize=(20,10))\n",
    "bp = plt.boxplot(factorsReturnscsv.values.tolist(), whis=[5, 95], showfliers=True)"
   ]
  },
  {
   "cell_type": "markdown",
   "metadata": {},
   "source": [
    "<div class=\"alert alert-warning\">\n",
    "As we can see we have outliers that exceed  the percentiles 0.95 and 0.05 we will try to remove it using clip function.\n",
    "</div>"
   ]
  },
  {
   "cell_type": "code",
   "execution_count": 265,
   "metadata": {
    "collapsed": true
   },
   "outputs": [],
   "source": [
    "data=factorsReturnscsv.T.values.tolist()\n",
    "qq = np.percentile(data,[5,95]); # 5% and 95% percentiles values\n",
    "data = np.clip(data,qq[0],qq[1])"
   ]
  },
  {
   "cell_type": "code",
   "execution_count": 266,
   "metadata": {
    "collapsed": false,
    "scrolled": false
   },
   "outputs": [
    {
     "data": {
      "image/png": "[encoded data removed]",
      "text/plain": [
       "<matplotlib.figure.Figure at 0x7f1f48319be0>"
      ]
     },
     "metadata": {},
     "output_type": "display_data"
    }
   ],
   "source": [
    "plt.figure(figsize=(20,10))\n",
    "bp = plt.boxplot(data, whis=[5, 95], showfliers=True)"
   ]
  },
  {
   "cell_type": "markdown",
   "metadata": {},
   "source": [
    "<div class=\"alert alert-warning\">\n",
    "Here using the numpy.clip() function the outliers changed the values to the corresponding percentiles (0.05,0.95) and we will do the same thing for stocks data.\n",
    "</div>"
   ]
  },
  {
   "cell_type": "code",
   "execution_count": 267,
   "metadata": {
    "collapsed": false,
    "scrolled": false
   },
   "outputs": [
    {
     "data": {
      "image/png": "[encoded data removed]",
      "text/plain": [
       "<matplotlib.figure.Figure at 0x7f1ef316d470>"
      ]
     },
     "metadata": {},
     "output_type": "display_data"
    },
    {
     "data": {
      "image/png": "[encoded data removed]",
      "text/plain": [
       "<matplotlib.figure.Figure at 0x7f1f981fac88>"
      ]
     },
     "metadata": {},
     "output_type": "display_data"
    }
   ],
   "source": [
    "plt.figure(figsize=(20,10))\n",
    "bp = plt.boxplot(stocksReturnscsv.values.tolist(), whis=[5, 95], showfliers=True)\n",
    "data1=stocksReturnscsv.T.values.tolist()\n",
    "qq = np.percentile(data1,[5,95]); # 5% and 95% percentiles values\n",
    "data1 = np.clip(data1,qq[0],qq[1])\n",
    "plt.figure(figsize=(20,10))\n",
    "bp = plt.boxplot(data1, whis=[5, 95], showfliers=True)"
   ]
  },
  {
   "cell_type": "code",
   "execution_count": 268,
   "metadata": {
    "collapsed": false
   },
   "outputs": [
    {
     "ename": "KeyError",
     "evalue": "0",
     "output_type": "error",
     "traceback": [
      "\u001b[0;31m---------------------------------------------------------------------------\u001b[0m",
      "\u001b[0;31mKeyError\u001b[0m                                  Traceback (most recent call last)",
      "\u001b[0;32m<ipython-input-268-de6d5a48e40a>\u001b[0m in \u001b[0;36m<module>\u001b[0;34m()\u001b[0m\n\u001b[1;32m      1\u001b[0m \u001b[0;31m# transpose factorsReturns\u001b[0m\u001b[0;34m\u001b[0m\u001b[0;34m\u001b[0m\u001b[0m\n\u001b[0;32m----> 2\u001b[0;31m \u001b[0mfactorMat\u001b[0m \u001b[0;34m=\u001b[0m \u001b[0mtranspose\u001b[0m\u001b[0;34m(\u001b[0m\u001b[0mfactorsReturnscsv\u001b[0m\u001b[0;34m)\u001b[0m\u001b[0;34m\u001b[0m\u001b[0m\n\u001b[0m\u001b[1;32m      3\u001b[0m \u001b[0;34m\u001b[0m\u001b[0m\n\u001b[1;32m      4\u001b[0m \u001b[0;31m# featurize each row of factorMat\u001b[0m\u001b[0;34m\u001b[0m\u001b[0;34m\u001b[0m\u001b[0m\n\u001b[1;32m      5\u001b[0m \u001b[0mfactorFeatures\u001b[0m \u001b[0;34m=\u001b[0m \u001b[0mlist\u001b[0m\u001b[0;34m(\u001b[0m\u001b[0mmap\u001b[0m\u001b[0;34m(\u001b[0m\u001b[0mfeaturize\u001b[0m\u001b[0;34m,\u001b[0m\u001b[0mfactorMat\u001b[0m\u001b[0;34m)\u001b[0m\u001b[0;34m)\u001b[0m\u001b[0;34m\u001b[0m\u001b[0m\n",
      "\u001b[0;32m<ipython-input-218-056a32957482>\u001b[0m in \u001b[0;36mtranspose\u001b[0;34m(matrix)\u001b[0m\n\u001b[1;32m      1\u001b[0m \u001b[0;32mdef\u001b[0m \u001b[0mtranspose\u001b[0m\u001b[0;34m(\u001b[0m\u001b[0mmatrix\u001b[0m\u001b[0;34m)\u001b[0m\u001b[0;34m:\u001b[0m\u001b[0;34m\u001b[0m\u001b[0m\n\u001b[0;32m----> 2\u001b[0;31m     \u001b[0mresult\u001b[0m \u001b[0;34m=\u001b[0m \u001b[0;34m[\u001b[0m\u001b[0;34m[\u001b[0m\u001b[0mmatrix\u001b[0m\u001b[0;34m[\u001b[0m\u001b[0mi\u001b[0m\u001b[0;34m]\u001b[0m\u001b[0;34m[\u001b[0m\u001b[0mj\u001b[0m\u001b[0;34m]\u001b[0m \u001b[0;32mfor\u001b[0m \u001b[0mi\u001b[0m \u001b[0;32min\u001b[0m \u001b[0mrange\u001b[0m\u001b[0;34m(\u001b[0m\u001b[0mlen\u001b[0m\u001b[0;34m(\u001b[0m\u001b[0mmatrix\u001b[0m\u001b[0;34m)\u001b[0m\u001b[0;34m)\u001b[0m\u001b[0;34m]\u001b[0m\u001b[0;32mfor\u001b[0m \u001b[0mj\u001b[0m \u001b[0;32min\u001b[0m \u001b[0mrange\u001b[0m\u001b[0;34m(\u001b[0m\u001b[0mlen\u001b[0m\u001b[0;34m(\u001b[0m\u001b[0mmatrix\u001b[0m\u001b[0;34m[\u001b[0m\u001b[0;36m0\u001b[0m\u001b[0;34m]\u001b[0m\u001b[0;34m)\u001b[0m\u001b[0;34m)\u001b[0m\u001b[0;34m]\u001b[0m\u001b[0;34m\u001b[0m\u001b[0m\n\u001b[0m\u001b[1;32m      3\u001b[0m     \u001b[0;32mreturn\u001b[0m \u001b[0mresult\u001b[0m\u001b[0;34m\u001b[0m\u001b[0m\n\u001b[1;32m      4\u001b[0m \u001b[0;34m\u001b[0m\u001b[0m\n\u001b[1;32m      5\u001b[0m \u001b[0;31m# test function\u001b[0m\u001b[0;34m\u001b[0m\u001b[0;34m\u001b[0m\u001b[0m\n",
      "\u001b[0;32m/opt/conda/lib/python3.5/site-packages/pandas/core/frame.py\u001b[0m in \u001b[0;36m__getitem__\u001b[0;34m(self, key)\u001b[0m\n\u001b[1;32m   1967\u001b[0m             \u001b[0;32mreturn\u001b[0m \u001b[0mself\u001b[0m\u001b[0;34m.\u001b[0m\u001b[0m_getitem_multilevel\u001b[0m\u001b[0;34m(\u001b[0m\u001b[0mkey\u001b[0m\u001b[0;34m)\u001b[0m\u001b[0;34m\u001b[0m\u001b[0m\n\u001b[1;32m   1968\u001b[0m         \u001b[0;32melse\u001b[0m\u001b[0;34m:\u001b[0m\u001b[0;34m\u001b[0m\u001b[0m\n\u001b[0;32m-> 1969\u001b[0;31m             \u001b[0;32mreturn\u001b[0m \u001b[0mself\u001b[0m\u001b[0;34m.\u001b[0m\u001b[0m_getitem_column\u001b[0m\u001b[0;34m(\u001b[0m\u001b[0mkey\u001b[0m\u001b[0;34m)\u001b[0m\u001b[0;34m\u001b[0m\u001b[0m\n\u001b[0m\u001b[1;32m   1970\u001b[0m \u001b[0;34m\u001b[0m\u001b[0m\n\u001b[1;32m   1971\u001b[0m     \u001b[0;32mdef\u001b[0m \u001b[0m_getitem_column\u001b[0m\u001b[0;34m(\u001b[0m\u001b[0mself\u001b[0m\u001b[0;34m,\u001b[0m \u001b[0mkey\u001b[0m\u001b[0;34m)\u001b[0m\u001b[0;34m:\u001b[0m\u001b[0;34m\u001b[0m\u001b[0m\n",
      "\u001b[0;32m/opt/conda/lib/python3.5/site-packages/pandas/core/frame.py\u001b[0m in \u001b[0;36m_getitem_column\u001b[0;34m(self, key)\u001b[0m\n\u001b[1;32m   1974\u001b[0m         \u001b[0;31m# get column\u001b[0m\u001b[0;34m\u001b[0m\u001b[0;34m\u001b[0m\u001b[0m\n\u001b[1;32m   1975\u001b[0m         \u001b[0;32mif\u001b[0m \u001b[0mself\u001b[0m\u001b[0;34m.\u001b[0m\u001b[0mcolumns\u001b[0m\u001b[0;34m.\u001b[0m\u001b[0mis_unique\u001b[0m\u001b[0;34m:\u001b[0m\u001b[0;34m\u001b[0m\u001b[0m\n\u001b[0;32m-> 1976\u001b[0;31m             \u001b[0;32mreturn\u001b[0m \u001b[0mself\u001b[0m\u001b[0;34m.\u001b[0m\u001b[0m_get_item_cache\u001b[0m\u001b[0;34m(\u001b[0m\u001b[0mkey\u001b[0m\u001b[0;34m)\u001b[0m\u001b[0;34m\u001b[0m\u001b[0m\n\u001b[0m\u001b[1;32m   1977\u001b[0m \u001b[0;34m\u001b[0m\u001b[0m\n\u001b[1;32m   1978\u001b[0m         \u001b[0;31m# duplicate columns & possible reduce dimensionality\u001b[0m\u001b[0;34m\u001b[0m\u001b[0;34m\u001b[0m\u001b[0m\n",
      "\u001b[0;32m/opt/conda/lib/python3.5/site-packages/pandas/core/generic.py\u001b[0m in \u001b[0;36m_get_item_cache\u001b[0;34m(self, item)\u001b[0m\n\u001b[1;32m   1089\u001b[0m         \u001b[0mres\u001b[0m \u001b[0;34m=\u001b[0m \u001b[0mcache\u001b[0m\u001b[0;34m.\u001b[0m\u001b[0mget\u001b[0m\u001b[0;34m(\u001b[0m\u001b[0mitem\u001b[0m\u001b[0;34m)\u001b[0m\u001b[0;34m\u001b[0m\u001b[0m\n\u001b[1;32m   1090\u001b[0m         \u001b[0;32mif\u001b[0m \u001b[0mres\u001b[0m \u001b[0;32mis\u001b[0m \u001b[0;32mNone\u001b[0m\u001b[0;34m:\u001b[0m\u001b[0;34m\u001b[0m\u001b[0m\n\u001b[0;32m-> 1091\u001b[0;31m             \u001b[0mvalues\u001b[0m \u001b[0;34m=\u001b[0m \u001b[0mself\u001b[0m\u001b[0;34m.\u001b[0m\u001b[0m_data\u001b[0m\u001b[0;34m.\u001b[0m\u001b[0mget\u001b[0m\u001b[0;34m(\u001b[0m\u001b[0mitem\u001b[0m\u001b[0;34m)\u001b[0m\u001b[0;34m\u001b[0m\u001b[0m\n\u001b[0m\u001b[1;32m   1092\u001b[0m             \u001b[0mres\u001b[0m \u001b[0;34m=\u001b[0m \u001b[0mself\u001b[0m\u001b[0;34m.\u001b[0m\u001b[0m_box_item_values\u001b[0m\u001b[0;34m(\u001b[0m\u001b[0mitem\u001b[0m\u001b[0;34m,\u001b[0m \u001b[0mvalues\u001b[0m\u001b[0;34m)\u001b[0m\u001b[0;34m\u001b[0m\u001b[0m\n\u001b[1;32m   1093\u001b[0m             \u001b[0mcache\u001b[0m\u001b[0;34m[\u001b[0m\u001b[0mitem\u001b[0m\u001b[0;34m]\u001b[0m \u001b[0;34m=\u001b[0m \u001b[0mres\u001b[0m\u001b[0;34m\u001b[0m\u001b[0m\n",
      "\u001b[0;32m/opt/conda/lib/python3.5/site-packages/pandas/core/internals.py\u001b[0m in \u001b[0;36mget\u001b[0;34m(self, item, fastpath)\u001b[0m\n\u001b[1;32m   3209\u001b[0m \u001b[0;34m\u001b[0m\u001b[0m\n\u001b[1;32m   3210\u001b[0m             \u001b[0;32mif\u001b[0m \u001b[0;32mnot\u001b[0m \u001b[0misnull\u001b[0m\u001b[0;34m(\u001b[0m\u001b[0mitem\u001b[0m\u001b[0;34m)\u001b[0m\u001b[0;34m:\u001b[0m\u001b[0;34m\u001b[0m\u001b[0m\n\u001b[0;32m-> 3211\u001b[0;31m                 \u001b[0mloc\u001b[0m \u001b[0;34m=\u001b[0m \u001b[0mself\u001b[0m\u001b[0;34m.\u001b[0m\u001b[0mitems\u001b[0m\u001b[0;34m.\u001b[0m\u001b[0mget_loc\u001b[0m\u001b[0;34m(\u001b[0m\u001b[0mitem\u001b[0m\u001b[0;34m)\u001b[0m\u001b[0;34m\u001b[0m\u001b[0m\n\u001b[0m\u001b[1;32m   3212\u001b[0m             \u001b[0;32melse\u001b[0m\u001b[0;34m:\u001b[0m\u001b[0;34m\u001b[0m\u001b[0m\n\u001b[1;32m   3213\u001b[0m                 \u001b[0mindexer\u001b[0m \u001b[0;34m=\u001b[0m \u001b[0mnp\u001b[0m\u001b[0;34m.\u001b[0m\u001b[0marange\u001b[0m\u001b[0;34m(\u001b[0m\u001b[0mlen\u001b[0m\u001b[0;34m(\u001b[0m\u001b[0mself\u001b[0m\u001b[0;34m.\u001b[0m\u001b[0mitems\u001b[0m\u001b[0;34m)\u001b[0m\u001b[0;34m)\u001b[0m\u001b[0;34m[\u001b[0m\u001b[0misnull\u001b[0m\u001b[0;34m(\u001b[0m\u001b[0mself\u001b[0m\u001b[0;34m.\u001b[0m\u001b[0mitems\u001b[0m\u001b[0;34m)\u001b[0m\u001b[0;34m]\u001b[0m\u001b[0;34m\u001b[0m\u001b[0m\n",
      "\u001b[0;32m/opt/conda/lib/python3.5/site-packages/pandas/core/index.py\u001b[0m in \u001b[0;36mget_loc\u001b[0;34m(self, key, method, tolerance)\u001b[0m\n\u001b[1;32m   1757\u001b[0m                                  'backfill or nearest lookups')\n\u001b[1;32m   1758\u001b[0m             \u001b[0mkey\u001b[0m \u001b[0;34m=\u001b[0m \u001b[0m_values_from_object\u001b[0m\u001b[0;34m(\u001b[0m\u001b[0mkey\u001b[0m\u001b[0;34m)\u001b[0m\u001b[0;34m\u001b[0m\u001b[0m\n\u001b[0;32m-> 1759\u001b[0;31m             \u001b[0;32mreturn\u001b[0m \u001b[0mself\u001b[0m\u001b[0;34m.\u001b[0m\u001b[0m_engine\u001b[0m\u001b[0;34m.\u001b[0m\u001b[0mget_loc\u001b[0m\u001b[0;34m(\u001b[0m\u001b[0mkey\u001b[0m\u001b[0;34m)\u001b[0m\u001b[0;34m\u001b[0m\u001b[0m\n\u001b[0m\u001b[1;32m   1760\u001b[0m \u001b[0;34m\u001b[0m\u001b[0m\n\u001b[1;32m   1761\u001b[0m         indexer = self.get_indexer([key], method=method,\n",
      "\u001b[0;32mpandas/index.pyx\u001b[0m in \u001b[0;36mpandas.index.IndexEngine.get_loc (pandas/index.c:3979)\u001b[0;34m()\u001b[0m\n",
      "\u001b[0;32mpandas/index.pyx\u001b[0m in \u001b[0;36mpandas.index.IndexEngine.get_loc (pandas/index.c:3843)\u001b[0;34m()\u001b[0m\n",
      "\u001b[0;32mpandas/hashtable.pyx\u001b[0m in \u001b[0;36mpandas.hashtable.PyObjectHashTable.get_item (pandas/hashtable.c:12265)\u001b[0;34m()\u001b[0m\n",
      "\u001b[0;32mpandas/hashtable.pyx\u001b[0m in \u001b[0;36mpandas.hashtable.PyObjectHashTable.get_item (pandas/hashtable.c:12216)\u001b[0;34m()\u001b[0m\n",
      "\u001b[0;31mKeyError\u001b[0m: 0"
     ]
    }
   ],
   "source": [
    "# transpose factorsReturns\n",
    "factorMat = transpose(factorsReturnscsv)\n",
    "\n",
    "# featurize each row of factorMat\n",
    "factorFeatures = list(map(featurize,factorMat))\n",
    "\n",
    "# OLS require parameter is a numpy array\n",
    "factor_columns = np.array(factorFeatures)\n",
    "\n",
    "#add a constant - the intercept term for each instrument i.\n",
    "factor_columns = sm.add_constant(factor_columns, prepend=True)\n",
    "\n",
    "# estimate weights\n",
    "weights = [estimateParams(stockReturns,factor_columns) for stockReturns in stocksReturnscsv]\n",
    "\n",
    "#print(\"weights:\", weights)"
   ]
  },
  {
   "cell_type": "code",
   "execution_count": null,
   "metadata": {
    "collapsed": true
   },
   "outputs": [],
   "source": [
    "parallelism = 12\n",
    "numTrials = 10000\n",
    "trial_indexes = list(range(0, parallelism))\n",
    "seedRDD = sc.parallelize(trial_indexes, parallelism)\n",
    "bFactorWeights = sc.broadcast(weights)\n",
    "    \n",
    "trials = seedRDD.flatMap(lambda idx: \\\n",
    "                simulateTrialReturns(\n",
    "                    max(int(numTrials/parallelism), 1), \n",
    "                    factorMeans, factorCov,\n",
    "                    bFactorWeights.value\n",
    "                ))\n",
    "trials.cache()\n",
    "\n",
    "valueAtRisk = fivePercentVaR(trials)\n",
    "conditionalValueAtRisk = fivePercentCVaR(trials)\n",
    "\n",
    "print (\"Value at Risk(VaR) 5%:\", valueAtRisk)\n",
    "print (\"Conditional Value at Risk(CVaR) 5%:\", conditionalValueAtRisk)"
   ]
  },
  {
   "cell_type": "code",
   "execution_count": null,
   "metadata": {
    "collapsed": true
   },
   "outputs": [],
   "source": [
    "varConfidenceInterval = bootstrappedConfidenceInterval(trials, fivePercentVaR, 100, 0.05)\n",
    "cvarConfidenceInterval = bootstrappedConfidenceInterval(trials, fivePercentCVaR, 100, .05)\n",
    "print(\"VaR confidence interval: \" , varConfidenceInterval)\n",
    "print(\"CVaR confidence interval: \" , cvarConfidenceInterval)\n",
    "print(\"Kupiec test p-value: \" , kupiecTestPValue(stocksReturns, valueAtRisk, 0.05))"
   ]
  },
  {
   "cell_type": "markdown",
   "metadata": {},
   "source": [
    "### Question 9\n",
    "<div class=\"alert alert-info\">\n",
    "Assume that we invest in more than 100 stocks. Use the same market factors as for the previous questions to estimate VaR by running MCS, then validate your result.  \n",
    "\n",
    "What is the main observation you have, once you answer this question? When you plan to invest in more instruments, how is your ability to predict the risk going to be affected?\n",
    "</div>\n"
   ]
  },
  {
   "cell_type": "code",
   "execution_count": 231,
   "metadata": {
    "collapsed": false
   },
   "outputs": [
    {
     "name": "stdout",
     "output_type": "stream",
     "text": [
      "(datetime.datetime(1997, 8, 14, 0, 0), 39.0)\n",
      "[(datetime.datetime(1997, 8, 14, 0, 0), 39.0), (datetime.datetime(1997, 8, 15, 0, 0), 42.0), (datetime.datetime(1997, 8, 18, 0, 0), 44.0), (datetime.datetime(1997, 8, 19, 0, 0), 55.5), (datetime.datetime(1997, 8, 20, 0, 0), 48.0)]\n"
     ]
    }
   ],
   "source": [
    "# select path of all stock data files in \"stock_folder\"\n",
    "files = [join(stock_folder, f) for f in listdir(stock_folder) if isfile(join(stock_folder, f))]\n",
    "\n",
    "# assume that we invest only the first 100 stocks (for faster computation)\n",
    "files = files[:100]\n",
    "\n",
    "# read each line in each file, convert it into the format: (date, value)\n",
    "rawStocks = [process_stock_file(f) for f in files]\n",
    "\n",
    "# select only instruments which have more than 5 years of history\n",
    "# Note: the number of business days in a year is 260\n",
    "number_of_years = 5\n",
    "print(rawStocks[0][0])\n",
    "rawStocks = list(filter(lambda instrument: len(instrument)>=260*number_of_years, rawStocks))\n",
    "\n",
    "# For testing, print the first 5 entry of the first stock\n",
    "print(rawStocks[0][:5])"
   ]
  },
  {
   "cell_type": "code",
   "execution_count": 232,
   "metadata": {
    "collapsed": false
   },
   "outputs": [
    {
     "name": "stdout",
     "output_type": "stream",
     "text": [
      "[(datetime.datetime(2009, 1, 23, 0, 0), 19.4), (datetime.datetime(2009, 1, 26, 0, 0), 19.67), (datetime.datetime(2009, 1, 27, 0, 0), 19.809999), (datetime.datetime(2009, 1, 28, 0, 0), 20.469999), (datetime.datetime(2009, 1, 29, 0, 0), 21.41)]\n",
      "[(datetime.datetime(2014, 1, 16, 0, 0), 37.369999), (datetime.datetime(2014, 1, 17, 0, 0), 37.470001), (datetime.datetime(2014, 1, 21, 0, 0), 37.73), (datetime.datetime(2014, 1, 22, 0, 0), 37.779999), (datetime.datetime(2014, 1, 23, 0, 0), 37.59)]\n"
     ]
    }
   ],
   "source": [
    "# note that the data of crude oild and treasury is only available starting from 26/01/2006 \n",
    "start = datetime(year=2009, month=1, day=23)\n",
    "end = datetime(year=2014, month=1, day=23)\n",
    "\n",
    "# test our function\n",
    "trimmedStock0  = trimToRegion(rawStocks[0], start, end)\n",
    "# the first 5 records of stock 0\n",
    "print(trimmedStock0[:5])\n",
    "# the last 5 records of stock 0\n",
    "print(trimmedStock0[-5:])\n",
    "\n",
    "assert(trimmedStock0[0][0] == start), \"the first record must contain the price in the first day of time interval\"\n",
    "assert(trimmedStock0[-1][0] == end), \"the last record must contain the price in the last day of time interval\""
   ]
  },
  {
   "cell_type": "code",
   "execution_count": 233,
   "metadata": {
    "collapsed": false
   },
   "outputs": [
    {
     "name": "stdout",
     "output_type": "stream",
     "text": [
      "the first 5 records of stock 0: [(datetime.datetime(2009, 1, 23, 0, 0), 19.4), (datetime.datetime(2009, 1, 26, 0, 0), 19.67), (datetime.datetime(2009, 1, 27, 0, 0), 19.809999), (datetime.datetime(2009, 1, 28, 0, 0), 20.469999), (datetime.datetime(2009, 1, 29, 0, 0), 21.41)] \n",
      "\n",
      "the last 5 records of stock 0: [(datetime.datetime(2014, 1, 16, 0, 0), 37.369999), (datetime.datetime(2014, 1, 17, 0, 0), 37.470001), (datetime.datetime(2014, 1, 20, 0, 0), 37.470001), (datetime.datetime(2014, 1, 21, 0, 0), 37.73), (datetime.datetime(2014, 1, 22, 0, 0), 37.779999)] \n",
      "\n",
      "the first 5 records of factor 0: [(datetime.datetime(2009, 1, 23, 0, 0), 46.47), (datetime.datetime(2009, 1, 26, 0, 0), 45.73), (datetime.datetime(2009, 1, 27, 0, 0), 41.58), (datetime.datetime(2009, 1, 28, 0, 0), 42.16), (datetime.datetime(2009, 1, 29, 0, 0), 41.44)] \n",
      "\n",
      "the first 5 records of factor 0: [(datetime.datetime(2014, 1, 16, 0, 0), 93.96), (datetime.datetime(2014, 1, 17, 0, 0), 94.37), (datetime.datetime(2014, 1, 20, 0, 0), 93.93), (datetime.datetime(2014, 1, 21, 0, 0), 94.99), (datetime.datetime(2014, 1, 22, 0, 0), 96.73)] \n",
      "\n"
     ]
    }
   ],
   "source": [
    "#print rawStocks[0]\n",
    "\n",
    "# trim into a specific time region\n",
    "# and fill up the missing values\n",
    "stocks100 = list(map(lambda stock: \\\n",
    "            fillInHistory(\n",
    "                trimToRegion(stock, start, end), \n",
    "            start, end), \n",
    "        rawStocks))\n",
    "\n",
    "# test our code\n",
    "print(\"the first 5 records of stock 0:\", stocks[0][:5], \"\\n\")\n",
    "print(\"the last 5 records of stock 0:\", stocks[0][-5:], \"\\n\")\n",
    "print(\"the first 5 records of factor 0:\", factors[0][:5], \"\\n\")\n",
    "print(\"the first 5 records of factor 0:\", factors[0][-5:], \"\\n\")"
   ]
  },
  {
   "cell_type": "code",
   "execution_count": 234,
   "metadata": {
    "collapsed": false
   },
   "outputs": [
    {
     "name": "stdout",
     "output_type": "stream",
     "text": [
      "the first 5 returns of stock 0: [0.8000010000000017, 1.0, 0.7200019999999974, -0.27999800000000263, -1.5800000000000018]\n",
      "the last 5 returns of stock 0: [-1.1599999999999966, -1.4599989999999963, -0.8399999999999963, -0.4599990000000034, 0.0]\n"
     ]
    }
   ],
   "source": [
    "stocksReturns = list(map(twoWeekReturns, stocks100))\n",
    "\n",
    "# test our functions\n",
    "print(\"the first 5 returns of stock 0:\", stocksReturns[0][:5])\n",
    "print(\"the last 5 returns of stock 0:\", stocksReturns[0][-5:])"
   ]
  },
  {
   "cell_type": "code",
   "execution_count": 235,
   "metadata": {
    "collapsed": false
   },
   "outputs": [],
   "source": [
    "# transpose factorsReturns\n",
    "factorMat = transpose(factorsReturns)\n",
    "\n",
    "# featurize each row of factorMat\n",
    "factorFeatures = list(map(featurize,factorMat))\n",
    "\n",
    "# OLS require parameter is a numpy array\n",
    "factor_columns = np.array(factorFeatures)\n",
    "\n",
    "#add a constant - the intercept term for each instrument i.\n",
    "factor_columns = sm.add_constant(factor_columns, prepend=True)\n",
    "\n",
    "# estimate weights\n",
    "weights = [estimateParams(stockReturns,factor_columns) for stockReturns in stocksReturns]\n",
    "\n",
    "#print(\"weights:\", weights)"
   ]
  },
  {
   "cell_type": "code",
   "execution_count": 236,
   "metadata": {
    "collapsed": false
   },
   "outputs": [
    {
     "name": "stdout",
     "output_type": "stream",
     "text": [
      "Value at Risk(VaR) 5%: -769.417395739\n",
      "Conditional Value at Risk(CVaR) 5%: -1130.34032659\n"
     ]
    }
   ],
   "source": [
    "parallelism = 12\n",
    "numTrials = 10000\n",
    "trial_indexes = list(range(0, parallelism))\n",
    "seedRDD = sc.parallelize(trial_indexes, parallelism)\n",
    "bFactorWeights = sc.broadcast(weights)\n",
    "    \n",
    "trials = seedRDD.flatMap(lambda idx: \\\n",
    "                simulateTrialReturns(\n",
    "                    max(int(numTrials/parallelism), 1), \n",
    "                    factorMeans, factorCov,\n",
    "                    bFactorWeights.value\n",
    "                ))\n",
    "trials.cache()\n",
    "\n",
    "valueAtRisk = fivePercentVaR(trials)\n",
    "conditionalValueAtRisk = fivePercentCVaR(trials)\n",
    "\n",
    "print (\"Value at Risk(VaR) 5%:\", valueAtRisk)\n",
    "print (\"Conditional Value at Risk(CVaR) 5%:\", conditionalValueAtRisk)"
   ]
  },
  {
   "cell_type": "code",
   "execution_count": 237,
   "metadata": {
    "collapsed": false
   },
   "outputs": [
    {
     "name": "stdout",
     "output_type": "stream",
     "text": [
      "VaR confidence interval:  (-777.52979822602458, -764.19973699493517)\n",
      "CVaR confidence interval:  (-1100.028993367468, -1143.826512870897)\n",
      "num failures: 183\n",
      "failureRatio: 0.14131274131274132\n",
      "Kupiec test p-value:  0.0\n"
     ]
    }
   ],
   "source": [
    "varConfidenceInterval = bootstrappedConfidenceInterval(trials, fivePercentVaR, 100, 0.05)\n",
    "cvarConfidenceInterval = bootstrappedConfidenceInterval(trials, fivePercentCVaR, 100, .05)\n",
    "print(\"VaR confidence interval: \" , varConfidenceInterval)\n",
    "print(\"CVaR confidence interval: \" , cvarConfidenceInterval)\n",
    "print(\"Kupiec test p-value: \" , kupiecTestPValue(stocksReturns, valueAtRisk, 0.05))"
   ]
  },
  {
   "cell_type": "markdown",
   "metadata": {},
   "source": [
    "<div class=\"alert alert-warning\">\n",
    "\n",
    "When we increased the number of stocks the results get worse but it wasn't expected since we increased the observations so we should have get a better model. This maybe be explained by the nature of the data that we have, it may contains outliers. We will do a further analysis in the rest of the notebook.\n",
    "\n",
    "</div>"
   ]
  },
  {
   "cell_type": "markdown",
   "metadata": {},
   "source": [
    "![](https://farm2.staticflickr.com/1604/24934700445_833f0a5649_t.jpg)"
   ]
  },
  {
   "cell_type": "markdown",
   "metadata": {},
   "source": [
    "### Question 10\n",
    "<div class=\"alert alert-info\">\n",
    "\n",
    "In the previous questions, we used the normal distributions to sample the factors returns.  \n",
    "\n",
    "Try to study how results vary when selecting other probability distributions: our goal is to improve the result of our MCS.\n",
    "</div>"
   ]
  },
  {
   "cell_type": "markdown",
   "metadata": {},
   "source": [
    "## Cauchy distribution"
   ]
  },
  {
   "cell_type": "code",
   "execution_count": 238,
   "metadata": {
    "collapsed": true
   },
   "outputs": [],
   "source": [
    "def simulateTrialReturnsCauchy(numTrials, weights):\n",
    "    trialReturns = []\n",
    "    for i in range(0, numTrials):\n",
    "        # generate sample of factors' returns\n",
    "        trialFactorReturns = np.random.standard_cauchy(4)\n",
    "\n",
    "        # featurize the factors' returns\n",
    "        trialFeatures = featurize(trialFactorReturns)\n",
    "\n",
    "        # insert weight for intercept term\n",
    "        trialFeatures.insert(0,1)\n",
    "\n",
    "        trialTotalReturn = 0\n",
    "\n",
    "        # calculate the return of each instrument\n",
    "        # then calulate the total of return for this trial features\n",
    "        for weight in weights:\n",
    "            instrument = sum([weight[feat] * trialFeatures[feat] for feat in range(len(trialFeatures))])\n",
    "            trialTotalReturn += instrument\n",
    "\n",
    "        trialReturns.append(trialTotalReturn)\n",
    "    return trialReturns"
   ]
  },
  {
   "cell_type": "code",
   "execution_count": 239,
   "metadata": {
    "collapsed": false
   },
   "outputs": [
    {
     "name": "stdout",
     "output_type": "stream",
     "text": [
      "Value at Risk(VaR) 5%: -556379.302925\n",
      "Conditional Value at Risk(CVaR) 5%: -2250430047.32\n"
     ]
    }
   ],
   "source": [
    "parallelism = 12\n",
    "numTrials = 100000\n",
    "trial_indexes = list(range(0, parallelism))\n",
    "seedRDD = sc.parallelize(trial_indexes, parallelism)\n",
    "bFactorWeights = sc.broadcast(weights)\n",
    "    \n",
    "trials = seedRDD.flatMap(lambda idx: \\\n",
    "                simulateTrialReturnsCauchy(\n",
    "                    max(int(numTrials/parallelism), 1),\n",
    "                    bFactorWeights.value\n",
    "                ))\n",
    "trials.cache()\n",
    "\n",
    "valueAtRisk = fivePercentVaR(trials)\n",
    "conditionalValueAtRisk = fivePercentCVaR(trials)\n",
    "\n",
    "print (\"Value at Risk(VaR) 5%:\", valueAtRisk)\n",
    "print (\"Conditional Value at Risk(CVaR) 5%:\", conditionalValueAtRisk)"
   ]
  },
  {
   "cell_type": "code",
   "execution_count": 240,
   "metadata": {
    "collapsed": false
   },
   "outputs": [
    {
     "name": "stdout",
     "output_type": "stream",
     "text": [
      "VaR confidence interval:  (-519534.49576619244, -557858.14118772699)\n",
      "CVaR confidence interval:  (-2127516302.4215324, -2870410123.7048097)\n",
      "num failures: 0\n",
      "Kupiec test p-value:  1\n"
     ]
    }
   ],
   "source": [
    "varConfidenceInterval = bootstrappedConfidenceInterval(trials, fivePercentVaR, 100, 0.05)\n",
    "cvarConfidenceInterval = bootstrappedConfidenceInterval(trials, fivePercentCVaR, 100, .05)\n",
    "print(\"VaR confidence interval: \" , varConfidenceInterval)\n",
    "print(\"CVaR confidence interval: \" , cvarConfidenceInterval)\n",
    "print(\"Kupiec test p-value: \" , kupiecTestPValue(stocksReturns, valueAtRisk, 0.05))"
   ]
  },
  {
   "cell_type": "markdown",
   "metadata": {},
   "source": [
    "## LogNormal distribution"
   ]
  },
  {
   "cell_type": "code",
   "execution_count": 241,
   "metadata": {
    "collapsed": true
   },
   "outputs": [],
   "source": [
    "def simulateTrialReturnslognormal(numTrials, factorMeans, factorCov, weights):\n",
    "    trialReturns = []\n",
    "    for i in range(0, numTrials):\n",
    "        # generate sample of factors' returns\n",
    "        trialFactorReturns = np.random.lognormal(factorMeans,[np.sqrt(factorCov)[i][i] for i in range(0,len(factorCov[0]))])\n",
    "\n",
    "        # featurize the factors' returns\n",
    "        trialFeatures = featurize(trialFactorReturns)\n",
    "\n",
    "        # insert weight for intercept term\n",
    "        trialFeatures.insert(0,1)\n",
    "\n",
    "        trialTotalReturn = 0\n",
    "\n",
    "        # calculate the return of each instrument\n",
    "        # then calulate the total of return for this trial features\n",
    "        for weight in weights:\n",
    "            instrument = sum([weight[feat] * trialFeatures[feat] for feat in range(len(trialFeatures))])\n",
    "            trialTotalReturn += instrument\n",
    "\n",
    "        trialReturns.append(trialTotalReturn)\n",
    "    return trialReturns"
   ]
  },
  {
   "cell_type": "code",
   "execution_count": 242,
   "metadata": {
    "collapsed": false
   },
   "outputs": [
    {
     "name": "stdout",
     "output_type": "stream",
     "text": [
      "Value at Risk(VaR) 5%: -1.12909568753e+12\n",
      "Conditional Value at Risk(CVaR) 5%: -4.04945955042e+22\n"
     ]
    }
   ],
   "source": [
    "parallelism = 12\n",
    "numTrials = 100000\n",
    "trial_indexes = list(range(0, parallelism))\n",
    "seedRDD = sc.parallelize(trial_indexes, parallelism)\n",
    "bFactorWeights = sc.broadcast(weights)\n",
    "    \n",
    "trials = seedRDD.flatMap(lambda idx: \\\n",
    "                simulateTrialReturnslognormal(\n",
    "                    max(int(numTrials/parallelism), 1),\n",
    "                    factorMeans, np.sqrt(factorCov),\n",
    "                    bFactorWeights.value\n",
    "                ))\n",
    "trials.cache()\n",
    "\n",
    "valueAtRisk = fivePercentVaR(trials)\n",
    "conditionalValueAtRisk = fivePercentCVaR(trials)\n",
    "\n",
    "print (\"Value at Risk(VaR) 5%:\", valueAtRisk)\n",
    "print (\"Conditional Value at Risk(CVaR) 5%:\", conditionalValueAtRisk)"
   ]
  },
  {
   "cell_type": "code",
   "execution_count": 243,
   "metadata": {
    "collapsed": false
   },
   "outputs": [
    {
     "name": "stdout",
     "output_type": "stream",
     "text": [
      "VaR confidence interval:  (-1136972593880.6902, -1298621502260.4851)\n",
      "CVaR confidence interval:  (-4.7047963076298048e+22, -3.3242984746997005e+22)\n",
      "num failures: 0\n",
      "Kupiec test p-value:  1\n"
     ]
    }
   ],
   "source": [
    "varConfidenceInterval = bootstrappedConfidenceInterval(trials, fivePercentVaR, 100, 0.05)\n",
    "cvarConfidenceInterval = bootstrappedConfidenceInterval(trials, fivePercentCVaR, 100, .05)\n",
    "print(\"VaR confidence interval: \" , varConfidenceInterval)\n",
    "print(\"CVaR confidence interval: \" , cvarConfidenceInterval)\n",
    "print(\"Kupiec test p-value: \" , kupiecTestPValue(stocksReturns, valueAtRisk, 0.05))"
   ]
  },
  {
   "cell_type": "markdown",
   "metadata": {},
   "source": [
    "## Standard T distribution"
   ]
  },
  {
   "cell_type": "code",
   "execution_count": 244,
   "metadata": {
    "collapsed": true
   },
   "outputs": [],
   "source": [
    "def simulateTrialReturnsStandard_t(numTrials, weights):\n",
    "    trialReturns = []\n",
    "    for i in range(0, numTrials):\n",
    "        # generate sample of factors' returns\n",
    "        trialFactorReturns = np.random.standard_t([3,3,3,3])\n",
    "\n",
    "        # featurize the factors' returns\n",
    "        trialFeatures = featurize(trialFactorReturns)\n",
    "\n",
    "        # insert weight for intercept term\n",
    "        trialFeatures.insert(0,1)\n",
    "\n",
    "        trialTotalReturn = 0\n",
    "\n",
    "        # calculate the return of each instrument\n",
    "        # then calulate the total of return for this trial features\n",
    "        for weight in weights:\n",
    "            instrument = sum([weight[feat] * trialFeatures[feat] for feat in range(len(trialFeatures))])\n",
    "            trialTotalReturn += instrument\n",
    "\n",
    "        trialReturns.append(trialTotalReturn)\n",
    "    return trialReturns"
   ]
  },
  {
   "cell_type": "code",
   "execution_count": 245,
   "metadata": {
    "collapsed": false
   },
   "outputs": [
    {
     "name": "stdout",
     "output_type": "stream",
     "text": [
      "Value at Risk(VaR) 5%: -64076.1068716\n",
      "Conditional Value at Risk(CVaR) 5%: -262475.479364\n"
     ]
    }
   ],
   "source": [
    "parallelism = 12\n",
    "numTrials = 100000\n",
    "trial_indexes = list(range(0, parallelism))\n",
    "seedRDD = sc.parallelize(trial_indexes, parallelism)\n",
    "bFactorWeights = sc.broadcast(weights)\n",
    "    \n",
    "trials = seedRDD.flatMap(lambda idx: \\\n",
    "                simulateTrialReturnsStandard_t(\n",
    "                    max(int(numTrials/parallelism), 1),\n",
    "                    bFactorWeights.value\n",
    "                ))\n",
    "trials.cache()\n",
    "\n",
    "valueAtRisk = fivePercentVaR(trials)\n",
    "conditionalValueAtRisk = fivePercentCVaR(trials)\n",
    "\n",
    "print (\"Value at Risk(VaR) 5%:\", valueAtRisk)\n",
    "print (\"Conditional Value at Risk(CVaR) 5%:\", conditionalValueAtRisk)"
   ]
  },
  {
   "cell_type": "code",
   "execution_count": 246,
   "metadata": {
    "collapsed": false
   },
   "outputs": [
    {
     "name": "stdout",
     "output_type": "stream",
     "text": [
      "VaR confidence interval:  (-64043.19095844531, -64076.106871641117)\n",
      "CVaR confidence interval:  (-277333.29525557277, -262912.3333702595)\n",
      "num failures: 0\n",
      "Kupiec test p-value:  1\n"
     ]
    }
   ],
   "source": [
    "varConfidenceInterval = bootstrappedConfidenceInterval(trials, fivePercentVaR, 100, 0.05)\n",
    "cvarConfidenceInterval = bootstrappedConfidenceInterval(trials, fivePercentCVaR, 100, .05)\n",
    "print(\"VaR confidence interval: \" , varConfidenceInterval)\n",
    "print(\"CVaR confidence interval: \" , cvarConfidenceInterval)\n",
    "print(\"Kupiec test p-value: \" , kupiecTestPValue(stocksReturns, valueAtRisk, 0.05))"
   ]
  },
  {
   "cell_type": "markdown",
   "metadata": {},
   "source": [
    "<div class=\"alert alert-warning\">\n",
    "LogNormal, Cauchy and Student T distribution gave us very bad results. The number of failures are 0 because of the VaR value is overestimated.\n",
    "</div>"
   ]
  },
  {
   "cell_type": "markdown",
   "metadata": {},
   "source": [
    "## Gaussian mixture distribution"
   ]
  },
  {
   "cell_type": "markdown",
   "metadata": {},
   "source": [
    "<div class=\"alert alert-warning\">\n",
    "Since we are working on linear model using the sum of several weighted features and recalling the fact that the sum of normal distibutions is normal distribution, we decided to use the Gaussian mixture distribution for sampling the values of our factors. So to have the parameters of the distribution we used maximum-likelihood (using the function fit() in the library mixture.GMM).\n",
    "</div>"
   ]
  },
  {
   "cell_type": "code",
   "execution_count": 247,
   "metadata": {
    "collapsed": false,
    "scrolled": true
   },
   "outputs": [
    {
     "name": "stderr",
     "output_type": "stream",
     "text": [
      "/opt/conda/lib/python3.5/site-packages/sklearn/base.py:175: DeprecationWarning: inspect.getargspec() is deprecated, use inspect.signature() instead\n",
      "  args, varargs, kw, default = inspect.getargspec(init)\n"
     ]
    },
    {
     "data": {
      "text/plain": [
       "GMM(covariance_type='diag', init_params='wmc', min_covar=0.001,\n",
       "  n_components=4, n_init=1, n_iter=100, params='wmc', random_state=None,\n",
       "  thresh=None, tol=0.001)"
      ]
     },
     "execution_count": 247,
     "metadata": {},
     "output_type": "execute_result"
    }
   ],
   "source": [
    "g=mixture.GMM(4,covariance_type='diag')\n",
    "g.fit(transpose(factorsReturns))"
   ]
  },
  {
   "cell_type": "code",
   "execution_count": 248,
   "metadata": {
    "collapsed": false
   },
   "outputs": [],
   "source": [
    "import numpy as np\n",
    "import matplotlib.pyplot as plt\n",
    "from sklearn import mixture\n",
    "\n",
    "# RUN SILMULATION\n",
    "def simulateTrialReturnsgaussianmixture(numTrials, weights):\n",
    "    trialReturns = []\n",
    "    for i in range(0, numTrials):\n",
    "        # generate sample of factors' returns\n",
    "        trialFactorReturns = g.sample()[0]\n",
    "\n",
    "        # featurize the factors' returns\n",
    "        trialFeatures = featurize(trialFactorReturns)\n",
    "\n",
    "        # insert weight for intercept term\n",
    "        trialFeatures.insert(0,1)\n",
    "\n",
    "        trialTotalReturn = 0\n",
    "\n",
    "        # calculate the return of each instrument\n",
    "        # then calulate the total of return for this trial features\n",
    "        for weight in weights:\n",
    "            instrument = sum([weight[feat] * trialFeatures[feat] for feat in range(len(trialFeatures))])\n",
    "            trialTotalReturn += instrument\n",
    "\n",
    "        trialReturns.append(trialTotalReturn)\n",
    "    return trialReturns"
   ]
  },
  {
   "cell_type": "code",
   "execution_count": 249,
   "metadata": {
    "collapsed": false
   },
   "outputs": [
    {
     "name": "stdout",
     "output_type": "stream",
     "text": [
      "Value at Risk(VaR) 5%: -859.142348177\n",
      "Conditional Value at Risk(CVaR) 5%: -1746.26388741\n"
     ]
    }
   ],
   "source": [
    "parallelism = 12\n",
    "numTrials = 10000\n",
    "trial_indexes = list(range(0, parallelism))\n",
    "seedRDD = sc.parallelize(trial_indexes, parallelism)\n",
    "bFactorWeights = sc.broadcast(weights)\n",
    "    \n",
    "trials = seedRDD.flatMap(lambda idx: \\\n",
    "                simulateTrialReturnsgaussianmixture(\n",
    "                    max(int(numTrials/parallelism), 1),\n",
    "                    bFactorWeights.value\n",
    "                ))\n",
    "trials.cache()\n",
    "\n",
    "valueAtRisk = fivePercentVaR(trials)\n",
    "conditionalValueAtRisk = fivePercentCVaR(trials)\n",
    "\n",
    "print (\"Value at Risk(VaR) 5%:\", valueAtRisk)\n",
    "print (\"Conditional Value at Risk(CVaR) 5%:\", conditionalValueAtRisk)"
   ]
  },
  {
   "cell_type": "code",
   "execution_count": 250,
   "metadata": {
    "collapsed": false
   },
   "outputs": [
    {
     "name": "stdout",
     "output_type": "stream",
     "text": [
      "VaR confidence interval:  (-818.42741364255596, -895.18804258091166)\n",
      "CVaR confidence interval:  (-1754.2558013110813, -1748.2908767355125)\n",
      "num failures: 152\n",
      "failureRatio: 0.11737451737451737\n",
      "Kupiec test p-value:  0.0\n",
      "error percentage:  (-1754.2558013110813, -1748.2908767355125)\n"
     ]
    }
   ],
   "source": [
    "varConfidenceInterval = bootstrappedConfidenceInterval(trials, fivePercentVaR, 100, 0.05)\n",
    "cvarConfidenceInterval = bootstrappedConfidenceInterval(trials, fivePercentCVaR, 100, .05)\n",
    "print(\"VaR confidence interval: \" , varConfidenceInterval)\n",
    "print(\"CVaR confidence interval: \" , cvarConfidenceInterval)\n",
    "print(\"Kupiec test p-value: \" , kupiecTestPValue(stocksReturns, valueAtRisk, 0.05))\n",
    "print(\"error percentage: \" , cvarConfidenceInterval)"
   ]
  },
  {
   "cell_type": "markdown",
   "metadata": {},
   "source": [
    "# Without the outlier"
   ]
  },
  {
   "cell_type": "markdown",
   "metadata": {},
   "source": [
    "## Normal distribution"
   ]
  },
  {
   "cell_type": "markdown",
   "metadata": {},
   "source": [
    "<div class=\"alert alert-warning\">\n",
    "The following plots will be of the same type of the plot done for the question 4.6. As it is possible to see there is an outlier that affect our simulation.\n",
    "</div>"
   ]
  },
  {
   "cell_type": "code",
   "execution_count": 251,
   "metadata": {
    "collapsed": true
   },
   "outputs": [],
   "source": [
    "meanStock = []\n",
    "for i in range(len(stocksReturns)):\n",
    "    meanStock.append(abs(sum(stocksReturns[i]) / len(stocksReturns[i])))\n",
    "    #print(\"Stock\",i,\"Mean\",meanStock[i])"
   ]
  },
  {
   "cell_type": "code",
   "execution_count": 252,
   "metadata": {
    "collapsed": false
   },
   "outputs": [
    {
     "data": {
      "image/png": "[encoded data removed]",
      "text/plain": [
       "<matplotlib.figure.Figure at 0x7f1ef3fc1400>"
      ]
     },
     "metadata": {},
     "output_type": "display_data"
    }
   ],
   "source": [
    "plt.figure(figsize=(20,10))\n",
    "plt.xlabel(\"Stock\")\n",
    "plt.ylabel(\"Mean\")\n",
    "plt.title('The mean of the returns over all time windows per stock')\n",
    "plt.grid(True,which=\"both\",ls=\"-\")\n",
    "\n",
    "# plot bar chart\n",
    "plt.bar(range(len(stocksReturns)),meanStock, align='center', alpha=0.4)\n",
    "\n",
    "plt.show()"
   ]
  },
  {
   "cell_type": "code",
   "execution_count": 253,
   "metadata": {
    "collapsed": true
   },
   "outputs": [],
   "source": [
    "del stocksReturns[41] #this stock is an outlier compared to the other so it's better to remove it"
   ]
  },
  {
   "cell_type": "code",
   "execution_count": 254,
   "metadata": {
    "collapsed": true
   },
   "outputs": [],
   "source": [
    "meanStock = []\n",
    "for i in range(len(stocksReturns)):\n",
    "    meanStock.append(abs(sum(stocksReturns[i]) / len(stocksReturns[i])))\n",
    "    #print(\"Stock\",i,\"Mean\",meanStock[i])"
   ]
  },
  {
   "cell_type": "code",
   "execution_count": 255,
   "metadata": {
    "collapsed": false
   },
   "outputs": [
    {
     "data": {
      "image/png": "[encoded data removed]",
      "text/plain": [
       "<matplotlib.figure.Figure at 0x7f1f9d0237f0>"
      ]
     },
     "metadata": {},
     "output_type": "display_data"
    }
   ],
   "source": [
    "plt.figure(figsize=(20,10))\n",
    "plt.xlabel(\"Stock\")\n",
    "plt.ylabel(\"Mean\")\n",
    "plt.title('The mean of the returns over all time windows per stock')\n",
    "plt.grid(True,which=\"both\",ls=\"-\")\n",
    "\n",
    "# plot bar chart\n",
    "plt.bar(range(len(stocksReturns)),meanStock, align='center', alpha=0.4)\n",
    "\n",
    "plt.show()"
   ]
  },
  {
   "cell_type": "code",
   "execution_count": 256,
   "metadata": {
    "collapsed": true
   },
   "outputs": [],
   "source": [
    "# transpose factorsReturns\n",
    "factorMat = transpose(factorsReturns)\n",
    "\n",
    "# featurize each row of factorMat\n",
    "factorFeatures = list(map(featurize,factorMat))\n",
    "\n",
    "# OLS require parameter is a numpy array\n",
    "factor_columns = np.array(factorFeatures)\n",
    "\n",
    "#add a constant - the intercept term for each instrument i.\n",
    "factor_columns = sm.add_constant(factor_columns, prepend=True)\n",
    "\n",
    "# estimate weights\n",
    "weights = [estimateParams(stockReturns,factor_columns) for stockReturns in stocksReturns]\n",
    "\n",
    "#print(\"weights:\", weights)"
   ]
  },
  {
   "cell_type": "code",
   "execution_count": 257,
   "metadata": {
    "collapsed": false
   },
   "outputs": [
    {
     "name": "stdout",
     "output_type": "stream",
     "text": [
      "Value at Risk(VaR) 5%: -39.0557504887\n",
      "Conditional Value at Risk(CVaR) 5%: -49.7471115208\n"
     ]
    }
   ],
   "source": [
    "parallelism = 12\n",
    "numTrials = 10000\n",
    "trial_indexes = list(range(0, parallelism))\n",
    "seedRDD = sc.parallelize(trial_indexes, parallelism)\n",
    "bFactorWeights = sc.broadcast(weights)\n",
    "    \n",
    "trials = seedRDD.flatMap(lambda idx: \\\n",
    "                simulateTrialReturns(\n",
    "                    max(int(numTrials/parallelism), 1), \n",
    "                    factorMeans, factorCov,\n",
    "                    bFactorWeights.value\n",
    "                ))\n",
    "trials.cache()\n",
    "\n",
    "valueAtRisk = fivePercentVaR(trials)\n",
    "conditionalValueAtRisk = fivePercentCVaR(trials)\n",
    "\n",
    "print (\"Value at Risk(VaR) 5%:\", valueAtRisk)\n",
    "print (\"Conditional Value at Risk(CVaR) 5%:\", conditionalValueAtRisk)"
   ]
  },
  {
   "cell_type": "code",
   "execution_count": 258,
   "metadata": {
    "collapsed": false
   },
   "outputs": [
    {
     "name": "stdout",
     "output_type": "stream",
     "text": [
      "VaR confidence interval:  (-40.164444117032758, -40.164444117032758)\n",
      "CVaR confidence interval:  (-50.36772128597844, -50.142974056061135)\n",
      "num failures: 98\n",
      "failureRatio: 0.07567567567567568\n",
      "Kupiec test p-value:  7.67839015654e-05\n"
     ]
    }
   ],
   "source": [
    "varConfidenceInterval = bootstrappedConfidenceInterval(trials, fivePercentVaR, 100, 0.05)\n",
    "cvarConfidenceInterval = bootstrappedConfidenceInterval(trials, fivePercentCVaR, 100, .05)\n",
    "print(\"VaR confidence interval: \" , varConfidenceInterval)\n",
    "print(\"CVaR confidence interval: \" , cvarConfidenceInterval)\n",
    "print(\"Kupiec test p-value: \" , kupiecTestPValue(stocksReturns, valueAtRisk, 0.05))"
   ]
  },
  {
   "cell_type": "markdown",
   "metadata": {},
   "source": [
    "## Gaussian mixture model"
   ]
  },
  {
   "cell_type": "code",
   "execution_count": 259,
   "metadata": {
    "collapsed": false
   },
   "outputs": [
    {
     "name": "stdout",
     "output_type": "stream",
     "text": [
      "Value at Risk(VaR) 5%: -53.6752184321\n",
      "Conditional Value at Risk(CVaR) 5%: -65.7598764525\n"
     ]
    }
   ],
   "source": [
    "parallelism = 12\n",
    "numTrials = 10000\n",
    "trial_indexes = list(range(0, parallelism))\n",
    "seedRDD = sc.parallelize(trial_indexes, parallelism)\n",
    "bFactorWeights = sc.broadcast(weights)\n",
    "    \n",
    "trials = seedRDD.flatMap(lambda idx: \\\n",
    "                simulateTrialReturnsgaussianmixture(\n",
    "                    max(int(numTrials/parallelism), 1),\n",
    "                    bFactorWeights.value\n",
    "                ))\n",
    "trials.cache()\n",
    "\n",
    "valueAtRisk = fivePercentVaR(trials)\n",
    "conditionalValueAtRisk = fivePercentCVaR(trials)\n",
    "\n",
    "print (\"Value at Risk(VaR) 5%:\", valueAtRisk)\n",
    "print (\"Conditional Value at Risk(CVaR) 5%:\", conditionalValueAtRisk)"
   ]
  },
  {
   "cell_type": "code",
   "execution_count": 260,
   "metadata": {
    "collapsed": false
   },
   "outputs": [
    {
     "name": "stdout",
     "output_type": "stream",
     "text": [
      "VaR confidence interval:  (-53.675218432096671, -53.827306278377108)\n",
      "CVaR confidence interval:  (-65.642223447004255, -65.255287483270124)\n",
      "num failures: 51\n",
      "failureRatio: 0.039382239382239385\n",
      "Kupiec test p-value:  0.0690741448169\n",
      "error percentage:  (-65.642223447004255, -65.255287483270124)\n"
     ]
    }
   ],
   "source": [
    "varConfidenceInterval = bootstrappedConfidenceInterval(trials, fivePercentVaR, 100, 0.05)\n",
    "cvarConfidenceInterval = bootstrappedConfidenceInterval(trials, fivePercentCVaR, 100, .05)\n",
    "print(\"VaR confidence interval: \" , varConfidenceInterval)\n",
    "print(\"CVaR confidence interval: \" , cvarConfidenceInterval)\n",
    "print(\"Kupiec test p-value: \" , kupiecTestPValue(stocksReturns, valueAtRisk, 0.05))\n",
    "print(\"error percentage: \" , cvarConfidenceInterval)"
   ]
  },
  {
   "cell_type": "markdown",
   "metadata": {},
   "source": [
    "<div class=\"alert alert-warning\">\n",
    "By removing the outlier we got the results that we expected. Using 100 stocks the number of failures is smaller than using only 35 stocks. More stocks gives to the simulation more knowledge about the behaviour of the market. \n",
    "</div>"
   ]
  },
  {
   "cell_type": "markdown",
   "metadata": {},
   "source": [
    "<div class=\"alert alert-warning\">\n",
    "What we can add also is to run the model using only three factors, since we have high correlation between the third factor and the fourth one which will lead us to the multicolinearity problem\n",
    "</div>"
   ]
  },
  {
   "cell_type": "markdown",
   "metadata": {},
   "source": [
    "# 6. Summary\n",
    "In this lecture, we studied the Monte Carlo Simulation method and its application to estimate financial risk. To apply it, first, we needed to define the relationship between market factors and the instruments' returns. In such step, you must define the model which maps the market factors' values to the instruments' values: in our use case, we used a linear regression function for building our model. Next, we also had to find the parameters of our model, which are the weights of the factors we considered. Then, we had to study the distribution of each market factor. A good way to do that is using Kernel density estimation to smooth the distribution and plot it. Depending on the shape of each figure, we had to guess the best fit distribution for each factor: in our use case, we used a very simple approach, and decided that our smoothed distributions all looked normal distributions. \n",
    "\n",
    "Then, the idea of Monte Carlo simulation was to generate many possible values for each factor and calculate the corresponding outcomes by a well-defined model in each trial. After many trials, we were able to calculate VaR from the sequences of outcome's values. When the number of trials is large enough, the VaR converges to reasonable values, that we could validate using well-known statistical hypothesis. "
   ]
  },
  {
   "cell_type": "markdown",
   "metadata": {
    "collapsed": true
   },
   "source": [
    "# References\n",
    "- The example in section 2 is inspired from [this article](http://www.solver.com/monte-carlo-simulation-example).\n",
    "- [Backtesting Value-at-Risk models](https://aaltodoc.aalto.fi/bitstream/handle/123456789/181/hse_ethesis_12049.pdf?sequence=1) (Kansantaloustiede, 2009) - (A good reference to study Backtesting).\n"
   ]
  }
 ],
 "metadata": {
  "kernelspec": {
   "display_name": "Python 3",
   "language": "python",
   "name": "python3"
  },
  "language_info": {
   "codemirror_mode": {
    "name": "ipython",
    "version": 3
   },
   "file_extension": ".py",
   "mimetype": "text/x-python",
   "name": "python",
   "nbconvert_exporter": "python",
   "pygments_lexer": "ipython3",
   "version": "3.5.2"
  }
 },
 "nbformat": 4,
 "nbformat_minor": 0
}
