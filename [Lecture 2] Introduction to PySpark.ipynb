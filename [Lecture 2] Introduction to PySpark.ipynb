{
 "cells": [
  {
   "cell_type": "markdown",
   "metadata": {},
   "source": [
    "<div>\n",
    "<h1>Run the cell below to generate the road map (do not modify it)</h1></div>"
   ]
  },
  {
   "cell_type": "code",
   "execution_count": 1,
   "metadata": {
    "collapsed": false
   },
   "outputs": [
    {
     "data": {
      "application/javascript": [
       "var kernel = IPython.notebook.kernel;var thename = window.document.getElementById(\"notebook_name\").innerHTML;var command = \"THE_NOTEBOOK = \" + \"'\"+thename+\"'\";kernel.execute(command);command=\"os.environ['THE_NOTEBOOK'] = THE_NOTEBOOK\";kernel.execute(command);var cell = IPython.notebook.get_cell(2);cell.execute();IPython.notebook.get_cell(3).focus_cell();var x = $('.code_cell');$(x[1]).children('.input').hide();"
      ],
      "text/plain": [
       "<IPython.core.display.Javascript object>"
      ]
     },
     "metadata": {},
     "output_type": "display_data"
    }
   ],
   "source": [
    "%%javascript\n",
    "var kernel = IPython.notebook.kernel;var thename = window.document.getElementById(\"notebook_name\").innerHTML;var command = \"THE_NOTEBOOK = \" + \"'\"+thename+\"'\";kernel.execute(command);command=\"os.environ['THE_NOTEBOOK'] = THE_NOTEBOOK\";kernel.execute(command);var cell = IPython.notebook.get_cell(2);cell.execute();IPython.notebook.get_cell(3).focus_cell();var x = $('.code_cell');$(x[1]).children('.input').hide();"
   ]
  },
  {
   "cell_type": "code",
   "execution_count": 2,
   "metadata": {
    "collapsed": false
   },
   "outputs": [
    {
     "data": {
      "text/html": [
       "\n",
       "   <script src=\"http://code.jquery.com/jquery-latest.min.js\" type=\"text/javascript\"></script>\n",
       "   <script>\n",
       "      (function($){\n",
       "         $(document).ready(function(){\n",
       "\n",
       "         $('#cssmenu li.active').addClass('open').children('ul').show();\n",
       "            $('#cssmenu li.has-sub>a').on('click', function(){\n",
       "               $(this).removeAttr('href');\n",
       "               var margin_left = parseInt($(this).css('padding-left').replace('px', ''));\n",
       "               var element = $(this).parent('li');\n",
       "               if (element.hasClass('open')) {\n",
       "                  element.removeClass('open');\n",
       "                  element.find('li').removeClass('open');\n",
       "                  element.find('ul').slideUp(200);\n",
       "               }\n",
       "               else {\n",
       "                  element.addClass('open');\n",
       "                  element.children('ul').slideDown(200);\n",
       "                  element.siblings('li').children('ul').slideUp(200);\n",
       "                  element.siblings('li').removeClass('open');\n",
       "                  element.siblings('li').find('li').removeClass('open');\n",
       "                  element.siblings('li').find('ul').slideUp(200);\n",
       "                  element.children().find('a').css('padding-left', margin_left + 16 + \"px\");\n",
       "               }\n",
       "            });\n",
       "\n",
       "            var screen_height = $(window).height(); \n",
       "            var headerHeight = $(\"#header\").outerHeight();\n",
       "            var max_height_menu = screen_height - headerHeight;\n",
       "            $(\"#cssmenu\").css('max-height', max_height_menu + 'px');\n",
       "            $(\"#cssmenu\").css('top', headerHeight + 'px');\n",
       "            $(\"#menu-activator\").css('top', headerHeight + 'px');\n",
       "            $(\"#cssmenu\").show();\n",
       "            $(\"#menu-activator\").hide();\n",
       "\n",
       "\n",
       "            $(\"#menu-activator\").mouseover(function(){\n",
       "              $(\"#cssmenu\").show();\n",
       "              $(\"#menu-activator\").hide();\n",
       "            });\n",
       "\n",
       "\n",
       "            $(\"#cssmenu\").mouseleave(function(){\n",
       "              $(\"#cssmenu\").hide();\n",
       "              $(\"#menu-activator\").show();\n",
       "            });\n",
       "\n",
       "            $(\"div.anchor\").parent('div').addClass('bcolor');\n",
       "\n",
       "         });\n",
       "      })(jQuery);\n",
       "   </script>\n",
       "   <style>\n",
       "      @import url(http://fonts.googleapis.com/css?family=Raleway:400,200);\n",
       "      #cssmenu,\n",
       "      #cssmenu ul,\n",
       "      #cssmenu ul li,\n",
       "      #cssmenu ul li a {\n",
       "        margin: 0;\n",
       "        padding: 0;\n",
       "        border: 0;\n",
       "        list-style: none;\n",
       "        line-height: 1;\n",
       "        display: block;\n",
       "        position: relative;\n",
       "        -webkit-box-sizing: border-box;\n",
       "        -moz-box-sizing: border-box;\n",
       "        box-sizing: border-box;\n",
       "      }\n",
       "      #cssmenu {\n",
       "        width: 220px;\n",
       "        font-family: Raleway, sans-serif;\n",
       "        color: #ffffff;\n",
       "        max-height:600px;\n",
       "        overflow-y:scroll;\n",
       "        overflow-x:hidden;\n",
       "        position:fixed;\n",
       "        top:130px;\n",
       "        left:0px;\n",
       "      }\n",
       "      #cssmenu ul ul {\n",
       "        display: none;\n",
       "      }\n",
       "      #cssmenu > ul > li.active > ul {\n",
       "        display: block;\n",
       "      }\n",
       "      .align-right {\n",
       "        float: right;\n",
       "      }\n",
       "      #cssmenu > ul > li > a {\n",
       "        padding: 16px 22px;\n",
       "        cursor: pointer;\n",
       "        z-index: 2;\n",
       "        font-size: 16px;\n",
       "        text-decoration: none;\n",
       "        color: #ffffff;\n",
       "        background: #565656;\n",
       "        -webkit-transition: color .2s ease;\n",
       "        -o-transition: color .2s ease;\n",
       "        transition: color .2s ease;\n",
       "      }\n",
       "      #cssmenu > ul > li > a:hover {\n",
       "        color: #d8f3f0;\n",
       "      }\n",
       "      #cssmenu ul > li.has-sub > a:after {\n",
       "        position: absolute;\n",
       "        right: 26px;\n",
       "        top: 19px;\n",
       "        z-index: 5;\n",
       "        display: block;\n",
       "        height: 10px;\n",
       "        width: 2px;\n",
       "        background: #ffffff;\n",
       "        content: \"\";\n",
       "        -webkit-transition: all 0.1s ease-out;\n",
       "        -moz-transition: all 0.1s ease-out;\n",
       "        -ms-transition: all 0.1s ease-out;\n",
       "        -o-transition: all 0.1s ease-out;\n",
       "        transition: all 0.1s ease-out;\n",
       "      }\n",
       "      #cssmenu ul > li.has-sub > a:before {\n",
       "        position: absolute;\n",
       "        right: 22px;\n",
       "        top: 23px;\n",
       "        display: block;\n",
       "        width: 10px;\n",
       "        height: 2px;\n",
       "        background: #ffffff;\n",
       "        content: \"\";\n",
       "        -webkit-transition: all 0.1s ease-out;\n",
       "        -moz-transition: all 0.1s ease-out;\n",
       "        -ms-transition: all 0.1s ease-out;\n",
       "        -o-transition: all 0.1s ease-out;\n",
       "        transition: all 0.1s ease-out;\n",
       "      }\n",
       "      #cssmenu ul > li.has-sub.open > a:after,\n",
       "      #cssmenu ul > li.has-sub.open > a:before {\n",
       "        -webkit-transform: rotate(45deg);\n",
       "        -moz-transform: rotate(45deg);\n",
       "        -ms-transform: rotate(45deg);\n",
       "        -o-transform: rotate(45deg);\n",
       "        transform: rotate(45deg);\n",
       "      }\n",
       "      #cssmenu ul ul li a {\n",
       "        padding: 14px 22px;\n",
       "        cursor: pointer;\n",
       "        z-index: 2;\n",
       "        font-size: 14px;\n",
       "        text-decoration: none;\n",
       "        color: #dddddd;\n",
       "        background: #49505a;\n",
       "        -webkit-transition: color .2s ease;\n",
       "        -o-transition: color .2s ease;\n",
       "        transition: color .2s ease;\n",
       "      }\n",
       "      #cssmenu ul ul ul li a {\n",
       "        /*padding-left: 32px;*/\n",
       "      }\n",
       "      #cssmenu ul ul li a:hover {\n",
       "        color: #ffffff;\n",
       "      }\n",
       "      #cssmenu ul ul > li.has-sub > a:after {\n",
       "        top: 16px;\n",
       "        right: 26px;\n",
       "        background: #dddddd;\n",
       "      }\n",
       "      #cssmenu ul ul > li.has-sub > a:before {\n",
       "        top: 20px;\n",
       "        background: #dddddd;\n",
       "      }\n",
       "      #menu-activator {\n",
       "        position: fixed;\n",
       "        top: 130px;\n",
       "        left: 0px;\n",
       "        width: 60px;\n",
       "        padding: 16px 20px;\n",
       "        display: block;\n",
       "        background-color: #565656;\n",
       "        font-size: 16px;\n",
       "        color: white;\n",
       "      }\n",
       "\n",
       "      div.bcolor, span.bcolor {\n",
       "      \tborder-radius: 15px; \n",
       "      \tbackground: rgb(224,239,130);\n",
       "      \tpadding:10px;\n",
       "      }\n",
       "\n",
       "      div.answer, div.comment, div.note {\n",
       "        background-color: rgb(255, 235, 218);\n",
       "        padding: 10px;\n",
       "        border-radius: 5px;\n",
       "      }\n",
       "\n",
       "      div.comment::before, div.answer::before, div.note::before {\n",
       "          background-color: yellow;\n",
       "          color: red;\n",
       "          font-weight: bold;\n",
       "          margin-right:5px;\n",
       "          padding:3px;\n",
       "      }\n",
       "\n",
       "      div.comment::before {\n",
       "        content: \"Comment:\";\n",
       "      }\n",
       "\n",
       "      div.answer::before {\n",
       "        content: \"Answer:\";\n",
       "      }\n",
       "\n",
       "      div.note::before {\n",
       "        content: \"Note:\";\n",
       "      }\n",
       "\n",
       "      @media print{\n",
       "      \t#cssmenu {\n",
       "      \t\tdisplay:none;\n",
       "      \t}\n",
       "      }\n",
       "   </style>\n",
       "   <title>Roadmap</title>\n",
       "</head>\n",
       "<body>\n",
       "<div id=\"menu-activator\">O</div>\n",
       "<div id='cssmenu'>\n",
       "<ul>\n",
       "<li class='has-sub'><a href=\"#\">ROADMAP</a>\n",
       "<ul><li><a href='#Goals-of-the-Laboratory'>Goals of the Laboratory</a></li><li class='has-sub'><a href='#1.-Python,-IPython-and-Jupyter-Notebooks'>1. Python, IPython and Jupyter Notebooks</a><ul><li><a href='#1.1.-Tab-completion'>1.1. Tab completion</a></li><li><a href='#1.2.-System-shell-commands'>1.2. System shell commands</a></li><li><a href='#1.3.-Magic-functions'>1.3. Magic functions</a></li><li><a href='#1.4.-Debugging'>1.4. Debugging</a></li><li><a href='#1.5.-Additional-features'>1.5. Additional features</a></li></ul></li><li class='has-sub'><a href='#2.-Python-+-Pandas-+-Matplotlib:-A-great-environment-for-Data-Science'>2. Python + Pandas + Matplotlib: A great environment for Data Science</a><ul><li class='has-sub'><a href='#2.1.-Python-syntax'>2.1. Python syntax</a><ul><li><a href='#Indentation-&-If-else-syntax'>Indentation & If-else syntax</a></li><li><a href='#Ternary-conditional-operator'>Ternary conditional operator</a></li><li><a href='#Lists-and-For-loops'>Lists and For loops</a></li><li><a href='#Dictionaries'>Dictionaries</a></li><li><a href='#Functions'>Functions</a></li><li><a href='#Importing-modules,-functions'>Importing modules, functions</a></li><li class='has-sub'><a href='#Question-1'>Question 1</a><ul><li><a href='#Question-1.1'>Question 1.1</a></li><li><a href='#Question-1.2'>Question 1.2</a></li><li><a href='#Question-1.3'>Question 1.3</a></li></ul></li></ul></li><li class='has-sub'><a href='#2.2.-Numpy'>2.2. Numpy</a><ul><li><a href='#2.2.1.-Array'>2.2.1. Array</a></li><li><a href='#2.2.2.-Array-slicing'>2.2.2. Array slicing</a></li><li><a href='#2.2.3.-Boolean-array-indexing'>2.2.3. Boolean array indexing</a></li><li><a href='#2.2.4.-Datatypes'>2.2.4. Datatypes</a></li><li><a href='#2.2.5.-Array-math'>2.2.5. Array math</a></li><li class='has-sub'><a href='#Question-2'>Question 2</a><ul><li><a href='#Question-2.1'>Question 2.1</a></li><li><a href='#Question-2.2'>Question 2.2</a></li><li><a href='#Question-2.3'>Question 2.3</a></li><li><a href='#Question-2.4'>Question 2.4</a></li></ul></li></ul></li><li class='has-sub'><a href='#2.3.-Matplotlib'>2.3. Matplotlib</a><ul><li class='has-sub'><a href='#Question-3'>Question 3</a><ul><li><a href='#Question-3.1'>Question 3.1</a></li><li><a href='#Question-3.2'>Question 3.2</a></li><li><a href='#Question-3.3'>Question 3.3</a></li></ul></li></ul></li><li class='has-sub'><a href='#2.4.-Pandas'>2.4. Pandas</a><ul><li class='has-sub'><a href='#2.4.1.-Data-structures'>2.4.1. Data structures</a><ul><li><a href='#Series'>Series</a></li><li><a href='#DataFrame'>DataFrame</a></li></ul></li><li class='has-sub'><a href='#Question-4'>Question 4</a><ul><li><a href='#Question-4.1'>Question 4.1</a></li><li><a href='#Question-4.2'>Question 4.2</a></li><li><a href='#Question-4.3'>Question 4.3</a></li><li><a href='#Question-4.4'>Question 4.4</a></li><li><a href='#Question-4.5'>Question 4.5</a></li></ul></li></ul></li></ul></li><li class='has-sub'><a href='#3.-PySpark'>3. PySpark</a><ul><li><a href='#3.1.-Wordcount-example'>3.1. Wordcount example</a></li><li><a href='#3.2.-Night-flights-example'>3.2. Night flights example</a></li><li class='has-sub'><a href='#Question-5'>Question 5</a><ul><li><a href='#Question-5.1'>Question 5.1</a></li><li><a href='#Question-5.2'>Question 5.2</a></li></ul></li></ul></li><li class='has-sub'><a href='#4.-Spark-SQL-and-DataFrames'>4. Spark SQL and DataFrames</a><ul><li><a href='#4.1.-Constructing-a-DataFrame-directly-from-structured-data-file'>4.1. Constructing a DataFrame directly from structured data file</a></li><li><a href='#4.2.-Constructing-a-DataFrame-from-an-existing-RDD'>4.2. Constructing a DataFrame from an existing RDD</a></li><li><a href='#4.3.-Night-flight-example'>4.3. Night flight example</a></li><li class='has-sub'><a href='#Question-6'>Question 6</a><ul><li><a href='#Question-6.1'>Question 6.1</a></li><li><a href='#Question-6.2'>Question 6.2</a></li></ul></li></ul></li><li><a href='#Summary'>Summary</a></li><li><a href='#References'>References</a></li></ul>\n",
       "</li>\n",
       "<li class='has-sub'><a href=\"#\">QUESTIONS</a>\n",
       "<ul><li class='has-sub'><a href='#Question-1'>Question 1</a><ul><li><a href='#Question-1.1'>Question 1.1</a></li><li><a href='#Question-1.2'>Question 1.2</a></li><li><a href='#Question-1.3'>Question 1.3</a></li></ul></li><li class='has-sub'><a href='#Question-2'>Question 2</a><ul><li><a href='#Question-2.1'>Question 2.1</a></li><li><a href='#Question-2.2'>Question 2.2</a></li><li><a href='#Question-2.3'>Question 2.3</a></li><li><a href='#Question-2.4'>Question 2.4</a></li></ul></li><li class='has-sub'><a href='#Question-3'>Question 3</a><ul><li><a href='#Question-3.1'>Question 3.1</a></li><li><a href='#Question-3.2'>Question 3.2</a></li><li><a href='#Question-3.3'>Question 3.3</a></li></ul></li><li class='has-sub'><a href='#Question-4'>Question 4</a><ul><li><a href='#Question-4.1'>Question 4.1</a></li><li><a href='#Question-4.2'>Question 4.2</a></li><li><a href='#Question-4.3'>Question 4.3</a></li><li><a href='#Question-4.4'>Question 4.4</a></li><li><a href='#Question-4.5'>Question 4.5</a></li></ul></li><li class='has-sub'><a href='#Question-5'>Question 5</a><ul><li><a href='#Question-5.1'>Question 5.1</a></li><li><a href='#Question-5.2'>Question 5.2</a></li></ul></li><li class='has-sub'><a href='#Question-6'>Question 6</a><ul><li><a href='#Question-6.1'>Question 6.1</a></li><li><a href='#Question-6.2'>Question 6.2</a></li></ul></li></ul>\n",
       "</li>\n",
       "</ul>\n",
       "</div>\n",
       "\n"
      ],
      "text/plain": [
       "<IPython.core.display.HTML object>"
      ]
     },
     "execution_count": 2,
     "metadata": {},
     "output_type": "execute_result"
    }
   ],
   "source": [
    "outputdir = \"/tmp/tools/\"\n",
    "!mkdir -p $outputdir\n",
    "!wget \"https://www.dropbox.com/s/4g0pigmro4vo1b4/menutemplate?dl=0\" -O /tmp/tools/menutemplate >> /tmp/toollog 2>&1 \n",
    "!wget \"https://www.dropbox.com/s/3flttpzhsja8td7/construct_menu.py?dl=0\" -O /tmp/tools/construct_menu.py >> /tmp/toollog 2>&1 \n",
    "!python /tmp/tools/construct_menu.py \"{THE_NOTEBOOK}.ipynb\" {outputdir}\n",
    "from IPython.core.display import HTML\n",
    "output_file_name = outputdir + THE_NOTEBOOK.replace(\" \", \"\").replace(\"[\", \"\").replace(\"]\", \"\") + \".ipynb.html\"\n",
    "with open(output_file_name) as fp:\n",
    "    html = fp.read()\n",
    "HTML(html)"
   ]
  },
  {
   "cell_type": "markdown",
   "metadata": {},
   "source": [
    "# Goals of the Laboratory\n",
    "In this introductory laboratory, we expect students to:\n",
    "\n",
    "1. Acquire basic knowledge about Python and Matplotlib\n",
    "2. Gain familiarity with Juypter Notebooks\n",
    "3. Gain familiarity with the PySpark API and SparkSQL\n",
    "\n",
    "To achieve such goals, we will go through the following steps:\n",
    "\n",
    "1. In section 1, **IPython** and **Jupyter Notebooks** are introduced to help students understand the environment used to work on Data Science projects.\n",
    "\n",
    "2. In section 2, we briefly overview **Python** and its syntax. In addition, we cover **Matplotlib**, a very powerful library to plot figures in Python, which you can use for your Data Science projects. Finally, we introduce **Pandas**, a python library that is very helpful when working on Data Science projects.\n",
    "\n",
    "3. In section 3 we cover the **PySpark** and **SparkSQL** APIs\n",
    "\n",
    "4. In section 4, we conclude the introductory laboratory with a simple use case.\n"
   ]
  },
  {
   "cell_type": "markdown",
   "metadata": {},
   "source": [
    "# 1. Python, IPython and Jupyter Notebooks\n",
    "\n",
    "**Python** is a high-level, dynamic, object-oriented programming language. It is a general purpose language, which is designed to be easy to use and easy to read.\n",
    "\n",
    "**IPython** (Interactive Python) is orignally developed for Python. Now, it is a command shell for interactive computing supporting multiple programming languages. It offers rich media, shell syntax, tab completion, and history. IPython is based on an architecture that provides parallel and distributed computing. IPython enables parallel applications to be developed, executed, debugged and monitored interactively.\n",
    "\n",
    "**Jupyter Notebooks** are a web-based interactive computational environment for creating IPython notebooks. An IPython notebook is a JSON document containing an ordered list of input/output cells which can contain code, text, mathematics, plots and rich media. Notebooks make data analysis easier to perform, understand and reproduce. All laboratories in this course are prepared as Notebooks. As you can see, in this Notebook, we can put text, images, hyperlinks, source code... The Notebooks can be converted to a number of open standard output formats (HTML, HTML presentation slides, LaTeX, PDF, ReStructuredText, Markdown, Python) through `File` -> `Download As` in the web interface. In addition, Jupyter manages the notebooks' versions through a `checkpoint` mechanism. You can create checkpoint anytime via `File -> Save and Checkpoint`. \n",
    "\n",
    "**NOTE on Checkpointing:** in this course, we use a peculiar environment to work. We don't have a Notebook server: instead, we creat on demand clusters with a Notebook front-end. Since your clusters are **emphemeral** (they are terminated after a pre-defined amount of time), checkpointing is of little use, for anything else than saving your notebook in your emphemeral environment. It is far better to download regularly your notebooks, and to push them to your git repository."
   ]
  },
  {
   "cell_type": "markdown",
   "metadata": {},
   "source": [
    "## 1.1. Tab completion\n",
    "\n",
    "Tab completion is a convenient way to explore the structure of any object you're dealing with. Simply type object_name.<TAB> to view the suggestion for object's attributes. Besides Python objects and keywords, tab completion also works on file and directory names."
   ]
  },
  {
   "cell_type": "code",
   "execution_count": 17,
   "metadata": {
    "collapsed": false
   },
   "outputs": [
    {
     "name": "stdout",
     "output_type": "stream",
     "text": [
      "['test', 'function', 'of', 'tab', 'completion']\n",
      "5\n"
     ]
    }
   ],
   "source": [
    "s = \"test function of tab completion\"\n",
    "\n",
    "# type s.<TAB> to see the suggestions\n",
    "print(s.split(' '))\n",
    "# Show your experiments working on a string. \n",
    "# Try splitting a string into its constituent words, and count the number of words.\n",
    "print(len(s.split(' ')))"
   ]
  },
  {
   "cell_type": "markdown",
   "metadata": {},
   "source": [
    "## 1.2. System shell commands\n",
    "\n",
    "To run any command in the system shell, simply prefix it with `!`. For example:"
   ]
  },
  {
   "cell_type": "code",
   "execution_count": 18,
   "metadata": {
    "collapsed": false
   },
   "outputs": [
    {
     "name": "stdout",
     "output_type": "stream",
     "text": [
      "[Lecture 2] Introduction to PySpark.ipynb\r\n"
     ]
    }
   ],
   "source": [
    "# list all file and directories in the current folder\n",
    "!ls"
   ]
  },
  {
   "cell_type": "markdown",
   "metadata": {},
   "source": [
    "## 1.3. Magic functions\n",
    "\n",
    "IPython has a set of predefined `magic functions` that you can call with a command line style syntax. There are two types of magics, line-oriented and cell-oriented. \n",
    "\n",
    "**Line magics** are prefixed with the `%` character and work much like OS command-line calls: they get as an argument the rest of the line, *where arguments are passed without parentheses or quotes*. \n",
    "\n",
    "**Cell magics** are prefixed with a double `%%`, and they are functions that get as an argument not only the rest of the line, but also the lines below it in a separate argument."
   ]
  },
  {
   "cell_type": "code",
   "execution_count": 19,
   "metadata": {
    "collapsed": false
   },
   "outputs": [
    {
     "name": "stdout",
     "output_type": "stream",
     "text": [
      "The slowest run took 11.50 times longer than the fastest. This could mean that an intermediate result is being cached.\n",
      "1000000 loops, best of 3: 286 ns per loop\n"
     ]
    }
   ],
   "source": [
    "%timeit range(1000)"
   ]
  },
  {
   "cell_type": "code",
   "execution_count": 20,
   "metadata": {
    "collapsed": false
   },
   "outputs": [
    {
     "name": "stdout",
     "output_type": "stream",
     "text": [
      "1000 loops, best of 3: 335 µs per loop\n"
     ]
    }
   ],
   "source": [
    "%%timeit x = range(10000)\n",
    "max(x)"
   ]
  },
  {
   "cell_type": "markdown",
   "metadata": {},
   "source": [
    "For more information, you can follow this [link](http://nbviewer.jupyter.org/github/ipython/ipython/blob/1.x/examples/notebooks/Cell%20Magics.ipynb)"
   ]
  },
  {
   "cell_type": "markdown",
   "metadata": {},
   "source": [
    "## 1.4. Debugging\n",
    "\n",
    "Whenever an exception occurs, the call stack is printed out to help you to track down the true source of the problem. It is important to gain familiarity with the call stack, especially when using the PySpark API."
   ]
  },
  {
   "cell_type": "code",
   "execution_count": 21,
   "metadata": {
    "collapsed": false
   },
   "outputs": [
    {
     "name": "stdout",
     "output_type": "stream",
     "text": [
      "1.25\n",
      "1.6666666666666667\n",
      "2.5\n"
     ]
    }
   ],
   "source": [
    "for i in [4,3,2,0]:\n",
    "    if(i!=0):\n",
    "        print(5/i)"
   ]
  },
  {
   "cell_type": "markdown",
   "metadata": {},
   "source": [
    "## 1.5. Additional features\n",
    "\n",
    "Jupyter also supports viewing the status of the cluster and interact with the real shell environment.\n",
    "\n",
    "To do that, you can click on the Logo Jupyter in the up-left coner of each notebook to go to the dashboard:\n",
    "\n",
    "<img src=\"https://farm2.staticflickr.com/1488/24681339931_733acb3494_b.jpg\" width=\"600px\" />\n",
    "\n",
    "You can easily find out how to use these features, so you're invited to play around!!"
   ]
  },
  {
   "cell_type": "markdown",
   "metadata": {},
   "source": [
    "# 2. Python + Pandas + Matplotlib: A great environment for Data Science\n",
    "\n",
    "This section aims to help students gain a basic understanding of the python programming language and some of its libraries, including `Pandas` or `Matplotlib`. \n",
    "\n",
    "When working with a small dataset (one that can comfortably fit into a single machine), Pandas and Matplotlib, together with Python are valid alternatives to other popular tools such as R and Matlab. Using such libraries allows to inherit from the simple and clear Python syntax, achieve very good performance, enjoy superior memory management,  error handling, and good package management \\[[1](http://ajminich.com/2013/06/22/9-reasons-to-switch-from-matlab-to-python/)\\].\n",
    "\n",
    "\n",
    "## 2.1. Python syntax\n",
    "\n",
    "(This section is for students who did not program in Python before. If you're familiar with Python, please move to the next section: 1.2. Numpy)\n",
    "\n",
    "When working with Python, the code seems to be simpler than (many) other languages. In this laboratory, we compare the Python syntax to that of Java - another very common language.\n",
    "\n",
    "```java\n",
    "// java syntax\n",
    "int i = 10;\n",
    "string s = \"advanced machine learning\";\n",
    "System.out.println(i);\n",
    "System.out.println(s);\n",
    "// you must not forget the semicolon at the end of each sentence\n",
    "```"
   ]
  },
  {
   "cell_type": "code",
   "execution_count": 22,
   "metadata": {
    "collapsed": false
   },
   "outputs": [
    {
     "name": "stdout",
     "output_type": "stream",
     "text": [
      "10\n",
      "advanced machine learning\n"
     ]
    }
   ],
   "source": [
    "# python syntax\n",
    "i = 10\n",
    "s = \"advanced machine learning\"\n",
    "print(i)\n",
    "print(s)\n",
    "# forget about the obligation of commas"
   ]
  },
  {
   "cell_type": "markdown",
   "metadata": {},
   "source": [
    "### Indentation & If-else syntax\n",
    "In python, we don't use `{` and `}` to define blocks of codes: instead, we use indentation to do that. **The code within the same block must have the same indentation**. For example, in java, we write:\n",
    "```java\n",
    "string language = \"Python\";\n",
    "\n",
    "// the block is surrounded by { and }\n",
    "// the condition is in ( and )\n",
    "if (language == \"Python\") {\n",
    "    int x = 1;\n",
    "    x += 10;\n",
    "       int y = 5; // a wrong indentation isn't problem\n",
    "    y = x + y;\n",
    "    System.out.println(x + y);\n",
    "    \n",
    "    // a statement is broken into two line\n",
    "    x = y\n",
    "        + y;\n",
    "    \n",
    "    // do some stuffs\n",
    "}\n",
    "else if (language == \"Java\") {\n",
    "    // another block\n",
    "}\n",
    "else {\n",
    "    // another block\n",
    "}\n",
    "```"
   ]
  },
  {
   "cell_type": "code",
   "execution_count": 24,
   "metadata": {
    "collapsed": false
   },
   "outputs": [
    {
     "name": "stdout",
     "output_type": "stream",
     "text": [
      "45\n"
     ]
    }
   ],
   "source": [
    "language = \"Python\"\n",
    "if language == \"Python\":\n",
    "    x = 10\n",
    "    x += 10\n",
    "    y = 5 # all statements in the same block must have the same indentation\n",
    "    y = (\n",
    "        x + y\n",
    "    ) # statements can be on multiple lines, using ( )\n",
    "    print (x \n",
    "           + y)\n",
    "    \n",
    "    # statements can also be split on multiple lines by using \\ at the END of each line\n",
    "    x = y \\\n",
    "        + y\n",
    "    \n",
    "    # do some other stuffs\n",
    "elif language == \"Java\":\n",
    "    # another block\n",
    "    pass\n",
    "else:\n",
    "    # another block\n",
    "    pass"
   ]
  },
  {
   "cell_type": "markdown",
   "metadata": {},
   "source": [
    "### Ternary conditional operator\n",
    "In python, we often see ternary conditional operator, which is used to assign a value to a variable based on some condition. For example, in java, we write:\n",
    "\n",
    "```java\n",
    "int x = 10;\n",
    "// if x > 10, assign y = 5, otherwise, y = 15\n",
    "int y = (x > 10) ? 5 : 15;\n",
    "\n",
    "int z;\n",
    "if (x > 10)\n",
    "    z = 5; // it's not necessary to have { } when the block has only one statement\n",
    "else\n",
    "    z = 15;\n",
    "```\n",
    "\n",
    "Of course, although we can easily write these lines of code in an `if else` block to get the same result, people prefer ternary conditioinal operator because of simplicity.\n",
    "\n",
    "In python, we write:"
   ]
  },
  {
   "cell_type": "code",
   "execution_count": 25,
   "metadata": {
    "collapsed": false
   },
   "outputs": [
    {
     "name": "stdout",
     "output_type": "stream",
     "text": [
      "15\n",
      "15\n"
     ]
    }
   ],
   "source": [
    "x = 10\n",
    "# a very natural way\n",
    "y = 5 if x > 10 else 15\n",
    "print(y)\n",
    "\n",
    "# another way\n",
    "y = x > 10 and 5 or 15\n",
    "print(y)"
   ]
  },
  {
   "cell_type": "markdown",
   "metadata": {},
   "source": [
    "### Lists and For loops\n",
    "Another syntax that we should revisit is the `for loop`. In java, we can write:\n",
    "\n",
    "```java\n",
    "// init an array with 10 integer numbers\n",
    "int[] array = new int[]{1, 2, 3, 4, 5, 6, 7, 8, 9, 10};\n",
    "for (int i = 0; i < array.length; i++){\n",
    "    // print the i-th element of array\n",
    "    System.out.println(array[i]);\n",
    "}\n",
    "```\n",
    "\n",
    "In Python, instead of using an index to help indicating an element, we can access the element directly:"
   ]
  },
  {
   "cell_type": "code",
   "execution_count": 26,
   "metadata": {
    "collapsed": false
   },
   "outputs": [
    {
     "name": "stdout",
     "output_type": "stream",
     "text": [
      "1\n",
      "2\n",
      "3\n",
      "4\n",
      "5\n",
      "6\n",
      "7\n",
      "8\n",
      "9\n",
      "10\n"
     ]
    }
   ],
   "source": [
    "array = [1, 2, 3, 4, 5, 6, 7, 8, 9, 10]\n",
    "# Python has no built-in array data structure\n",
    "# instead, it uses \"list\" which is much more general \n",
    "# and can be used as a multidimensional array quite easily.\n",
    "for element in array:\n",
    "    print(element)"
   ]
  },
  {
   "cell_type": "markdown",
   "metadata": {},
   "source": [
    "As we can see, the code is very clean. If you need the index of each element, here's what you should do:"
   ]
  },
  {
   "cell_type": "code",
   "execution_count": 27,
   "metadata": {
    "collapsed": false
   },
   "outputs": [
    {
     "name": "stdout",
     "output_type": "stream",
     "text": [
      "0 1\n",
      "1 2\n",
      "2 3\n",
      "3 4\n",
      "4 5\n",
      "5 6\n",
      "6 7\n",
      "7 8\n",
      "8 9\n",
      "9 10\n"
     ]
    }
   ],
   "source": [
    "for (index, element) in enumerate(array):\n",
    "    print(index, element)"
   ]
  },
  {
   "cell_type": "markdown",
   "metadata": {},
   "source": [
    "Actually, Python has no built-in array data structure. It uses the `list` data structure, which is much more general and can be used as a multidimensional array quite easily. In addtion, elements in a list can be retrieved in a very concise way. For example, we create a 2d-array with 4 rows. Each row has 3 elements."
   ]
  },
  {
   "cell_type": "code",
   "execution_count": 28,
   "metadata": {
    "collapsed": false
   },
   "outputs": [
    {
     "name": "stdout",
     "output_type": "stream",
     "text": [
      "row  0 : [1, 2, 3]\n",
      "row  1 : [4, 5, 6]\n",
      "row  2 : [7, 8, 9]\n",
      "row  3 : [10, 11, 12]\n",
      "row 1 until row 3:  [[4, 5, 6], [7, 8, 9]]\n",
      "all rows from row 2:  [[7, 8, 9], [10, 11, 12]]\n",
      "all rows until row 2: [[1, 2, 3], [4, 5, 6]]\n",
      "all rows from the beginning with step of 2: [[1, 2, 3], [7, 8, 9]]\n"
     ]
    }
   ],
   "source": [
    "# 2-dimentions array with 4 rows, 3 columns\n",
    "twod_array = [[1, 2, 3], [4, 5, 6], [7, 8, 9], [10, 11, 12]]\n",
    "for index, row in enumerate(twod_array):\n",
    "    print(\"row \", index, \":\", row)\n",
    "\n",
    "# print row 1 until row 3\n",
    "print(\"row 1 until row 3: \", twod_array[1:3])\n",
    "\n",
    "# all rows from row 2\n",
    "print(\"all rows from row 2: \", twod_array[2:])\n",
    "\n",
    "# all rows until row 2\n",
    "print(\"all rows until row 2:\", twod_array[:2])\n",
    "\n",
    "# all rows from the beginning with step of 2. \n",
    "print(\"all rows from the beginning with step of 2:\", twod_array[::2])"
   ]
  },
  {
   "cell_type": "markdown",
   "metadata": {},
   "source": [
    "### Dictionaries\n",
    "Another useful data structure in Python is a `dictionary`, which we use to store (key, value) pairs. Here's some example usage of dictionaries:"
   ]
  },
  {
   "cell_type": "code",
   "execution_count": 29,
   "metadata": {
    "collapsed": false
   },
   "outputs": [
    {
     "name": "stdout",
     "output_type": "stream",
     "text": [
      "value1\n",
      "True\n",
      "value3\n",
      "custom_default_value\n",
      "value3\n",
      "custom_default_value\n"
     ]
    }
   ],
   "source": [
    "d = {'key1': 'value1', 'key2': 'value2'}  # Create a new dictionary with some data\n",
    "print(d['key1'])       # Get an entry from a dictionary; prints \"value1\"\n",
    "print('key1' in d)     # Check if a dictionary has a given key; prints \"True\"\n",
    "d['key3'] = 'value3'    # Set an entry in a dictionary\n",
    "print(d['key3'])      # Prints \"value3\"\n",
    "# print(d['key9'])  # KeyError: 'key9' not a key of d\n",
    "print(d.get('key9', 'custom_default_value'))  # Get an element with a default; prints \"custom_default_value\"\n",
    "print(d.get('key3', 'custom_default_value'))    # Get an element with a default; prints \"value3\"\n",
    "del d['key3']        # Remove an element from a dictionary\n",
    "print(d.get('key3', 'custom_default_value')) # \"fish\" is no longer a key; prints \"custom_default_value\"\n"
   ]
  },
  {
   "cell_type": "markdown",
   "metadata": {},
   "source": [
    "### Functions\n",
    "In Python, we can define a function by using keyword `def`."
   ]
  },
  {
   "cell_type": "code",
   "execution_count": 30,
   "metadata": {
    "collapsed": false
   },
   "outputs": [
    {
     "name": "stdout",
     "output_type": "stream",
     "text": [
      "25\n"
     ]
    }
   ],
   "source": [
    "def square(x):\n",
    "    return x*x\n",
    "\n",
    "print(square(5))"
   ]
  },
  {
   "cell_type": "markdown",
   "metadata": {},
   "source": [
    "You can apply a function to each element of a list/array by using `lambda` function. For example, we want to square elements in a list:"
   ]
  },
  {
   "cell_type": "code",
   "execution_count": 33,
   "metadata": {
    "collapsed": false
   },
   "outputs": [
    {
     "name": "stdout",
     "output_type": "stream",
     "text": [
      "[1, 4, 9, 16, 25, 36, 49, 64, 81, 100]\n",
      "[1, 4, 9, 16, 25, 36, 49, 64, 81, 100]\n",
      "orignal array: [1, 2, 3, 4, 5, 6, 7, 8, 9, 10]\n"
     ]
    }
   ],
   "source": [
    "array = [1, 2, 3, 4, 5, 6, 7, 8, 9, 10]\n",
    "\n",
    "# apply function \"square\" on each element of \"array\"\n",
    "print(list(map(lambda x: square(x), array)))\n",
    "\n",
    "# or using a for loop, and a list comprehension\n",
    "print([square(x) for x in array])\n",
    "\n",
    "print(\"orignal array:\", array)"
   ]
  },
  {
   "cell_type": "markdown",
   "metadata": {},
   "source": [
    "These two above syntaxes are used very often. \n",
    "\n",
    "If you are not familiar with **list comprehensions**, follow this [link](http://python-3-patterns-idioms-test.readthedocs.io/en/latest/Comprehensions.html]).\n",
    "\n",
    "We can also put a function `B` inside a function `A` (that is, we can have nested functions). In that case, function `B` is only accessed inside function `A` (the scope that it's declared). For example:"
   ]
  },
  {
   "cell_type": "code",
   "execution_count": 34,
   "metadata": {
    "collapsed": false
   },
   "outputs": [
    {
     "data": {
      "text/plain": [
       "[1, 4, 9, 16, 25, 49]"
      ]
     },
     "execution_count": 34,
     "metadata": {},
     "output_type": "execute_result"
    }
   ],
   "source": [
    "# select only the prime number in array\n",
    "# and square them\n",
    "def filterAndSquarePrime(arr):\n",
    "    \n",
    "    # a very simple function to check a number is prime or not\n",
    "    def checkPrime(number):\n",
    "        for i in range(2, int(number/2)):\n",
    "            if number % i == 0:\n",
    "                return False\n",
    "        return True\n",
    "    \n",
    "    primeNumbers = filter(lambda x: checkPrime(x), arr)\n",
    "    return map(lambda x: square(x), primeNumbers)\n",
    "\n",
    "# we can not access checkPrime from here\n",
    "# checkPrime(5)\n",
    "\n",
    "result = filterAndSquarePrime(array)\n",
    "list(result)"
   ]
  },
  {
   "cell_type": "markdown",
   "metadata": {},
   "source": [
    "### Importing modules, functions\n",
    "Modules in Python are packages of code. Putting code into modules helps increasing the reusability and maintainability.\n",
    "The modules can be nested.\n",
    "To import a module, we simple use syntax: `import <module_name>`. Once it is imported, we can use any functions, classes inside it."
   ]
  },
  {
   "cell_type": "code",
   "execution_count": 35,
   "metadata": {
    "collapsed": false
   },
   "outputs": [
    {
     "name": "stdout",
     "output_type": "stream",
     "text": [
      "4.0\n",
      "4.0\n"
     ]
    }
   ],
   "source": [
    "# import module 'math' to uses functions for calculating\n",
    "import math\n",
    "\n",
    "# print the square root of 16\n",
    "print(math.sqrt(16))\n",
    "\n",
    "# we can create alias when import a module\n",
    "import numpy as np\n",
    "\n",
    "print(np.sqrt(16))"
   ]
  },
  {
   "cell_type": "markdown",
   "metadata": {},
   "source": [
    "Sometimes, you only need to import some functions inside a module to avoid loading the whole module into memory. To do that, we can use syntax: `from <module> import <function>`"
   ]
  },
  {
   "cell_type": "code",
   "execution_count": 36,
   "metadata": {
    "collapsed": false
   },
   "outputs": [
    {
     "name": "stdout",
     "output_type": "stream",
     "text": [
      "-0.3048106211022167\n"
     ]
    }
   ],
   "source": [
    "# only import function 'sin' in package 'math'\n",
    "from math import sin\n",
    "\n",
    "# use the function\n",
    "print(sin(60))"
   ]
  },
  {
   "cell_type": "markdown",
   "metadata": {},
   "source": [
    "That's quite enough for Python. Now, let's practice a little bit.\n",
    "\n",
    "![](https://farm2.staticflickr.com/1604/24934700445_833f0a5649_t.jpg)"
   ]
  },
  {
   "cell_type": "markdown",
   "metadata": {},
   "source": [
    "<div class='anchor' ></div>\n",
    "\n",
    "### Question 1\n",
    "#### Question 1.1\n",
    "Write a function `checkSquareNumber` to check if a integer number is a square number or not. For example, 16 and 9 are square numbers. 15 isn't square number.\n",
    "Requirements:\n",
    "\n",
    "- Input: an integer number\n",
    "\n",
    "- Output: `True` or `False`\n",
    "\n",
    "HINT: If the quare root of a number is an integer number, it is a square number."
   ]
  },
  {
   "cell_type": "markdown",
   "metadata": {},
   "source": [
    "```python\n",
    "import math\n",
    "\n",
    "def checkSquareNumber(x):\n",
    "    # calculate the square root of x\n",
    "    n = math.sqrt(x)\n",
    "    # return True if square root is integer, \n",
    "    # otherwise, return False\n",
    "    return n == int(n)\n",
    "\n",
    "print(checkSquareNumber(16))\n",
    "print(checkSquareNumber(250))\n",
    "```"
   ]
  },
  {
   "cell_type": "code",
   "execution_count": 37,
   "metadata": {
    "collapsed": false
   },
   "outputs": [
    {
     "name": "stdout",
     "output_type": "stream",
     "text": [
      "True\n",
      "False\n"
     ]
    }
   ],
   "source": [
    "import math\n",
    "\n",
    "def checkSquareNumber(x):\n",
    "    # calculate the square root of x\n",
    "    n = math.sqrt(x)\n",
    "    # return True if square root is integer, \n",
    "    # otherwise, return False\n",
    "    return n == int(n)\n",
    "\n",
    "print(checkSquareNumber(16))\n",
    "print(checkSquareNumber(250))"
   ]
  },
  {
   "cell_type": "code",
   "execution_count": 38,
   "metadata": {
    "collapsed": false
   },
   "outputs": [
    {
     "name": "stdout",
     "output_type": "stream",
     "text": [
      "True\n",
      "False\n"
     ]
    }
   ],
   "source": [
    "####!@SOLUTION@!####\n",
    "\n",
    "import math\n",
    "\n",
    "def checkSquareNumber(x):\n",
    "    # get square root of x\n",
    "    square_root = math.sqrt(x)\n",
    "    # check if the square root is integer number or not \n",
    "    # and return the result\n",
    "    return square_root == int(square_root)\n",
    "\n",
    "print(checkSquareNumber(16))\n",
    "print(checkSquareNumber(250))"
   ]
  },
  {
   "cell_type": "markdown",
   "metadata": {},
   "source": [
    "<div class='anchor' ></div>\n",
    "#### Question 1.2\n",
    "A list `list_numbers` which contains the numbers from 1 to 9999 can be constructed from: \n",
    "\n",
    "```python\n",
    "list_numbers = range(0, 10000)\n",
    "```\n",
    "\n",
    "Extract the square numbers in `list_numbers` using function `checkSquareNumber` from question 1.1. How many elements in the extracted list ?"
   ]
  },
  {
   "cell_type": "code",
   "execution_count": 43,
   "metadata": {
    "collapsed": false
   },
   "outputs": [
    {
     "name": "stdout",
     "output_type": "stream",
     "text": [
      "[0, 1, 4, 9, 16, 25, 36, 49, 64, 81, 100, 121, 144, 169, 196, 225, 256, 289, 324, 361, 400, 441, 484, 529, 576, 625, 676, 729, 784, 841, 900, 961, 1024, 1089, 1156, 1225, 1296, 1369, 1444, 1521, 1600, 1681, 1764, 1849, 1936, 2025, 2116, 2209, 2304, 2401, 2500, 2601, 2704, 2809, 2916, 3025, 3136, 3249, 3364, 3481, 3600, 3721, 3844, 3969, 4096, 4225, 4356, 4489, 4624, 4761, 4900, 5041, 5184, 5329, 5476, 5625, 5776, 5929, 6084, 6241, 6400, 6561, 6724, 6889, 7056, 7225, 7396, 7569, 7744, 7921, 8100, 8281, 8464, 8649, 8836, 9025, 9216, 9409, 9604, 9801]\n",
      "100\n"
     ]
    }
   ],
   "source": [
    "import math\n",
    "\n",
    "def checkSquareNumber(x):\n",
    "    # get square root of x\n",
    "    square_root = math.sqrt(x)\n",
    "    # check if the square root is integer number or not \n",
    "    # and return the result\n",
    "    return square_root == int(square_root)\n",
    "\n",
    "list_numbers = range(0, 10000)\n",
    "square_numbers = list(filter(lambda x:checkSquareNumber(x),list_numbers))# try to use the filter method\n",
    "print(square_numbers)\n",
    "print(len(square_numbers))"
   ]
  },
  {
   "cell_type": "markdown",
   "metadata": {},
   "source": [
    "```python\n",
    "list_numbers = ...\n",
    "square_numbers = # try to use the filter method\n",
    "print(square_numbers)\n",
    "print(len(square_numbers))\n",
    "```"
   ]
  },
  {
   "cell_type": "code",
   "execution_count": 44,
   "metadata": {
    "collapsed": false
   },
   "outputs": [
    {
     "name": "stdout",
     "output_type": "stream",
     "text": [
      "[0, 1, 4, 9, 16, 25, 36, 49, 64, 81, 100, 121, 144, 169, 196, 225, 256, 289, 324, 361, 400, 441, 484, 529, 576, 625, 676, 729, 784, 841, 900, 961, 1024, 1089, 1156, 1225, 1296, 1369, 1444, 1521, 1600, 1681, 1764, 1849, 1936, 2025, 2116, 2209, 2304, 2401, 2500, 2601, 2704, 2809, 2916, 3025, 3136, 3249, 3364, 3481, 3600, 3721, 3844, 3969, 4096, 4225, 4356, 4489, 4624, 4761, 4900, 5041, 5184, 5329, 5476, 5625, 5776, 5929, 6084, 6241, 6400, 6561, 6724, 6889, 7056, 7225, 7396, 7569, 7744, 7921, 8100, 8281, 8464, 8649, 8836, 9025, 9216, 9409, 9604, 9801]\n",
      "100\n"
     ]
    }
   ],
   "source": [
    "####!@SOLUTION@!####\n",
    "list_numbers = range(0,10000)\n",
    "square_numbers = list(filter(checkSquareNumber, list_numbers))\n",
    "print(square_numbers)\n",
    "print(len(square_numbers))"
   ]
  },
  {
   "cell_type": "markdown",
   "metadata": {},
   "source": [
    "<div class='anchor' ></div>\n",
    "#### Question 1.3\n",
    "\n",
    "Using array slicing, select the elements of the list square_numbers, whose index is from 5 to 20 (zero-based index)."
   ]
  },
  {
   "cell_type": "markdown",
   "metadata": {},
   "source": [
    "```python\n",
    "print(square_numbers[...])\n",
    "```"
   ]
  },
  {
   "cell_type": "code",
   "execution_count": 46,
   "metadata": {
    "collapsed": false
   },
   "outputs": [
    {
     "name": "stdout",
     "output_type": "stream",
     "text": [
      "[25, 36, 49, 64, 81]\n"
     ]
    }
   ],
   "source": [
    "####!@SOLUTION@!####\n",
    "print(square_numbers[5:10])"
   ]
  },
  {
   "cell_type": "markdown",
   "metadata": {},
   "source": [
    "Next, we will take a quick look on Numpy - a powerful module of Python."
   ]
  },
  {
   "cell_type": "markdown",
   "metadata": {},
   "source": [
    "## 2.2. Numpy\n",
    "Numpy is the core library for scientific computing in Python. It provides a high-performance multidimensional array object, and tools for working with these arrays.\n",
    "### 2.2.1. Array\n",
    "A numpy array is a grid of values, all of **the same type**, and is indexed by a tuple of nonnegative integers. Thanks to the same type property, Numpy has the benefits of [locality of reference](https://en.wikipedia.org/wiki/Locality_of_reference). Besides, many other Numpy operations are implemented in C, avoiding the general cost of loops in Python, pointer indirection and per-element dynamic type checking. So, the speed of Numpy is often faster than using built-in datastructure of Python. When working with massive data with computationally expensive tasks, you should consider to use Numpy. \n",
    "\n",
    "The number of dimensions is the `rank` of the array; the `shape` of an array is a tuple of integers giving the size of the array along each dimension.\n",
    "\n",
    "We can initialize numpy arrays from nested Python lists, and access elements using square brackets:"
   ]
  },
  {
   "cell_type": "code",
   "execution_count": 3,
   "metadata": {
    "collapsed": false
   },
   "outputs": [
    {
     "name": "stdout",
     "output_type": "stream",
     "text": [
      "type of rank1_array: <class 'numpy.ndarray'>\n",
      "shape of rank1_array: (3,)\n",
      "elements in rank1_array: 1 2 3\n",
      "shape of rank2_array: (2, 3)\n",
      "1 2 4\n"
     ]
    }
   ],
   "source": [
    "import numpy as np\n",
    "\n",
    "# Create a rank 1 array\n",
    "rank1_array = np.array([1, 2, 3])\n",
    "print(\"type of rank1_array:\", type(rank1_array))\n",
    "print(\"shape of rank1_array:\", rank1_array.shape)\n",
    "print(\"elements in rank1_array:\", rank1_array[0], rank1_array[1], rank1_array[2])\n",
    "\n",
    "# Create a rank 2 array\n",
    "rank2_array = np.array([[1,2,3],[4,5,6]])\n",
    "print(\"shape of rank2_array:\", rank2_array.shape)\n",
    "print(rank2_array[0, 0], rank2_array[0, 1], rank2_array[1, 0])"
   ]
  },
  {
   "cell_type": "markdown",
   "metadata": {},
   "source": [
    "### 2.2.2. Array slicing\n",
    "Similar to Python lists, numpy arrays can be sliced. The different thing is that you must specify a slice for each dimension of the array because arrays may be multidimensional."
   ]
  },
  {
   "cell_type": "code",
   "execution_count": 4,
   "metadata": {
    "collapsed": false
   },
   "outputs": [
    {
     "name": "stdout",
     "output_type": "stream",
     "text": [
      "[[2 3]\n",
      " [6 7]]\n",
      "value at row 0, column 1: 2\n",
      "the second row of m_array: [5 6 7 8]\n",
      "[3 8]\n"
     ]
    }
   ],
   "source": [
    "m_array = np.array([[1,2,3,4], [5,6,7,8], [9,10,11,12]])\n",
    "\n",
    "# Use slicing to pull out the subarray consisting of the first 2 rows\n",
    "# and columns 1 and 2\n",
    "b = m_array[:2, 1:3]\n",
    "print(b)\n",
    "\n",
    "# we can only use this syntax with numpy array, not python list\n",
    "print(\"value at row 0, column 1:\", m_array[0, 1])\n",
    "\n",
    "# Rank 1 view of the second row of m_array  \n",
    "print(\"the second row of m_array:\", m_array[1, :])\n",
    "\n",
    "# print element at position (0,2) and (1,3)\n",
    "print(m_array[[0,1], [2,3]])"
   ]
  },
  {
   "cell_type": "markdown",
   "metadata": {},
   "source": [
    "### 2.2.3. Boolean array indexing\n",
    "We can use boolean array indexing to check whether each element in the array satisfies a condition or use it to do filtering."
   ]
  },
  {
   "cell_type": "code",
   "execution_count": 5,
   "metadata": {
    "collapsed": false
   },
   "outputs": [
    {
     "name": "stdout",
     "output_type": "stream",
     "text": [
      "[[False False False  True]\n",
      " [ True  True  True  True]\n",
      " [ True  True  True  True]] \n",
      "\n",
      "[ 4  5  6  7  8  9 10 11 12] \n",
      "\n",
      "[ 4  5  6  7  8  9 10 11 12] \n",
      "\n",
      "[ 4  6  8 10 12]\n"
     ]
    }
   ],
   "source": [
    "m_array = np.array([[1,2,3,4], [5,6,7,8], [9,10,11,12]])\n",
    "\n",
    "# Find the elements of a that are bigger than 2\n",
    "# this returns a numpy array of Booleans of the same\n",
    "# shape as m_array, where each value of bool_idx tells\n",
    "# whether that element of a is > 3 or not\n",
    "bool_idx = (m_array > 3)\n",
    "print(bool_idx , \"\\n\")\n",
    "\n",
    "# We use boolean array indexing to construct a rank 1 array\n",
    "# consisting of the elements of a corresponding to the True values\n",
    "# of bool_idx\n",
    "print(m_array[bool_idx], \"\\n\")\n",
    "\n",
    "# We can combine two statements\n",
    "print(m_array[m_array > 3], \"\\n\")\n",
    "\n",
    "# select elements with multiple conditions\n",
    "print(m_array[(m_array > 3) & (m_array % 2 == 0)])\n"
   ]
  },
  {
   "cell_type": "markdown",
   "metadata": {},
   "source": [
    "### 2.2.4. Datatypes\n",
    "Remember that the elements in a numpy array have the same type. When constructing arrays, Numpy tries to guess a datatype when you create an array However, we can specify the datatype explicitly via an optional argument."
   ]
  },
  {
   "cell_type": "code",
   "execution_count": 6,
   "metadata": {
    "collapsed": false
   },
   "outputs": [
    {
     "name": "stdout",
     "output_type": "stream",
     "text": [
      "int64\n",
      "float64\n"
     ]
    }
   ],
   "source": [
    "# let Numpy guess the datatype\n",
    "x1 = np.array([1, 2])\n",
    "print(x1.dtype)\n",
    "\n",
    "# force the datatype be float64\n",
    "x2 = np.array([1, 2], dtype=np.float64)\n",
    "print(x2.dtype)"
   ]
  },
  {
   "cell_type": "markdown",
   "metadata": {},
   "source": [
    "### 2.2.5. Array math\n",
    "Similar to Matlab or R, in Numpy, basic mathematical functions operate elementwise on arrays, and are available both as operator overloads and as functions in the numpy module."
   ]
  },
  {
   "cell_type": "code",
   "execution_count": 7,
   "metadata": {
    "collapsed": false
   },
   "outputs": [
    {
     "name": "stdout",
     "output_type": "stream",
     "text": [
      "x + y = [[  6.   8.]\n",
      " [ 10.  12.]] \n",
      "\n",
      "np.add(x, y)= [[  6.   8.]\n",
      " [ 10.  12.]] \n",
      "\n",
      "x * y = [[  5.  12.]\n",
      " [ 21.  32.]] \n",
      "\n",
      "np.multiply(x, y)= [[  5.  12.]\n",
      " [ 21.  32.]] \n",
      "\n",
      "x*2= [[ 2.  4.]\n",
      " [ 6.  8.]] \n",
      "\n",
      "x.dot(y)= [[ 19.  22.]\n",
      " [ 43.  50.]] \n",
      "\n",
      "np.dot(x, y)= [[ 19.  22.]\n",
      " [ 43.  50.]] \n",
      "\n",
      "np.sqrt(x)= [[ 1.          1.41421356]\n",
      " [ 1.73205081  2.        ]] \n",
      "\n"
     ]
    }
   ],
   "source": [
    "x = np.array([[1,2],[3,4]], dtype=np.float64)\n",
    "y = np.array([[5,6],[7,8]], dtype=np.float64)\n",
    "# mathematical function is used as operator\n",
    "print(\"x + y =\", x + y, \"\\n\")\n",
    "\n",
    "# mathematical function is used as function\n",
    "print(\"np.add(x, y)=\", np.add(x, y), \"\\n\")\n",
    "\n",
    "# Unlike MATLAB, * is elementwise multiplication\n",
    "# not matrix multiplication\n",
    "print(\"x * y =\", x * y , \"\\n\")\n",
    "print(\"np.multiply(x, y)=\", np.multiply(x, y), \"\\n\")\n",
    "print(\"x*2=\", x*2, \"\\n\")\n",
    "\n",
    "# to multiply two matrices, we use dot function\n",
    "print(\"x.dot(y)=\", x.dot(y), \"\\n\")\n",
    "print(\"np.dot(x, y)=\", np.dot(x, y), \"\\n\")\n",
    "\n",
    "# Elementwise square root\n",
    "print(\"np.sqrt(x)=\", np.sqrt(x), \"\\n\")"
   ]
  },
  {
   "cell_type": "markdown",
   "metadata": {},
   "source": [
    "Note that unlike MATLAB, `*` is elementwise multiplication, not matrix multiplication. We instead use the `dot` function to compute inner products of vectors, to multiply a vector by a matrix, and to multiply matrices. In what follows, we work on a few more examples to reiterate the concept."
   ]
  },
  {
   "cell_type": "code",
   "execution_count": 9,
   "metadata": {
    "collapsed": false
   },
   "outputs": [
    {
     "name": "stdout",
     "output_type": "stream",
     "text": [
      "v.dot(w)= 219\n",
      "np.dot(v, w)= 219\n",
      "x.dot(v)= [ 29.  67.]\n",
      "np.dot(x, v)= [ 29.  67.]\n",
      "x.dot(y)= [[ 19.  22.]\n",
      " [ 43.  50.]]\n",
      "np.dot(x, y)= [[ 19.  22.]\n",
      " [ 43.  50.]]\n"
     ]
    }
   ],
   "source": [
    "# declare two vectors\n",
    "v = np.array([9,10])\n",
    "w = np.array([11, 12])\n",
    "\n",
    "# Inner product of vectors\n",
    "print(\"v.dot(w)=\", v.dot(w))\n",
    "print(\"np.dot(v, w)=\", np.dot(v, w))\n",
    "\n",
    "# Matrix / vector product\n",
    "print(\"x.dot(v)=\", x.dot(v))\n",
    "print(\"np.dot(x, v)=\", np.dot(x, v))\n",
    "\n",
    "# Matrix / matrix product\n",
    "print(\"x.dot(y)=\", x.dot(y))\n",
    "print(\"np.dot(x, y)=\", np.dot(x, y))"
   ]
  },
  {
   "cell_type": "markdown",
   "metadata": {},
   "source": [
    "Additionally, we can do other aggregation computations on arrays such as `sum`, `nansum`, or `T`."
   ]
  },
  {
   "cell_type": "code",
   "execution_count": 29,
   "metadata": {
    "collapsed": false
   },
   "outputs": [
    {
     "name": "stdout",
     "output_type": "stream",
     "text": [
      "10\n",
      "[4 6]\n",
      "[3 7]\n",
      "[[1 3]\n",
      " [2 4]]\n",
      "[1 2 3]\n"
     ]
    }
   ],
   "source": [
    "x = np.array([[1,2], [3,4]])\n",
    "\n",
    "# Compute sum of all elements\n",
    "print(np.sum(x))\n",
    "\n",
    "# Compute sum of each column\n",
    "print(np.sum(x, axis=0))\n",
    "\n",
    "# Compute sum of each row\n",
    "print(np.sum(x, axis=1))\n",
    "\n",
    "# transpose the matrix\n",
    "print(x.T)\n",
    "\n",
    "# Note that taking the transpose of a rank 1 array does nothing:\n",
    "v = np.array([1,2,3])\n",
    "print(v.T)  # Prints \"[1 2 3]\""
   ]
  },
  {
   "cell_type": "markdown",
   "metadata": {},
   "source": [
    "![](https://farm2.staticflickr.com/1604/24934700445_833f0a5649_t.jpg)"
   ]
  },
  {
   "cell_type": "markdown",
   "metadata": {},
   "source": [
    "<div class='anchor' ></div>\n",
    "\n",
    "### Question 2\n",
    "\n",
    "Given a 2D array:\n",
    "\n",
    "```\n",
    " 1  2  3  4\n",
    " 5  6  7  8 \n",
    " 9 10 11 12\n",
    "13 14 15 16\n",
    "```\n",
    "\n",
    "#### Question 2.1\n",
    "\n",
    "Print the all odd numbers in this array using `Boolean array indexing`."
   ]
  },
  {
   "cell_type": "markdown",
   "metadata": {},
   "source": [
    "```python\n",
    "array_numbers = np.array([\n",
    "        [1, 2, 3, 4],\n",
    "        [5, 6, 7, 8],\n",
    "        [9, 10, 11, 12],\n",
    "        [13, 14, 15, 16]\n",
    "    ])\n",
    "\n",
    "print(...)\n",
    "```"
   ]
  },
  {
   "cell_type": "code",
   "execution_count": 12,
   "metadata": {
    "collapsed": false
   },
   "outputs": [
    {
     "name": "stdout",
     "output_type": "stream",
     "text": [
      "[ 1  3  5  7  9 11 13 15]\n"
     ]
    }
   ],
   "source": [
    "array_numbers = np.array([\n",
    "        [1, 2, 3, 4],\n",
    "        [5, 6, 7, 8],\n",
    "        [9, 10, 11, 12],\n",
    "        [13, 14, 15, 16]\n",
    "    ])\n",
    "\n",
    "print(array_numbers[array_numbers%2!=0])"
   ]
  },
  {
   "cell_type": "code",
   "execution_count": 30,
   "metadata": {
    "collapsed": false
   },
   "outputs": [
    {
     "name": "stdout",
     "output_type": "stream",
     "text": [
      "[ 1  3  5  7  9 11 13 15]\n"
     ]
    }
   ],
   "source": [
    "####!@SOLUTION@!####\n",
    "array_numbers = np.array([\n",
    "        [1, 2, 3, 4],\n",
    "        [5, 6, 7, 8],\n",
    "        [9, 10, 11, 12],\n",
    "        [13, 14, 15, 16]\n",
    "    ])\n",
    "\n",
    "print(array_numbers[array_numbers % 2 == 1])"
   ]
  },
  {
   "cell_type": "markdown",
   "metadata": {},
   "source": [
    "<div class='anchor' ></div>\n",
    "#### Question 2.2\n",
    "\n",
    "Extract the second row and the third column in this array using `array slicing`."
   ]
  },
  {
   "cell_type": "markdown",
   "metadata": {},
   "source": [
    "```python\n",
    "print(array_numbers[...])\n",
    "print(array_numbers[...])\n",
    "```"
   ]
  },
  {
   "cell_type": "code",
   "execution_count": 13,
   "metadata": {
    "collapsed": false
   },
   "outputs": [
    {
     "name": "stdout",
     "output_type": "stream",
     "text": [
      "[5 6 7 8]\n",
      "[ 3  7 11 15]\n"
     ]
    }
   ],
   "source": [
    "print(array_numbers[1,:])\n",
    "print(array_numbers[:,2])"
   ]
  },
  {
   "cell_type": "code",
   "execution_count": 31,
   "metadata": {
    "collapsed": false
   },
   "outputs": [
    {
     "name": "stdout",
     "output_type": "stream",
     "text": [
      "[5 6 7 8]\n",
      "[ 3  7 11 15]\n"
     ]
    }
   ],
   "source": [
    "####!@SOLUTION@!####\n",
    "print(array_numbers[1,:])\n",
    "print(array_numbers[:,2])"
   ]
  },
  {
   "cell_type": "markdown",
   "metadata": {},
   "source": [
    "<div class='anchor' ></div>\n",
    "#### Question 2.3\n",
    "Calculate the sum of diagonal elements."
   ]
  },
  {
   "cell_type": "markdown",
   "metadata": {},
   "source": [
    "```python\n",
    "sum = 0\n",
    "for i in range(0, ...):\n",
    "    sum += array_numbers...\n",
    "    \n",
    "print(sum)\n",
    "```"
   ]
  },
  {
   "cell_type": "code",
   "execution_count": 14,
   "metadata": {
    "collapsed": false
   },
   "outputs": [
    {
     "name": "stdout",
     "output_type": "stream",
     "text": [
      "34\n"
     ]
    }
   ],
   "source": [
    "sum = 0\n",
    "for i in range(0, len(array_numbers[0,:])):\n",
    "    sum += array_numbers[i,i]\n",
    "\n",
    "print(sum)"
   ]
  },
  {
   "cell_type": "code",
   "execution_count": 32,
   "metadata": {
    "collapsed": false
   },
   "outputs": [
    {
     "name": "stdout",
     "output_type": "stream",
     "text": [
      "34\n"
     ]
    }
   ],
   "source": [
    "####!@SOLUTION@!####\n",
    "sum = 0\n",
    "for i in range(0, len(array_numbers)):\n",
    "    sum += array_numbers[i][i]\n",
    "    \n",
    "print(sum)"
   ]
  },
  {
   "cell_type": "code",
   "execution_count": 15,
   "metadata": {
    "collapsed": false
   },
   "outputs": [
    {
     "name": "stdout",
     "output_type": "stream",
     "text": [
      "[13 28 45 64]\n",
      "150\n"
     ]
    }
   ],
   "source": [
    "print(array_numbers[0,:]*array_numbers[3,:])\n",
    "print(np.dot(array_numbers[0,:],array_numbers[3,:]))"
   ]
  },
  {
   "cell_type": "markdown",
   "metadata": {},
   "source": [
    "<div class='anchor' ></div>\n",
    "#### Question 2.4\n",
    "Print elementwise multiplication of the first row and the last row using numpy's functions.\n",
    "\n",
    "Print the inner product of these two rows.\n"
   ]
  },
  {
   "cell_type": "markdown",
   "metadata": {},
   "source": [
    "```python\n",
    "print(...)\n",
    "print(...)\n",
    "```"
   ]
  },
  {
   "cell_type": "code",
   "execution_count": 33,
   "metadata": {
    "collapsed": false
   },
   "outputs": [
    {
     "name": "stdout",
     "output_type": "stream",
     "text": [
      "[13 28 45 64]\n",
      "150\n"
     ]
    }
   ],
   "source": [
    "####!@SOLUTION@!####\n",
    "print(array_numbers[0,:] * array_numbers[-1,:])\n",
    "print(np.dot(array_numbers[0,:], array_numbers[-1,:]))"
   ]
  },
  {
   "cell_type": "markdown",
   "metadata": {},
   "source": [
    "## 2.3. Matplotlib\n",
    "\n",
    "As its name indicates, Matplotlib is a plotting library. It provides both a very quick way to visualize data from Python and publication-quality figures in many formats. The most important function in matplotlib is `plot`, which allows you to plot 2D data."
   ]
  },
  {
   "cell_type": "code",
   "execution_count": 16,
   "metadata": {
    "collapsed": false
   },
   "outputs": [
    {
     "data": {
      "image/png": "[encoded data removed]",
      "text/plain": [
       "<matplotlib.figure.Figure at 0x7f95742d0dd8>"
      ]
     },
     "metadata": {},
     "output_type": "display_data"
    }
   ],
   "source": [
    "%matplotlib inline\n",
    "import matplotlib.pyplot as plt\n",
    "plt.plot([1,2,3,4])\n",
    "plt.ylabel('custom y label')\n",
    "plt.show()"
   ]
  },
  {
   "cell_type": "markdown",
   "metadata": {},
   "source": [
    "In this case, we provide a single list or array to the `plot()` command, matplotlib assumes it is a sequence of y values, and automatically generates the x values for us. Since python ranges start with 0, the default x vector has the same length as y but starts with 0. Hence the x data are [0,1,2,3].\n",
    "\n",
    "In the next example, we plot figure with both x and y data. Besides, we want to draw dashed lines instead of the solid in default."
   ]
  },
  {
   "cell_type": "code",
   "execution_count": 17,
   "metadata": {
    "collapsed": false
   },
   "outputs": [
    {
     "data": {
      "image/png": "[encoded data removed]",
      "text/plain": [
       "<matplotlib.figure.Figure at 0x7f95742a2da0>"
      ]
     },
     "metadata": {},
     "output_type": "display_data"
    },
    {
     "data": {
      "image/png": "[encoded data removed]",
      "text/plain": [
       "<matplotlib.figure.Figure at 0x7f957418be80>"
      ]
     },
     "metadata": {},
     "output_type": "display_data"
    }
   ],
   "source": [
    "plt.plot([1, 2, 3, 4], [1, 4, 9, 16], 'r--')\n",
    "plt.show()\n",
    "\n",
    "plt.bar([1, 2, 3, 4], [1, 4, 9, 16], align='center')\n",
    "# labels of each column bar\n",
    "x_labels = [\"Type 1\", \"Type 2\", \"Type 3\", \"Type 4\"]\n",
    "# assign labels to the plot\n",
    "plt.xticks([1, 2, 3, 4], x_labels)\n",
    "\n",
    "plt.show()"
   ]
  },
  {
   "cell_type": "markdown",
   "metadata": {},
   "source": [
    "If we want to merge two figures into a single one, subplot is the best way to do that. For example, we want to put two figures in a stack vertically, we should define a grid of plots with 2 rows and 1 column. Then, in each row, a single figure is plotted."
   ]
  },
  {
   "cell_type": "code",
   "execution_count": 18,
   "metadata": {
    "collapsed": false
   },
   "outputs": [
    {
     "data": {
      "image/png": "[encoded data removed]",
      "text/plain": [
       "<matplotlib.figure.Figure at 0x7f95740aed68>"
      ]
     },
     "metadata": {},
     "output_type": "display_data"
    }
   ],
   "source": [
    "# Set up a subplot grid that has height 2 and width 1,\n",
    "# and set the first such subplot as active.\n",
    "plt.subplot(2, 1, 1)\n",
    "plt.plot([1, 2, 3, 4], [1, 4, 9, 16], 'r--')\n",
    "\n",
    "# Set the second subplot as active, and make the second plot.\n",
    "plt.subplot(2, 1, 2)\n",
    "plt.bar([1, 2, 3, 4], [1, 4, 9, 16])\n",
    "\n",
    "plt.show()"
   ]
  },
  {
   "cell_type": "markdown",
   "metadata": {},
   "source": [
    "For more examples, please visit the [homepage](http://matplotlib.org/1.5.1/examples/index.html) of Matplotlib."
   ]
  },
  {
   "cell_type": "markdown",
   "metadata": {},
   "source": [
    "![](https://farm2.staticflickr.com/1604/24934700445_833f0a5649_t.jpg)"
   ]
  },
  {
   "cell_type": "markdown",
   "metadata": {},
   "source": [
    "<div class='anchor' ></div>\n",
    "\n",
    "###  Question 3\n",
    "Given a list of numbers from 0 to 9999.\n",
    "\n",
    "#### Question 3.1\n",
    "Calculate the histogram of numbers divisible by 3, 7, 11 in the list respectively.\n",
    "\n",
    "( Or in other word, how many numbers divisible by 3, 7, 11 in the list respectively ?)"
   ]
  },
  {
   "cell_type": "markdown",
   "metadata": {},
   "source": [
    "```python\n",
    "arr = np.array(...)\n",
    "divisors = [3, 7, 11]\n",
    "histogram = list(...)\n",
    "print(histogram)\n",
    "```"
   ]
  },
  {
   "cell_type": "code",
   "execution_count": 21,
   "metadata": {
    "collapsed": false
   },
   "outputs": [
    {
     "name": "stdout",
     "output_type": "stream",
     "text": [
      "[3334, 1429, 910]\n"
     ]
    }
   ],
   "source": [
    "arr = np.array(range(10000))\n",
    "divisors = [3, 7, 11]\n",
    "histogram = list([len(arr[arr%3==0]),len(arr[arr%7==0]),len(arr[arr%11==0])])\n",
    "print(histogram)"
   ]
  },
  {
   "cell_type": "code",
   "execution_count": 22,
   "metadata": {
    "collapsed": false
   },
   "outputs": [
    {
     "name": "stdout",
     "output_type": "stream",
     "text": [
      "[3334, 1429, 910]\n"
     ]
    }
   ],
   "source": [
    "####!@SOLUTION@!####\n",
    "arr = np.array(range(0, 10000))\n",
    "divisors = [3, 7, 11]\n",
    "histogram = list(map(lambda divisor: len(arr[arr % divisor == 0]) ,divisors))\n",
    "print(histogram)\n"
   ]
  },
  {
   "cell_type": "markdown",
   "metadata": {},
   "source": [
    "<div class='anchor' ></div>\n",
    "#### Question 3.2\n",
    "Plot the histogram in a line chart."
   ]
  },
  {
   "cell_type": "markdown",
   "metadata": {},
   "source": [
    "```python\n",
    "%matplotlib inline\n",
    "import matplotlib.pyplot as plt\n",
    "\n",
    "# simple line chart\n",
    "plt.plot(histogram)\n",
    "x_indexes = ...\n",
    "x_names = list(...)\n",
    "plt.xticks(x_indexes, x_names)\n",
    "plt.show()\n",
    "```"
   ]
  },
  {
   "cell_type": "code",
   "execution_count": 24,
   "metadata": {
    "collapsed": false
   },
   "outputs": [
    {
     "data": {
      "image/png": "[encoded data removed]",
      "text/plain": [
       "<matplotlib.figure.Figure at 0x7f957405d320>"
      ]
     },
     "metadata": {},
     "output_type": "display_data"
    }
   ],
   "source": [
    "%matplotlib inline\n",
    "import matplotlib.pyplot as plt\n",
    "\n",
    "# simple line chart\n",
    "plt.plot(histogram)\n",
    "x_indexes = range(0,len(divisors))\n",
    "x_names = list(map(lambda x:\"divisor \"+ str(x),divisors))\n",
    "plt.xticks(x_indexes, x_names)\n",
    "plt.show()"
   ]
  },
  {
   "cell_type": "code",
   "execution_count": 38,
   "metadata": {
    "collapsed": false
   },
   "outputs": [
    {
     "data": {
      "image/png": "[encoded data removed]",
      "text/plain": [
       "<matplotlib.figure.Figure at 0x7f49683143c8>"
      ]
     },
     "metadata": {},
     "output_type": "display_data"
    }
   ],
   "source": [
    "####!@SOLUTION@!####\n",
    "%matplotlib inline\n",
    "import matplotlib.pyplot as plt\n",
    "\n",
    "# simple line chart\n",
    "plt.plot(histogram)\n",
    "x_indexes = range(0, len(divisors))\n",
    "x_names = list(map(lambda x: \"Divisible by \" + str(x), divisors))\n",
    "plt.xticks(x_indexes, x_names)\n",
    "plt.show()"
   ]
  },
  {
   "cell_type": "markdown",
   "metadata": {},
   "source": [
    "<div class='anchor' ></div>\n",
    "#### Question 3.3\n",
    "Plot the histogram in a bar chart."
   ]
  },
  {
   "cell_type": "markdown",
   "metadata": {},
   "source": [
    "```python\n",
    "# char chart with x-lables\n",
    "x_indexes = range(...)\n",
    "x_names = list(...)\n",
    "plt.bar( x_indexes, histogram, align='center')\n",
    "plt.xticks(x_indexes, x_names)\n",
    "plt.show()\n",
    "```"
   ]
  },
  {
   "cell_type": "code",
   "execution_count": 26,
   "metadata": {
    "collapsed": false
   },
   "outputs": [
    {
     "data": {
      "image/png": "[encoded data removed]",
      "text/plain": [
       "<matplotlib.figure.Figure at 0x7f956c67fac8>"
      ]
     },
     "metadata": {},
     "output_type": "display_data"
    }
   ],
   "source": [
    "# char chart with x-lables\n",
    "x_indexes = range(0,len(divisors))\n",
    "x_names = list(map(lambda x: \"div \" + str(x), divisors))\n",
    "plt.bar( x_indexes, histogram, align='center')\n",
    "plt.xticks(x_indexes, x_names)\n",
    "plt.show()"
   ]
  },
  {
   "cell_type": "code",
   "execution_count": 27,
   "metadata": {
    "collapsed": false
   },
   "outputs": [
    {
     "data": {
      "image/png": "[encoded data removed]",
      "text/plain": [
       "<matplotlib.figure.Figure at 0x7f956c663630>"
      ]
     },
     "metadata": {},
     "output_type": "display_data"
    }
   ],
   "source": [
    "####!@SOLUTION@!####\n",
    "# char chart with x-lables\n",
    "x_indexes = range(0, len(divisors))\n",
    "x_names = list(map(lambda x: \"Divisible by \" + str(x), divisors))\n",
    "plt.bar( x_indexes, histogram, align='center')\n",
    "plt.xticks(x_indexes, x_names)\n",
    "plt.show()"
   ]
  },
  {
   "cell_type": "markdown",
   "metadata": {},
   "source": [
    "## 2.4. Pandas\n",
    "\n",
    "Pandas is an open source library providing high-performance, easy-to-use data structures and data analysis tools for the Python programming language. Indeeed, it is great for data manipulation, data analysis, and data visualization.\n",
    "\n",
    "### 2.4.1. Data structures\n",
    "Pandas introduces two useful (and powerful) structures: `Series` and `DataFrame`, both of which are built on top of NumPy.\n",
    "\n",
    "#### Series\n",
    "A `Series` is a one-dimensional object similar to an array, list, or even column in a table. It assigns a *labeled index* to each item in the Series. By default, each item will receive an index label from `0` to `N-1`, where `N` is the number items of `Series`.\n",
    "\n",
    "We can create a Series by passing a list of values, and let pandas create a default integer index.\n"
   ]
  },
  {
   "cell_type": "code",
   "execution_count": 28,
   "metadata": {
    "collapsed": false
   },
   "outputs": [
    {
     "name": "stdout",
     "output_type": "stream",
     "text": [
      "0                   3\n",
      "1    Machine learning\n",
      "2             1.41426\n",
      "3              -65545\n",
      "4       Happy coding!\n",
      "dtype: object\n"
     ]
    }
   ],
   "source": [
    "import pandas as pd\n",
    "import numpy as np\n",
    "\n",
    "# create a Series with an arbitrary list\n",
    "s = pd.Series([3, 'Machine learning', 1.414259, -65545, 'Happy coding!'])\n",
    "print(s)"
   ]
  },
  {
   "cell_type": "markdown",
   "metadata": {},
   "source": [
    "Or, an index can be used explixitly when creating the `Series`."
   ]
  },
  {
   "cell_type": "code",
   "execution_count": 29,
   "metadata": {
    "collapsed": false
   },
   "outputs": [
    {
     "name": "stdout",
     "output_type": "stream",
     "text": [
      "Col1                   3\n",
      "Col2    Machine learning\n",
      "Col3             1.41426\n",
      "4.1               -65545\n",
      "5          Happy coding!\n",
      "dtype: object\n"
     ]
    }
   ],
   "source": [
    "s = pd.Series([3, 'Machine learning', 1.414259, -65545, 'Happy coding!'],\n",
    "             index=['Col1', 'Col2', 'Col3', 4.1, 5])\n",
    "print(s)"
   ]
  },
  {
   "cell_type": "markdown",
   "metadata": {},
   "source": [
    "A `Series` can be constructed from a dictionary too."
   ]
  },
  {
   "cell_type": "code",
   "execution_count": 30,
   "metadata": {
    "collapsed": false
   },
   "outputs": [
    {
     "name": "stdout",
     "output_type": "stream",
     "text": [
      "Col1                   3\n",
      "Col2    Machine learning\n",
      "4.1               -65545\n",
      "5          Happy coding!\n",
      "Col3             1.41426\n",
      "dtype: object\n"
     ]
    }
   ],
   "source": [
    "s = pd.Series({\n",
    "        'Col1': 3, 'Col2': 'Machine learning', \n",
    "        'Col3': 1.414259, 4.1: -65545, \n",
    "        5: 'Happy coding!'\n",
    "    })\n",
    "print(s)"
   ]
  },
  {
   "cell_type": "markdown",
   "metadata": {},
   "source": [
    "We can access items in a `Series` in a same way as `Numpy`."
   ]
  },
  {
   "cell_type": "code",
   "execution_count": 31,
   "metadata": {
    "collapsed": false
   },
   "outputs": [
    {
     "name": "stdout",
     "output_type": "stream",
     "text": [
      "s['Col1']= 3.0 \n",
      "\n",
      "s[['Col1', 'Col3', 4.5]]= Col1    3.000000\n",
      "Col3    1.414259\n",
      "4.5          NaN\n",
      "dtype: float64 \n",
      "\n",
      "Col3    1.414259\n",
      "5       8.000000\n",
      "Col1    3.000000\n",
      "-1      5.000000\n",
      "dtype: float64 \n",
      "\n",
      "Col3       15\n",
      "4.1    -65545\n",
      "5          15\n",
      "Col1       15\n",
      "Col2      -10\n",
      "-1         15\n",
      "dtype: float64 \n",
      "\n",
      "Col3       150\n",
      "4.1    -655450\n",
      "5          150\n",
      "Col1       150\n",
      "Col2      -100\n",
      "-1         150\n",
      "dtype: float64 \n",
      "\n",
      "Col3           225\n",
      "4.1     4296147025\n",
      "5              225\n",
      "Col1           225\n",
      "Col2           100\n",
      "-1             225\n",
      "dtype: float64 \n",
      "\n"
     ]
    }
   ],
   "source": [
    "s = pd.Series({\n",
    "        'Col1': 3, 'Col2': -10, \n",
    "        'Col3': 1.414259, \n",
    "        4.1: -65545, \n",
    "        5: 8,\n",
    "        -1: 5\n",
    "    })\n",
    "\n",
    "# get element which has index='Col1'\n",
    "print(\"s['Col1']=\", s['Col1'], \"\\n\")\n",
    "\n",
    "# get elements whose index is in a given list\n",
    "print(\"s[['Col1', 'Col3', 4.5]]=\", s[['Col1', 'Col3', 4.5]], \"\\n\")\n",
    "\n",
    "# use boolean indexing for selection\n",
    "print(s[s > 0], \"\\n\")\n",
    "\n",
    "# modify elements on the fly using boolean indexing\n",
    "s[s > 0] = 15\n",
    "\n",
    "print(s, \"\\n\")\n",
    "\n",
    "# mathematical operations can be done using operators and functions.\n",
    "print(s*10,  \"\\n\")\n",
    "print(np.square(s), \"\\n\")"
   ]
  },
  {
   "cell_type": "markdown",
   "metadata": {},
   "source": [
    "#### DataFrame\n",
    "A DataFrame is a tabular data structure comprised of rows and columns, akin to database table, or R's data.frame object. In a loose way, we can also think of a DataFrame as a group of Series objects that share an index (the column names).\n",
    "\n",
    "We can create a DataFrame by passing a dict of objects that can be converted to series-like."
   ]
  },
  {
   "cell_type": "code",
   "execution_count": 33,
   "metadata": {
    "collapsed": false
   },
   "outputs": [
    {
     "data": {
      "text/html": [
       "<div>\n",
       "<table border=\"1\" class=\"dataframe\">\n",
       "  <thead>\n",
       "    <tr style=\"text-align: right;\">\n",
       "      <th></th>\n",
       "      <th>year</th>\n",
       "      <th>team</th>\n",
       "      <th>wins</th>\n",
       "      <th>losses</th>\n",
       "    </tr>\n",
       "  </thead>\n",
       "  <tbody>\n",
       "    <tr>\n",
       "      <th>0</th>\n",
       "      <td>2013</td>\n",
       "      <td>Manchester United</td>\n",
       "      <td>11</td>\n",
       "      <td>5</td>\n",
       "    </tr>\n",
       "    <tr>\n",
       "      <th>1</th>\n",
       "      <td>2014</td>\n",
       "      <td>Chelsea</td>\n",
       "      <td>8</td>\n",
       "      <td>8</td>\n",
       "    </tr>\n",
       "    <tr>\n",
       "      <th>2</th>\n",
       "      <td>2015</td>\n",
       "      <td>Asernal</td>\n",
       "      <td>10</td>\n",
       "      <td>6</td>\n",
       "    </tr>\n",
       "    <tr>\n",
       "      <th>3</th>\n",
       "      <td>2013</td>\n",
       "      <td>Liverpool</td>\n",
       "      <td>15</td>\n",
       "      <td>1</td>\n",
       "    </tr>\n",
       "    <tr>\n",
       "      <th>4</th>\n",
       "      <td>2014</td>\n",
       "      <td>West Ham</td>\n",
       "      <td>11</td>\n",
       "      <td>5</td>\n",
       "    </tr>\n",
       "    <tr>\n",
       "      <th>5</th>\n",
       "      <td>2015</td>\n",
       "      <td>Newcastle</td>\n",
       "      <td>6</td>\n",
       "      <td>10</td>\n",
       "    </tr>\n",
       "    <tr>\n",
       "      <th>6</th>\n",
       "      <td>2013</td>\n",
       "      <td>Machester City</td>\n",
       "      <td>10</td>\n",
       "      <td>6</td>\n",
       "    </tr>\n",
       "    <tr>\n",
       "      <th>7</th>\n",
       "      <td>2014</td>\n",
       "      <td>Tottenham</td>\n",
       "      <td>4</td>\n",
       "      <td>12</td>\n",
       "    </tr>\n",
       "  </tbody>\n",
       "</table>\n",
       "</div>"
      ],
      "text/plain": [
       "   year               team  wins  losses\n",
       "0  2013  Manchester United    11       5\n",
       "1  2014            Chelsea     8       8\n",
       "2  2015            Asernal    10       6\n",
       "3  2013          Liverpool    15       1\n",
       "4  2014           West Ham    11       5\n",
       "5  2015          Newcastle     6      10\n",
       "6  2013     Machester City    10       6\n",
       "7  2014          Tottenham     4      12"
      ]
     },
     "execution_count": 33,
     "metadata": {},
     "output_type": "execute_result"
    }
   ],
   "source": [
    "data = {'year': [2013, 2014, 2015, 2013, 2014, 2015, 2013, 2014],\n",
    "        'team': ['Manchester United', 'Chelsea', 'Asernal', 'Liverpool', 'West Ham', 'Newcastle', 'Machester City', 'Tottenham'],\n",
    "        'wins': [11, 8, 10, 15, 11, 6, 10, 4],\n",
    "        'losses': [5, 8, 6, 1, 5, 10, 6, 12]}\n",
    "football = pd.DataFrame(data, columns=['year', 'team', 'wins', 'losses'])\n",
    "football"
   ]
  },
  {
   "cell_type": "markdown",
   "metadata": {},
   "source": [
    "We can store data as a CSV file, or read data from a CSV file."
   ]
  },
  {
   "cell_type": "code",
   "execution_count": 34,
   "metadata": {
    "collapsed": false
   },
   "outputs": [
    {
     "data": {
      "text/html": [
       "<div>\n",
       "<table border=\"1\" class=\"dataframe\">\n",
       "  <thead>\n",
       "    <tr style=\"text-align: right;\">\n",
       "      <th></th>\n",
       "      <th>year</th>\n",
       "      <th>team</th>\n",
       "      <th>wins</th>\n",
       "      <th>losses</th>\n",
       "    </tr>\n",
       "  </thead>\n",
       "  <tbody>\n",
       "    <tr>\n",
       "      <th>0</th>\n",
       "      <td>2013</td>\n",
       "      <td>Manchester United</td>\n",
       "      <td>11</td>\n",
       "      <td>5</td>\n",
       "    </tr>\n",
       "    <tr>\n",
       "      <th>1</th>\n",
       "      <td>2014</td>\n",
       "      <td>Chelsea</td>\n",
       "      <td>8</td>\n",
       "      <td>8</td>\n",
       "    </tr>\n",
       "    <tr>\n",
       "      <th>2</th>\n",
       "      <td>2015</td>\n",
       "      <td>Asernal</td>\n",
       "      <td>10</td>\n",
       "      <td>6</td>\n",
       "    </tr>\n",
       "    <tr>\n",
       "      <th>3</th>\n",
       "      <td>2013</td>\n",
       "      <td>Liverpool</td>\n",
       "      <td>15</td>\n",
       "      <td>1</td>\n",
       "    </tr>\n",
       "    <tr>\n",
       "      <th>4</th>\n",
       "      <td>2014</td>\n",
       "      <td>West Ham</td>\n",
       "      <td>11</td>\n",
       "      <td>5</td>\n",
       "    </tr>\n",
       "  </tbody>\n",
       "</table>\n",
       "</div>"
      ],
      "text/plain": [
       "   year               team  wins  losses\n",
       "0  2013  Manchester United    11       5\n",
       "1  2014            Chelsea     8       8\n",
       "2  2015            Asernal    10       6\n",
       "3  2013          Liverpool    15       1\n",
       "4  2014           West Ham    11       5"
      ]
     },
     "execution_count": 34,
     "metadata": {},
     "output_type": "execute_result"
    }
   ],
   "source": [
    "# save data to a csv file without the index\n",
    "football.to_csv('football.csv', index=False)\n",
    "\n",
    "from_csv = pd.read_csv('football.csv')\n",
    "from_csv.head()"
   ]
  },
  {
   "cell_type": "markdown",
   "metadata": {},
   "source": [
    "To read a CSV file with a custom delimiter between values and custom columns' names, we can use parameters `sep` and `names` relatively.\n",
    "Moreover, Pandas also supports to read and write to [Excel file](http://pandas.pydata.org/pandas-docs/stable/io.html#io-excel) , sqlite database file, URL,  or even clipboard.\n",
    "\n",
    "We can have an overview on the data by using functions `info` and `describe`."
   ]
  },
  {
   "cell_type": "code",
   "execution_count": 36,
   "metadata": {
    "collapsed": false
   },
   "outputs": [
    {
     "name": "stdout",
     "output_type": "stream",
     "text": [
      "<class 'pandas.core.frame.DataFrame'>\n",
      "Int64Index: 8 entries, 0 to 7\n",
      "Data columns (total 4 columns):\n",
      "year      8 non-null int64\n",
      "team      8 non-null object\n",
      "wins      8 non-null int64\n",
      "losses    8 non-null int64\n",
      "dtypes: int64(3), object(1)\n",
      "memory usage: 320.0+ bytes\n",
      "None \n",
      "\n"
     ]
    },
    {
     "data": {
      "text/html": [
       "<div>\n",
       "<table border=\"1\" class=\"dataframe\">\n",
       "  <thead>\n",
       "    <tr style=\"text-align: right;\">\n",
       "      <th></th>\n",
       "      <th>year</th>\n",
       "      <th>wins</th>\n",
       "      <th>losses</th>\n",
       "    </tr>\n",
       "  </thead>\n",
       "  <tbody>\n",
       "    <tr>\n",
       "      <th>count</th>\n",
       "      <td>8.000000</td>\n",
       "      <td>8.000000</td>\n",
       "      <td>8.000000</td>\n",
       "    </tr>\n",
       "    <tr>\n",
       "      <th>mean</th>\n",
       "      <td>2013.875000</td>\n",
       "      <td>9.375000</td>\n",
       "      <td>6.625000</td>\n",
       "    </tr>\n",
       "    <tr>\n",
       "      <th>std</th>\n",
       "      <td>0.834523</td>\n",
       "      <td>3.377975</td>\n",
       "      <td>3.377975</td>\n",
       "    </tr>\n",
       "    <tr>\n",
       "      <th>min</th>\n",
       "      <td>2013.000000</td>\n",
       "      <td>4.000000</td>\n",
       "      <td>1.000000</td>\n",
       "    </tr>\n",
       "    <tr>\n",
       "      <th>25%</th>\n",
       "      <td>2013.000000</td>\n",
       "      <td>7.500000</td>\n",
       "      <td>5.000000</td>\n",
       "    </tr>\n",
       "    <tr>\n",
       "      <th>50%</th>\n",
       "      <td>2014.000000</td>\n",
       "      <td>10.000000</td>\n",
       "      <td>6.000000</td>\n",
       "    </tr>\n",
       "    <tr>\n",
       "      <th>75%</th>\n",
       "      <td>2014.250000</td>\n",
       "      <td>11.000000</td>\n",
       "      <td>8.500000</td>\n",
       "    </tr>\n",
       "    <tr>\n",
       "      <th>max</th>\n",
       "      <td>2015.000000</td>\n",
       "      <td>15.000000</td>\n",
       "      <td>12.000000</td>\n",
       "    </tr>\n",
       "  </tbody>\n",
       "</table>\n",
       "</div>"
      ],
      "text/plain": [
       "              year       wins     losses\n",
       "count     8.000000   8.000000   8.000000\n",
       "mean   2013.875000   9.375000   6.625000\n",
       "std       0.834523   3.377975   3.377975\n",
       "min    2013.000000   4.000000   1.000000\n",
       "25%    2013.000000   7.500000   5.000000\n",
       "50%    2014.000000  10.000000   6.000000\n",
       "75%    2014.250000  11.000000   8.500000\n",
       "max    2015.000000  15.000000  12.000000"
      ]
     },
     "execution_count": 36,
     "metadata": {},
     "output_type": "execute_result"
    }
   ],
   "source": [
    "print(football.info(), \"\\n\")\n",
    "football.describe()"
   ]
  },
  {
   "cell_type": "markdown",
   "metadata": {},
   "source": [
    "Numpy's regular slicing syntax works as well."
   ]
  },
  {
   "cell_type": "code",
   "execution_count": 37,
   "metadata": {
    "collapsed": false
   },
   "outputs": [
    {
     "name": "stdout",
     "output_type": "stream",
     "text": [
      "   year               team  wins  losses\n",
      "0  2013  Manchester United    11       5\n",
      "1  2014            Chelsea     8       8 \n",
      "\n",
      "   year      team  wins  losses\n",
      "2  2015   Asernal    10       6\n",
      "4  2014  West Ham    11       5\n"
     ]
    }
   ],
   "source": [
    "print(football[0:2], \"\\n\")\n",
    "\n",
    "# show only the teams that have won more than 10 matches from 2014\n",
    "print(football[(football.year >= 2014) & (football.wins >= 10)])"
   ]
  },
  {
   "cell_type": "markdown",
   "metadata": {},
   "source": [
    "An important feature that Pandas supports is `JOIN`. Very often, the data comes from multiple sources, in multiple files. For example, we have 2 CSV files, one contains the information of Artists, the other contains information of Songs. If we want to query the artist name and his/her corresponding songs, we have to do joining two dataframe.\n",
    "\n",
    "Similar to SQL, in Pandas, you can do inner join, left outer join, right outer join and full outer join. Let's see a small example. Assume that we have two dataset of singers and songs. The relationship between two datasets is maintained by a constrain on `singer_code`."
   ]
  },
  {
   "cell_type": "code",
   "execution_count": 38,
   "metadata": {
    "collapsed": false
   },
   "outputs": [
    {
     "name": "stdout",
     "output_type": "stream",
     "text": [
      "   singer_code singer_name\n",
      "0            0    singer_a\n",
      "1            1    singer_b\n",
      "2            2    singer_c\n",
      "3            3    singer_d\n",
      "4            4    singer_e\n",
      "\n",
      "\n",
      "   singer_code song_name\n",
      "0            2    song_f\n",
      "1            2    song_g\n",
      "2            3    song_h\n",
      "3            4    song_i\n",
      "4            5    song_j\n"
     ]
    }
   ],
   "source": [
    "singers = pd.DataFrame({'singer_code': range(5), \n",
    "                           'singer_name': ['singer_a', 'singer_b', 'singer_c', 'singer_d', 'singer_e']})\n",
    "songs = pd.DataFrame({'singer_code': [2, 2, 3, 4, 5], \n",
    "                           'song_name': ['song_f', 'song_g', 'song_h', 'song_i', 'song_j']})\n",
    "print(singers)\n",
    "print('\\n')\n",
    "print(songs)"
   ]
  },
  {
   "cell_type": "code",
   "execution_count": 39,
   "metadata": {
    "collapsed": false
   },
   "outputs": [
    {
     "data": {
      "text/html": [
       "<div>\n",
       "<table border=\"1\" class=\"dataframe\">\n",
       "  <thead>\n",
       "    <tr style=\"text-align: right;\">\n",
       "      <th></th>\n",
       "      <th>singer_code</th>\n",
       "      <th>singer_name</th>\n",
       "      <th>song_name</th>\n",
       "    </tr>\n",
       "  </thead>\n",
       "  <tbody>\n",
       "    <tr>\n",
       "      <th>0</th>\n",
       "      <td>2</td>\n",
       "      <td>singer_c</td>\n",
       "      <td>song_f</td>\n",
       "    </tr>\n",
       "    <tr>\n",
       "      <th>1</th>\n",
       "      <td>2</td>\n",
       "      <td>singer_c</td>\n",
       "      <td>song_g</td>\n",
       "    </tr>\n",
       "    <tr>\n",
       "      <th>2</th>\n",
       "      <td>3</td>\n",
       "      <td>singer_d</td>\n",
       "      <td>song_h</td>\n",
       "    </tr>\n",
       "    <tr>\n",
       "      <th>3</th>\n",
       "      <td>4</td>\n",
       "      <td>singer_e</td>\n",
       "      <td>song_i</td>\n",
       "    </tr>\n",
       "  </tbody>\n",
       "</table>\n",
       "</div>"
      ],
      "text/plain": [
       "   singer_code singer_name song_name\n",
       "0            2    singer_c    song_f\n",
       "1            2    singer_c    song_g\n",
       "2            3    singer_d    song_h\n",
       "3            4    singer_e    song_i"
      ]
     },
     "execution_count": 39,
     "metadata": {},
     "output_type": "execute_result"
    }
   ],
   "source": [
    "# inner join\n",
    "pd.merge(singers, songs, on='singer_code', how='inner')"
   ]
  },
  {
   "cell_type": "code",
   "execution_count": 50,
   "metadata": {
    "collapsed": false
   },
   "outputs": [
    {
     "data": {
      "text/html": [
       "<div>\n",
       "<table border=\"1\" class=\"dataframe\">\n",
       "  <thead>\n",
       "    <tr style=\"text-align: right;\">\n",
       "      <th></th>\n",
       "      <th>singer_code</th>\n",
       "      <th>singer_name</th>\n",
       "      <th>song_name</th>\n",
       "    </tr>\n",
       "  </thead>\n",
       "  <tbody>\n",
       "    <tr>\n",
       "      <th>0</th>\n",
       "      <td>0</td>\n",
       "      <td>singer_a</td>\n",
       "      <td>NaN</td>\n",
       "    </tr>\n",
       "    <tr>\n",
       "      <th>1</th>\n",
       "      <td>1</td>\n",
       "      <td>singer_b</td>\n",
       "      <td>NaN</td>\n",
       "    </tr>\n",
       "    <tr>\n",
       "      <th>2</th>\n",
       "      <td>2</td>\n",
       "      <td>singer_c</td>\n",
       "      <td>song_f</td>\n",
       "    </tr>\n",
       "    <tr>\n",
       "      <th>3</th>\n",
       "      <td>2</td>\n",
       "      <td>singer_c</td>\n",
       "      <td>song_g</td>\n",
       "    </tr>\n",
       "    <tr>\n",
       "      <th>4</th>\n",
       "      <td>3</td>\n",
       "      <td>singer_d</td>\n",
       "      <td>song_h</td>\n",
       "    </tr>\n",
       "    <tr>\n",
       "      <th>5</th>\n",
       "      <td>4</td>\n",
       "      <td>singer_e</td>\n",
       "      <td>song_i</td>\n",
       "    </tr>\n",
       "  </tbody>\n",
       "</table>\n",
       "</div>"
      ],
      "text/plain": [
       "   singer_code singer_name song_name\n",
       "0            0    singer_a       NaN\n",
       "1            1    singer_b       NaN\n",
       "2            2    singer_c    song_f\n",
       "3            2    singer_c    song_g\n",
       "4            3    singer_d    song_h\n",
       "5            4    singer_e    song_i"
      ]
     },
     "execution_count": 50,
     "metadata": {},
     "output_type": "execute_result"
    }
   ],
   "source": [
    "# left join\n",
    "pd.merge(singers, songs, on='singer_code', how='left')"
   ]
  },
  {
   "cell_type": "code",
   "execution_count": 51,
   "metadata": {
    "collapsed": false
   },
   "outputs": [
    {
     "data": {
      "text/html": [
       "<div>\n",
       "<table border=\"1\" class=\"dataframe\">\n",
       "  <thead>\n",
       "    <tr style=\"text-align: right;\">\n",
       "      <th></th>\n",
       "      <th>singer_code</th>\n",
       "      <th>singer_name</th>\n",
       "      <th>song_name</th>\n",
       "    </tr>\n",
       "  </thead>\n",
       "  <tbody>\n",
       "    <tr>\n",
       "      <th>0</th>\n",
       "      <td>2</td>\n",
       "      <td>singer_c</td>\n",
       "      <td>song_f</td>\n",
       "    </tr>\n",
       "    <tr>\n",
       "      <th>1</th>\n",
       "      <td>2</td>\n",
       "      <td>singer_c</td>\n",
       "      <td>song_g</td>\n",
       "    </tr>\n",
       "    <tr>\n",
       "      <th>2</th>\n",
       "      <td>3</td>\n",
       "      <td>singer_d</td>\n",
       "      <td>song_h</td>\n",
       "    </tr>\n",
       "    <tr>\n",
       "      <th>3</th>\n",
       "      <td>4</td>\n",
       "      <td>singer_e</td>\n",
       "      <td>song_i</td>\n",
       "    </tr>\n",
       "    <tr>\n",
       "      <th>4</th>\n",
       "      <td>5</td>\n",
       "      <td>NaN</td>\n",
       "      <td>song_j</td>\n",
       "    </tr>\n",
       "  </tbody>\n",
       "</table>\n",
       "</div>"
      ],
      "text/plain": [
       "   singer_code singer_name song_name\n",
       "0            2    singer_c    song_f\n",
       "1            2    singer_c    song_g\n",
       "2            3    singer_d    song_h\n",
       "3            4    singer_e    song_i\n",
       "4            5         NaN    song_j"
      ]
     },
     "execution_count": 51,
     "metadata": {},
     "output_type": "execute_result"
    }
   ],
   "source": [
    "# right join\n",
    "pd.merge(singers, songs, on='singer_code', how='right')"
   ]
  },
  {
   "cell_type": "code",
   "execution_count": 52,
   "metadata": {
    "collapsed": false
   },
   "outputs": [
    {
     "data": {
      "text/html": [
       "<div>\n",
       "<table border=\"1\" class=\"dataframe\">\n",
       "  <thead>\n",
       "    <tr style=\"text-align: right;\">\n",
       "      <th></th>\n",
       "      <th>singer_code</th>\n",
       "      <th>singer_name</th>\n",
       "      <th>song_name</th>\n",
       "    </tr>\n",
       "  </thead>\n",
       "  <tbody>\n",
       "    <tr>\n",
       "      <th>0</th>\n",
       "      <td>0</td>\n",
       "      <td>singer_a</td>\n",
       "      <td>NaN</td>\n",
       "    </tr>\n",
       "    <tr>\n",
       "      <th>1</th>\n",
       "      <td>1</td>\n",
       "      <td>singer_b</td>\n",
       "      <td>NaN</td>\n",
       "    </tr>\n",
       "    <tr>\n",
       "      <th>2</th>\n",
       "      <td>2</td>\n",
       "      <td>singer_c</td>\n",
       "      <td>song_f</td>\n",
       "    </tr>\n",
       "    <tr>\n",
       "      <th>3</th>\n",
       "      <td>2</td>\n",
       "      <td>singer_c</td>\n",
       "      <td>song_g</td>\n",
       "    </tr>\n",
       "    <tr>\n",
       "      <th>4</th>\n",
       "      <td>3</td>\n",
       "      <td>singer_d</td>\n",
       "      <td>song_h</td>\n",
       "    </tr>\n",
       "    <tr>\n",
       "      <th>5</th>\n",
       "      <td>4</td>\n",
       "      <td>singer_e</td>\n",
       "      <td>song_i</td>\n",
       "    </tr>\n",
       "    <tr>\n",
       "      <th>6</th>\n",
       "      <td>5</td>\n",
       "      <td>NaN</td>\n",
       "      <td>song_j</td>\n",
       "    </tr>\n",
       "  </tbody>\n",
       "</table>\n",
       "</div>"
      ],
      "text/plain": [
       "   singer_code singer_name song_name\n",
       "0            0    singer_a       NaN\n",
       "1            1    singer_b       NaN\n",
       "2            2    singer_c    song_f\n",
       "3            2    singer_c    song_g\n",
       "4            3    singer_d    song_h\n",
       "5            4    singer_e    song_i\n",
       "6            5         NaN    song_j"
      ]
     },
     "execution_count": 52,
     "metadata": {},
     "output_type": "execute_result"
    }
   ],
   "source": [
    "# outer join (full join)\n",
    "pd.merge(singers, songs, on='singer_code', how='outer')"
   ]
  },
  {
   "cell_type": "markdown",
   "metadata": {},
   "source": [
    "We can also concat two dataframes vertically or horizontally via function `concat` and parameter `axis`. This function is useful when we need to append two similar datasets or to put them side by site"
   ]
  },
  {
   "cell_type": "code",
   "execution_count": 53,
   "metadata": {
    "collapsed": false
   },
   "outputs": [
    {
     "data": {
      "text/html": [
       "<div>\n",
       "<table border=\"1\" class=\"dataframe\">\n",
       "  <thead>\n",
       "    <tr style=\"text-align: right;\">\n",
       "      <th></th>\n",
       "      <th>singer_code</th>\n",
       "      <th>singer_name</th>\n",
       "      <th>song_name</th>\n",
       "    </tr>\n",
       "  </thead>\n",
       "  <tbody>\n",
       "    <tr>\n",
       "      <th>0</th>\n",
       "      <td>0</td>\n",
       "      <td>singer_a</td>\n",
       "      <td>NaN</td>\n",
       "    </tr>\n",
       "    <tr>\n",
       "      <th>1</th>\n",
       "      <td>1</td>\n",
       "      <td>singer_b</td>\n",
       "      <td>NaN</td>\n",
       "    </tr>\n",
       "    <tr>\n",
       "      <th>2</th>\n",
       "      <td>2</td>\n",
       "      <td>singer_c</td>\n",
       "      <td>NaN</td>\n",
       "    </tr>\n",
       "    <tr>\n",
       "      <th>3</th>\n",
       "      <td>3</td>\n",
       "      <td>singer_d</td>\n",
       "      <td>NaN</td>\n",
       "    </tr>\n",
       "    <tr>\n",
       "      <th>4</th>\n",
       "      <td>4</td>\n",
       "      <td>singer_e</td>\n",
       "      <td>NaN</td>\n",
       "    </tr>\n",
       "    <tr>\n",
       "      <th>0</th>\n",
       "      <td>2</td>\n",
       "      <td>NaN</td>\n",
       "      <td>song_f</td>\n",
       "    </tr>\n",
       "    <tr>\n",
       "      <th>1</th>\n",
       "      <td>2</td>\n",
       "      <td>NaN</td>\n",
       "      <td>song_g</td>\n",
       "    </tr>\n",
       "    <tr>\n",
       "      <th>2</th>\n",
       "      <td>3</td>\n",
       "      <td>NaN</td>\n",
       "      <td>song_h</td>\n",
       "    </tr>\n",
       "    <tr>\n",
       "      <th>3</th>\n",
       "      <td>4</td>\n",
       "      <td>NaN</td>\n",
       "      <td>song_i</td>\n",
       "    </tr>\n",
       "    <tr>\n",
       "      <th>4</th>\n",
       "      <td>5</td>\n",
       "      <td>NaN</td>\n",
       "      <td>song_j</td>\n",
       "    </tr>\n",
       "  </tbody>\n",
       "</table>\n",
       "</div>"
      ],
      "text/plain": [
       "   singer_code singer_name song_name\n",
       "0            0    singer_a       NaN\n",
       "1            1    singer_b       NaN\n",
       "2            2    singer_c       NaN\n",
       "3            3    singer_d       NaN\n",
       "4            4    singer_e       NaN\n",
       "0            2         NaN    song_f\n",
       "1            2         NaN    song_g\n",
       "2            3         NaN    song_h\n",
       "3            4         NaN    song_i\n",
       "4            5         NaN    song_j"
      ]
     },
     "execution_count": 53,
     "metadata": {},
     "output_type": "execute_result"
    }
   ],
   "source": [
    "# concat vertically\n",
    "pd.concat([singers, songs])"
   ]
  },
  {
   "cell_type": "code",
   "execution_count": 54,
   "metadata": {
    "collapsed": false
   },
   "outputs": [
    {
     "data": {
      "text/html": [
       "<div>\n",
       "<table border=\"1\" class=\"dataframe\">\n",
       "  <thead>\n",
       "    <tr style=\"text-align: right;\">\n",
       "      <th></th>\n",
       "      <th>singer_code</th>\n",
       "      <th>singer_name</th>\n",
       "      <th>singer_code</th>\n",
       "      <th>song_name</th>\n",
       "    </tr>\n",
       "  </thead>\n",
       "  <tbody>\n",
       "    <tr>\n",
       "      <th>0</th>\n",
       "      <td>0</td>\n",
       "      <td>singer_a</td>\n",
       "      <td>2</td>\n",
       "      <td>song_f</td>\n",
       "    </tr>\n",
       "    <tr>\n",
       "      <th>1</th>\n",
       "      <td>1</td>\n",
       "      <td>singer_b</td>\n",
       "      <td>2</td>\n",
       "      <td>song_g</td>\n",
       "    </tr>\n",
       "    <tr>\n",
       "      <th>2</th>\n",
       "      <td>2</td>\n",
       "      <td>singer_c</td>\n",
       "      <td>3</td>\n",
       "      <td>song_h</td>\n",
       "    </tr>\n",
       "    <tr>\n",
       "      <th>3</th>\n",
       "      <td>3</td>\n",
       "      <td>singer_d</td>\n",
       "      <td>4</td>\n",
       "      <td>song_i</td>\n",
       "    </tr>\n",
       "    <tr>\n",
       "      <th>4</th>\n",
       "      <td>4</td>\n",
       "      <td>singer_e</td>\n",
       "      <td>5</td>\n",
       "      <td>song_j</td>\n",
       "    </tr>\n",
       "  </tbody>\n",
       "</table>\n",
       "</div>"
      ],
      "text/plain": [
       "   singer_code singer_name  singer_code song_name\n",
       "0            0    singer_a            2    song_f\n",
       "1            1    singer_b            2    song_g\n",
       "2            2    singer_c            3    song_h\n",
       "3            3    singer_d            4    song_i\n",
       "4            4    singer_e            5    song_j"
      ]
     },
     "execution_count": 54,
     "metadata": {},
     "output_type": "execute_result"
    }
   ],
   "source": [
    "# concat horizontally\n",
    "pd.concat([singers, songs], axis=1)"
   ]
  },
  {
   "cell_type": "markdown",
   "metadata": {},
   "source": [
    "When computing descriptive statistic, we usually need to aggregate data by each group. For example, to anwser the question \"how many songs each singer has?\", we have to group data by each singer, and then calculate the number of songs in each group. Not that the result must contain the statistic of all singers in database (even if some of them have no song)"
   ]
  },
  {
   "cell_type": "code",
   "execution_count": 55,
   "metadata": {
    "collapsed": false
   },
   "outputs": [
    {
     "name": "stdout",
     "output_type": "stream",
     "text": [
      "             singer_name  song_name\n",
      "singer_code                        \n",
      "0                      1          0\n",
      "1                      1          0\n",
      "2                      2          2\n",
      "3                      1          1\n",
      "4                      1          1\n",
      "\n",
      "\n",
      "singer_code\n",
      "0    0\n",
      "1    0\n",
      "2    2\n",
      "3    1\n",
      "4    1\n",
      "Name: song_name, dtype: int64\n",
      "\n",
      "\n",
      "singer_code\n",
      "0    0\n",
      "1    0\n",
      "3    1\n",
      "4    1\n",
      "2    2\n",
      "Name: song_name, dtype: int64\n"
     ]
    }
   ],
   "source": [
    "data = pd.merge(singers, songs, on='singer_code', how='left')\n",
    "\n",
    "# count the values of each column in group\n",
    "print(data.groupby('singer_code').count())\n",
    "\n",
    "print(\"\\n\")\n",
    "\n",
    "# count only song_name\n",
    "print(data.groupby('singer_code').song_name.count())\n",
    "\n",
    "print(\"\\n\")\n",
    "\n",
    "# count song name but ignore duplication, and order the result\n",
    "print(data.groupby('singer_code').song_name.nunique().sort_values(ascending=True))"
   ]
  },
  {
   "cell_type": "markdown",
   "metadata": {},
   "source": [
    "![](https://farm2.staticflickr.com/1604/24934700445_833f0a5649_t.jpg)"
   ]
  },
  {
   "cell_type": "markdown",
   "metadata": {},
   "source": [
    "<div class='anchor' ></div>\n",
    "\n",
    "\n",
    "### Question 4\n",
    "\n",
    "We have two datasets about music: [song](https://github.com/michiard/AML-COURSE/blob/master/data/song.tsv) and [album](https://github.com/michiard/AML-COURSE/blob/master/data/album.tsv).\n",
    "\n",
    "In the following questions, you **have to** use Pandas to load data and write code to answer these questions.\n",
    "\n",
    "#### Question 4.1\n",
    "Load both dataset into two dataframes and print the information of each dataframe\n",
    "\n",
    "**HINT**: \n",
    "\n",
    "- You can click button `Raw` on the github page of each dataset and copy the URL of the raw file.\n",
    "- The dataset can be load by using function `read_table`. For example: `df = pd.read_table(raw_url, sep='\\t')`"
   ]
  },
  {
   "cell_type": "markdown",
   "metadata": {},
   "source": [
    "```python\n",
    "import pandas as pd\n",
    "\n",
    "songdb_url = 'https://raw.githubusercontent.com/DistributedSystemsGroup/Algorithmic-Machine-Learning/master/data/song.tsv'\n",
    "albumdb_url = 'https://raw.githubusercontent.com/DistributedSystemsGroup/Algorithmic-Machine-Learning/master/data/album.tsv'\n",
    "song_df = pd...\n",
    "album_df = pd...\n",
    "\n",
    "print(song_df...)\n",
    "print(album_df...)\n",
    "```"
   ]
  },
  {
   "cell_type": "code",
   "execution_count": 26,
   "metadata": {
    "collapsed": false
   },
   "outputs": [
    {
     "name": "stdout",
     "output_type": "stream",
     "text": [
      "<class 'pandas.core.frame.DataFrame'>\n",
      "Int64Index: 10 entries, 0 to 9\n",
      "Data columns (total 4 columns):\n",
      "Singer    10 non-null object\n",
      "Song      10 non-null object\n",
      "Album     9 non-null float64\n",
      "Length    10 non-null object\n",
      "dtypes: float64(1), object(3)\n",
      "memory usage: 400.0+ bytes\n",
      "None\n",
      "<class 'pandas.core.frame.DataFrame'>\n",
      "Int64Index: 7 entries, 0 to 6\n",
      "Data columns (total 3 columns):\n",
      "Album code    7 non-null int64\n",
      "Album name    7 non-null object\n",
      "Year          7 non-null int64\n",
      "dtypes: int64(2), object(1)\n",
      "memory usage: 224.0+ bytes\n",
      "None\n"
     ]
    }
   ],
   "source": [
    "####!@SOLUTION@!####\n",
    "import pandas as pd\n",
    "\n",
    "songdb_url = 'https://raw.githubusercontent.com/DistributedSystemsGroup/Algorithmic-Machine-Learning/master/data/song.tsv'\n",
    "albumdb_url = 'https://raw.githubusercontent.com/DistributedSystemsGroup/Algorithmic-Machine-Learning/master/data/album.tsv'\n",
    "song_df = pd.read_table(songdb_url, sep='\\t')\n",
    "album_df = pd.read_table(albumdb_url, sep='\\t')\n",
    "pd.read\n",
    "print(song_df.info())\n",
    "print(album_df.info())"
   ]
  },
  {
   "cell_type": "markdown",
   "metadata": {},
   "source": [
    "<div class='anchor' ></div>\n",
    "\n",
    "#### Question 4.2\n",
    "How many albums in this datasets ?\n",
    "\n",
    "How many songs in this datasets ?"
   ]
  },
  {
   "cell_type": "markdown",
   "metadata": {},
   "source": [
    "```python\n",
    "print(\"number of albums:\", album_df....count())\n",
    "print(\"number of songs:\", song_df.Song...)\n",
    "```"
   ]
  },
  {
   "cell_type": "code",
   "execution_count": 57,
   "metadata": {
    "collapsed": false
   },
   "outputs": [
    {
     "name": "stdout",
     "output_type": "stream",
     "text": [
      "number of albums: 7\n",
      "number of songs: 10\n"
     ]
    }
   ],
   "source": [
    "####!@SOLUTION@!####\n",
    "print(\"number of albums:\", album_df['Album name'].count())\n",
    "print(\"number of songs:\", song_df.Song.count())"
   ]
  },
  {
   "cell_type": "markdown",
   "metadata": {},
   "source": [
    "<div class='anchor' ></div>\n",
    "#### Question 4.3\n",
    "How many distinct singers in this dataset ?"
   ]
  },
  {
   "cell_type": "markdown",
   "metadata": {},
   "source": [
    "```python\n",
    "print(\"number distinct singers:\", len(...))\n",
    "```"
   ]
  },
  {
   "cell_type": "code",
   "execution_count": 58,
   "metadata": {
    "collapsed": false
   },
   "outputs": [
    {
     "name": "stdout",
     "output_type": "stream",
     "text": [
      "number distinct singers: 2\n"
     ]
    }
   ],
   "source": [
    "####!@SOLUTION@!####\n",
    "print(\"number distinct singers:\", len(song_df.Singer.unique()))"
   ]
  },
  {
   "cell_type": "markdown",
   "metadata": {},
   "source": [
    "<div class='anchor' ></div>\n",
    "#### Question 4.4\n",
    "Is there any song that doesn't belong to any album ?\n",
    "\n",
    "Is there any album that has no song ?\n",
    "\n",
    "**HINT**: \n",
    "\n",
    "- To join two datasets on different key names, we use `left_on=` and `right_on=` instead of `on=`.\n",
    "- Funtion `notnull` and `isnull` help determining the value of a column is missing or not. For example:\n",
    "`df['song'].isnull()`."
   ]
  },
  {
   "cell_type": "markdown",
   "metadata": {},
   "source": [
    "```python\n",
    "fulldf = pd.merge(song_df, album_df, how='outer', left_on='Album', right_on='Album code')\n",
    "fulldf[fulldf['Song'].... & fulldf['Album']....]\n",
    "```"
   ]
  },
  {
   "cell_type": "markdown",
   "metadata": {},
   "source": [
    "```python\n",
    "fulldf[fulldf['Song'].... & fulldf['Album code']....]\n",
    "```"
   ]
  },
  {
   "cell_type": "code",
   "execution_count": 59,
   "metadata": {
    "collapsed": false
   },
   "outputs": [
    {
     "data": {
      "text/html": [
       "<div>\n",
       "<table border=\"1\" class=\"dataframe\">\n",
       "  <thead>\n",
       "    <tr style=\"text-align: right;\">\n",
       "      <th></th>\n",
       "      <th>Singer</th>\n",
       "      <th>Song</th>\n",
       "      <th>Album</th>\n",
       "      <th>Length</th>\n",
       "      <th>Album code</th>\n",
       "      <th>Album name</th>\n",
       "      <th>Year</th>\n",
       "    </tr>\n",
       "  </thead>\n",
       "  <tbody>\n",
       "    <tr>\n",
       "      <th>9</th>\n",
       "      <td>Michael Jackson</td>\n",
       "      <td>What More Can I Give</td>\n",
       "      <td>NaN</td>\n",
       "      <td>3:36</td>\n",
       "      <td>NaN</td>\n",
       "      <td>NaN</td>\n",
       "      <td>NaN</td>\n",
       "    </tr>\n",
       "  </tbody>\n",
       "</table>\n",
       "</div>"
      ],
      "text/plain": [
       "            Singer                  Song  Album Length  Album code Album name  \\\n",
       "9  Michael Jackson  What More Can I Give    NaN   3:36         NaN        NaN   \n",
       "\n",
       "   Year  \n",
       "9   NaN  "
      ]
     },
     "execution_count": 59,
     "metadata": {},
     "output_type": "execute_result"
    }
   ],
   "source": [
    "####!@SOLUTION@!####\n",
    "fulldf = pd.merge(song_df, album_df, how='outer', left_on='Album', right_on='Album code')\n",
    "fulldf[fulldf['Song'].notnull() & fulldf['Album'].isnull()]"
   ]
  },
  {
   "cell_type": "code",
   "execution_count": 60,
   "metadata": {
    "collapsed": false
   },
   "outputs": [
    {
     "data": {
      "text/html": [
       "<div>\n",
       "<table border=\"1\" class=\"dataframe\">\n",
       "  <thead>\n",
       "    <tr style=\"text-align: right;\">\n",
       "      <th></th>\n",
       "      <th>Singer</th>\n",
       "      <th>Song</th>\n",
       "      <th>Album</th>\n",
       "      <th>Length</th>\n",
       "      <th>Album code</th>\n",
       "      <th>Album name</th>\n",
       "      <th>Year</th>\n",
       "    </tr>\n",
       "  </thead>\n",
       "  <tbody>\n",
       "    <tr>\n",
       "      <th>10</th>\n",
       "      <td>NaN</td>\n",
       "      <td>NaN</td>\n",
       "      <td>NaN</td>\n",
       "      <td>NaN</td>\n",
       "      <td>3</td>\n",
       "      <td>Bad</td>\n",
       "      <td>1986</td>\n",
       "    </tr>\n",
       "  </tbody>\n",
       "</table>\n",
       "</div>"
      ],
      "text/plain": [
       "   Singer Song  Album Length  Album code Album name  Year\n",
       "10    NaN  NaN    NaN    NaN           3        Bad  1986"
      ]
     },
     "execution_count": 60,
     "metadata": {},
     "output_type": "execute_result"
    }
   ],
   "source": [
    "####!@SOLUTION@!####\n",
    "fulldf[fulldf['Song'].isnull() & fulldf['Album code'].notnull()]"
   ]
  },
  {
   "cell_type": "markdown",
   "metadata": {},
   "source": [
    "<div class='anchor' ></div>\n",
    "\n",
    "#### Question 4.5\n",
    "How many songs in each albums of Michael Jackson ?"
   ]
  },
  {
   "cell_type": "markdown",
   "metadata": {},
   "source": [
    "```python\n",
    "\n",
    "# Try thinking like as for map reduce word count!!\n",
    "\n",
    "fulldf[fulldf['Singer']=='Michael Jackson']....\n",
    "```"
   ]
  },
  {
   "cell_type": "code",
   "execution_count": 61,
   "metadata": {
    "collapsed": false
   },
   "outputs": [
    {
     "data": {
      "text/plain": [
       "Album  Album name                               \n",
       "1      HIStory: Past, Present and Future, Book I    1\n",
       "2      Invincible                                   3\n",
       "4      Thriller                                     2\n",
       "Name: Song, dtype: int64"
      ]
     },
     "execution_count": 61,
     "metadata": {},
     "output_type": "execute_result"
    }
   ],
   "source": [
    "####!@SOLUTION@!####\n",
    "\n",
    "# Try thinking like as for map reduce word count!!\n",
    "fulldf[fulldf['Singer']=='Michael Jackson'].groupby(['Album', 'Album name'])['Song'].count()\n"
   ]
  },
  {
   "cell_type": "markdown",
   "metadata": {},
   "source": [
    "# 3. PySpark\n",
    "\n",
    "Spark is an alternative framework to Hadoop MapReduce, designed to make it easier and quicker to build and run distributed data manipulation algorithms. Spark comes with a library for machine learning (MLLib) and graph algorithms, and also supports real-time streaming and SQL syntax, via Spark Streaming and SparkSQL, respectively. Spark exposes the Spark programming model to Java, Scala, or Python. In Python, we use the PySpark API to interact with Spark.\n",
    "\n",
    "As discussed in the introductory lecture, every Spark application has a Spark driver. It is the program that declares the transformations and actions on RDDs of data and submits such requests to the cluster manager. Actually, the driver is the program that creates the `SparkContext`, connecting to a given cluster manager such as  Spark Master, YARN or others. The executors run user code, run computations and can cache data for your application. The `SparkContext` will create a job that is broken into stages. The stages are broken into tasks which are scheduled by the SparkContext on an executor.\n",
    "\n",
    "When starting PySpark with command `pyspark` or using a well configured notebook (such as this one), `SparkContext` is created automatically in variable `sc`. \n"
   ]
  },
  {
   "cell_type": "code",
   "execution_count": 1,
   "metadata": {
    "collapsed": false
   },
   "outputs": [
    {
     "data": {
      "text/plain": [
       "<pyspark.context.SparkContext at 0x7f1e74109710>"
      ]
     },
     "execution_count": 1,
     "metadata": {},
     "output_type": "execute_result"
    }
   ],
   "source": [
    "sc"
   ]
  },
  {
   "cell_type": "markdown",
   "metadata": {},
   "source": [
    "PySpark uses PySpark RDDs which  are just RDDs of Python objects: like Python lists, they can store objects with mixed types (actually all the objects are instances of `PyObject`).\n",
    "\n",
    "When PySpark is started, it also starts a JVM, which is accessible through a socket. PySpark uses `Py4J` to handle this communication. The JVM works as the actual Spark driver, and loads a `JavaSparkContext` that communicates with the Spark executors across the cluster. Python API calls to the Spark Context object are then **translated into Java API calls** to the JavaSparkContext. For example, the implementation of PySpark's `sc.textFile()` dispatches a call to the `.textFile` method of the `JavaSparkContext`, which ultimately communicates with the Spark executor JVMs to load the text data from HDFS. \n",
    "\n",
    "![](http://i.imgur.com/YlI8AqEl.png)\n",
    "\n",
    "The Spark executors on the cluster start a Python interpreter for each core, with which they communicate data through a pipe when they need to execute user-code. A Python RDD in the local PySpark client corresponds to a `PythonRDD` object in the local JVM. The data associated with the RDD actually lives in the Spark JVMs as Java objects. For example, running `sc.textFile()` in the Python interpreter will call the `JavaSparkContexts` `textFile` method, which loads the data as Java String objects in the cluster.\n",
    "\n",
    "\n",
    "When an API call is made on the `PythonRDD`, any associated code (e.g., Python lambda function) **is serialized and distributed to the executors**. The data is then converted from Java objects to a Python-compatible representation (e.g., pickle objects) and streamed to executor-associated Python interpreters through a pipe. Any necessary Python processing is executed in the interpreter, and the resulting data is stored back as an RDD (as pickle objects by default) in the JVMs. \n"
   ]
  },
  {
   "cell_type": "markdown",
   "metadata": {},
   "source": [
    "The data is read easily by using functions of Spark Context. For example, to read a text file and count the number of lines, we can write:\n"
   ]
  },
  {
   "cell_type": "code",
   "execution_count": 2,
   "metadata": {
    "collapsed": false
   },
   "outputs": [
    {
     "name": "stdout",
     "output_type": "stream",
     "text": [
      "the number of lines in file 745613\n"
     ]
    }
   ],
   "source": [
    "# each line is stored as an element in 'words' - a PythonRDD.\n",
    "words = sc.textFile(\"/datasets/gutenberg/gutenberg_tiny.txt\")\n",
    "num_lines = words.count()\n",
    "print(\"the number of lines in file\", num_lines)"
   ]
  },
  {
   "cell_type": "markdown",
   "metadata": {},
   "source": [
    "## 3.1. Wordcount example\n",
    "In the example below, we are interested in the top-10 words in terms of frequency of occurrence. To do so, we use a small text file as an input, and we wish to plot the term frequency of such top-10 words using Matplotlib.\n",
    "\n",
    "First, using the method `textFile` from the SparkContext `sc`, we create a RDD of strings. Each string in the RDD is representative for a line in the text file. In a loose way, we can think the first RDD is a RDD of lines. \n",
    "\n",
    "Because we work on the scope of words, we have to transform **a line** of the current RDD into **multiple words**, each word is an object of the new RDD. This is done by using `flatMap` function. \n",
    "\n",
    "Then, a `map` function transforms **each word** in the RDD into **a single** tuple with 2 components: the word itselft and the count of 1. As you might have guessed, this is a PairRDD, where each object is a key-value pair. \n",
    "\n",
    "We can take advantage of function `reduceByKey` to sum all frequencies of the same word. Now, each element in the RDD is in the form of: (word, total_frequency). To sort the words by frequency of occurrrence, we can use many approaches. One of the simplest approach is swap each tuple such that the frequency becomes the key, and use the `sortByKey` function."
   ]
  },
  {
   "cell_type": "code",
   "execution_count": 3,
   "metadata": {
    "collapsed": false
   },
   "outputs": [],
   "source": [
    "words = (\n",
    "            # read the text file\n",
    "            sc.textFile(\"/datasets/gutenberg/gutenberg_tiny.txt\")\n",
    "            \n",
    "            # construct words from lines\n",
    "            .flatMap(lambda line: line.split())\n",
    "            \n",
    "            # map each word to (word, 1)\n",
    "            .map(lambda x: (x, 1))\n",
    "    \n",
    "            # reduce by key: accumulate sum the freq of the same word\n",
    "            .reduceByKey(lambda freq1, freq2: freq1 + freq2)\n",
    "            \n",
    "            # swap (word, freq) to (freq, word)\n",
    "            .map(lambda x: (x[1], x[0]))\n",
    "    \n",
    "            # sort result by key DESC\n",
    "            .sortByKey(False)\n",
    "         )"
   ]
  },
  {
   "cell_type": "markdown",
   "metadata": {},
   "source": [
    "Now the top-10 words are collected and sent back to the driver by using function `take`."
   ]
  },
  {
   "cell_type": "code",
   "execution_count": 4,
   "metadata": {
    "collapsed": false
   },
   "outputs": [
    {
     "name": "stdout",
     "output_type": "stream",
     "text": [
      "[(247409, 'the'), (139696, 'of'), (132555, 'and'), (116905, 'to'), (101336, 'a'), (80870, 'I'), (73005, 'in'), (49093, 'that'), (42440, 'with'), (42264, 'you')]\n"
     ]
    }
   ],
   "source": [
    "# top 10 words:\n",
    "top10 = words.take(10)\n",
    "print(top10)"
   ]
  },
  {
   "cell_type": "markdown",
   "metadata": {},
   "source": [
    "The action `collect` gathers all elements of the RDD (that reside on multiple machines) to the driver (which is running in a single machine), and cast it as a list.\n",
    "\n",
    "**ATTENTION** collecting an RDD in the driver can be problematic: indeed, an RDD can be very big in size (this is why they are distributed across several machines in the first place!) and thus it could deplete the RAM available in the machine running the driver!"
   ]
  },
  {
   "cell_type": "code",
   "execution_count": 5,
   "metadata": {
    "collapsed": false
   },
   "outputs": [],
   "source": [
    "# collect results from executors to the driver\n",
    "# results = words.collect()\n",
    "# If you want to have a look at the results, don't print them all, for otherwise the notebook size will be too big"
   ]
  },
  {
   "cell_type": "markdown",
   "metadata": {},
   "source": [
    "Recall that there are two kinds of functions in Spark: **transformations** and **actions**. All functions `map`, `flatMap`, `reduceByKey`, `sortByKey` are transformation functions. They are not executed right away when called. Indeed, Spark is lazyily evaluated, so nothing gets executed unless the driver invokes actions such as `count`, `take`, `collect`...\n",
    "\n",
    "RDD transformations allow us to create dependencies between RDDs. Each RDD in the lineage chain (string of dependencies) has a function for calculating its data and has a pointer (dependency) to its parent RDD. Everytime we use an RDD, dependencies are computed again from the beginning, which can be costly. Fortunatly, we can use the function `cache` to instruct Spark to checkpoint in RAM (but eventually also on disk) a particular RDD."
   ]
  },
  {
   "cell_type": "markdown",
   "metadata": {},
   "source": [
    "Let's now use the previous results from the execution of our simple Spark word count job, to plot word frequency information."
   ]
  },
  {
   "cell_type": "code",
   "execution_count": 6,
   "metadata": {
    "collapsed": false
   },
   "outputs": [
    {
     "data": {
      "image/png": "[encoded data removed]",
      "text/plain": [
       "<matplotlib.figure.Figure at 0x7f1e5c3969e8>"
      ]
     },
     "metadata": {},
     "output_type": "display_data"
    }
   ],
   "source": [
    "%matplotlib inline\n",
    "import matplotlib.pyplot as plt\n",
    "\n",
    "# extract the frequencies from the result\n",
    "frequencies = [x[0] for x in top10]\n",
    "\n",
    "# plot the frequencies\n",
    "plt.plot(frequencies)\n",
    "plt.show()"
   ]
  },
  {
   "cell_type": "markdown",
   "metadata": {},
   "source": [
    "## 3.2. Night flights example\n",
    "We have a CSV file which contains the information about flights that took place in the US in 1994.\n",
    "The data in this file has 29 columns such as `year`, `month`, `day_of_month`, `scheduled_departure_time`,...\n",
    "We can have a quick look on the data:"
   ]
  },
  {
   "cell_type": "code",
   "execution_count": 7,
   "metadata": {
    "collapsed": false
   },
   "outputs": [
    {
     "name": "stdout",
     "output_type": "stream",
     "text": [
      "Year,Month,DayofMonth,DayOfWeek,DepTime,CRSDepTime,ArrTime,CRSArrTime,UniqueCarrier,FlightNum,TailNum,ActualElapsedTime,CRSElapsedTime,AirTime,ArrDelay,DepDelay,Origin,Dest,Distance,TaxiIn,TaxiOut,Cancelled,CancellationCode,Diverted,CarrierDelay,WeatherDelay,NASDelay,SecurityDelay,LateAircraftDelay\r\n",
      "1994,1,7,5,858,900,954,1003,US,227,NA,56,63,NA,-9,-2,CLT,ORF,290,NA,NA,0,NA,0,NA,NA,NA,NA,NA\r\n",
      "1994,1,8,6,859,900,952,1003,US,227,NA,53,63,NA,-11,-1,CLT,ORF,290,NA,NA,0,NA,0,NA,NA,NA,NA,NA\r\n",
      "1994,1,10,1,935,900,1023,1003,US,227,NA,48,63,NA,20,35,CLT,ORF,290,NA,NA,0,NA,0,NA,NA,NA,NA,NA\r\n",
      "1994,1,11,2,903,900,1131,1003,US,227,NA,148,63,NA,88,3,CLT,ORF,290,NA,NA,0,NA,0,NA,NA,NA,NA,NA\r\n",
      "1994,1,12,3,933,900,1024,1003,US,227,NA,51,63,NA,21,33,CLT,ORF,290,NA,NA,0,NA,0,NA,NA,NA,NA,NA\r\n",
      "1994,1,13,4,NA,900,NA,1003,US,227,NA,NA,63,NA,NA,NA,CLT,ORF,290,NA,NA,1,NA,0,NA,NA,NA,NA,NA\r\n",
      "1994,1,14,5,903,900,1005,1003,US,227,NA,62,63,NA,2,3,CLT,ORF,290,NA,NA,0,NA,0,NA,NA,NA,NA,NA\r\n",
      "1994,1,15,6,859,900,1004,1003,US,227,NA,65,63,NA,1,-1,CLT,ORF,290,NA,NA,0,NA,0,NA,NA,NA,NA,NA\r\n",
      "1994,1,17,1,859,900,955,1003,US,227,NA,56,63,NA,-8,-1,CLT,ORF,290,NA,NA,0,NA,0,NA,NA,NA,NA,NA\r\n",
      "cat: Unable to write to output stream.\r\n"
     ]
    }
   ],
   "source": [
    "! hdfs dfs -cat /datasets/airline/1994.csv | head -n 10"
   ]
  },
  {
   "cell_type": "markdown",
   "metadata": {},
   "source": [
    "In this simple example, we are interested only in columns: `CRSDepTime` (scheduled departure time) and `UniqueCarrier` (carrier identifier). The values of `CRSDepTime` are expressed in the format: hhmm (hour-minute).\n",
    "Assume that a flight is considered as a 'night flight' if its scheduled departured time `CRSDepTime` is later than 18:00.\n",
    "\n",
    "Questions:\n",
    "\n",
    "- How many night flights do we have in our data ?\n",
    "- How many night flights per unique carrier ? Plot the top-5 of them, in terms of volume\n",
    "\n",
    "First, we read the data and remove the header. Then, from the lines, we extract the information of scheduled departure time and carrier."
   ]
  },
  {
   "cell_type": "code",
   "execution_count": 16,
   "metadata": {
    "collapsed": false
   },
   "outputs": [],
   "source": [
    "# read the data\n",
    "data = sc.textFile('/datasets/airline/1994.csv')\n",
    "\n",
    "# extract information about scheduled departure time and carrier\n",
    "# note that the scheduled time must be convert from string to interger number\n",
    "def extract_CRSDepTime_Carier(line):\n",
    "    cols = line.split(\",\")\n",
    "    return (int(cols[5]), cols[8])\n",
    "\n",
    "header = data.first()\n",
    "\n",
    "# remove header\n",
    "data_without_header = data.filter(lambda line: line != header)\n",
    "\n",
    "# create a new RDD with only scheduled departure time and carrier information\n",
    "# cache it for later usage\n",
    "newdata = (\n",
    "            data_without_header\n",
    "               .map(extract_CRSDepTime_Carier)\n",
    "               .cache()\n",
    "          )\n"
   ]
  },
  {
   "cell_type": "markdown",
   "metadata": {},
   "source": [
    "Function `filter` helps us select only the objects that satisfy a condition. In this case, it creates a new RDD by filtering out the header. We can also use it to select the night flights."
   ]
  },
  {
   "cell_type": "code",
   "execution_count": 17,
   "metadata": {
    "collapsed": false
   },
   "outputs": [
    {
     "data": {
      "text/plain": [
       "[(2030, 'US'), (2030, 'US'), (2030, 'US')]"
      ]
     },
     "execution_count": 17,
     "metadata": {},
     "output_type": "execute_result"
    }
   ],
   "source": [
    "night_flights = newdata.filter(lambda f: f[0] > 1800).cache()\n",
    "night_flights.take(3)"
   ]
  },
  {
   "cell_type": "markdown",
   "metadata": {},
   "source": [
    "We use `cache` because we dont want to recalculate `night_flights` from the beginning everytime of using it."
   ]
  },
  {
   "cell_type": "code",
   "execution_count": 18,
   "metadata": {
    "collapsed": false
   },
   "outputs": [
    {
     "name": "stdout",
     "output_type": "stream",
     "text": [
      "1078203\n"
     ]
    }
   ],
   "source": [
    "# filter and count the night flights\n",
    "num_night_flights = night_flights.count()\n",
    "print(num_night_flights)"
   ]
  },
  {
   "cell_type": "code",
   "execution_count": 24,
   "metadata": {
    "collapsed": false
   },
   "outputs": [
    {
     "name": "stdout",
     "output_type": "stream",
     "text": [
      "[('DL', 208224), ('US', 170397), ('AA', 142832), ('WN', 124024), ('UA', 113640)]\n"
     ]
    }
   ],
   "source": [
    "# group by carrier\n",
    "night_flights_by_carrier = night_flights.groupBy(lambda x: x[1]).mapValues(lambda flights: len(flights))\n",
    "\n",
    "# take top 5 carriers\n",
    "top5_carriers = night_flights_by_carrier.takeOrdered(5, key=lambda x: -x[1])\n",
    "\n",
    "print(top5_carriers)"
   ]
  },
  {
   "cell_type": "markdown",
   "metadata": {},
   "source": [
    "We use `groupBy` to cluster flights which belong to the same carrier into a group. In this example, to select the top-5 carriers, we use a method based on the function `takeOrder`. This function takes the top-`k` objects ordered by an index: the trick is that we instruct it to use the cumulative counts as the key.\n",
    "\n",
    "Let's plot a bar chart using Matplotlib. To draw a bar chart, we use function `bar` which requires two parameters. Each parameter is a list of float values in each dimension."
   ]
  },
  {
   "cell_type": "code",
   "execution_count": 12,
   "metadata": {
    "collapsed": false
   },
   "outputs": [
    {
     "data": {
      "image/png": "[encoded data removed]",
      "text/plain": [
       "<matplotlib.figure.Figure at 0x7f1e51c86588>"
      ]
     },
     "metadata": {},
     "output_type": "display_data"
    }
   ],
   "source": [
    "%matplotlib inline\n",
    "import matplotlib.pyplot as plt\n",
    "\n",
    "# extract the number of flights which will be used as y-values\n",
    "num_flights = [ x[1] for x in top5_carriers]\n",
    "\n",
    "# extract the carriers' names\n",
    "carrier_names = [x[0] for x in top5_carriers]\n",
    "\n",
    "# create `virtual indexes for carriers which will be used as x-values`\n",
    "carrier_indexes = range(0, len(carrier_names))\n",
    "\n",
    "# plot\n",
    "plt.bar(carrier_indexes, num_flights, align=\"center\")\n",
    "\n",
    "# put x-labels for the plot\n",
    "plt.xticks(carrier_indexes, carrier_names)\n",
    "plt.show()"
   ]
  },
  {
   "cell_type": "markdown",
   "metadata": {},
   "source": [
    "![](https://farm2.staticflickr.com/1604/24934700445_833f0a5649_t.jpg)"
   ]
  },
  {
   "cell_type": "markdown",
   "metadata": {},
   "source": [
    "<div class='anchor' ></div>\n",
    "\n",
    "\n",
    "## Question 5\n",
    "\n",
    "\n",
    "### Question 5.1\n",
    "Compute how many flights have a scheduled departure time later than 09:00 and before 14:00."
   ]
  },
  {
   "cell_type": "markdown",
   "metadata": {},
   "source": [
    "```python\n",
    "# read the data\n",
    "data = sc.textFile('/datasets/airline/1994.csv')\n",
    "\n",
    "# extract information about scheduled departure time and carrier\n",
    "# note that the scheduled time must be convert from string to interger number\n",
    "def extract_CRSDepTime_Carier(line):\n",
    "    ...\n",
    "    ...\n",
    "    return (int(cols[5]), cols[16])\n",
    "\n",
    "header = data.first()\n",
    "\n",
    "# remove header\n",
    "data_without_header = data.filter(...)\n",
    "\n",
    "# create RDD with only scheduled departure time and carrier information\n",
    "# cache it for later usages\n",
    "newdata = (\n",
    "            data_without_header\n",
    "               .map(extract_CRSDepTime_Carier)\n",
    "               ...\n",
    "          )\n",
    "\n",
    "flights = newdata.filter(...).cache()\n",
    "\n",
    "print(flights.count())\n",
    "```"
   ]
  },
  {
   "cell_type": "code",
   "execution_count": 13,
   "metadata": {
    "collapsed": false
   },
   "outputs": [
    {
     "name": "stdout",
     "output_type": "stream",
     "text": [
      "1625828\n"
     ]
    }
   ],
   "source": [
    "####!@SOLUTION@!####\n",
    "\n",
    "# read the data\n",
    "data = sc.textFile('/datasets/airline/1994.csv')\n",
    "\n",
    "# extract information about scheduled departure time and carrier\n",
    "# note that the scheduled time must be convert from string to interger number\n",
    "def extract_CRSDepTime_Carier(line):\n",
    "    cols = line.split(\",\")\n",
    "    return (int(cols[5]), cols[16])\n",
    "\n",
    "header = data.first()\n",
    "\n",
    "# remove header\n",
    "data_without_header = data.filter(lambda line: line != header)\n",
    "\n",
    "# screate RDD with only scheduled departure time and carrier information\n",
    "# cache it for later usages\n",
    "newdata = (\n",
    "            data_without_header\n",
    "               .map(extract_CRSDepTime_Carier)\n",
    "               .cache()\n",
    "          )\n",
    "\n",
    "flights = newdata.filter(lambda f: f[0] > 900 and f[0] < 1400).cache()\n",
    "\n",
    "print(flights.count())"
   ]
  },
  {
   "cell_type": "markdown",
   "metadata": {},
   "source": [
    "<div class='anchor' ></div>\n",
    "### Question 5.2\n",
    "Compute the cumulative number flights that have a scheduled departure time after 09:00 and before 14:00, for each source airport (origin). Plot the top-5 of such airports."
   ]
  },
  {
   "cell_type": "markdown",
   "metadata": {},
   "source": [
    "```python\n",
    "flights_per_carrier = flights.groupBy(...).mapValues(...)\n",
    "\n",
    "# take top 5 source airports\n",
    "top5_source_airport = flights_per_carrier.takeOrdered(...)\n",
    "\n",
    "%matplotlib inline\n",
    "import matplotlib.pyplot as plt\n",
    "\n",
    "# extract the number of flights which will be used as y-values\n",
    "# This is called list comprehension\n",
    "num_flights = [ x[1] for x in top5_source_airport]\n",
    "\n",
    "# create `virtual indexes for carriers which will be used as x-values`\n",
    "airport_indexes = range(0, len(top5_source_airport))\n",
    "\n",
    "# plot\n",
    "plt.bar(airport_indexes, num_flights, align=\"center\")\n",
    "\n",
    "# extract the carriers' names\n",
    "airport_names = [ x[0] for x in top5_source_airport]\n",
    "\n",
    "# put x-labels for the plot\n",
    "plt.xticks(airport_indexes, airport_names)\n",
    "plt.show()\n",
    "```"
   ]
  },
  {
   "cell_type": "code",
   "execution_count": 14,
   "metadata": {
    "collapsed": false
   },
   "outputs": [
    {
     "data": {
      "image/png": "[encoded data removed]",
      "text/plain": [
       "<matplotlib.figure.Figure at 0x7f1e517917b8>"
      ]
     },
     "metadata": {},
     "output_type": "display_data"
    }
   ],
   "source": [
    "####!@SOLUTION@!####\n",
    "\n",
    "flights_per_carrier = flights.groupBy(lambda x: x[1]).mapValues(lambda flights: len(flights))\n",
    "# take top 5 source airports\n",
    "top5_source_airport = flights_per_carrier.takeOrdered(5, key=lambda x: -x[1])\n",
    "\n",
    "%matplotlib inline\n",
    "import matplotlib.pyplot as plt\n",
    "\n",
    "# extract the number of flights which will be used as y-values\n",
    "num_flights = [ x[1] for x in top5_source_airport]\n",
    "\n",
    "# create `virtual indexes for carriers which will be used as x-values`\n",
    "airport_indexes = range(0, len(top5_source_airport))\n",
    "\n",
    "# plot\n",
    "plt.bar(airport_indexes, num_flights, align=\"center\")\n",
    "\n",
    "# extract the carriers' names\n",
    "airport_names = [ x[0] for x in top5_source_airport]\n",
    "\n",
    "# put x-labels for the plot\n",
    "plt.xticks(airport_indexes, airport_names)\n",
    "plt.show()"
   ]
  },
  {
   "cell_type": "markdown",
   "metadata": {},
   "source": [
    "# 4. Spark SQL and DataFrames\n",
    "\n",
    "One of the main features we suggest to use when analyzing data with Spark is `Spark SQL` - a module for structured data processing. Unlike the basic Spark RDD API, the interfaces provided by Spark SQL enriches Spark with more information about the structure of both the data and the computation being performed. Internally, this extra information is used to perform extra optimizations. There are several ways to interact with Spark SQL including SQL, the DataFrames API and the Datasets API. In this course, we mainly focus on `DataFrame API`. \n",
    "\n",
    "A `DataFrame` is a distributed collection of data organized into named columns. It is based on the data frame concept in R language or in Pandas. So, it is similar to a database table in a relational database.\n",
    "\n",
    "`DataFrames` can be constructed from a wide array of sources such as: structured data files, tables in Hive, external databases, or existing RDDs.\n",
    "\n",
    "During the labs in this course, we will mainly work with CSV data files. So, in the next sections, we only focus on constructing dataframes from structured data files directly and from existing RDD.\n",
    "\n",
    "## 4.1. Constructing a DataFrame directly from structured data file\n",
    "\n",
    "To construct DataFrame from a structured file directly, the file type must be supported. Currently, Spark supports  csv, json, avro and many more.\n",
    "Among these types, the csv type is one of the most popular in data analytic. A DataFrame is constructed from csv files by using the package `spark-csv` from Databrick."
   ]
  },
  {
   "cell_type": "code",
   "execution_count": null,
   "metadata": {
    "collapsed": false
   },
   "outputs": [],
   "source": [
    "from pyspark.sql import SQLContext\n",
    "from pyspark.sql.types import *\n",
    "\n",
    "sqlContext = SQLContext(sc)\n",
    "\n",
    "df = sqlContext.read.load('/datasets/airline/1994.csv', \n",
    "                          format='com.databricks.spark.csv', \n",
    "                          header='true', \n",
    "                          inferSchema='true',\n",
    "                          nullValue='NA'\n",
    "                        )"
   ]
  },
  {
   "cell_type": "markdown",
   "metadata": {},
   "source": [
    "Using the function `load` parametrized with `com.databricks.spark.csv`, we ask the SqlContext to use the parser from DataBrick's package. Additionally, we can specify whether the file has a header, or ask the parser to guess the data type of columns automatically. The parsed data types is viewed using the function `printSchema`."
   ]
  },
  {
   "cell_type": "code",
   "execution_count": null,
   "metadata": {
    "collapsed": false
   },
   "outputs": [],
   "source": [
    "# print(df.dtypes)\n",
    "df.printSchema()"
   ]
  },
  {
   "cell_type": "markdown",
   "metadata": {},
   "source": [
    "As you can see, the automatically inferred data types are not as expected. For example, we expect that `CRSDepTime` to be of interger type. The type and the name of each column can be modified using function `withColumn` and `withColumnRename` respectively. Additionally, we can also compute and print basic descriptive statistics of numerical columns via function `describe` (similar to Pandas)."
   ]
  },
  {
   "cell_type": "code",
   "execution_count": null,
   "metadata": {
    "collapsed": false
   },
   "outputs": [],
   "source": [
    "\n",
    "df = (df\n",
    "          # change type of column CRSDepTime by casting its values to interger type\n",
    "          .withColumn('CRSDepTime', df.CRSDepTime.cast('int'))\n",
    "      \n",
    "          # rename the column\n",
    "          .withColumnRenamed('CRSDepTime', 'scheduled_departure_time')\n",
    "    )\n",
    "\n",
    "# print schema of the current data\n",
    "df.printSchema()\n",
    "\n",
    "# run jobs to calculate basic statistic information and show it\n",
    "df.describe().show()"
   ]
  },
  {
   "cell_type": "markdown",
   "metadata": {},
   "source": [
    "## 4.2. Constructing a DataFrame from an existing RDD\n",
    "Another way to construct a DataFrame is using data from an existing RDD. The main advantage of this approach is that it does not need a third party library. However, with this method, we have to remove the header ourself and provide a clear schema. "
   ]
  },
  {
   "cell_type": "code",
   "execution_count": 2,
   "metadata": {
    "collapsed": false
   },
   "outputs": [],
   "source": [
    "from pyspark.sql import SQLContext\n",
    "from pyspark.sql.types import *\n",
    "\n",
    "sqlContext = SQLContext(sc)\n",
    "\n",
    "data = sc.textFile('/datasets/airline/1994.csv')\n",
    "\n",
    "# extract the header\n",
    "header = data.first()\n",
    "\n",
    "# replace invalid data with NULL and remove header\n",
    "cleaned_data = (\n",
    "        data\n",
    "    \n",
    "        # filter out the header\n",
    "        .filter(lambda line: line != header)\n",
    "    \n",
    "         # remove the 'missing data' by empty value\n",
    "        .map(lambda l: l.replace(',NA', ','))\n",
    "    )\n",
    "\n",
    "airline_data_schema = StructType([ \\\n",
    "    #StructField( name, dataType, nullable)\n",
    "    StructField(\"year\",                     IntegerType(), True), \\\n",
    "    StructField(\"month\",                    IntegerType(), True), \\\n",
    "    StructField(\"day_of_month\",             IntegerType(), True), \\\n",
    "    StructField(\"day_of_week\",              IntegerType(), True), \\\n",
    "    StructField(\"departure_time\",           IntegerType(), True), \\\n",
    "    StructField(\"scheduled_departure_time\", IntegerType(), True), \\\n",
    "    StructField(\"arrival_time\",             IntegerType(), True), \\\n",
    "    StructField(\"scheduled_arrival_time\",   IntegerType(), True), \\\n",
    "    StructField(\"carrier\",                  StringType(),  True), \\\n",
    "    StructField(\"flight_number\",            StringType(),  True), \\\n",
    "    StructField(\"tail_number\",              StringType(), True), \\\n",
    "    StructField(\"actual_elapsed_time\",      IntegerType(), True), \\\n",
    "    StructField(\"scheduled_elapsed_time\",   IntegerType(), True), \\\n",
    "    StructField(\"air_time\",                 IntegerType(), True), \\\n",
    "    StructField(\"arrival_delay\",            IntegerType(), True), \\\n",
    "    StructField(\"departure_delay\",          IntegerType(), True), \\\n",
    "    StructField(\"src_airport\",              StringType(),  True), \\\n",
    "    StructField(\"dest_airport\",             StringType(),  True), \\\n",
    "    StructField(\"distance\",                 IntegerType(), True), \\\n",
    "    StructField(\"taxi_in_time\",             IntegerType(), True), \\\n",
    "    StructField(\"taxi_out_time\",            IntegerType(), True), \\\n",
    "    StructField(\"cancelled\",                StringType(),  True), \\\n",
    "    StructField(\"cancellation_code\",        StringType(),  True), \\\n",
    "    StructField(\"diverted\",                 StringType(),  True), \\\n",
    "    StructField(\"carrier_delay\",            IntegerType(), True), \\\n",
    "    StructField(\"weather_delay\",            IntegerType(), True), \\\n",
    "    StructField(\"nas_delay\",                IntegerType(), True), \\\n",
    "    StructField(\"security_delay\",           IntegerType(), True), \\\n",
    "    StructField(\"late_aircraft_delay\",      IntegerType(), True)\\\n",
    "])"
   ]
  },
  {
   "cell_type": "code",
   "execution_count": 3,
   "metadata": {
    "collapsed": false
   },
   "outputs": [],
   "source": [
    "# convert each line into a tuple of features (columns) with the corresponding data type\n",
    "cleaned_data_to_columns = (\n",
    "    cleaned_data.map(lambda l: l.split(\",\"))\n",
    "    .map(lambda cols: \n",
    "         (\n",
    "            int(cols[0])  if cols[0] else None,\n",
    "            int(cols[1])  if cols[1] else None,\n",
    "            int(cols[2])  if cols[2] else None,\n",
    "            int(cols[3])  if cols[3] else None,\n",
    "            int(cols[4])  if cols[4] else None,\n",
    "            int(cols[5])  if cols[5] else None,\n",
    "            int(cols[6])  if cols[6] else None,\n",
    "            int(cols[7])  if cols[7] else None,\n",
    "            cols[8]       if cols[8] else None,\n",
    "            cols[9]       if cols[9] else None,\n",
    "            cols[10]      if cols[10] else None,\n",
    "            int(cols[11]) if cols[11] else None,\n",
    "            int(cols[12]) if cols[12] else None,\n",
    "            int(cols[13]) if cols[13] else None,\n",
    "            int(cols[14]) if cols[14] else None,\n",
    "            int(cols[15]) if cols[15] else None,\n",
    "            cols[16]      if cols[16] else None,\n",
    "            cols[17]      if cols[17] else None,\n",
    "            int(cols[18]) if cols[18] else None,\n",
    "            int(cols[19]) if cols[19] else None,\n",
    "            int(cols[20]) if cols[20] else None,\n",
    "            cols[21]      if cols[21] else None,\n",
    "            cols[22]      if cols[22] else None,\n",
    "            cols[23]      if cols[23] else None,\n",
    "            int(cols[24]) if cols[24] else None,\n",
    "            int(cols[25]) if cols[25] else None,\n",
    "            int(cols[26]) if cols[26] else None,\n",
    "            int(cols[27]) if cols[27] else None,\n",
    "            int(cols[28]) if cols[28] else None\n",
    "         ))             \n",
    ")\n",
    "    \n",
    "# create dataframe\n",
    "df = sqlContext.createDataFrame(cleaned_data_to_columns, airline_data_schema)\\\n",
    "    .select(['year', 'month', 'day_of_month', 'day_of_week',\n",
    "            'scheduled_departure_time','scheduled_arrival_time',\n",
    "            'arrival_delay', 'distance', \n",
    "            'src_airport', 'dest_airport', 'carrier'])\\\n",
    "    .cache()"
   ]
  },
  {
   "cell_type": "code",
   "execution_count": 4,
   "metadata": {
    "collapsed": false
   },
   "outputs": [
    {
     "name": "stdout",
     "output_type": "stream",
     "text": [
      "[('year', 'int'), ('month', 'int'), ('day_of_month', 'int'), ('day_of_week', 'int'), ('scheduled_departure_time', 'int'), ('scheduled_arrival_time', 'int'), ('arrival_delay', 'int'), ('distance', 'int'), ('src_airport', 'string'), ('dest_airport', 'string'), ('carrier', 'string')]\n"
     ]
    },
    {
     "ename": "KeyboardInterrupt",
     "evalue": "",
     "output_type": "error",
     "traceback": [
      "\u001b[0;31m---------------------------------------------------------------------------\u001b[0m",
      "\u001b[0;31mKeyboardInterrupt\u001b[0m                         Traceback (most recent call last)",
      "\u001b[0;32m<ipython-input-4-8d9e6dc1373e>\u001b[0m in \u001b[0;36m<module>\u001b[0;34m()\u001b[0m\n\u001b[1;32m      1\u001b[0m \u001b[0mprint\u001b[0m\u001b[0;34m(\u001b[0m\u001b[0mdf\u001b[0m\u001b[0;34m.\u001b[0m\u001b[0mdtypes\u001b[0m\u001b[0;34m)\u001b[0m\u001b[0;34m\u001b[0m\u001b[0m\n\u001b[0;32m----> 2\u001b[0;31m \u001b[0mdf\u001b[0m\u001b[0;34m.\u001b[0m\u001b[0mdescribe\u001b[0m\u001b[0;34m(\u001b[0m\u001b[0;34m)\u001b[0m\u001b[0;34m.\u001b[0m\u001b[0mshow\u001b[0m\u001b[0;34m(\u001b[0m\u001b[0;34m)\u001b[0m\u001b[0;34m\u001b[0m\u001b[0m\n\u001b[0m",
      "\u001b[0;32m/opt/spark/python/pyspark/sql/dataframe.py\u001b[0m in \u001b[0;36mdescribe\u001b[0;34m(self, *cols)\u001b[0m\n\u001b[1;32m    891\u001b[0m         \u001b[0;32mif\u001b[0m \u001b[0mlen\u001b[0m\u001b[0;34m(\u001b[0m\u001b[0mcols\u001b[0m\u001b[0;34m)\u001b[0m \u001b[0;34m==\u001b[0m \u001b[0;36m1\u001b[0m \u001b[0;32mand\u001b[0m \u001b[0misinstance\u001b[0m\u001b[0;34m(\u001b[0m\u001b[0mcols\u001b[0m\u001b[0;34m[\u001b[0m\u001b[0;36m0\u001b[0m\u001b[0;34m]\u001b[0m\u001b[0;34m,\u001b[0m \u001b[0mlist\u001b[0m\u001b[0;34m)\u001b[0m\u001b[0;34m:\u001b[0m\u001b[0;34m\u001b[0m\u001b[0m\n\u001b[1;32m    892\u001b[0m             \u001b[0mcols\u001b[0m \u001b[0;34m=\u001b[0m \u001b[0mcols\u001b[0m\u001b[0;34m[\u001b[0m\u001b[0;36m0\u001b[0m\u001b[0;34m]\u001b[0m\u001b[0;34m\u001b[0m\u001b[0m\n\u001b[0;32m--> 893\u001b[0;31m         \u001b[0mjdf\u001b[0m \u001b[0;34m=\u001b[0m \u001b[0mself\u001b[0m\u001b[0;34m.\u001b[0m\u001b[0m_jdf\u001b[0m\u001b[0;34m.\u001b[0m\u001b[0mdescribe\u001b[0m\u001b[0;34m(\u001b[0m\u001b[0mself\u001b[0m\u001b[0;34m.\u001b[0m\u001b[0m_jseq\u001b[0m\u001b[0;34m(\u001b[0m\u001b[0mcols\u001b[0m\u001b[0;34m)\u001b[0m\u001b[0;34m)\u001b[0m\u001b[0;34m\u001b[0m\u001b[0m\n\u001b[0m\u001b[1;32m    894\u001b[0m         \u001b[0;32mreturn\u001b[0m \u001b[0mDataFrame\u001b[0m\u001b[0;34m(\u001b[0m\u001b[0mjdf\u001b[0m\u001b[0;34m,\u001b[0m \u001b[0mself\u001b[0m\u001b[0;34m.\u001b[0m\u001b[0msql_ctx\u001b[0m\u001b[0;34m)\u001b[0m\u001b[0;34m\u001b[0m\u001b[0m\n\u001b[1;32m    895\u001b[0m \u001b[0;34m\u001b[0m\u001b[0m\n",
      "\u001b[0;32m/opt/spark/python/lib/py4j-0.10.4-src.zip/py4j/java_gateway.py\u001b[0m in \u001b[0;36m__call__\u001b[0;34m(self, *args)\u001b[0m\n\u001b[1;32m   1129\u001b[0m             \u001b[0mproto\u001b[0m\u001b[0;34m.\u001b[0m\u001b[0mEND_COMMAND_PART\u001b[0m\u001b[0;34m\u001b[0m\u001b[0m\n\u001b[1;32m   1130\u001b[0m \u001b[0;34m\u001b[0m\u001b[0m\n\u001b[0;32m-> 1131\u001b[0;31m         \u001b[0manswer\u001b[0m \u001b[0;34m=\u001b[0m \u001b[0mself\u001b[0m\u001b[0;34m.\u001b[0m\u001b[0mgateway_client\u001b[0m\u001b[0;34m.\u001b[0m\u001b[0msend_command\u001b[0m\u001b[0;34m(\u001b[0m\u001b[0mcommand\u001b[0m\u001b[0;34m)\u001b[0m\u001b[0;34m\u001b[0m\u001b[0m\n\u001b[0m\u001b[1;32m   1132\u001b[0m         return_value = get_return_value(\n\u001b[1;32m   1133\u001b[0m             answer, self.gateway_client, self.target_id, self.name)\n",
      "\u001b[0;32m/opt/spark/python/lib/py4j-0.10.4-src.zip/py4j/java_gateway.py\u001b[0m in \u001b[0;36msend_command\u001b[0;34m(self, command, retry, binary)\u001b[0m\n\u001b[1;32m    881\u001b[0m         \u001b[0mconnection\u001b[0m \u001b[0;34m=\u001b[0m \u001b[0mself\u001b[0m\u001b[0;34m.\u001b[0m\u001b[0m_get_connection\u001b[0m\u001b[0;34m(\u001b[0m\u001b[0;34m)\u001b[0m\u001b[0;34m\u001b[0m\u001b[0m\n\u001b[1;32m    882\u001b[0m         \u001b[0;32mtry\u001b[0m\u001b[0;34m:\u001b[0m\u001b[0;34m\u001b[0m\u001b[0m\n\u001b[0;32m--> 883\u001b[0;31m             \u001b[0mresponse\u001b[0m \u001b[0;34m=\u001b[0m \u001b[0mconnection\u001b[0m\u001b[0;34m.\u001b[0m\u001b[0msend_command\u001b[0m\u001b[0;34m(\u001b[0m\u001b[0mcommand\u001b[0m\u001b[0;34m)\u001b[0m\u001b[0;34m\u001b[0m\u001b[0m\n\u001b[0m\u001b[1;32m    884\u001b[0m             \u001b[0;32mif\u001b[0m \u001b[0mbinary\u001b[0m\u001b[0;34m:\u001b[0m\u001b[0;34m\u001b[0m\u001b[0m\n\u001b[1;32m    885\u001b[0m                 \u001b[0;32mreturn\u001b[0m \u001b[0mresponse\u001b[0m\u001b[0;34m,\u001b[0m \u001b[0mself\u001b[0m\u001b[0;34m.\u001b[0m\u001b[0m_create_connection_guard\u001b[0m\u001b[0;34m(\u001b[0m\u001b[0mconnection\u001b[0m\u001b[0;34m)\u001b[0m\u001b[0;34m\u001b[0m\u001b[0m\n",
      "\u001b[0;32m/opt/spark/python/lib/py4j-0.10.4-src.zip/py4j/java_gateway.py\u001b[0m in \u001b[0;36msend_command\u001b[0;34m(self, command)\u001b[0m\n\u001b[1;32m   1026\u001b[0m \u001b[0;34m\u001b[0m\u001b[0m\n\u001b[1;32m   1027\u001b[0m         \u001b[0;32mtry\u001b[0m\u001b[0;34m:\u001b[0m\u001b[0;34m\u001b[0m\u001b[0m\n\u001b[0;32m-> 1028\u001b[0;31m             \u001b[0manswer\u001b[0m \u001b[0;34m=\u001b[0m \u001b[0msmart_decode\u001b[0m\u001b[0;34m(\u001b[0m\u001b[0mself\u001b[0m\u001b[0;34m.\u001b[0m\u001b[0mstream\u001b[0m\u001b[0;34m.\u001b[0m\u001b[0mreadline\u001b[0m\u001b[0;34m(\u001b[0m\u001b[0;34m)\u001b[0m\u001b[0;34m[\u001b[0m\u001b[0;34m:\u001b[0m\u001b[0;34m-\u001b[0m\u001b[0;36m1\u001b[0m\u001b[0;34m]\u001b[0m\u001b[0;34m)\u001b[0m\u001b[0;34m\u001b[0m\u001b[0m\n\u001b[0m\u001b[1;32m   1029\u001b[0m             \u001b[0mlogger\u001b[0m\u001b[0;34m.\u001b[0m\u001b[0mdebug\u001b[0m\u001b[0;34m(\u001b[0m\u001b[0;34m\"Answer received: {0}\"\u001b[0m\u001b[0;34m.\u001b[0m\u001b[0mformat\u001b[0m\u001b[0;34m(\u001b[0m\u001b[0manswer\u001b[0m\u001b[0;34m)\u001b[0m\u001b[0;34m)\u001b[0m\u001b[0;34m\u001b[0m\u001b[0m\n\u001b[1;32m   1030\u001b[0m             \u001b[0;32mif\u001b[0m \u001b[0manswer\u001b[0m\u001b[0;34m.\u001b[0m\u001b[0mstartswith\u001b[0m\u001b[0;34m(\u001b[0m\u001b[0mproto\u001b[0m\u001b[0;34m.\u001b[0m\u001b[0mRETURN_MESSAGE\u001b[0m\u001b[0;34m)\u001b[0m\u001b[0;34m:\u001b[0m\u001b[0;34m\u001b[0m\u001b[0m\n",
      "\u001b[0;32m/opt/conda/lib/python3.5/socket.py\u001b[0m in \u001b[0;36mreadinto\u001b[0;34m(self, b)\u001b[0m\n\u001b[1;32m    573\u001b[0m         \u001b[0;32mwhile\u001b[0m \u001b[0;32mTrue\u001b[0m\u001b[0;34m:\u001b[0m\u001b[0;34m\u001b[0m\u001b[0m\n\u001b[1;32m    574\u001b[0m             \u001b[0;32mtry\u001b[0m\u001b[0;34m:\u001b[0m\u001b[0;34m\u001b[0m\u001b[0m\n\u001b[0;32m--> 575\u001b[0;31m                 \u001b[0;32mreturn\u001b[0m \u001b[0mself\u001b[0m\u001b[0;34m.\u001b[0m\u001b[0m_sock\u001b[0m\u001b[0;34m.\u001b[0m\u001b[0mrecv_into\u001b[0m\u001b[0;34m(\u001b[0m\u001b[0mb\u001b[0m\u001b[0;34m)\u001b[0m\u001b[0;34m\u001b[0m\u001b[0m\n\u001b[0m\u001b[1;32m    576\u001b[0m             \u001b[0;32mexcept\u001b[0m \u001b[0mtimeout\u001b[0m\u001b[0;34m:\u001b[0m\u001b[0;34m\u001b[0m\u001b[0m\n\u001b[1;32m    577\u001b[0m                 \u001b[0mself\u001b[0m\u001b[0;34m.\u001b[0m\u001b[0m_timeout_occurred\u001b[0m \u001b[0;34m=\u001b[0m \u001b[0;32mTrue\u001b[0m\u001b[0;34m\u001b[0m\u001b[0m\n",
      "\u001b[0;31mKeyboardInterrupt\u001b[0m: "
     ]
    }
   ],
   "source": [
    "print(df.dtypes)\n",
    "df.describe().show()"
   ]
  },
  {
   "cell_type": "markdown",
   "metadata": {},
   "source": [
    "## 4.3. Night flight example\n",
    "Using the contructed DataFrame, we can answer the questions about night flights from the previous section:\n",
    "\n",
    "- How many night flights do we have in our data?\n",
    "- How many night flights per unique carrier?"
   ]
  },
  {
   "cell_type": "code",
   "execution_count": 5,
   "metadata": {
    "collapsed": false
   },
   "outputs": [
    {
     "name": "stdout",
     "output_type": "stream",
     "text": [
      "+----+-----+------------+-----------+------------------------+----------------------+-------------+--------+-----------+------------+-------+\n",
      "|year|month|day_of_month|day_of_week|scheduled_departure_time|scheduled_arrival_time|arrival_delay|distance|src_airport|dest_airport|carrier|\n",
      "+----+-----+------------+-----------+------------------------+----------------------+-------------+--------+-----------+------------+-------+\n",
      "|1994|    1|           5|          3|                    2030|                  2153|           20|     365|        PHL|         GSO|     US|\n",
      "|1994|    1|           7|          5|                    2030|                  2153|          349|     365|        PHL|         GSO|     US|\n",
      "|1994|    1|           9|          7|                    2030|                  2153|           -3|     365|        PHL|         GSO|     US|\n",
      "|1994|    1|          10|          1|                    2030|                  2153|           -1|     365|        PHL|         GSO|     US|\n",
      "|1994|    1|          11|          2|                    2030|                  2153|            4|     365|        PHL|         GSO|     US|\n",
      "|1994|    1|          12|          3|                    2030|                  2153|           33|     365|        PHL|         GSO|     US|\n",
      "|1994|    1|          13|          4|                    2030|                  2153|            9|     365|        PHL|         GSO|     US|\n",
      "|1994|    1|          14|          5|                    2030|                  2153|           33|     365|        PHL|         GSO|     US|\n",
      "|1994|    1|          16|          7|                    2030|                  2153|           -9|     365|        PHL|         GSO|     US|\n",
      "|1994|    1|          17|          1|                    2030|                  2153|         null|     365|        PHL|         GSO|     US|\n",
      "|1994|    1|          18|          2|                    2030|                  2153|           57|     365|        PHL|         GSO|     US|\n",
      "|1994|    1|          19|          3|                    2030|                  2153|           38|     365|        PHL|         GSO|     US|\n",
      "|1994|    1|          20|          4|                    2030|                  2153|         null|     365|        PHL|         GSO|     US|\n",
      "|1994|    1|          21|          5|                    2030|                  2153|           44|     365|        PHL|         GSO|     US|\n",
      "|1994|    1|          23|          7|                    2030|                  2153|           62|     365|        PHL|         GSO|     US|\n",
      "|1994|    1|          24|          1|                    2030|                  2153|           -9|     365|        PHL|         GSO|     US|\n",
      "|1994|    1|          25|          2|                    2030|                  2153|            6|     365|        PHL|         GSO|     US|\n",
      "|1994|    1|          26|          3|                    2030|                  2153|           27|     365|        PHL|         GSO|     US|\n",
      "|1994|    1|          27|          4|                    2030|                  2153|          224|     365|        PHL|         GSO|     US|\n",
      "|1994|    1|          28|          5|                    2030|                  2153|           38|     365|        PHL|         GSO|     US|\n",
      "+----+-----+------------+-----------+------------------------+----------------------+-------------+--------+-----------+------------+-------+\n",
      "only showing top 20 rows\n",
      "\n"
     ]
    }
   ],
   "source": [
    "df[df.scheduled_departure_time > 1800].show()"
   ]
  },
  {
   "cell_type": "code",
   "execution_count": null,
   "metadata": {
    "collapsed": false
   },
   "outputs": [],
   "source": [
    "df[df.scheduled_departure_time > 1800].groupBy(df.carrier).count().orderBy('count', ascending=0).collect()"
   ]
  },
  {
   "cell_type": "markdown",
   "metadata": {},
   "source": [
    "![](https://farm2.staticflickr.com/1604/24934700445_833f0a5649_t.jpg)"
   ]
  },
  {
   "cell_type": "markdown",
   "metadata": {},
   "source": [
    "<div class='anchor' ></div>\n",
    "## Question 6\n",
    "\n",
    "\n",
    "### Question 6.1\n",
    "Using Spark SQL, calculate how many flights have a scheduled departure time after 09:00 and before 14:00."
   ]
  },
  {
   "cell_type": "markdown",
   "metadata": {},
   "source": [
    "```python\n",
    "flights = df[(df.scheduled_departure_time > ...) & (df.scheduled_departure_time < ...)]\n",
    "flights....\n",
    "```"
   ]
  },
  {
   "cell_type": "code",
   "execution_count": 23,
   "metadata": {
    "collapsed": false
   },
   "outputs": [
    {
     "data": {
      "text/plain": [
       "1625828"
      ]
     },
     "execution_count": 23,
     "metadata": {},
     "output_type": "execute_result"
    }
   ],
   "source": [
    "####!@SOLUTION@!####\n",
    "flights = df[(df.scheduled_departure_time > 900) & (df.scheduled_departure_time < 1400)]\n",
    "flights.count()"
   ]
  },
  {
   "cell_type": "markdown",
   "metadata": {},
   "source": [
    "<div class='anchor' ></div>\n",
    "### Question 6.2\n",
    "Compute the number flights that have scheduled departure time after 09:00 and before 14:00, for each source airport (origin). Plot top 5 of them."
   ]
  },
  {
   "cell_type": "markdown",
   "metadata": {},
   "source": [
    "```python\n",
    "top5_source_airport = flights.groupBy(...).count().orderBy('count', ascending=0).take(5)\n",
    "\n",
    "pdf = pd.DataFrame(data=top5_source_airport)\n",
    "\n",
    "print(pdf)\n",
    "\n",
    "%matplotlib inline\n",
    "import matplotlib.pyplot as plt\n",
    "\n",
    "\n",
    "# create `virtual indexes for carriers which will be used as x-values`\n",
    "airport_indexes = range(0, len(top5_source_airport))\n",
    "\n",
    "# plot\n",
    "plt.bar(airport_indexes, pdf[1], align=\"center\")\n",
    "\n",
    "# put x-labels for the plot\n",
    "plt.xticks(airport_indexes, pdf[0])\n",
    "plt.show()\n",
    "```"
   ]
  },
  {
   "cell_type": "code",
   "execution_count": 27,
   "metadata": {
    "collapsed": false
   },
   "outputs": [
    {
     "name": "stdout",
     "output_type": "stream",
     "text": [
      "     0      1\n",
      "0  ORD  92252\n",
      "1  DFW  81338\n",
      "2  ATL  75077\n",
      "3  STL  54937\n",
      "4  DTW  51726\n"
     ]
    },
    {
     "data": {
      "image/png": "[encoded data removed]",
      "text/plain": [
       "<matplotlib.figure.Figure at 0x7f1e51791080>"
      ]
     },
     "metadata": {},
     "output_type": "display_data"
    }
   ],
   "source": [
    "####!@SOLUTION@!####\n",
    "top5_source_airport = flights.groupBy(df.src_airport).count().orderBy('count', ascending=0).take(5)\n",
    "\n",
    "pdf = pd.DataFrame(data=top5_source_airport)\n",
    "\n",
    "print(pdf)\n",
    "\n",
    "%matplotlib inline\n",
    "import matplotlib.pyplot as plt\n",
    "\n",
    "\n",
    "# create `virtual indexes for carriers which will be used as x-values`\n",
    "airport_indexes = range(0, len(top5_source_airport))\n",
    "\n",
    "# plot\n",
    "plt.bar(airport_indexes, pdf[1], align=\"center\")\n",
    "\n",
    "# put x-labels for the plot\n",
    "plt.xticks(airport_indexes, pdf[0])\n",
    "plt.show()"
   ]
  },
  {
   "cell_type": "markdown",
   "metadata": {},
   "source": [
    "# Summary\n",
    "\n",
    "In this lecture, we gained familiarity with the Jupyter Notebook environment, the Python programming language and its modules. In particular, we covered the Python syntax, Numpy - the core library for scientific computing, Matplotlib - a module to plot graphs, Pandas - a data analysis module. Besides, we started to gain practical experience with PySpark and SparkSQL, using as an example a dataset concerning US flights."
   ]
  },
  {
   "cell_type": "markdown",
   "metadata": {},
   "source": [
    "# References\n",
    "This notebook is inspired from:\n",
    "\n",
    "- [Python Numpy tutorial](http://cs231n.github.io/python-numpy-tutorial/)"
   ]
  }
 ],
 "metadata": {
  "kernelspec": {
   "display_name": "Python 3",
   "language": "python",
   "name": "python3"
  },
  "language_info": {
   "codemirror_mode": {
    "name": "ipython",
    "version": 3
   },
   "file_extension": ".py",
   "mimetype": "text/x-python",
   "name": "python",
   "nbconvert_exporter": "python",
   "pygments_lexer": "ipython3",
   "version": "3.5.2"
  }
 },
 "nbformat": 4,
 "nbformat_minor": 0
}
